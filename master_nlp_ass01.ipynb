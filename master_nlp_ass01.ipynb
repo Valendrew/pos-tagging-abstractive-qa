{
  "cells": [
    {
      "cell_type": "markdown",
      "source": [
        "# Mount GDrive"
      ],
      "metadata": {
        "id": "nVW2SwMj69U0"
      }
    },
    {
      "cell_type": "code",
      "execution_count": null,
      "metadata": {
        "colab": {
          "base_uri": "https://localhost:8080/"
        },
        "id": "BVlvNevZo1Oh",
        "outputId": "1be79e8e-bf4c-4daa-8289-e6270d4b872a"
      },
      "outputs": [
        {
          "output_type": "stream",
          "name": "stdout",
          "text": [
            "Mounted at /content/drive\n",
            "ciao\n"
          ]
        }
      ],
      "source": [
        "from google.colab import drive\n",
        "drive.mount('/content/drive')"
      ]
    },
    {
      "cell_type": "markdown",
      "source": [
        "# Install and import dependencies"
      ],
      "metadata": {
        "id": "-63sVoG68_LQ"
      }
    },
    {
      "cell_type": "code",
      "execution_count": null,
      "metadata": {
        "colab": {
          "base_uri": "https://localhost:8080/"
        },
        "id": "oeyJJX4rpNd2",
        "outputId": "dff59d6e-c541-42a6-dd87-0aa3112f77a9"
      },
      "outputs": [
        {
          "output_type": "stream",
          "name": "stdout",
          "text": [
            "\u001b[K     |████████████████████████████████| 1.1 MB 31.4 MB/s \n",
            "\u001b[K     |████████████████████████████████| 175 kB 69.2 MB/s \n",
            "\u001b[K     |████████████████████████████████| 83 kB 2.6 MB/s \n",
            "\u001b[K     |████████████████████████████████| 287 kB 78.1 MB/s \n",
            "\u001b[K     |████████████████████████████████| 106 kB 76.0 MB/s \n",
            "\u001b[K     |████████████████████████████████| 53 kB 1.6 MB/s \n",
            "\u001b[K     |████████████████████████████████| 45 kB 3.6 MB/s \n",
            "\u001b[?25h  Building wheel for emoji (setup.py) ... \u001b[?25l\u001b[?25hdone\n"
          ]
        }
      ],
      "source": [
        "# !pip install tensorflow_addons contractions emoji ekphrasis --quiet"
      ]
    },
    {
      "cell_type": "markdown",
      "source": [
        "Load dependencies required"
      ],
      "metadata": {
        "id": "lSx8ZrIGACAU"
      }
    },
    {
      "cell_type": "code",
      "execution_count": null,
      "metadata": {
        "id": "KAhvriwdqhHS"
      },
      "outputs": [],
      "source": [
        "# import tensorflow as tf\n",
        "# import keras\n",
        "\n",
        "# from keras import Model, Sequential\n",
        "# from keras.layers import Embedding, TextVectorization, Input, LSTM, Bidirectional, Dropout, Dense, SpatialDropout1D, Attention, Conv1D, MaxPooling1D, Add, Flatten, Reshape, GRU\n",
        "# import keras.backend as K\n",
        "# from keras.losses import Loss\n",
        "# from keras.callbacks import EarlyStopping, ReduceLROnPlateau, ModelCheckpoint\n",
        "# from keras.models import load_model\n",
        "# from keras.initializers import Constant\n",
        "# from keras.regularizers import l2\n",
        "# from keras.metrics import Mean\n",
        "\n",
        "# from tensorflow.keras.losses import SparseCategoricalCrossentropy, Reduction\n",
        "# from tensorflow.keras.utils import to_categorical\n",
        "# from tensorflow.keras.optimizers import Adam\n",
        "\n",
        "# import tensorflow_addons as tfa\n",
        "\n",
        "# import pandas as pd\n",
        "# import matplotlib.pyplot as plt\n",
        "# from sklearn.metrics import classification_report, f1_score\n",
        "# import numpy as np\n",
        "# import re\n",
        "# from dataclasses import dataclass\n",
        "\n",
        "# import contractions, emoji\n",
        "\n",
        "# from ekphrasis.classes.preprocessor import TextPreProcessor\n",
        "# from ekphrasis.classes.tokenizer import SocialTokenizer\n",
        "# from ekphrasis.dicts.emoticons import emoticons"
      ]
    },
    {
      "cell_type": "code",
      "source": [
        "from dataclasses import dataclass\n",
        "import os\n",
        "import os.path\n",
        "import re\n",
        "import shutil\n",
        "import typing\n",
        "import urllib.request\n",
        "\n",
        "import keras\n",
        "import keras.layers\n",
        "import numpy as np\n",
        "import pandas as pd\n",
        "import sklearn.preprocessing\n",
        "import tqdm"
      ],
      "metadata": {
        "id": "jBHbp76I9a9u"
      },
      "execution_count": 1,
      "outputs": []
    },
    {
      "cell_type": "markdown",
      "source": [
        "# Dataset"
      ],
      "metadata": {
        "id": "IqcF5qcny_3h"
      }
    },
    {
      "cell_type": "markdown",
      "source": [
        "## Download the data\n",
        "\n",
        "- Download the dataset\n",
        "- Unzip the dataset in the local path"
      ],
      "metadata": {
        "id": "olrT7islP4Lx"
      }
    },
    {
      "cell_type": "code",
      "source": [
        "file_url = \"https://raw.githubusercontent.com/nltk/nltk_data/gh-pages/packages/corpora/dependency_treebank.zip\"\n",
        "zip_name = os.path.join(os.getcwd(), \"dependency_treebank.zip\")\n",
        "file_name = os.path.join(os.getcwd(), \"dependency_treebank\")\n",
        "\n",
        "if not os.path.isdir(file_name):\n",
        "    if not os.path.isfile(zip_name):\n",
        "        with urllib.request.urlopen(file_url) as res, open(zip_name, \"wb\") as f:\n",
        "            shutil.copyfileobj(res, f)\n",
        "    shutil.unpack_archive(zip_name, os.getcwd())"
      ],
      "metadata": {
        "id": "4wz6iHyl9Yit"
      },
      "execution_count": 2,
      "outputs": []
    },
    {
      "cell_type": "markdown",
      "source": [
        "## Load the data\n",
        "\n",
        "- Read the data for training (1-100), validation (101-150) and test (151-199)"
      ],
      "metadata": {
        "id": "_1Txj5FHS1A0"
      }
    },
    {
      "cell_type": "code",
      "source": [
        "class DataLoader:\n",
        "    PUNCTUATIONS = r\"[\\.,\\\\\\\"'\\-\\?\\:\\!;\\[\\]\\(\\)\\{\\}⟨⟩‒–—―‐…\\/⁄‘’“”`]+\"\n",
        "\n",
        "    def __init__(self):\n",
        "        self.prog = re.compile(self.PUNCTUATIONS)\n",
        "\n",
        "    def __call__(self, start_i: int, end_i: int, split: bool = True, desc: typing.Optional[str] = None):\n",
        "        df_X = pd.DataFrame()\n",
        "        df_y = pd.DataFrame()\n",
        "\n",
        "        for i in tqdm.trange(start_i, end_i+1, desc=f\"Reading {desc} data\"):\n",
        "            idx_len = \"0\" * (3 - len(str(i)))\n",
        "            data_file = os.path.join(file_name, f\"wsj_0{idx_len}{i}.dp\")\n",
        "            with open(data_file, \"r\") as f:\n",
        "                content = [l.strip().split() for l in f.readlines()]\n",
        "            \n",
        "            Xrows, yrows = [\"\"], [\"\"]\n",
        "            i = 0\n",
        "            for c in content:\n",
        "                # New line encountered, split the following lines in a new sentence\n",
        "                if len(c) == 0:\n",
        "                    i += 1\n",
        "                    Xrows.append(\"\")\n",
        "                    yrows.append(\"\")\n",
        "                    continue\n",
        "                # Process sentence\n",
        "                assert len(c) == 3\n",
        "                if self.prog.fullmatch(c[1]) is None:\n",
        "                    Xrows[i] += \" \" + c[0]\n",
        "                    yrows[i] += \" \" + c[1]\n",
        "\n",
        "            # X dataframe\n",
        "            new_X = pd.DataFrame([r.split(\" \") if split else r for r in Xrows])\n",
        "            df_X = pd.concat([df_X, new_X], ignore_index=True)\n",
        "            # y dataframe\n",
        "            new_y = pd.DataFrame([r.split(\" \") if split else r for r in yrows])\n",
        "            df_y = pd.concat([df_y, new_y], ignore_index=True)\n",
        "        return df_X, df_y\n",
        "\n",
        "data_loader = DataLoader()\n",
        "df_Xtrain, df_ytrain = data_loader(1, 100, desc=\"train\")\n",
        "df_Xval, df_yval = data_loader(101, 150, desc=\"validation\")\n",
        "df_Xtest, df_ytest = data_loader(151, 199, desc=\"test\")"
      ],
      "metadata": {
        "id": "uNZ87z6pfXod",
        "colab": {
          "base_uri": "https://localhost:8080/"
        },
        "outputId": "e4fa5a23-61f7-4031-ef6d-93206be979dc"
      },
      "execution_count": 5,
      "outputs": [
        {
          "output_type": "stream",
          "name": "stderr",
          "text": [
            "Reading train data: 100%|██████████| 100/100 [00:02<00:00, 36.49it/s]\n",
            "Reading validation data: 100%|██████████| 50/50 [00:00<00:00, 67.91it/s]\n",
            "Reading test data: 100%|██████████| 49/49 [00:00<00:00, 88.85it/s]\n"
          ]
        }
      ]
    },
    {
      "cell_type": "markdown",
      "metadata": {
        "id": "wGaIsKTZwAyk"
      },
      "source": [
        "## Closer look at datasets"
      ]
    },
    {
      "cell_type": "code",
      "execution_count": 4,
      "metadata": {
        "colab": {
          "base_uri": "https://localhost:8080/",
          "height": 236
        },
        "id": "qkeb4t-cs9OG",
        "outputId": "920ba508-6443-4b47-f784-715c95f1505e"
      },
      "outputs": [
        {
          "output_type": "execute_result",
          "data": {
            "text/plain": [
              "  0        1         2      3            4     5          6          7    \\\n",
              "0       Pierre    Vinken     61        years   old       will       join   \n",
              "1          Mr.    Vinken     is     chairman    of   Elsevier       N.V.   \n",
              "2      Rudolph     Agnew     55        years   old        and     former   \n",
              "3            A      form     of     asbestos  once       used         to   \n",
              "4          The  asbestos  fiber  crocidolite    is  unusually  resilient   \n",
              "\n",
              "        8      9    ...  177  178  179  180  181  182  183  184  185  186  \n",
              "0       the  board  ...  NaN  NaN  NaN  NaN  NaN  NaN  NaN  NaN  NaN  NaN  \n",
              "1       the  Dutch  ...  NaN  NaN  NaN  NaN  NaN  NaN  NaN  NaN  NaN  NaN  \n",
              "2  chairman     of  ...  NaN  NaN  NaN  NaN  NaN  NaN  NaN  NaN  NaN  NaN  \n",
              "3      make   Kent  ...  NaN  NaN  NaN  NaN  NaN  NaN  NaN  NaN  NaN  NaN  \n",
              "4      once     it  ...  NaN  NaN  NaN  NaN  NaN  NaN  NaN  NaN  NaN  NaN  \n",
              "\n",
              "[5 rows x 187 columns]"
            ],
            "text/html": [
              "\n",
              "  <div id=\"df-72da819e-0566-4765-acf3-bd3bbacc2210\">\n",
              "    <div class=\"colab-df-container\">\n",
              "      <div>\n",
              "<style scoped>\n",
              "    .dataframe tbody tr th:only-of-type {\n",
              "        vertical-align: middle;\n",
              "    }\n",
              "\n",
              "    .dataframe tbody tr th {\n",
              "        vertical-align: top;\n",
              "    }\n",
              "\n",
              "    .dataframe thead th {\n",
              "        text-align: right;\n",
              "    }\n",
              "</style>\n",
              "<table border=\"1\" class=\"dataframe\">\n",
              "  <thead>\n",
              "    <tr style=\"text-align: right;\">\n",
              "      <th></th>\n",
              "      <th>0</th>\n",
              "      <th>1</th>\n",
              "      <th>2</th>\n",
              "      <th>3</th>\n",
              "      <th>4</th>\n",
              "      <th>5</th>\n",
              "      <th>6</th>\n",
              "      <th>7</th>\n",
              "      <th>8</th>\n",
              "      <th>9</th>\n",
              "      <th>...</th>\n",
              "      <th>177</th>\n",
              "      <th>178</th>\n",
              "      <th>179</th>\n",
              "      <th>180</th>\n",
              "      <th>181</th>\n",
              "      <th>182</th>\n",
              "      <th>183</th>\n",
              "      <th>184</th>\n",
              "      <th>185</th>\n",
              "      <th>186</th>\n",
              "    </tr>\n",
              "  </thead>\n",
              "  <tbody>\n",
              "    <tr>\n",
              "      <th>0</th>\n",
              "      <td></td>\n",
              "      <td>Pierre</td>\n",
              "      <td>Vinken</td>\n",
              "      <td>61</td>\n",
              "      <td>years</td>\n",
              "      <td>old</td>\n",
              "      <td>will</td>\n",
              "      <td>join</td>\n",
              "      <td>the</td>\n",
              "      <td>board</td>\n",
              "      <td>...</td>\n",
              "      <td>NaN</td>\n",
              "      <td>NaN</td>\n",
              "      <td>NaN</td>\n",
              "      <td>NaN</td>\n",
              "      <td>NaN</td>\n",
              "      <td>NaN</td>\n",
              "      <td>NaN</td>\n",
              "      <td>NaN</td>\n",
              "      <td>NaN</td>\n",
              "      <td>NaN</td>\n",
              "    </tr>\n",
              "    <tr>\n",
              "      <th>1</th>\n",
              "      <td></td>\n",
              "      <td>Mr.</td>\n",
              "      <td>Vinken</td>\n",
              "      <td>is</td>\n",
              "      <td>chairman</td>\n",
              "      <td>of</td>\n",
              "      <td>Elsevier</td>\n",
              "      <td>N.V.</td>\n",
              "      <td>the</td>\n",
              "      <td>Dutch</td>\n",
              "      <td>...</td>\n",
              "      <td>NaN</td>\n",
              "      <td>NaN</td>\n",
              "      <td>NaN</td>\n",
              "      <td>NaN</td>\n",
              "      <td>NaN</td>\n",
              "      <td>NaN</td>\n",
              "      <td>NaN</td>\n",
              "      <td>NaN</td>\n",
              "      <td>NaN</td>\n",
              "      <td>NaN</td>\n",
              "    </tr>\n",
              "    <tr>\n",
              "      <th>2</th>\n",
              "      <td></td>\n",
              "      <td>Rudolph</td>\n",
              "      <td>Agnew</td>\n",
              "      <td>55</td>\n",
              "      <td>years</td>\n",
              "      <td>old</td>\n",
              "      <td>and</td>\n",
              "      <td>former</td>\n",
              "      <td>chairman</td>\n",
              "      <td>of</td>\n",
              "      <td>...</td>\n",
              "      <td>NaN</td>\n",
              "      <td>NaN</td>\n",
              "      <td>NaN</td>\n",
              "      <td>NaN</td>\n",
              "      <td>NaN</td>\n",
              "      <td>NaN</td>\n",
              "      <td>NaN</td>\n",
              "      <td>NaN</td>\n",
              "      <td>NaN</td>\n",
              "      <td>NaN</td>\n",
              "    </tr>\n",
              "    <tr>\n",
              "      <th>3</th>\n",
              "      <td></td>\n",
              "      <td>A</td>\n",
              "      <td>form</td>\n",
              "      <td>of</td>\n",
              "      <td>asbestos</td>\n",
              "      <td>once</td>\n",
              "      <td>used</td>\n",
              "      <td>to</td>\n",
              "      <td>make</td>\n",
              "      <td>Kent</td>\n",
              "      <td>...</td>\n",
              "      <td>NaN</td>\n",
              "      <td>NaN</td>\n",
              "      <td>NaN</td>\n",
              "      <td>NaN</td>\n",
              "      <td>NaN</td>\n",
              "      <td>NaN</td>\n",
              "      <td>NaN</td>\n",
              "      <td>NaN</td>\n",
              "      <td>NaN</td>\n",
              "      <td>NaN</td>\n",
              "    </tr>\n",
              "    <tr>\n",
              "      <th>4</th>\n",
              "      <td></td>\n",
              "      <td>The</td>\n",
              "      <td>asbestos</td>\n",
              "      <td>fiber</td>\n",
              "      <td>crocidolite</td>\n",
              "      <td>is</td>\n",
              "      <td>unusually</td>\n",
              "      <td>resilient</td>\n",
              "      <td>once</td>\n",
              "      <td>it</td>\n",
              "      <td>...</td>\n",
              "      <td>NaN</td>\n",
              "      <td>NaN</td>\n",
              "      <td>NaN</td>\n",
              "      <td>NaN</td>\n",
              "      <td>NaN</td>\n",
              "      <td>NaN</td>\n",
              "      <td>NaN</td>\n",
              "      <td>NaN</td>\n",
              "      <td>NaN</td>\n",
              "      <td>NaN</td>\n",
              "    </tr>\n",
              "  </tbody>\n",
              "</table>\n",
              "<p>5 rows × 187 columns</p>\n",
              "</div>\n",
              "      <button class=\"colab-df-convert\" onclick=\"convertToInteractive('df-72da819e-0566-4765-acf3-bd3bbacc2210')\"\n",
              "              title=\"Convert this dataframe to an interactive table.\"\n",
              "              style=\"display:none;\">\n",
              "        \n",
              "  <svg xmlns=\"http://www.w3.org/2000/svg\" height=\"24px\"viewBox=\"0 0 24 24\"\n",
              "       width=\"24px\">\n",
              "    <path d=\"M0 0h24v24H0V0z\" fill=\"none\"/>\n",
              "    <path d=\"M18.56 5.44l.94 2.06.94-2.06 2.06-.94-2.06-.94-.94-2.06-.94 2.06-2.06.94zm-11 1L8.5 8.5l.94-2.06 2.06-.94-2.06-.94L8.5 2.5l-.94 2.06-2.06.94zm10 10l.94 2.06.94-2.06 2.06-.94-2.06-.94-.94-2.06-.94 2.06-2.06.94z\"/><path d=\"M17.41 7.96l-1.37-1.37c-.4-.4-.92-.59-1.43-.59-.52 0-1.04.2-1.43.59L10.3 9.45l-7.72 7.72c-.78.78-.78 2.05 0 2.83L4 21.41c.39.39.9.59 1.41.59.51 0 1.02-.2 1.41-.59l7.78-7.78 2.81-2.81c.8-.78.8-2.07 0-2.86zM5.41 20L4 18.59l7.72-7.72 1.47 1.35L5.41 20z\"/>\n",
              "  </svg>\n",
              "      </button>\n",
              "      \n",
              "  <style>\n",
              "    .colab-df-container {\n",
              "      display:flex;\n",
              "      flex-wrap:wrap;\n",
              "      gap: 12px;\n",
              "    }\n",
              "\n",
              "    .colab-df-convert {\n",
              "      background-color: #E8F0FE;\n",
              "      border: none;\n",
              "      border-radius: 50%;\n",
              "      cursor: pointer;\n",
              "      display: none;\n",
              "      fill: #1967D2;\n",
              "      height: 32px;\n",
              "      padding: 0 0 0 0;\n",
              "      width: 32px;\n",
              "    }\n",
              "\n",
              "    .colab-df-convert:hover {\n",
              "      background-color: #E2EBFA;\n",
              "      box-shadow: 0px 1px 2px rgba(60, 64, 67, 0.3), 0px 1px 3px 1px rgba(60, 64, 67, 0.15);\n",
              "      fill: #174EA6;\n",
              "    }\n",
              "\n",
              "    [theme=dark] .colab-df-convert {\n",
              "      background-color: #3B4455;\n",
              "      fill: #D2E3FC;\n",
              "    }\n",
              "\n",
              "    [theme=dark] .colab-df-convert:hover {\n",
              "      background-color: #434B5C;\n",
              "      box-shadow: 0px 1px 3px 1px rgba(0, 0, 0, 0.15);\n",
              "      filter: drop-shadow(0px 1px 2px rgba(0, 0, 0, 0.3));\n",
              "      fill: #FFFFFF;\n",
              "    }\n",
              "  </style>\n",
              "\n",
              "      <script>\n",
              "        const buttonEl =\n",
              "          document.querySelector('#df-72da819e-0566-4765-acf3-bd3bbacc2210 button.colab-df-convert');\n",
              "        buttonEl.style.display =\n",
              "          google.colab.kernel.accessAllowed ? 'block' : 'none';\n",
              "\n",
              "        async function convertToInteractive(key) {\n",
              "          const element = document.querySelector('#df-72da819e-0566-4765-acf3-bd3bbacc2210');\n",
              "          const dataTable =\n",
              "            await google.colab.kernel.invokeFunction('convertToInteractive',\n",
              "                                                     [key], {});\n",
              "          if (!dataTable) return;\n",
              "\n",
              "          const docLinkHtml = 'Like what you see? Visit the ' +\n",
              "            '<a target=\"_blank\" href=https://colab.research.google.com/notebooks/data_table.ipynb>data table notebook</a>'\n",
              "            + ' to learn more about interactive tables.';\n",
              "          element.innerHTML = '';\n",
              "          dataTable['output_type'] = 'display_data';\n",
              "          await google.colab.output.renderOutput(dataTable, element);\n",
              "          const docLink = document.createElement('div');\n",
              "          docLink.innerHTML = docLinkHtml;\n",
              "          element.appendChild(docLink);\n",
              "        }\n",
              "      </script>\n",
              "    </div>\n",
              "  </div>\n",
              "  "
            ]
          },
          "metadata": {},
          "execution_count": 4
        }
      ],
      "source": [
        "df_Xtrain.head()"
      ]
    },
    {
      "cell_type": "code",
      "source": [
        "df_ytrain.head()"
      ],
      "metadata": {
        "colab": {
          "base_uri": "https://localhost:8080/",
          "height": 236
        },
        "id": "XvbSfFyDOAFX",
        "outputId": "d2b3de09-e90a-4091-f413-c3fb02d95312"
      },
      "execution_count": null,
      "outputs": [
        {
          "output_type": "execute_result",
          "data": {
            "text/plain": [
              "  0    1    2    3    4    5    6    7    8    9     ... 2588 2589 2590 2591  \\\n",
              "0  NNP  NNP   CD  NNS   JJ   MD   VB   DT   NN   IN  ...  NaN  NaN  NaN  NaN   \n",
              "1  NNP  NNP   CD  NNS   JJ   CC   JJ   NN   IN  NNP  ...  NaN  NaN  NaN  NaN   \n",
              "2   DT   NN   IN   NN   RB  VBN   TO   VB  NNP   NN  ...  NaN  NaN  NaN  NaN   \n",
              "3  NNS   IN   JJ   JJ  NNS  VBD   TO   VB   IN  NNS  ...  NaN  NaN  NaN  NaN   \n",
              "4  NNP  NNP   NN   NN   IN  NNP  NNP   CC  NNP  WDT  ...  NaN  NaN  NaN  NaN   \n",
              "\n",
              "  2592 2593 2594 2595 2596 2597  \n",
              "0  NaN  NaN  NaN  NaN  NaN  NaN  \n",
              "1  NaN  NaN  NaN  NaN  NaN  NaN  \n",
              "2  NaN  NaN  NaN  NaN  NaN  NaN  \n",
              "3  NaN  NaN  NaN  NaN  NaN  NaN  \n",
              "4  NaN  NaN  NaN  NaN  NaN  NaN  \n",
              "\n",
              "[5 rows x 2598 columns]"
            ],
            "text/html": [
              "\n",
              "  <div id=\"df-2db077fd-aa65-4442-ac2d-e1dcfae60d11\">\n",
              "    <div class=\"colab-df-container\">\n",
              "      <div>\n",
              "<style scoped>\n",
              "    .dataframe tbody tr th:only-of-type {\n",
              "        vertical-align: middle;\n",
              "    }\n",
              "\n",
              "    .dataframe tbody tr th {\n",
              "        vertical-align: top;\n",
              "    }\n",
              "\n",
              "    .dataframe thead th {\n",
              "        text-align: right;\n",
              "    }\n",
              "</style>\n",
              "<table border=\"1\" class=\"dataframe\">\n",
              "  <thead>\n",
              "    <tr style=\"text-align: right;\">\n",
              "      <th></th>\n",
              "      <th>0</th>\n",
              "      <th>1</th>\n",
              "      <th>2</th>\n",
              "      <th>3</th>\n",
              "      <th>4</th>\n",
              "      <th>5</th>\n",
              "      <th>6</th>\n",
              "      <th>7</th>\n",
              "      <th>8</th>\n",
              "      <th>9</th>\n",
              "      <th>...</th>\n",
              "      <th>2588</th>\n",
              "      <th>2589</th>\n",
              "      <th>2590</th>\n",
              "      <th>2591</th>\n",
              "      <th>2592</th>\n",
              "      <th>2593</th>\n",
              "      <th>2594</th>\n",
              "      <th>2595</th>\n",
              "      <th>2596</th>\n",
              "      <th>2597</th>\n",
              "    </tr>\n",
              "  </thead>\n",
              "  <tbody>\n",
              "    <tr>\n",
              "      <th>0</th>\n",
              "      <td>NNP</td>\n",
              "      <td>NNP</td>\n",
              "      <td>CD</td>\n",
              "      <td>NNS</td>\n",
              "      <td>JJ</td>\n",
              "      <td>MD</td>\n",
              "      <td>VB</td>\n",
              "      <td>DT</td>\n",
              "      <td>NN</td>\n",
              "      <td>IN</td>\n",
              "      <td>...</td>\n",
              "      <td>NaN</td>\n",
              "      <td>NaN</td>\n",
              "      <td>NaN</td>\n",
              "      <td>NaN</td>\n",
              "      <td>NaN</td>\n",
              "      <td>NaN</td>\n",
              "      <td>NaN</td>\n",
              "      <td>NaN</td>\n",
              "      <td>NaN</td>\n",
              "      <td>NaN</td>\n",
              "    </tr>\n",
              "    <tr>\n",
              "      <th>1</th>\n",
              "      <td>NNP</td>\n",
              "      <td>NNP</td>\n",
              "      <td>CD</td>\n",
              "      <td>NNS</td>\n",
              "      <td>JJ</td>\n",
              "      <td>CC</td>\n",
              "      <td>JJ</td>\n",
              "      <td>NN</td>\n",
              "      <td>IN</td>\n",
              "      <td>NNP</td>\n",
              "      <td>...</td>\n",
              "      <td>NaN</td>\n",
              "      <td>NaN</td>\n",
              "      <td>NaN</td>\n",
              "      <td>NaN</td>\n",
              "      <td>NaN</td>\n",
              "      <td>NaN</td>\n",
              "      <td>NaN</td>\n",
              "      <td>NaN</td>\n",
              "      <td>NaN</td>\n",
              "      <td>NaN</td>\n",
              "    </tr>\n",
              "    <tr>\n",
              "      <th>2</th>\n",
              "      <td>DT</td>\n",
              "      <td>NN</td>\n",
              "      <td>IN</td>\n",
              "      <td>NN</td>\n",
              "      <td>RB</td>\n",
              "      <td>VBN</td>\n",
              "      <td>TO</td>\n",
              "      <td>VB</td>\n",
              "      <td>NNP</td>\n",
              "      <td>NN</td>\n",
              "      <td>...</td>\n",
              "      <td>NaN</td>\n",
              "      <td>NaN</td>\n",
              "      <td>NaN</td>\n",
              "      <td>NaN</td>\n",
              "      <td>NaN</td>\n",
              "      <td>NaN</td>\n",
              "      <td>NaN</td>\n",
              "      <td>NaN</td>\n",
              "      <td>NaN</td>\n",
              "      <td>NaN</td>\n",
              "    </tr>\n",
              "    <tr>\n",
              "      <th>3</th>\n",
              "      <td>NNS</td>\n",
              "      <td>IN</td>\n",
              "      <td>JJ</td>\n",
              "      <td>JJ</td>\n",
              "      <td>NNS</td>\n",
              "      <td>VBD</td>\n",
              "      <td>TO</td>\n",
              "      <td>VB</td>\n",
              "      <td>IN</td>\n",
              "      <td>NNS</td>\n",
              "      <td>...</td>\n",
              "      <td>NaN</td>\n",
              "      <td>NaN</td>\n",
              "      <td>NaN</td>\n",
              "      <td>NaN</td>\n",
              "      <td>NaN</td>\n",
              "      <td>NaN</td>\n",
              "      <td>NaN</td>\n",
              "      <td>NaN</td>\n",
              "      <td>NaN</td>\n",
              "      <td>NaN</td>\n",
              "    </tr>\n",
              "    <tr>\n",
              "      <th>4</th>\n",
              "      <td>NNP</td>\n",
              "      <td>NNP</td>\n",
              "      <td>NN</td>\n",
              "      <td>NN</td>\n",
              "      <td>IN</td>\n",
              "      <td>NNP</td>\n",
              "      <td>NNP</td>\n",
              "      <td>CC</td>\n",
              "      <td>NNP</td>\n",
              "      <td>WDT</td>\n",
              "      <td>...</td>\n",
              "      <td>NaN</td>\n",
              "      <td>NaN</td>\n",
              "      <td>NaN</td>\n",
              "      <td>NaN</td>\n",
              "      <td>NaN</td>\n",
              "      <td>NaN</td>\n",
              "      <td>NaN</td>\n",
              "      <td>NaN</td>\n",
              "      <td>NaN</td>\n",
              "      <td>NaN</td>\n",
              "    </tr>\n",
              "  </tbody>\n",
              "</table>\n",
              "<p>5 rows × 2598 columns</p>\n",
              "</div>\n",
              "      <button class=\"colab-df-convert\" onclick=\"convertToInteractive('df-2db077fd-aa65-4442-ac2d-e1dcfae60d11')\"\n",
              "              title=\"Convert this dataframe to an interactive table.\"\n",
              "              style=\"display:none;\">\n",
              "        \n",
              "  <svg xmlns=\"http://www.w3.org/2000/svg\" height=\"24px\"viewBox=\"0 0 24 24\"\n",
              "       width=\"24px\">\n",
              "    <path d=\"M0 0h24v24H0V0z\" fill=\"none\"/>\n",
              "    <path d=\"M18.56 5.44l.94 2.06.94-2.06 2.06-.94-2.06-.94-.94-2.06-.94 2.06-2.06.94zm-11 1L8.5 8.5l.94-2.06 2.06-.94-2.06-.94L8.5 2.5l-.94 2.06-2.06.94zm10 10l.94 2.06.94-2.06 2.06-.94-2.06-.94-.94-2.06-.94 2.06-2.06.94z\"/><path d=\"M17.41 7.96l-1.37-1.37c-.4-.4-.92-.59-1.43-.59-.52 0-1.04.2-1.43.59L10.3 9.45l-7.72 7.72c-.78.78-.78 2.05 0 2.83L4 21.41c.39.39.9.59 1.41.59.51 0 1.02-.2 1.41-.59l7.78-7.78 2.81-2.81c.8-.78.8-2.07 0-2.86zM5.41 20L4 18.59l7.72-7.72 1.47 1.35L5.41 20z\"/>\n",
              "  </svg>\n",
              "      </button>\n",
              "      \n",
              "  <style>\n",
              "    .colab-df-container {\n",
              "      display:flex;\n",
              "      flex-wrap:wrap;\n",
              "      gap: 12px;\n",
              "    }\n",
              "\n",
              "    .colab-df-convert {\n",
              "      background-color: #E8F0FE;\n",
              "      border: none;\n",
              "      border-radius: 50%;\n",
              "      cursor: pointer;\n",
              "      display: none;\n",
              "      fill: #1967D2;\n",
              "      height: 32px;\n",
              "      padding: 0 0 0 0;\n",
              "      width: 32px;\n",
              "    }\n",
              "\n",
              "    .colab-df-convert:hover {\n",
              "      background-color: #E2EBFA;\n",
              "      box-shadow: 0px 1px 2px rgba(60, 64, 67, 0.3), 0px 1px 3px 1px rgba(60, 64, 67, 0.15);\n",
              "      fill: #174EA6;\n",
              "    }\n",
              "\n",
              "    [theme=dark] .colab-df-convert {\n",
              "      background-color: #3B4455;\n",
              "      fill: #D2E3FC;\n",
              "    }\n",
              "\n",
              "    [theme=dark] .colab-df-convert:hover {\n",
              "      background-color: #434B5C;\n",
              "      box-shadow: 0px 1px 3px 1px rgba(0, 0, 0, 0.15);\n",
              "      filter: drop-shadow(0px 1px 2px rgba(0, 0, 0, 0.3));\n",
              "      fill: #FFFFFF;\n",
              "    }\n",
              "  </style>\n",
              "\n",
              "      <script>\n",
              "        const buttonEl =\n",
              "          document.querySelector('#df-2db077fd-aa65-4442-ac2d-e1dcfae60d11 button.colab-df-convert');\n",
              "        buttonEl.style.display =\n",
              "          google.colab.kernel.accessAllowed ? 'block' : 'none';\n",
              "\n",
              "        async function convertToInteractive(key) {\n",
              "          const element = document.querySelector('#df-2db077fd-aa65-4442-ac2d-e1dcfae60d11');\n",
              "          const dataTable =\n",
              "            await google.colab.kernel.invokeFunction('convertToInteractive',\n",
              "                                                     [key], {});\n",
              "          if (!dataTable) return;\n",
              "\n",
              "          const docLinkHtml = 'Like what you see? Visit the ' +\n",
              "            '<a target=\"_blank\" href=https://colab.research.google.com/notebooks/data_table.ipynb>data table notebook</a>'\n",
              "            + ' to learn more about interactive tables.';\n",
              "          element.innerHTML = '';\n",
              "          dataTable['output_type'] = 'display_data';\n",
              "          await google.colab.output.renderOutput(dataTable, element);\n",
              "          const docLink = document.createElement('div');\n",
              "          docLink.innerHTML = docLinkHtml;\n",
              "          element.appendChild(docLink);\n",
              "        }\n",
              "      </script>\n",
              "    </div>\n",
              "  </div>\n",
              "  "
            ]
          },
          "metadata": {},
          "execution_count": 210
        }
      ]
    },
    {
      "cell_type": "markdown",
      "metadata": {
        "id": "pLVj68WNbroz"
      },
      "source": [
        "## Encoding of labels"
      ]
    },
    {
      "cell_type": "code",
      "execution_count": null,
      "metadata": {
        "id": "6prJ4PJFbt65"
      },
      "outputs": [],
      "source": [
        "le = sklearn.preprocessing.LabelEncoder()\n",
        "le.fit(df_ytrain.values.ravel())\n",
        "\n",
        "df_ytrain = df_ytrain.apply(lambda s: pd.Series(le.transform(s[s.notnull()]), index=s[s.notnull()].index))\n",
        "df_yval = df_yval.apply(lambda s: pd.Series(le.transform(s[s.notnull()]), index=s[s.notnull()].index))\n",
        "df_ytest = df_ytest.apply(lambda s: pd.Series(le.transform(s[s.notnull()]), index=s[s.notnull()].index))"
      ]
    },
    {
      "cell_type": "code",
      "source": [
        "print(f\"Number of classes: {len(le.classes_)}\")"
      ],
      "metadata": {
        "colab": {
          "base_uri": "https://localhost:8080/"
        },
        "id": "hcL5XbdOV9OM",
        "outputId": "cd71dd34-d0ec-4532-d9b8-aa5ca18baef4"
      },
      "execution_count": null,
      "outputs": [
        {
          "output_type": "stream",
          "name": "stdout",
          "text": [
            "Number of classes: 41\n"
          ]
        }
      ]
    },
    {
      "cell_type": "markdown",
      "source": [
        "## TODO\n",
        "- Distribution of classes\n",
        "- Sentences length\n",
        "    - Split sentences too long"
      ],
      "metadata": {
        "id": "HmOdw-YuO9im"
      }
    },
    {
      "cell_type": "markdown",
      "metadata": {
        "id": "OH5MFA5QQHre"
      },
      "source": [
        "# Tokenization"
      ]
    },
    {
      "cell_type": "markdown",
      "source": [
        "### Encoding of the input"
      ],
      "metadata": {
        "id": "DfUuXg-xQHKv"
      }
    },
    {
      "cell_type": "code",
      "source": [
        "class Tokenizer:\n",
        "    vocab_size = 20000\n",
        "    max_length = 128\n",
        "    embedding_dim = 300\n",
        "    layer: TextVectorization\n",
        "\n",
        "    def __init__(self, data, vocab_size: int = 10000, max_length: int = 512, embedding_dim: int = 300):\n",
        "        self.vocab_size = vocab_size\n",
        "        self.max_length = max_length\n",
        "        self.embedding_dim = embedding_dim\n",
        "\n",
        "        self.layer = TextVectorization(\n",
        "            max_tokens=vocab_size,\n",
        "            output_mode=\"int\",\n",
        "            standardize=\"lower\",\n",
        "            output_sequence_length=max_length,\n",
        "        )\n",
        "        self.layer.adapt(data, batch_size=32)\n",
        "\n",
        "    def encode(self, texts):\n",
        "        encoded_texts = self.layer(texts)\n",
        "        return encoded_texts.numpy()\n",
        "\n",
        "    def get_layer(self):\n",
        "        return self.layer\n",
        "\n",
        "    def get_embedding_dim(self):\n",
        "        return self.embedding_dim\n",
        "\n",
        "Xtrain = df_Xtrain.T.apply(lambda x: \" \".join(x.dropna().tolist())).tolist()\n",
        "# ytrain = df_ytrain.apply(lambda x: \" \".join(x.dropna().tolist())).tolist()\n",
        "print(f\"XTrain length: {len(Xtrain)}\")\n",
        "\n",
        "tokenizer = Tokenizer(Xtrain)\n",
        "\n",
        "Xtrain = tokenizer.encode(Xtrain)\n",
        "# def get_tensor_dataset(x, y, buffer=1000, batch=32):\n",
        "#     # return (\n",
        "#     #     tf.data.Dataset.from_tensor_slices((x, y))\n",
        "#     #     .shuffle(buffer, seed=conf_m1.SEED)\n",
        "#     #     .batch(batch))\n",
        "#     return (tf.data.Dataset.from_tensor_slices((x, y)))"
      ],
      "metadata": {
        "id": "XcAOYzsrSkSA",
        "colab": {
          "base_uri": "https://localhost:8080/"
        },
        "outputId": "6d1ad09c-44d6-4116-e056-ce31e056483e"
      },
      "execution_count": null,
      "outputs": [
        {
          "output_type": "stream",
          "name": "stdout",
          "text": [
            "XTrain length: 100\n"
          ]
        }
      ]
    },
    {
      "cell_type": "code",
      "source": [
        "# train_classifier_ds = get_tensor_dataset(x_train, y_train)\n",
        "# val_classifier_ds = get_tensor_dataset(x_val, y_val)\n",
        "\n",
        "# xtest_raw_ds = (tf.data.Dataset.from_tensor_slices(x_test).batch(256))"
      ],
      "metadata": {
        "id": "2Ki_FibmU1Es"
      },
      "execution_count": null,
      "outputs": []
    },
    {
      "cell_type": "code",
      "source": [
        "Xtrain[1]"
      ],
      "metadata": {
        "id": "YhPHWcoOzmKe",
        "outputId": "84be146e-c8a0-42e7-dab0-c9d65c611eaa",
        "colab": {
          "base_uri": "https://localhost:8080/"
        }
      },
      "execution_count": null,
      "outputs": [
        {
          "output_type": "execute_result",
          "data": {
            "text/plain": [
              "array([1849, 6979, 1107,   59,  348,    7,  516,  162,    3, 3134, 1254,\n",
              "        589, 1915,   21,  455,    5, 1200,  269,    3,   41, 1320,  510,\n",
              "       6404,    0,    0,    0,    0,    0,    0,    0,    0,    0,    0,\n",
              "          0,    0,    0,    0,    0,    0,    0,    0,    0,    0,    0,\n",
              "          0,    0,    0,    0,    0,    0,    0,    0,    0,    0,    0,\n",
              "          0,    0,    0,    0,    0,    0,    0,    0,    0,    0,    0,\n",
              "          0,    0,    0,    0,    0,    0,    0,    0,    0,    0,    0,\n",
              "          0,    0,    0,    0,    0,    0,    0,    0,    0,    0,    0,\n",
              "          0,    0,    0,    0,    0,    0,    0,    0,    0,    0,    0,\n",
              "          0,    0,    0,    0,    0,    0,    0,    0,    0,    0,    0,\n",
              "          0,    0,    0,    0,    0,    0,    0,    0,    0,    0,    0,\n",
              "          0,    0,    0,    0,    0,    0,    0,    0,    0,    0,    0,\n",
              "          0,    0,    0,    0,    0,    0,    0,    0,    0,    0,    0,\n",
              "          0,    0,    0,    0,    0,    0,    0,    0,    0,    0,    0,\n",
              "          0,    0,    0,    0,    0,    0,    0,    0,    0,    0,    0,\n",
              "          0,    0,    0,    0,    0,    0,    0,    0,    0,    0,    0,\n",
              "          0,    0,    0,    0,    0,    0,    0,    0,    0,    0,    0,\n",
              "          0,    0,    0,    0,    0,    0,    0,    0,    0,    0,    0,\n",
              "          0,    0,    0,    0,    0,    0,    0,    0,    0,    0,    0,\n",
              "          0,    0,    0,    0,    0,    0,    0,    0,    0,    0,    0,\n",
              "          0,    0,    0,    0,    0,    0,    0,    0,    0,    0,    0,\n",
              "          0,    0,    0,    0,    0,    0,    0,    0,    0,    0,    0,\n",
              "          0,    0,    0,    0,    0,    0,    0,    0,    0,    0,    0,\n",
              "          0,    0,    0,    0,    0,    0,    0,    0,    0,    0,    0,\n",
              "          0,    0,    0,    0,    0,    0,    0,    0,    0,    0,    0,\n",
              "          0,    0,    0,    0,    0,    0,    0,    0,    0,    0,    0,\n",
              "          0,    0,    0,    0,    0,    0,    0,    0,    0,    0,    0,\n",
              "          0,    0,    0,    0,    0,    0,    0,    0,    0,    0,    0,\n",
              "          0,    0,    0,    0,    0,    0,    0,    0,    0,    0,    0,\n",
              "          0,    0,    0,    0,    0,    0,    0,    0,    0,    0,    0,\n",
              "          0,    0,    0,    0,    0,    0,    0,    0,    0,    0,    0,\n",
              "          0,    0,    0,    0,    0,    0,    0,    0,    0,    0,    0,\n",
              "          0,    0,    0,    0,    0,    0,    0,    0,    0,    0,    0,\n",
              "          0,    0,    0,    0,    0,    0,    0,    0,    0,    0,    0,\n",
              "          0,    0,    0,    0,    0,    0,    0,    0,    0,    0,    0,\n",
              "          0,    0,    0,    0,    0,    0,    0,    0,    0,    0,    0,\n",
              "          0,    0,    0,    0,    0,    0,    0,    0,    0,    0,    0,\n",
              "          0,    0,    0,    0,    0,    0,    0,    0,    0,    0,    0,\n",
              "          0,    0,    0,    0,    0,    0,    0,    0,    0,    0,    0,\n",
              "          0,    0,    0,    0,    0,    0,    0,    0,    0,    0,    0,\n",
              "          0,    0,    0,    0,    0,    0,    0,    0,    0,    0,    0,\n",
              "          0,    0,    0,    0,    0,    0,    0,    0,    0,    0,    0,\n",
              "          0,    0,    0,    0,    0,    0,    0,    0,    0,    0,    0,\n",
              "          0,    0,    0,    0,    0,    0,    0,    0,    0,    0,    0,\n",
              "          0,    0,    0,    0,    0,    0,    0,    0,    0,    0,    0,\n",
              "          0,    0,    0,    0,    0,    0,    0,    0,    0,    0,    0,\n",
              "          0,    0,    0,    0,    0,    0])"
            ]
          },
          "metadata": {},
          "execution_count": 267
        }
      ]
    },
    {
      "cell_type": "markdown",
      "metadata": {
        "id": "5W-dsR-3QGOX"
      },
      "source": [
        "# Embedding layer"
      ]
    },
    {
      "cell_type": "markdown",
      "source": [
        "## Download"
      ],
      "metadata": {
        "id": "aNLqQ5k_Sfih"
      }
    },
    {
      "cell_type": "code",
      "execution_count": null,
      "metadata": {
        "colab": {
          "base_uri": "https://localhost:8080/"
        },
        "id": "oUF7us8nPx2Z",
        "outputId": "e2a6b3df-90f8-4f60-d8e9-d699617cbf32"
      },
      "outputs": [
        {
          "output_type": "stream",
          "name": "stdout",
          "text": [
            "--2022-11-11 17:33:35--  https://huggingface.co/stanfordnlp/glove/resolve/main/glove.6B.zip\n",
            "Resolving huggingface.co (huggingface.co)... 52.1.251.133, 52.202.148.66, 2600:1f18:147f:e800:8a4d:e339:6450:82c9, ...\n",
            "Connecting to huggingface.co (huggingface.co)|52.1.251.133|:443... connected.\n",
            "HTTP request sent, awaiting response... 302 Found\n",
            "Location: https://cdn-lfs.huggingface.co/stanfordnlp/glove/6471382cdd837544bf3ac72497a38715e845897d265b2b424b4761832009c837?response-content-disposition=attachment%3B%20filename%3D%22glove.6B.zip%22&Expires=1668447216&Policy=eyJTdGF0ZW1lbnQiOlt7IlJlc291cmNlIjoiaHR0cHM6Ly9jZG4tbGZzLmh1Z2dpbmdmYWNlLmNvL3N0YW5mb3JkbmxwL2dsb3ZlLzY0NzEzODJjZGQ4Mzc1NDRiZjNhYzcyNDk3YTM4NzE1ZTg0NTg5N2QyNjViMmI0MjRiNDc2MTgzMjAwOWM4Mzc~cmVzcG9uc2UtY29udGVudC1kaXNwb3NpdGlvbj1hdHRhY2htZW50JTNCJTIwZmlsZW5hbWUlM0QlMjJnbG92ZS42Qi56aXAlMjIiLCJDb25kaXRpb24iOnsiRGF0ZUxlc3NUaGFuIjp7IkFXUzpFcG9jaFRpbWUiOjE2Njg0NDcyMTZ9fX1dfQ__&Signature=UIPoEDM~gLcQbexSzIA5NzEObMNYd5m0a6WSA19Yw-ws2daMYClc29ANBI2SLye7WYB1fu7j41HU4gUgo3IJZ-~hwCeHoHCA4bhNchJHvWcdqt~DABz1p~BwoMFBCNTQETYdAQWKoeBYo5apFpBOAWlrEXezaN-ZvgqrcVGC9QeZekSzs7ne-ULPxKXKXsSlm5AErLnho-yAl7vDhBvJnOy3OMM9XyuhgjgjTpD8UbNTm3LRNaNuo5v9l2-DEysmeBxdzMyurO5~E9H47LTYqDsZx4SowYtFLDVcUBpaXSksPfuZk1iCyl-5XUznT7w3E14iT6XHjA6z177-cJsBNA__&Key-Pair-Id=KVTP0A1DKRTAX [following]\n",
            "--2022-11-11 17:33:35--  https://cdn-lfs.huggingface.co/stanfordnlp/glove/6471382cdd837544bf3ac72497a38715e845897d265b2b424b4761832009c837?response-content-disposition=attachment%3B%20filename%3D%22glove.6B.zip%22&Expires=1668447216&Policy=eyJTdGF0ZW1lbnQiOlt7IlJlc291cmNlIjoiaHR0cHM6Ly9jZG4tbGZzLmh1Z2dpbmdmYWNlLmNvL3N0YW5mb3JkbmxwL2dsb3ZlLzY0NzEzODJjZGQ4Mzc1NDRiZjNhYzcyNDk3YTM4NzE1ZTg0NTg5N2QyNjViMmI0MjRiNDc2MTgzMjAwOWM4Mzc~cmVzcG9uc2UtY29udGVudC1kaXNwb3NpdGlvbj1hdHRhY2htZW50JTNCJTIwZmlsZW5hbWUlM0QlMjJnbG92ZS42Qi56aXAlMjIiLCJDb25kaXRpb24iOnsiRGF0ZUxlc3NUaGFuIjp7IkFXUzpFcG9jaFRpbWUiOjE2Njg0NDcyMTZ9fX1dfQ__&Signature=UIPoEDM~gLcQbexSzIA5NzEObMNYd5m0a6WSA19Yw-ws2daMYClc29ANBI2SLye7WYB1fu7j41HU4gUgo3IJZ-~hwCeHoHCA4bhNchJHvWcdqt~DABz1p~BwoMFBCNTQETYdAQWKoeBYo5apFpBOAWlrEXezaN-ZvgqrcVGC9QeZekSzs7ne-ULPxKXKXsSlm5AErLnho-yAl7vDhBvJnOy3OMM9XyuhgjgjTpD8UbNTm3LRNaNuo5v9l2-DEysmeBxdzMyurO5~E9H47LTYqDsZx4SowYtFLDVcUBpaXSksPfuZk1iCyl-5XUznT7w3E14iT6XHjA6z177-cJsBNA__&Key-Pair-Id=KVTP0A1DKRTAX\n",
            "Resolving cdn-lfs.huggingface.co (cdn-lfs.huggingface.co)... 65.9.86.70, 65.9.86.14, 65.9.86.11, ...\n",
            "Connecting to cdn-lfs.huggingface.co (cdn-lfs.huggingface.co)|65.9.86.70|:443... connected.\n",
            "HTTP request sent, awaiting response... 200 OK\n",
            "Length: 862182753 (822M) [application/zip]\n",
            "Saving to: ‘glove.6B.zip’\n",
            "\n",
            "glove.6B.zip        100%[===================>] 822.24M  28.5MB/s    in 24s     \n",
            "\n",
            "2022-11-11 17:34:00 (34.3 MB/s) - ‘glove.6B.zip’ saved [862182753/862182753]\n",
            "\n"
          ]
        }
      ],
      "source": [
        "!wget https://huggingface.co/stanfordnlp/glove/resolve/main/glove.6B.zip\n",
        "!unzip -qq glove.6B.zip"
      ]
    },
    {
      "cell_type": "markdown",
      "source": [
        "## Configure pretrained embedding"
      ],
      "metadata": {
        "id": "SibMuTSPUouw"
      }
    },
    {
      "cell_type": "code",
      "execution_count": null,
      "metadata": {
        "colab": {
          "base_uri": "https://localhost:8080/"
        },
        "id": "EB1G9pyyPvw6",
        "outputId": "f7db3dfb-e0fc-4a0d-e2d4-72d949f880dd"
      },
      "outputs": [
        {
          "output_type": "stream",
          "name": "stdout",
          "text": [
            "Found 400001 word vectors.\n"
          ]
        }
      ],
      "source": [
        "glove_path = f\"glove.6B.{tokenizer.get_embedding_dim()}d.txt\"\n",
        "embeddings_index = {}\n",
        "with open(glove_path) as f:\n",
        "    for line in f:\n",
        "        word, coefs = line.split(maxsplit=1)\n",
        "        coefs = np.fromstring(coefs, dtype=float, sep=\" \")\n",
        "        embeddings_index[word] = coefs\n",
        "print(f\"Found {len(embeddings_index)} word vectors.\")"
      ]
    },
    {
      "cell_type": "code",
      "execution_count": null,
      "metadata": {
        "colab": {
          "base_uri": "https://localhost:8080/"
        },
        "id": "aGt_-3iXQVwm",
        "outputId": "50fa314d-0a75-4ae1-97dc-1041670aed43"
      },
      "outputs": [
        {
          "output_type": "stream",
          "name": "stdout",
          "text": [
            "7394\n",
            "Converted 7033 words (361 misses)\n"
          ]
        }
      ],
      "source": [
        "vectorize_layer = tokenizer.get_layer()\n",
        "\n",
        "vocabulary = vectorize_layer.get_vocabulary()\n",
        "vocabulary_size = vectorize_layer.vocabulary_size()\n",
        "print(vocabulary_size)\n",
        "word_index = dict(zip(vocabulary, range(vocabulary_size)))\n",
        "\n",
        "hits = 0\n",
        "misses = 0\n",
        "\n",
        "embedding_matrix = np.zeros((vocabulary_size, tokenizer.get_embedding_dim()))\n",
        "for word, i in word_index.items():\n",
        "    embedding_vector = embeddings_index.get(word)\n",
        "    if embedding_vector is not None:\n",
        "        embedding_matrix[i] = embedding_vector\n",
        "        hits += 1\n",
        "    else:\n",
        "        misses += 1\n",
        "print(f\"Converted {hits} words ({misses} misses)\")"
      ]
    },
    {
      "cell_type": "markdown",
      "source": [
        "# Model"
      ],
      "metadata": {
        "id": "2C3N4NeN-x0K"
      }
    },
    {
      "cell_type": "code",
      "execution_count": null,
      "metadata": {
        "colab": {
          "base_uri": "https://localhost:8080/"
        },
        "outputId": "117880bc-2fc0-4e80-e106-27c4304b8e82",
        "id": "k325U7_1cUk9"
      },
      "outputs": [
        {
          "output_type": "stream",
          "name": "stdout",
          "text": [
            "Model: \"model_4\"\n",
            "_________________________________________________________________\n",
            " Layer (type)                Output Shape              Param #   \n",
            "=================================================================\n",
            " input_5 (InputLayer)        [(None, 64)]              0         \n",
            "                                                                 \n",
            " embedding_4 (Embedding)     (None, 64, 300)           6000000   \n",
            "                                                                 \n",
            " spatial_dropout1d_4 (Spatia  (None, 64, 300)          0         \n",
            " lDropout1D)                                                     \n",
            "                                                                 \n",
            " bidirectional_12 (Bidirecti  (None, 64, 256)          439296    \n",
            " onal)                                                           \n",
            "                                                                 \n",
            " dropout_12 (Dropout)        (None, 64, 256)           0         \n",
            "                                                                 \n",
            " bidirectional_13 (Bidirecti  (None, 64, 256)          394240    \n",
            " onal)                                                           \n",
            "                                                                 \n",
            " dropout_13 (Dropout)        (None, 64, 256)           0         \n",
            "                                                                 \n",
            " bidirectional_14 (Bidirecti  (None, 256)              394240    \n",
            " onal)                                                           \n",
            "                                                                 \n",
            " dropout_14 (Dropout)        (None, 256)               0         \n",
            "                                                                 \n",
            " dense_4 (Dense)             (None, 7)                 1799      \n",
            "                                                                 \n",
            "=================================================================\n",
            "Total params: 7,229,575\n",
            "Trainable params: 1,229,575\n",
            "Non-trainable params: 6,000,000\n",
            "_________________________________________________________________\n",
            "Epoch 1/6\n",
            "539/539 [==============================] - 48s 53ms/step - loss: 1.3773 - f1_score: 0.3895 - val_loss: 1.0345 - val_f1_score: 0.5109 - lr: 0.0050\n",
            "Epoch 2/6\n",
            "539/539 [==============================] - 23s 42ms/step - loss: 1.0244 - f1_score: 0.5232 - val_loss: 0.9929 - val_f1_score: 0.5553 - lr: 0.0050\n",
            "Epoch 3/6\n",
            "539/539 [==============================] - 25s 46ms/step - loss: 0.9790 - f1_score: 0.5598 - val_loss: 1.0198 - val_f1_score: 0.5830 - lr: 0.0050\n",
            "Epoch 4/6\n",
            "539/539 [==============================] - 22s 40ms/step - loss: 0.8850 - f1_score: 0.5976 - val_loss: 0.9221 - val_f1_score: 0.5961 - lr: 0.0015\n",
            "Epoch 5/6\n",
            "539/539 [==============================] - 21s 39ms/step - loss: 0.8593 - f1_score: 0.6159 - val_loss: 0.9237 - val_f1_score: 0.5901 - lr: 0.0015\n",
            "Epoch 6/6\n",
            "539/539 [==============================] - 22s 40ms/step - loss: 0.8119 - f1_score: 0.6300 - val_loss: 0.9078 - val_f1_score: 0.5993 - lr: 4.5000e-04\n"
          ]
        }
      ],
      "source": [
        "@dataclass\n",
        "class Parameters:\n",
        "    BATCH = 80\n",
        "    LR = 5e-3\n",
        "    L2 = 0.02\n",
        "    SD_RATE = 0.3\n",
        "    D_RATE = 0.3\n",
        "    LSTM_UNITS = 128\n",
        "    LSTM_LAYERS = 3\n",
        "\n",
        "m1_para = Parameters()\n",
        "\n",
        "inputs = Input((conf_m1.MAX_LEN,), dtype=tf.int64)\n",
        "embedded = Embedding(conf_m1.VOCAB_SIZE, \n",
        "                    conf_m1.EMBED_DIM, \n",
        "                    embeddings_initializer=Constant(embedding_matrix),\n",
        "                    trainable=False,\n",
        "                    mask_zero=True)(inputs)\n",
        "\n",
        "x = SpatialDropout1D(m1_para.SD_RATE)(embedded)\n",
        "\n",
        "for i in range(m1_para.LSTM_LAYERS):\n",
        "    ret_seq = i != m1_para.LSTM_LAYERS - 1\n",
        "\n",
        "    x = Bidirectional(LSTM(m1_para.LSTM_UNITS, return_sequences=ret_seq, recurrent_regularizer=l2(m1_para.L2)))(x)\n",
        "    x = Dropout(m1_para.D_RATE)(x)\n",
        "\n",
        "outputs = Dense(7, activation=\"softmax\")(x)\n",
        "model = Model(inputs, outputs)\n",
        "\n",
        "opt = Adam(learning_rate=m1_para.LR)\n",
        "model.compile(\n",
        "    optimizer=opt, \n",
        "    loss=\"categorical_crossentropy\", \n",
        "    metrics=[tfa.metrics.F1Score(num_classes=7, average='macro')])\n",
        "    \n",
        "model.summary()\n",
        "\n",
        "early_stopping = EarlyStopping(monitor=\"val_loss\", patience=2)\n",
        "reduce_lr = ReduceLROnPlateau(monitor=\"val_loss\", patience=1, factor=0.3)\n",
        "\n",
        "history = model.fit(train_classifier_ds.shuffle(1000, seed=42).batch(m1_para.BATCH), \n",
        "          validation_data=val_classifier_ds.shuffle(1000, seed=42).batch(m1_para.BATCH), \n",
        "          epochs=6,\n",
        "          callbacks=[reduce_lr, early_stopping])"
      ]
    },
    {
      "cell_type": "markdown",
      "source": [
        "### Evaluate the model\n",
        "\n",
        "The reached F1 macro average score reached is **0.6070**"
      ],
      "metadata": {
        "id": "XfWhA9uscUk-"
      }
    },
    {
      "cell_type": "code",
      "source": [
        "xtest_raw_ds = (tf.data.Dataset.from_tensor_slices(x_test).batch(256))\n",
        "\n",
        "print(classification_report(np.argmax(y_test, axis=1), np.argmax(model.predict(xtest_raw_ds), axis=1), digits=4))"
      ],
      "metadata": {
        "colab": {
          "base_uri": "https://localhost:8080/"
        },
        "outputId": "bb04a5c5-bc04-43db-d8a7-8d4356441c0c",
        "id": "XW4JARI1cUk-"
      },
      "execution_count": null,
      "outputs": [
        {
          "output_type": "stream",
          "name": "stdout",
          "text": [
            "              precision    recall  f1-score   support\n",
            "\n",
            "           0     0.7870    0.7738    0.7804      1972\n",
            "           1     0.6118    0.6448    0.6278      1647\n",
            "           2     0.5759    0.5997    0.5876       677\n",
            "           3     0.5038    0.4650    0.4836       572\n",
            "           4     0.6012    0.5521    0.5756       355\n",
            "           5     0.5859    0.5000    0.5395       116\n",
            "           6     0.6322    0.6790    0.6548        81\n",
            "\n",
            "    accuracy                         0.6585      5420\n",
            "   macro avg     0.6140    0.6021    0.6070      5420\n",
            "weighted avg     0.6587    0.6585    0.6582      5420\n",
            "\n"
          ]
        }
      ]
    },
    {
      "cell_type": "markdown",
      "source": [
        "### Plot the loss and the F1 score\n",
        "\n",
        "The callback ReduceLROnPlateau helps in reducing the loss function even more and reach higher score. In this case it is applied to the forth epoch by reducing the learning rate from 0.005 to 0.0015."
      ],
      "metadata": {
        "id": "PxB-d-H0cUk_"
      }
    },
    {
      "cell_type": "code",
      "source": [
        "fig, axs = plt.subplots(2, figsize=(8, 10))\n",
        "\n",
        "x_len = np.arange(1, len(history.history['f1_score'])+ 1)\n",
        "\n",
        "axs[0].plot(x_len, history.history['loss'])\n",
        "axs[0].plot(x_len, history.history['val_loss'])\n",
        "axs[0].set_title('model loss')\n",
        "axs[0].set_ylabel('loss')\n",
        "axs[0].set_xlabel('epoch')\n",
        "axs[0].legend(['train', 'val'], loc='upper left')\n",
        "axs[0].set_xticks(x_len)\n",
        "\n",
        "axs[1].plot(x_len, history.history['f1_score'])\n",
        "axs[1].plot(x_len, history.history['val_f1_score'])\n",
        "axs[1].set_title('model f1 score macro avg')\n",
        "axs[1].set_ylabel('f1 macro avg')\n",
        "axs[1].set_xlabel('epoch')\n",
        "axs[1].legend(['train', 'val'], loc='upper left')\n",
        "axs[1].set_xticks(x_len)\n",
        "axs[1].set_yticks(np.arange(0.35, 0.65, step=0.02))\n",
        "\n",
        "fig.show()"
      ],
      "metadata": {
        "colab": {
          "base_uri": "https://localhost:8080/",
          "height": 621
        },
        "outputId": "4d85a751-721f-4883-d2d2-797e4d784da4",
        "id": "4Cor2MmFcUk_"
      },
      "execution_count": null,
      "outputs": [
        {
          "output_type": "display_data",
          "data": {
            "text/plain": [
              "<Figure size 576x720 with 2 Axes>"
            ],
            "image/png": "[encoded data removed]"
          },
          "metadata": {
            "needs_background": "light"
          }
        }
      ]
    },
    {
      "cell_type": "markdown",
      "source": [
        "### Save model"
      ],
      "metadata": {
        "id": "VjPXT-7tcUk_"
      }
    },
    {
      "cell_type": "code",
      "source": [
        "model_name = \"BiLSTM-6070\""
      ],
      "metadata": {
        "id": "u2TYWwvecUlA"
      },
      "execution_count": null,
      "outputs": []
    },
    {
      "cell_type": "code",
      "source": [
        "!mkdir '/content/drive/MyDrive/DLExam/BiLSTM-6070'\n",
        "!mkdir '/content/drive/MyDrive/DLExam/BiLSTM-6070/Weights'\n",
        "!mkdir '/content/drive/MyDrive/DLExam/BiLSTM-6070/Model'"
      ],
      "metadata": {
        "id": "1hRYoT3ncUlA"
      },
      "execution_count": null,
      "outputs": []
    },
    {
      "cell_type": "code",
      "source": [
        "model.save_weights(f'/content/drive/MyDrive/DLExam/{model_name}/Weights/best_model.h5')"
      ],
      "metadata": {
        "id": "YVp-PrlRcUlA"
      },
      "execution_count": null,
      "outputs": []
    },
    {
      "cell_type": "markdown",
      "source": [
        "# Conclusions\n",
        "\n",
        "Only one model has been developed, but its parameters have been tuned to avoid overfitting and reach higher metric values. \n",
        "\n",
        "To sum up, the F1 macro average reached on the test set is: **0.6070**.\n",
        "\n",
        "The dataset is not considered to be in the current folder, so some paths should be changed to try it.\n",
        "\n",
        "The weights can be found [here](https://drive.google.com/drive/folders/1-5ie089FMql0_5biZWaMGipZghk8L2Hz?usp=sharing)."
      ],
      "metadata": {
        "id": "OrdGKmMWP4L6"
      }
    }
  ],
  "metadata": {
    "colab": {
      "collapsed_sections": [
        "wGaIsKTZwAyk",
        "pLVj68WNbroz"
      ],
      "provenance": []
    },
    "gpuClass": "standard",
    "kernelspec": {
      "display_name": "Python 3",
      "name": "python3"
    },
    "language_info": {
      "name": "python"
    }
  },
  "nbformat": 4,
  "nbformat_minor": 0
}