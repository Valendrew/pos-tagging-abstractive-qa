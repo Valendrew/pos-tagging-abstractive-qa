{
  "cells": [
    {
      "cell_type": "markdown",
      "metadata": {
        "id": "view-in-github",
        "colab_type": "text"
      },
      "source": [
        "<a href=\"https://colab.research.google.com/github/Valendrew/master-nlp-assignments/blob/main/master_nlp_ass01.ipynb\" target=\"_parent\"><img src=\"https://colab.research.google.com/assets/colab-badge.svg\" alt=\"Open In Colab\"/></a>"
      ]
    },
    {
      "cell_type": "markdown",
      "metadata": {
        "id": "-63sVoG68_LQ"
      },
      "source": [
        "# Install and import dependencies"
      ]
    },
    {
      "cell_type": "code",
      "execution_count": null,
      "metadata": {
        "colab": {
          "base_uri": "https://localhost:8080/"
        },
        "id": "oeyJJX4rpNd2",
        "outputId": "4ff6d656-ec60-450c-f4e2-398539031320"
      },
      "outputs": [
        {
          "name": "stdout",
          "output_type": "stream",
          "text": [
            "\u001b[?25l\r\u001b[K     |▎                               | 10 kB 29.3 MB/s eta 0:00:01\r\u001b[K     |▋                               | 20 kB 3.8 MB/s eta 0:00:01\r\u001b[K     |█                               | 30 kB 5.5 MB/s eta 0:00:01\r\u001b[K     |█▏                              | 40 kB 7.2 MB/s eta 0:00:01\r\u001b[K     |█▌                              | 51 kB 8.7 MB/s eta 0:00:01\r\u001b[K     |█▉                              | 61 kB 10.2 MB/s eta 0:00:01\r\u001b[K     |██                              | 71 kB 11.6 MB/s eta 0:00:01\r\u001b[K     |██▍                             | 81 kB 12.7 MB/s eta 0:00:01\r\u001b[K     |██▊                             | 92 kB 13.9 MB/s eta 0:00:01\r\u001b[K     |███                             | 102 kB 15.1 MB/s eta 0:00:01\r\u001b[K     |███▎                            | 112 kB 15.1 MB/s eta 0:00:01\r\u001b[K     |███▋                            | 122 kB 15.1 MB/s eta 0:00:01\r\u001b[K     |███▉                            | 133 kB 15.1 MB/s eta 0:00:01\r\u001b[K     |████▏                           | 143 kB 15.1 MB/s eta 0:00:01\r\u001b[K     |████▌                           | 153 kB 15.1 MB/s eta 0:00:01\r\u001b[K     |████▊                           | 163 kB 15.1 MB/s eta 0:00:01\r\u001b[K     |█████                           | 174 kB 15.1 MB/s eta 0:00:01\r\u001b[K     |█████▍                          | 184 kB 15.1 MB/s eta 0:00:01\r\u001b[K     |█████▋                          | 194 kB 15.1 MB/s eta 0:00:01\r\u001b[K     |██████                          | 204 kB 15.1 MB/s eta 0:00:01\r\u001b[K     |██████▎                         | 215 kB 15.1 MB/s eta 0:00:01\r\u001b[K     |██████▌                         | 225 kB 15.1 MB/s eta 0:00:01\r\u001b[K     |██████▉                         | 235 kB 15.1 MB/s eta 0:00:01\r\u001b[K     |███████▏                        | 245 kB 15.1 MB/s eta 0:00:01\r\u001b[K     |███████▍                        | 256 kB 15.1 MB/s eta 0:00:01\r\u001b[K     |███████▊                        | 266 kB 15.1 MB/s eta 0:00:01\r\u001b[K     |████████                        | 276 kB 15.1 MB/s eta 0:00:01\r\u001b[K     |████████▎                       | 286 kB 15.1 MB/s eta 0:00:01\r\u001b[K     |████████▋                       | 296 kB 15.1 MB/s eta 0:00:01\r\u001b[K     |█████████                       | 307 kB 15.1 MB/s eta 0:00:01\r\u001b[K     |█████████▏                      | 317 kB 15.1 MB/s eta 0:00:01\r\u001b[K     |█████████▌                      | 327 kB 15.1 MB/s eta 0:00:01\r\u001b[K     |█████████▉                      | 337 kB 15.1 MB/s eta 0:00:01\r\u001b[K     |██████████                      | 348 kB 15.1 MB/s eta 0:00:01\r\u001b[K     |██████████▍                     | 358 kB 15.1 MB/s eta 0:00:01\r\u001b[K     |██████████▊                     | 368 kB 15.1 MB/s eta 0:00:01\r\u001b[K     |███████████                     | 378 kB 15.1 MB/s eta 0:00:01\r\u001b[K     |███████████▎                    | 389 kB 15.1 MB/s eta 0:00:01\r\u001b[K     |███████████▋                    | 399 kB 15.1 MB/s eta 0:00:01\r\u001b[K     |███████████▉                    | 409 kB 15.1 MB/s eta 0:00:01\r\u001b[K     |████████████▏                   | 419 kB 15.1 MB/s eta 0:00:01\r\u001b[K     |████████████▌                   | 430 kB 15.1 MB/s eta 0:00:01\r\u001b[K     |████████████▊                   | 440 kB 15.1 MB/s eta 0:00:01\r\u001b[K     |█████████████                   | 450 kB 15.1 MB/s eta 0:00:01\r\u001b[K     |█████████████▍                  | 460 kB 15.1 MB/s eta 0:00:01\r\u001b[K     |█████████████▋                  | 471 kB 15.1 MB/s eta 0:00:01\r\u001b[K     |██████████████                  | 481 kB 15.1 MB/s eta 0:00:01\r\u001b[K     |██████████████▎                 | 491 kB 15.1 MB/s eta 0:00:01\r\u001b[K     |██████████████▌                 | 501 kB 15.1 MB/s eta 0:00:01\r\u001b[K     |██████████████▉                 | 512 kB 15.1 MB/s eta 0:00:01\r\u001b[K     |███████████████▏                | 522 kB 15.1 MB/s eta 0:00:01\r\u001b[K     |███████████████▍                | 532 kB 15.1 MB/s eta 0:00:01\r\u001b[K     |███████████████▊                | 542 kB 15.1 MB/s eta 0:00:01\r\u001b[K     |████████████████                | 552 kB 15.1 MB/s eta 0:00:01\r\u001b[K     |████████████████▎               | 563 kB 15.1 MB/s eta 0:00:01\r\u001b[K     |████████████████▋               | 573 kB 15.1 MB/s eta 0:00:01\r\u001b[K     |█████████████████               | 583 kB 15.1 MB/s eta 0:00:01\r\u001b[K     |█████████████████▏              | 593 kB 15.1 MB/s eta 0:00:01\r\u001b[K     |█████████████████▌              | 604 kB 15.1 MB/s eta 0:00:01\r\u001b[K     |█████████████████▉              | 614 kB 15.1 MB/s eta 0:00:01\r\u001b[K     |██████████████████              | 624 kB 15.1 MB/s eta 0:00:01\r\u001b[K     |██████████████████▍             | 634 kB 15.1 MB/s eta 0:00:01\r\u001b[K     |██████████████████▊             | 645 kB 15.1 MB/s eta 0:00:01\r\u001b[K     |███████████████████             | 655 kB 15.1 MB/s eta 0:00:01\r\u001b[K     |███████████████████▎            | 665 kB 15.1 MB/s eta 0:00:01\r\u001b[K     |███████████████████▋            | 675 kB 15.1 MB/s eta 0:00:01\r\u001b[K     |███████████████████▉            | 686 kB 15.1 MB/s eta 0:00:01\r\u001b[K     |████████████████████▏           | 696 kB 15.1 MB/s eta 0:00:01\r\u001b[K     |████████████████████▌           | 706 kB 15.1 MB/s eta 0:00:01\r\u001b[K     |████████████████████▊           | 716 kB 15.1 MB/s eta 0:00:01\r\u001b[K     |█████████████████████           | 727 kB 15.1 MB/s eta 0:00:01\r\u001b[K     |█████████████████████▍          | 737 kB 15.1 MB/s eta 0:00:01\r\u001b[K     |█████████████████████▋          | 747 kB 15.1 MB/s eta 0:00:01\r\u001b[K     |██████████████████████          | 757 kB 15.1 MB/s eta 0:00:01\r\u001b[K     |██████████████████████▎         | 768 kB 15.1 MB/s eta 0:00:01\r\u001b[K     |██████████████████████▌         | 778 kB 15.1 MB/s eta 0:00:01\r\u001b[K     |██████████████████████▉         | 788 kB 15.1 MB/s eta 0:00:01\r\u001b[K     |███████████████████████▏        | 798 kB 15.1 MB/s eta 0:00:01\r\u001b[K     |███████████████████████▍        | 808 kB 15.1 MB/s eta 0:00:01\r\u001b[K     |███████████████████████▊        | 819 kB 15.1 MB/s eta 0:00:01\r\u001b[K     |████████████████████████        | 829 kB 15.1 MB/s eta 0:00:01\r\u001b[K     |████████████████████████▎       | 839 kB 15.1 MB/s eta 0:00:01\r\u001b[K     |████████████████████████▋       | 849 kB 15.1 MB/s eta 0:00:01\r\u001b[K     |█████████████████████████       | 860 kB 15.1 MB/s eta 0:00:01\r\u001b[K     |█████████████████████████▎      | 870 kB 15.1 MB/s eta 0:00:01\r\u001b[K     |█████████████████████████▌      | 880 kB 15.1 MB/s eta 0:00:01\r\u001b[K     |█████████████████████████▉      | 890 kB 15.1 MB/s eta 0:00:01\r\u001b[K     |██████████████████████████▏     | 901 kB 15.1 MB/s eta 0:00:01\r\u001b[K     |██████████████████████████▍     | 911 kB 15.1 MB/s eta 0:00:01\r\u001b[K     |██████████████████████████▊     | 921 kB 15.1 MB/s eta 0:00:01\r\u001b[K     |███████████████████████████     | 931 kB 15.1 MB/s eta 0:00:01\r\u001b[K     |███████████████████████████▎    | 942 kB 15.1 MB/s eta 0:00:01\r\u001b[K     |███████████████████████████▋    | 952 kB 15.1 MB/s eta 0:00:01\r\u001b[K     |████████████████████████████    | 962 kB 15.1 MB/s eta 0:00:01\r\u001b[K     |████████████████████████████▏   | 972 kB 15.1 MB/s eta 0:00:01\r\u001b[K     |████████████████████████████▌   | 983 kB 15.1 MB/s eta 0:00:01\r\u001b[K     |████████████████████████████▉   | 993 kB 15.1 MB/s eta 0:00:01\r\u001b[K     |█████████████████████████████   | 1.0 MB 15.1 MB/s eta 0:00:01\r\u001b[K     |█████████████████████████████▍  | 1.0 MB 15.1 MB/s eta 0:00:01\r\u001b[K     |█████████████████████████████▊  | 1.0 MB 15.1 MB/s eta 0:00:01\r\u001b[K     |██████████████████████████████  | 1.0 MB 15.1 MB/s eta 0:00:01\r\u001b[K     |██████████████████████████████▎ | 1.0 MB 15.1 MB/s eta 0:00:01\r\u001b[K     |██████████████████████████████▋ | 1.1 MB 15.1 MB/s eta 0:00:01\r\u001b[K     |██████████████████████████████▉ | 1.1 MB 15.1 MB/s eta 0:00:01\r\u001b[K     |███████████████████████████████▏| 1.1 MB 15.1 MB/s eta 0:00:01\r\u001b[K     |███████████████████████████████▌| 1.1 MB 15.1 MB/s eta 0:00:01\r\u001b[K     |███████████████████████████████▊| 1.1 MB 15.1 MB/s eta 0:00:01\r\u001b[K     |████████████████████████████████| 1.1 MB 15.1 MB/s \n",
            "\u001b[?25h"
          ]
        }
      ],
      "source": [
        "!pip install tensorflow_addons --quiet"
      ]
    },
    {
      "cell_type": "markdown",
      "metadata": {
        "id": "lSx8ZrIGACAU"
      },
      "source": [
        "Load dependencies required"
      ]
    },
    {
      "cell_type": "code",
      "execution_count": 127,
      "metadata": {
        "id": "jBHbp76I9a9u"
      },
      "outputs": [],
      "source": [
        "from dataclasses import dataclass\n",
        "import os\n",
        "import os.path\n",
        "import re\n",
        "import shutil\n",
        "import typing\n",
        "import urllib.request\n",
        "\n",
        "import keras\n",
        "import keras.layers\n",
        "import keras.losses\n",
        "import keras.optimizers\n",
        "import keras.regularizers\n",
        "import numpy as np\n",
        "import pandas as pd\n",
        "import tensorflow as tf\n",
        "import tqdm"
      ]
    },
    {
      "cell_type": "markdown",
      "metadata": {
        "id": "IqcF5qcny_3h"
      },
      "source": [
        "# Dataset"
      ]
    },
    {
      "cell_type": "markdown",
      "metadata": {
        "id": "olrT7islP4Lx"
      },
      "source": [
        "## Download the data\n",
        "\n",
        "- Download the dataset\n",
        "- Unzip the dataset in the local path"
      ]
    },
    {
      "cell_type": "code",
      "execution_count": 2,
      "metadata": {
        "id": "4wz6iHyl9Yit"
      },
      "outputs": [],
      "source": [
        "file_url = \"https://raw.githubusercontent.com/nltk/nltk_data/gh-pages/packages/corpora/dependency_treebank.zip\"\n",
        "zip_name = os.path.join(os.getcwd(), \"dependency_treebank.zip\")\n",
        "file_name = os.path.join(os.getcwd(), \"dependency_treebank\")\n",
        "\n",
        "if not os.path.isdir(file_name):\n",
        "    if not os.path.isfile(zip_name):\n",
        "        with urllib.request.urlopen(file_url) as res, open(zip_name, \"wb\") as f:\n",
        "            shutil.copyfileobj(res, f)\n",
        "    shutil.unpack_archive(zip_name, os.getcwd())"
      ]
    },
    {
      "cell_type": "markdown",
      "metadata": {
        "id": "_1Txj5FHS1A0"
      },
      "source": [
        "## Load the data\n",
        "\n",
        "- Read the data for training (1-100), validation (101-150) and test (151-199)"
      ]
    },
    {
      "cell_type": "code",
      "execution_count": 3,
      "metadata": {
        "colab": {
          "base_uri": "https://localhost:8080/"
        },
        "id": "uNZ87z6pfXod",
        "outputId": "e5225554-c836-45c4-bbab-53bfe1ee0907"
      },
      "outputs": [
        {
          "output_type": "stream",
          "name": "stderr",
          "text": [
            "Reading train data: 100%|██████████| 100/100 [00:00<00:00, 419.40it/s]\n",
            "Reading validation data: 100%|██████████| 50/50 [00:00<00:00, 293.75it/s]\n",
            "Reading test data: 100%|██████████| 49/49 [00:00<00:00, 521.00it/s]\n"
          ]
        }
      ],
      "source": [
        "class DataLoader:\n",
        "    PUNCTUATIONS = r\"[\\.,\\\\\\\"'\\-\\?\\:\\!;\\[\\]\\(\\)\\{\\}⟨⟩‒–—―‐…\\/⁄‘’“”`]+\"\n",
        "\n",
        "    def __init__(self):\n",
        "        self.prog = re.compile(self.PUNCTUATIONS)\n",
        "\n",
        "    def __call__(self, start_i: int, end_i: int, desc: typing.Optional[str] = None):\n",
        "        df = pd.DataFrame(columns=[\"text\", \"tags\"])\n",
        "        # df_y = pd.DataFrame()\n",
        "\n",
        "        for i in tqdm.trange(start_i, end_i+1, desc=f\"Reading {desc} data\"):\n",
        "            idx_len = \"0\" * (3 - len(str(i)))\n",
        "            data_file = os.path.join(file_name, f\"wsj_0{idx_len}{i}.dp\")\n",
        "            with open(data_file, \"r\") as f:\n",
        "                content = [l.strip().split() for l in f.readlines()]\n",
        "            \n",
        "            Xrows, yrows = [\"\"], [\"\"]\n",
        "            i = 0\n",
        "            for c in content:\n",
        "                # New line encountered, split the following lines in a new sentence\n",
        "                if len(c) == 0:\n",
        "                    i += 1\n",
        "                    Xrows.append(\"\")\n",
        "                    yrows.append(\"\")\n",
        "                    continue\n",
        "                # Process sentence\n",
        "                assert len(c) == 3\n",
        "                if self.prog.fullmatch(c[1]) is None:\n",
        "                    Xrows[i] += (\" \" if len(Xrows[i]) > 0 else \"\") +  c[0]\n",
        "                    yrows[i] += (\" \" if len(yrows[i]) > 0 else \"\") + c[1]\n",
        "\n",
        "            new_df = pd.DataFrame.from_dict({\"text\": Xrows, \"tags\": yrows})\n",
        "            df = pd.concat([df, new_df], axis=0, ignore_index=True)\n",
        "        return df\n",
        "\n",
        "data_loader = DataLoader()\n",
        "df_train = data_loader(1, 100, desc=\"train\")\n",
        "df_val = data_loader(101, 150, desc=\"validation\")\n",
        "df_test = data_loader(151, 199, desc=\"test\")"
      ]
    },
    {
      "cell_type": "markdown",
      "metadata": {
        "id": "wGaIsKTZwAyk"
      },
      "source": [
        "## Closer look at datasets"
      ]
    },
    {
      "cell_type": "code",
      "execution_count": 4,
      "metadata": {
        "colab": {
          "base_uri": "https://localhost:8080/",
          "height": 206
        },
        "id": "qkeb4t-cs9OG",
        "outputId": "5736c54c-fad4-425c-82f2-39e0bde77985"
      },
      "outputs": [
        {
          "output_type": "execute_result",
          "data": {
            "text/plain": [
              "                                                text  \\\n",
              "0  Pierre Vinken 61 years old will join the board...   \n",
              "1  Mr. Vinken is chairman of Elsevier N.V. the Du...   \n",
              "2  Rudolph Agnew 55 years old and former chairman...   \n",
              "3  A form of asbestos once used to make Kent ciga...   \n",
              "4  The asbestos fiber crocidolite is unusually re...   \n",
              "\n",
              "                                                tags  \n",
              "0   NNP NNP CD NNS JJ MD VB DT NN IN DT JJ NN NNP CD  \n",
              "1            NNP NNP VBZ NN IN NNP NNP DT NNP VBG NN  \n",
              "2  NNP NNP CD NNS JJ CC JJ NN IN NNP NNP NNP NNP ...  \n",
              "3  DT NN IN NN RB VBN TO VB NNP NN NNS VBZ VBN DT...  \n",
              "4  DT NN NN NN VBZ RB JJ IN PRP VBZ DT NNS IN RB ...  "
            ],
            "text/html": [
              "\n",
              "  <div id=\"df-fdbea71f-a330-4ad7-b26b-dd2ea1f70c7e\">\n",
              "    <div class=\"colab-df-container\">\n",
              "      <div>\n",
              "<style scoped>\n",
              "    .dataframe tbody tr th:only-of-type {\n",
              "        vertical-align: middle;\n",
              "    }\n",
              "\n",
              "    .dataframe tbody tr th {\n",
              "        vertical-align: top;\n",
              "    }\n",
              "\n",
              "    .dataframe thead th {\n",
              "        text-align: right;\n",
              "    }\n",
              "</style>\n",
              "<table border=\"1\" class=\"dataframe\">\n",
              "  <thead>\n",
              "    <tr style=\"text-align: right;\">\n",
              "      <th></th>\n",
              "      <th>text</th>\n",
              "      <th>tags</th>\n",
              "    </tr>\n",
              "  </thead>\n",
              "  <tbody>\n",
              "    <tr>\n",
              "      <th>0</th>\n",
              "      <td>Pierre Vinken 61 years old will join the board...</td>\n",
              "      <td>NNP NNP CD NNS JJ MD VB DT NN IN DT JJ NN NNP CD</td>\n",
              "    </tr>\n",
              "    <tr>\n",
              "      <th>1</th>\n",
              "      <td>Mr. Vinken is chairman of Elsevier N.V. the Du...</td>\n",
              "      <td>NNP NNP VBZ NN IN NNP NNP DT NNP VBG NN</td>\n",
              "    </tr>\n",
              "    <tr>\n",
              "      <th>2</th>\n",
              "      <td>Rudolph Agnew 55 years old and former chairman...</td>\n",
              "      <td>NNP NNP CD NNS JJ CC JJ NN IN NNP NNP NNP NNP ...</td>\n",
              "    </tr>\n",
              "    <tr>\n",
              "      <th>3</th>\n",
              "      <td>A form of asbestos once used to make Kent ciga...</td>\n",
              "      <td>DT NN IN NN RB VBN TO VB NNP NN NNS VBZ VBN DT...</td>\n",
              "    </tr>\n",
              "    <tr>\n",
              "      <th>4</th>\n",
              "      <td>The asbestos fiber crocidolite is unusually re...</td>\n",
              "      <td>DT NN NN NN VBZ RB JJ IN PRP VBZ DT NNS IN RB ...</td>\n",
              "    </tr>\n",
              "  </tbody>\n",
              "</table>\n",
              "</div>\n",
              "      <button class=\"colab-df-convert\" onclick=\"convertToInteractive('df-fdbea71f-a330-4ad7-b26b-dd2ea1f70c7e')\"\n",
              "              title=\"Convert this dataframe to an interactive table.\"\n",
              "              style=\"display:none;\">\n",
              "        \n",
              "  <svg xmlns=\"http://www.w3.org/2000/svg\" height=\"24px\"viewBox=\"0 0 24 24\"\n",
              "       width=\"24px\">\n",
              "    <path d=\"M0 0h24v24H0V0z\" fill=\"none\"/>\n",
              "    <path d=\"M18.56 5.44l.94 2.06.94-2.06 2.06-.94-2.06-.94-.94-2.06-.94 2.06-2.06.94zm-11 1L8.5 8.5l.94-2.06 2.06-.94-2.06-.94L8.5 2.5l-.94 2.06-2.06.94zm10 10l.94 2.06.94-2.06 2.06-.94-2.06-.94-.94-2.06-.94 2.06-2.06.94z\"/><path d=\"M17.41 7.96l-1.37-1.37c-.4-.4-.92-.59-1.43-.59-.52 0-1.04.2-1.43.59L10.3 9.45l-7.72 7.72c-.78.78-.78 2.05 0 2.83L4 21.41c.39.39.9.59 1.41.59.51 0 1.02-.2 1.41-.59l7.78-7.78 2.81-2.81c.8-.78.8-2.07 0-2.86zM5.41 20L4 18.59l7.72-7.72 1.47 1.35L5.41 20z\"/>\n",
              "  </svg>\n",
              "      </button>\n",
              "      \n",
              "  <style>\n",
              "    .colab-df-container {\n",
              "      display:flex;\n",
              "      flex-wrap:wrap;\n",
              "      gap: 12px;\n",
              "    }\n",
              "\n",
              "    .colab-df-convert {\n",
              "      background-color: #E8F0FE;\n",
              "      border: none;\n",
              "      border-radius: 50%;\n",
              "      cursor: pointer;\n",
              "      display: none;\n",
              "      fill: #1967D2;\n",
              "      height: 32px;\n",
              "      padding: 0 0 0 0;\n",
              "      width: 32px;\n",
              "    }\n",
              "\n",
              "    .colab-df-convert:hover {\n",
              "      background-color: #E2EBFA;\n",
              "      box-shadow: 0px 1px 2px rgba(60, 64, 67, 0.3), 0px 1px 3px 1px rgba(60, 64, 67, 0.15);\n",
              "      fill: #174EA6;\n",
              "    }\n",
              "\n",
              "    [theme=dark] .colab-df-convert {\n",
              "      background-color: #3B4455;\n",
              "      fill: #D2E3FC;\n",
              "    }\n",
              "\n",
              "    [theme=dark] .colab-df-convert:hover {\n",
              "      background-color: #434B5C;\n",
              "      box-shadow: 0px 1px 3px 1px rgba(0, 0, 0, 0.15);\n",
              "      filter: drop-shadow(0px 1px 2px rgba(0, 0, 0, 0.3));\n",
              "      fill: #FFFFFF;\n",
              "    }\n",
              "  </style>\n",
              "\n",
              "      <script>\n",
              "        const buttonEl =\n",
              "          document.querySelector('#df-fdbea71f-a330-4ad7-b26b-dd2ea1f70c7e button.colab-df-convert');\n",
              "        buttonEl.style.display =\n",
              "          google.colab.kernel.accessAllowed ? 'block' : 'none';\n",
              "\n",
              "        async function convertToInteractive(key) {\n",
              "          const element = document.querySelector('#df-fdbea71f-a330-4ad7-b26b-dd2ea1f70c7e');\n",
              "          const dataTable =\n",
              "            await google.colab.kernel.invokeFunction('convertToInteractive',\n",
              "                                                     [key], {});\n",
              "          if (!dataTable) return;\n",
              "\n",
              "          const docLinkHtml = 'Like what you see? Visit the ' +\n",
              "            '<a target=\"_blank\" href=https://colab.research.google.com/notebooks/data_table.ipynb>data table notebook</a>'\n",
              "            + ' to learn more about interactive tables.';\n",
              "          element.innerHTML = '';\n",
              "          dataTable['output_type'] = 'display_data';\n",
              "          await google.colab.output.renderOutput(dataTable, element);\n",
              "          const docLink = document.createElement('div');\n",
              "          docLink.innerHTML = docLinkHtml;\n",
              "          element.appendChild(docLink);\n",
              "        }\n",
              "      </script>\n",
              "    </div>\n",
              "  </div>\n",
              "  "
            ]
          },
          "metadata": {},
          "execution_count": 4
        }
      ],
      "source": [
        "df_train.head()"
      ]
    },
    {
      "cell_type": "markdown",
      "metadata": {
        "id": "HmOdw-YuO9im"
      },
      "source": [
        "## TODO\n",
        "- Distribution of classes\n",
        "- Sentences length\n",
        "    - Split sentences too long"
      ]
    },
    {
      "cell_type": "markdown",
      "metadata": {
        "id": "OH5MFA5QQHre"
      },
      "source": [
        "# Model"
      ]
    },
    {
      "cell_type": "code",
      "execution_count": 5,
      "metadata": {
        "id": "2jqR7WDWFwX3"
      },
      "outputs": [],
      "source": [
        "EMBEDDING_DIM = 300\n",
        "MAX_SEQUENCE = 64\n",
        "VOCABULARY_SIZE = 10000"
      ]
    },
    {
      "cell_type": "markdown",
      "metadata": {
        "id": "pLVj68WNbroz"
      },
      "source": [
        "## Dataframe to dataset"
      ]
    },
    {
      "cell_type": "code",
      "execution_count": 119,
      "metadata": {
        "id": "s9HtutpwjNC6"
      },
      "outputs": [],
      "source": [
        "def df_to_dataset(df: pd.DataFrame, batch_size: int = 32):\n",
        "    df = df.copy()\n",
        "    return tf.data.Dataset.from_tensor_slices((df[\"text\"], df[\"tags\"])).batch(batch_size)\n",
        "\n",
        "raw_train_ds = df_to_dataset(df_train, 32)\n",
        "raw_val_ds = df_to_dataset(df_val, 256)"
      ]
    },
    {
      "cell_type": "markdown",
      "metadata": {
        "id": "O5ANaBiPFnjF"
      },
      "source": [
        "## Tokenization"
      ]
    },
    {
      "cell_type": "markdown",
      "metadata": {
        "id": "DfUuXg-xQHKv"
      },
      "source": [
        "### Encode features"
      ]
    },
    {
      "cell_type": "code",
      "execution_count": 120,
      "metadata": {
        "id": "XcAOYzsrSkSA"
      },
      "outputs": [],
      "source": [
        "class TokenizeFeatures:\n",
        "    vocab_size: int\n",
        "    max_sequence: int\n",
        "    layer: keras.layers.TextVectorization\n",
        "\n",
        "    def __init__(self, dataset: tf.data.Dataset, vocab_size: int = 10000, max_sequence: int = 64):\n",
        "        self.vocab_size = vocab_size\n",
        "        self.max_sequence = max_sequence\n",
        "\n",
        "        self.layer = keras.layers.TextVectorization(\n",
        "            max_tokens=self.vocab_size,\n",
        "            output_mode=\"int\",\n",
        "            standardize=\"lower\",\n",
        "            output_sequence_length=self.max_sequence,\n",
        "        )\n",
        "        \n",
        "        features_ds = dataset.map(lambda x, _: x)\n",
        "        features_ds = features_ds.map(lambda x: tf.strings.split(x, sep=\" \").to_tensor())\n",
        "        features_ds = features_ds.map(lambda x: tf.expand_dims(x, -1))\n",
        "\n",
        "        self.layer.adapt(features_ds)\n",
        "\n",
        "    def __call__(self, dataset: tf.data.Dataset):\n",
        "        return dataset.map(lambda x, y: (self.layer(x), y))\n",
        "\n",
        "    def get_vocabulary(self):\n",
        "        return self.layer.get_vocabulary()\n",
        "\n",
        "tokenize_features = TokenizeFeatures(raw_train_ds, VOCABULARY_SIZE, MAX_SEQUENCE)\n",
        "train_ds = tokenize_features(raw_train_ds)\n",
        "val_ds = tokenize_features(raw_val_ds)"
      ]
    },
    {
      "cell_type": "markdown",
      "metadata": {
        "id": "DGGrp1-4wWOB"
      },
      "source": [
        "### Encode labels"
      ]
    },
    {
      "cell_type": "code",
      "execution_count": 121,
      "metadata": {
        "id": "xQEN83LTjAEK"
      },
      "outputs": [],
      "source": [
        "class EncodeLabels:\n",
        "    max_sequence: int\n",
        "    layer: keras.layers.StringLookup\n",
        "\n",
        "    def __init__(self, dataset: tf.data.Dataset, max_sequence: int):\n",
        "        self.max_sequence = max_sequence\n",
        "        self.layer = keras.layers.StringLookup(output_mode=\"int\")\n",
        "\n",
        "        label_ds = dataset.map(lambda _, y: y)\n",
        "        label_ds = label_ds.map(lambda y: tf.strings.split(y, sep=\" \").to_tensor())\n",
        "        label_ds = label_ds.map(lambda y: y[..., :self.max_sequence])\n",
        "        label_ds = label_ds.map(lambda y: \n",
        "                                tf.concat([\n",
        "                                    y, \n",
        "                                    tf.fill((tf.shape(y)[0], self.max_sequence - tf.shape(y)[-1]), \"\")], -1))\n",
        "        \n",
        "        self.layer.adapt(label_ds)\n",
        "\n",
        "    def __call__(self, dataset: tf.data.Dataset):\n",
        "        ds = dataset.map(lambda x, y: (x, tf.strings.split(y, sep=\" \").to_tensor()))\n",
        "        ds = ds.map(lambda x, y: (x, y[..., :self.max_sequence]))\n",
        "        ds = ds.map(lambda x, y: \n",
        "                    (x, tf.concat([\n",
        "                        y, \n",
        "                        tf.fill((tf.shape(y)[0], self.max_sequence - tf.shape(y)[-1]), \"\")], -1)))\n",
        "        ds = ds.map(lambda x, y: (x, self.layer(y)))\n",
        "        return ds\n",
        "\n",
        "    def get_vocabulary(self):\n",
        "        return self.layer.get_vocabulary()\n",
        "\n",
        "    def get_vocabulary_size(self):\n",
        "        return self.layer.vocabulary_size()\n",
        "\n",
        "encode_labels = EncodeLabels(raw_train_ds, MAX_SEQUENCE)\n",
        "train_ds = encode_labels(train_ds)\n",
        "val_ds = encode_labels(val_ds)"
      ]
    },
    {
      "cell_type": "markdown",
      "metadata": {
        "id": "5W-dsR-3QGOX"
      },
      "source": [
        "## Embedding layer"
      ]
    },
    {
      "cell_type": "code",
      "execution_count": 80,
      "metadata": {
        "id": "oUF7us8nPx2Z"
      },
      "outputs": [],
      "source": [
        "!wget -q https://huggingface.co/stanfordnlp/glove/resolve/main/glove.6B.zip\n",
        "!unzip -qq glove.6B.zip"
      ]
    },
    {
      "cell_type": "markdown",
      "metadata": {
        "id": "SibMuTSPUouw"
      },
      "source": [
        "### Configure pretrained embedding"
      ]
    },
    {
      "cell_type": "code",
      "execution_count": 122,
      "metadata": {
        "colab": {
          "base_uri": "https://localhost:8080/"
        },
        "id": "EB1G9pyyPvw6",
        "outputId": "4ead69ae-3aa1-4ce9-88c6-46c4b443fb3e"
      },
      "outputs": [
        {
          "output_type": "stream",
          "name": "stdout",
          "text": [
            "Found 400001 word vectors.\n"
          ]
        }
      ],
      "source": [
        "glove_path = f\"glove.6B.{EMBEDDING_DIM}d.txt\"\n",
        "embeddings_index = {}\n",
        "with open(glove_path) as f:\n",
        "    for line in f:\n",
        "        word, coefs = line.split(maxsplit=1)\n",
        "        coefs = np.fromstring(coefs, dtype=float, sep=\" \")\n",
        "        embeddings_index[word] = coefs\n",
        "\n",
        "print(f\"Found {len(embeddings_index)} word vectors.\")"
      ]
    },
    {
      "cell_type": "code",
      "execution_count": 123,
      "metadata": {
        "colab": {
          "base_uri": "https://localhost:8080/"
        },
        "id": "aGt_-3iXQVwm",
        "outputId": "373b17a6-e672-4029-9916-e5e767911f2f"
      },
      "outputs": [
        {
          "output_type": "stream",
          "name": "stdout",
          "text": [
            "Converted 7033 words (361 misses)\n"
          ]
        }
      ],
      "source": [
        "vocabulary = tokenize_features.get_vocabulary()\n",
        "vocabulary_size = len(vocabulary)\n",
        "\n",
        "word_index = dict(zip(vocabulary, range(vocabulary_size)))\n",
        "\n",
        "hits = 0\n",
        "misses = 0\n",
        "\n",
        "embedding_matrix = np.zeros((vocabulary_size, EMBEDDING_DIM))\n",
        "for word, i in word_index.items():\n",
        "    embedding_vector = embeddings_index.get(word)\n",
        "    if embedding_vector is not None:\n",
        "        embedding_matrix[i] = embedding_vector\n",
        "        hits += 1\n",
        "    else:\n",
        "        misses += 1\n",
        "print(f\"Converted {hits} words ({misses} misses)\")"
      ]
    },
    {
      "cell_type": "markdown",
      "metadata": {
        "id": "2C3N4NeN-x0K"
      },
      "source": [
        "## Baseline model"
      ]
    },
    {
      "cell_type": "code",
      "execution_count": 128,
      "metadata": {
        "colab": {
          "base_uri": "https://localhost:8080/"
        },
        "id": "oMS2eunaT4uZ",
        "outputId": "5878d3df-aa31-4b9c-cb49-1c906243ea99"
      },
      "outputs": [
        {
          "output_type": "stream",
          "name": "stdout",
          "text": [
            "Number of classes is: 42\n"
          ]
        }
      ],
      "source": [
        "NUM_CLASSES = encode_labels.get_vocabulary_size()\n",
        "print(f\"Number of classes is: {NUM_CLASSES}\")"
      ]
    },
    {
      "cell_type": "code",
      "execution_count": 131,
      "metadata": {
        "colab": {
          "base_uri": "https://localhost:8080/"
        },
        "id": "k325U7_1cUk9",
        "outputId": "d790d6d7-3e39-47a2-bcba-8b898b260fd3"
      },
      "outputs": [
        {
          "output_type": "stream",
          "name": "stdout",
          "text": [
            "Model: \"model_7\"\n",
            "_________________________________________________________________\n",
            " Layer (type)                Output Shape              Param #   \n",
            "=================================================================\n",
            " input_9 (InputLayer)        [(None, 64)]              0         \n",
            "                                                                 \n",
            " embedding_8 (Embedding)     (None, 64, 300)           2218200   \n",
            "                                                                 \n",
            " bidirectional_8 (Bidirectio  (None, 64, 256)          439296    \n",
            " nal)                                                            \n",
            "                                                                 \n",
            " dense_7 (Dense)             (None, 64, 42)            10794     \n",
            "                                                                 \n",
            "=================================================================\n",
            "Total params: 2,668,290\n",
            "Trainable params: 450,090\n",
            "Non-trainable params: 2,218,200\n",
            "_________________________________________________________________\n",
            "Epoch 1/15\n",
            "62/62 [==============================] - 4s 26ms/step - loss: 3.6616 - accuracy: 0.7686 - val_loss: 1.3979 - val_accuracy: 0.8404\n",
            "Epoch 2/15\n",
            "62/62 [==============================] - 1s 13ms/step - loss: 0.8631 - accuracy: 0.8750 - val_loss: 0.6031 - val_accuracy: 0.8873\n",
            "Epoch 3/15\n",
            "62/62 [==============================] - 1s 13ms/step - loss: 0.4460 - accuracy: 0.9102 - val_loss: 0.4212 - val_accuracy: 0.9053\n",
            "Epoch 4/15\n",
            "62/62 [==============================] - 1s 13ms/step - loss: 0.3220 - accuracy: 0.9276 - val_loss: 0.3479 - val_accuracy: 0.9152\n",
            "Epoch 5/15\n",
            "62/62 [==============================] - 1s 13ms/step - loss: 0.2628 - accuracy: 0.9384 - val_loss: 0.3092 - val_accuracy: 0.9221\n",
            "Epoch 6/15\n",
            "62/62 [==============================] - 1s 13ms/step - loss: 0.2248 - accuracy: 0.9461 - val_loss: 0.2810 - val_accuracy: 0.9284\n",
            "Epoch 7/15\n",
            "62/62 [==============================] - 1s 13ms/step - loss: 0.1974 - accuracy: 0.9521 - val_loss: 0.2605 - val_accuracy: 0.9322\n",
            "Epoch 8/15\n",
            "62/62 [==============================] - 1s 13ms/step - loss: 0.1763 - accuracy: 0.9568 - val_loss: 0.2469 - val_accuracy: 0.9352\n",
            "Epoch 9/15\n",
            "62/62 [==============================] - 1s 13ms/step - loss: 0.1590 - accuracy: 0.9605 - val_loss: 0.2323 - val_accuracy: 0.9383\n",
            "Epoch 10/15\n",
            "62/62 [==============================] - 1s 13ms/step - loss: 0.1433 - accuracy: 0.9641 - val_loss: 0.2247 - val_accuracy: 0.9396\n",
            "Epoch 11/15\n",
            "62/62 [==============================] - 1s 13ms/step - loss: 0.1301 - accuracy: 0.9676 - val_loss: 0.2149 - val_accuracy: 0.9420\n",
            "Epoch 12/15\n",
            "62/62 [==============================] - 1s 13ms/step - loss: 0.1188 - accuracy: 0.9702 - val_loss: 0.2067 - val_accuracy: 0.9435\n",
            "Epoch 13/15\n",
            "62/62 [==============================] - 1s 13ms/step - loss: 0.1083 - accuracy: 0.9725 - val_loss: 0.2003 - val_accuracy: 0.9449\n",
            "Epoch 14/15\n",
            "62/62 [==============================] - 1s 13ms/step - loss: 0.0994 - accuracy: 0.9749 - val_loss: 0.1976 - val_accuracy: 0.9454\n",
            "Epoch 15/15\n",
            "62/62 [==============================] - 1s 13ms/step - loss: 0.0916 - accuracy: 0.9767 - val_loss: 0.1929 - val_accuracy: 0.9461\n"
          ]
        }
      ],
      "source": [
        "inputs = keras.layers.Input((MAX_SEQUENCE, ), dtype=\"int64\")\n",
        "\n",
        "embedded = keras.layers.Embedding(\n",
        "    embedding_matrix.shape[0], \n",
        "    embedding_matrix.shape[1], \n",
        "    embeddings_initializer=tf.keras.initializers.Constant(embedding_matrix),\n",
        "    trainable=False,\n",
        "    mask_zero=False)(inputs)\n",
        "\n",
        "# x = SpatialDropout1D(m1_para.SD_RATE)(embedded)\n",
        "\n",
        "lstm = keras.layers.LSTM(\n",
        "    128, \n",
        "    return_sequences=True, \n",
        "    recurrent_regularizer=keras.regularizers.l2(0.02))\n",
        "x = keras.layers.Bidirectional(lstm)(embedded)\n",
        "\n",
        "# x = Dropout(m1_para.D_RATE)(x)\n",
        "\n",
        "outputs = keras.layers.Dense(NUM_CLASSES, activation=\"softmax\")(x)\n",
        "# dense = keras.layers.Dense(NUM_CLASSES, activation=\"softmax\")\n",
        "model = keras.Model(inputs, outputs)\n",
        "\n",
        "opt = keras.optimizers.Adam()\n",
        "model.compile(\n",
        "    optimizer=opt, \n",
        "    loss=keras.losses.SparseCategoricalCrossentropy(),\n",
        "    metrics=[\"accuracy\"])\n",
        "    \n",
        "model.summary()\n",
        "# early_stopping = EarlyStopping(monitor=\"val_loss\", patience=2)\n",
        "# reduce_lr = ReduceLROnPlateau(monitor=\"val_loss\", patience=1, factor=0.3)\n",
        "\n",
        "history = model.fit(train_ds, validation_data=val_ds, epochs=15)"
      ]
    },
    {
      "cell_type": "code",
      "execution_count": 132,
      "metadata": {
        "colab": {
          "base_uri": "https://localhost:8080/"
        },
        "id": "0aMiLQY9gClz",
        "outputId": "3e3b2bc9-339f-4b5b-a9bf-432b7a5bdc0e"
      },
      "outputs": [
        {
          "output_type": "stream",
          "name": "stdout",
          "text": [
            "1/1 [==============================] - 1s 692ms/step\n"
          ]
        }
      ],
      "source": [
        "test_ds = encode_labels(tokenize_features(df_to_dataset(df_test, df_test.size)))\n",
        "ypreds = model.predict(test_ds)"
      ]
    },
    {
      "cell_type": "code",
      "execution_count": 133,
      "metadata": {
        "id": "9UuHk-WFruDI"
      },
      "outputs": [],
      "source": [
        "class DecodeLabels:\n",
        "    layer: keras.layers.StringLookup\n",
        "\n",
        "    def __init__(self, vocabulary):\n",
        "        self.layer = keras.layers.StringLookup(output_mode=\"int\", vocabulary=vocabulary, invert=True)\n",
        "\n",
        "    def __call__(self, dataset):\n",
        "        ds =  tf.math.argmax(dataset, axis=-1)\n",
        "        ds = self.layer(ds)\n",
        "        ds =  tf.strings.reduce_join(ds, axis=-1, separator=\" \")\n",
        "        ds = tf.strings.strip(ds)\n",
        "        return ds\n",
        "\n",
        "decode_labels = DecodeLabels(encode_labels.get_vocabulary())"
      ]
    },
    {
      "cell_type": "code",
      "execution_count": 134,
      "metadata": {
        "colab": {
          "base_uri": "https://localhost:8080/"
        },
        "id": "bTCkJwXnuXmA",
        "outputId": "62ff6bb1-9d13-4b44-e9e5-89fdd88721f1"
      },
      "outputs": [
        {
          "output_type": "stream",
          "name": "stdout",
          "text": [
            "(652, 64, 42)\n"
          ]
        },
        {
          "output_type": "execute_result",
          "data": {
            "text/plain": [
              "<tf.Tensor: shape=(), dtype=string, numpy=b'DT NN VBZ NNP NN NNP NNP POS NN TO CD NN IN CD NN CC MD VB VB NNP NNP IN VBG DT NN IN DT NN NN'>"
            ]
          },
          "metadata": {},
          "execution_count": 134
        }
      ],
      "source": [
        "print(ypreds.shape)\n",
        "decode_labels(ypreds)[1]"
      ]
    },
    {
      "cell_type": "markdown",
      "metadata": {
        "id": "XfWhA9uscUk-"
      },
      "source": [
        "### Evaluate the model\n",
        "\n",
        "The reached F1 macro average score reached is **0.6070**"
      ]
    },
    {
      "cell_type": "code",
      "execution_count": null,
      "metadata": {
        "colab": {
          "base_uri": "https://localhost:8080/"
        },
        "id": "XW4JARI1cUk-",
        "outputId": "bb04a5c5-bc04-43db-d8a7-8d4356441c0c"
      },
      "outputs": [
        {
          "name": "stdout",
          "output_type": "stream",
          "text": [
            "              precision    recall  f1-score   support\n",
            "\n",
            "           0     0.7870    0.7738    0.7804      1972\n",
            "           1     0.6118    0.6448    0.6278      1647\n",
            "           2     0.5759    0.5997    0.5876       677\n",
            "           3     0.5038    0.4650    0.4836       572\n",
            "           4     0.6012    0.5521    0.5756       355\n",
            "           5     0.5859    0.5000    0.5395       116\n",
            "           6     0.6322    0.6790    0.6548        81\n",
            "\n",
            "    accuracy                         0.6585      5420\n",
            "   macro avg     0.6140    0.6021    0.6070      5420\n",
            "weighted avg     0.6587    0.6585    0.6582      5420\n",
            "\n"
          ]
        }
      ],
      "source": [
        "xtest_raw_ds = (tf.data.Dataset.from_tensor_slices(x_test).batch(256))\n",
        "\n",
        "print(classification_report(np.argmax(y_test, axis=1), np.argmax(model.predict(xtest_raw_ds), axis=1), digits=4))"
      ]
    },
    {
      "cell_type": "markdown",
      "metadata": {
        "id": "PxB-d-H0cUk_"
      },
      "source": [
        "### Plot the loss and the F1 score\n",
        "\n",
        "The callback ReduceLROnPlateau helps in reducing the loss function even more and reach higher score. In this case it is applied to the forth epoch by reducing the learning rate from 0.005 to 0.0015."
      ]
    },
    {
      "cell_type": "code",
      "execution_count": null,
      "metadata": {
        "colab": {
          "base_uri": "https://localhost:8080/",
          "height": 621
        },
        "id": "4Cor2MmFcUk_",
        "outputId": "4d85a751-721f-4883-d2d2-797e4d784da4"
      },
      "outputs": [
        {
          "data": {
            "image/png": "[encoded data removed]",
            "text/plain": [
              "<Figure size 576x720 with 2 Axes>"
            ]
          },
          "metadata": {},
          "output_type": "display_data"
        }
      ],
      "source": [
        "fig, axs = plt.subplots(2, figsize=(8, 10))\n",
        "\n",
        "x_len = np.arange(1, len(history.history['f1_score'])+ 1)\n",
        "\n",
        "axs[0].plot(x_len, history.history['loss'])\n",
        "axs[0].plot(x_len, history.history['val_loss'])\n",
        "axs[0].set_title('model loss')\n",
        "axs[0].set_ylabel('loss')\n",
        "axs[0].set_xlabel('epoch')\n",
        "axs[0].legend(['train', 'val'], loc='upper left')\n",
        "axs[0].set_xticks(x_len)\n",
        "\n",
        "axs[1].plot(x_len, history.history['f1_score'])\n",
        "axs[1].plot(x_len, history.history['val_f1_score'])\n",
        "axs[1].set_title('model f1 score macro avg')\n",
        "axs[1].set_ylabel('f1 macro avg')\n",
        "axs[1].set_xlabel('epoch')\n",
        "axs[1].legend(['train', 'val'], loc='upper left')\n",
        "axs[1].set_xticks(x_len)\n",
        "axs[1].set_yticks(np.arange(0.35, 0.65, step=0.02))\n",
        "\n",
        "fig.show()"
      ]
    }
  ],
  "metadata": {
    "accelerator": "GPU",
    "colab": {
      "collapsed_sections": [
        "IqcF5qcny_3h"
      ],
      "toc_visible": true,
      "provenance": [],
      "include_colab_link": true
    },
    "gpuClass": "standard",
    "kernelspec": {
      "display_name": "Python 3",
      "name": "python3"
    },
    "language_info": {
      "name": "python"
    }
  },
  "nbformat": 4,
  "nbformat_minor": 0
}