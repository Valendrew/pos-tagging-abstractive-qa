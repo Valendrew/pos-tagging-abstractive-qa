{
  "cells": [
    {
      "cell_type": "markdown",
      "metadata": {
        "id": "-63sVoG68_LQ"
      },
      "source": [
        "# Install and import dependencies"
      ]
    },
    {
      "cell_type": "code",
      "execution_count": null,
      "metadata": {
        "colab": {
          "base_uri": "https://localhost:8080/"
        },
        "id": "oeyJJX4rpNd2",
        "outputId": "4ff6d656-ec60-450c-f4e2-398539031320"
      },
      "outputs": [
        {
          "name": "stdout",
          "output_type": "stream",
          "text": [
            "\u001b[?25l\r\u001b[K     |▎                               | 10 kB 29.3 MB/s eta 0:00:01\r\u001b[K     |▋                               | 20 kB 3.8 MB/s eta 0:00:01\r\u001b[K     |█                               | 30 kB 5.5 MB/s eta 0:00:01\r\u001b[K     |█▏                              | 40 kB 7.2 MB/s eta 0:00:01\r\u001b[K     |█▌                              | 51 kB 8.7 MB/s eta 0:00:01\r\u001b[K     |█▉                              | 61 kB 10.2 MB/s eta 0:00:01\r\u001b[K     |██                              | 71 kB 11.6 MB/s eta 0:00:01\r\u001b[K     |██▍                             | 81 kB 12.7 MB/s eta 0:00:01\r\u001b[K     |██▊                             | 92 kB 13.9 MB/s eta 0:00:01\r\u001b[K     |███                             | 102 kB 15.1 MB/s eta 0:00:01\r\u001b[K     |███▎                            | 112 kB 15.1 MB/s eta 0:00:01\r\u001b[K     |███▋                            | 122 kB 15.1 MB/s eta 0:00:01\r\u001b[K     |███▉                            | 133 kB 15.1 MB/s eta 0:00:01\r\u001b[K     |████▏                           | 143 kB 15.1 MB/s eta 0:00:01\r\u001b[K     |████▌                           | 153 kB 15.1 MB/s eta 0:00:01\r\u001b[K     |████▊                           | 163 kB 15.1 MB/s eta 0:00:01\r\u001b[K     |█████                           | 174 kB 15.1 MB/s eta 0:00:01\r\u001b[K     |█████▍                          | 184 kB 15.1 MB/s eta 0:00:01\r\u001b[K     |█████▋                          | 194 kB 15.1 MB/s eta 0:00:01\r\u001b[K     |██████                          | 204 kB 15.1 MB/s eta 0:00:01\r\u001b[K     |██████▎                         | 215 kB 15.1 MB/s eta 0:00:01\r\u001b[K     |██████▌                         | 225 kB 15.1 MB/s eta 0:00:01\r\u001b[K     |██████▉                         | 235 kB 15.1 MB/s eta 0:00:01\r\u001b[K     |███████▏                        | 245 kB 15.1 MB/s eta 0:00:01\r\u001b[K     |███████▍                        | 256 kB 15.1 MB/s eta 0:00:01\r\u001b[K     |███████▊                        | 266 kB 15.1 MB/s eta 0:00:01\r\u001b[K     |████████                        | 276 kB 15.1 MB/s eta 0:00:01\r\u001b[K     |████████▎                       | 286 kB 15.1 MB/s eta 0:00:01\r\u001b[K     |████████▋                       | 296 kB 15.1 MB/s eta 0:00:01\r\u001b[K     |█████████                       | 307 kB 15.1 MB/s eta 0:00:01\r\u001b[K     |█████████▏                      | 317 kB 15.1 MB/s eta 0:00:01\r\u001b[K     |█████████▌                      | 327 kB 15.1 MB/s eta 0:00:01\r\u001b[K     |█████████▉                      | 337 kB 15.1 MB/s eta 0:00:01\r\u001b[K     |██████████                      | 348 kB 15.1 MB/s eta 0:00:01\r\u001b[K     |██████████▍                     | 358 kB 15.1 MB/s eta 0:00:01\r\u001b[K     |██████████▊                     | 368 kB 15.1 MB/s eta 0:00:01\r\u001b[K     |███████████                     | 378 kB 15.1 MB/s eta 0:00:01\r\u001b[K     |███████████▎                    | 389 kB 15.1 MB/s eta 0:00:01\r\u001b[K     |███████████▋                    | 399 kB 15.1 MB/s eta 0:00:01\r\u001b[K     |███████████▉                    | 409 kB 15.1 MB/s eta 0:00:01\r\u001b[K     |████████████▏                   | 419 kB 15.1 MB/s eta 0:00:01\r\u001b[K     |████████████▌                   | 430 kB 15.1 MB/s eta 0:00:01\r\u001b[K     |████████████▊                   | 440 kB 15.1 MB/s eta 0:00:01\r\u001b[K     |█████████████                   | 450 kB 15.1 MB/s eta 0:00:01\r\u001b[K     |█████████████▍                  | 460 kB 15.1 MB/s eta 0:00:01\r\u001b[K     |█████████████▋                  | 471 kB 15.1 MB/s eta 0:00:01\r\u001b[K     |██████████████                  | 481 kB 15.1 MB/s eta 0:00:01\r\u001b[K     |██████████████▎                 | 491 kB 15.1 MB/s eta 0:00:01\r\u001b[K     |██████████████▌                 | 501 kB 15.1 MB/s eta 0:00:01\r\u001b[K     |██████████████▉                 | 512 kB 15.1 MB/s eta 0:00:01\r\u001b[K     |███████████████▏                | 522 kB 15.1 MB/s eta 0:00:01\r\u001b[K     |███████████████▍                | 532 kB 15.1 MB/s eta 0:00:01\r\u001b[K     |███████████████▊                | 542 kB 15.1 MB/s eta 0:00:01\r\u001b[K     |████████████████                | 552 kB 15.1 MB/s eta 0:00:01\r\u001b[K     |████████████████▎               | 563 kB 15.1 MB/s eta 0:00:01\r\u001b[K     |████████████████▋               | 573 kB 15.1 MB/s eta 0:00:01\r\u001b[K     |█████████████████               | 583 kB 15.1 MB/s eta 0:00:01\r\u001b[K     |█████████████████▏              | 593 kB 15.1 MB/s eta 0:00:01\r\u001b[K     |█████████████████▌              | 604 kB 15.1 MB/s eta 0:00:01\r\u001b[K     |█████████████████▉              | 614 kB 15.1 MB/s eta 0:00:01\r\u001b[K     |██████████████████              | 624 kB 15.1 MB/s eta 0:00:01\r\u001b[K     |██████████████████▍             | 634 kB 15.1 MB/s eta 0:00:01\r\u001b[K     |██████████████████▊             | 645 kB 15.1 MB/s eta 0:00:01\r\u001b[K     |███████████████████             | 655 kB 15.1 MB/s eta 0:00:01\r\u001b[K     |███████████████████▎            | 665 kB 15.1 MB/s eta 0:00:01\r\u001b[K     |███████████████████▋            | 675 kB 15.1 MB/s eta 0:00:01\r\u001b[K     |███████████████████▉            | 686 kB 15.1 MB/s eta 0:00:01\r\u001b[K     |████████████████████▏           | 696 kB 15.1 MB/s eta 0:00:01\r\u001b[K     |████████████████████▌           | 706 kB 15.1 MB/s eta 0:00:01\r\u001b[K     |████████████████████▊           | 716 kB 15.1 MB/s eta 0:00:01\r\u001b[K     |█████████████████████           | 727 kB 15.1 MB/s eta 0:00:01\r\u001b[K     |█████████████████████▍          | 737 kB 15.1 MB/s eta 0:00:01\r\u001b[K     |█████████████████████▋          | 747 kB 15.1 MB/s eta 0:00:01\r\u001b[K     |██████████████████████          | 757 kB 15.1 MB/s eta 0:00:01\r\u001b[K     |██████████████████████▎         | 768 kB 15.1 MB/s eta 0:00:01\r\u001b[K     |██████████████████████▌         | 778 kB 15.1 MB/s eta 0:00:01\r\u001b[K     |██████████████████████▉         | 788 kB 15.1 MB/s eta 0:00:01\r\u001b[K     |███████████████████████▏        | 798 kB 15.1 MB/s eta 0:00:01\r\u001b[K     |███████████████████████▍        | 808 kB 15.1 MB/s eta 0:00:01\r\u001b[K     |███████████████████████▊        | 819 kB 15.1 MB/s eta 0:00:01\r\u001b[K     |████████████████████████        | 829 kB 15.1 MB/s eta 0:00:01\r\u001b[K     |████████████████████████▎       | 839 kB 15.1 MB/s eta 0:00:01\r\u001b[K     |████████████████████████▋       | 849 kB 15.1 MB/s eta 0:00:01\r\u001b[K     |█████████████████████████       | 860 kB 15.1 MB/s eta 0:00:01\r\u001b[K     |█████████████████████████▎      | 870 kB 15.1 MB/s eta 0:00:01\r\u001b[K     |█████████████████████████▌      | 880 kB 15.1 MB/s eta 0:00:01\r\u001b[K     |█████████████████████████▉      | 890 kB 15.1 MB/s eta 0:00:01\r\u001b[K     |██████████████████████████▏     | 901 kB 15.1 MB/s eta 0:00:01\r\u001b[K     |██████████████████████████▍     | 911 kB 15.1 MB/s eta 0:00:01\r\u001b[K     |██████████████████████████▊     | 921 kB 15.1 MB/s eta 0:00:01\r\u001b[K     |███████████████████████████     | 931 kB 15.1 MB/s eta 0:00:01\r\u001b[K     |███████████████████████████▎    | 942 kB 15.1 MB/s eta 0:00:01\r\u001b[K     |███████████████████████████▋    | 952 kB 15.1 MB/s eta 0:00:01\r\u001b[K     |████████████████████████████    | 962 kB 15.1 MB/s eta 0:00:01\r\u001b[K     |████████████████████████████▏   | 972 kB 15.1 MB/s eta 0:00:01\r\u001b[K     |████████████████████████████▌   | 983 kB 15.1 MB/s eta 0:00:01\r\u001b[K     |████████████████████████████▉   | 993 kB 15.1 MB/s eta 0:00:01\r\u001b[K     |█████████████████████████████   | 1.0 MB 15.1 MB/s eta 0:00:01\r\u001b[K     |█████████████████████████████▍  | 1.0 MB 15.1 MB/s eta 0:00:01\r\u001b[K     |█████████████████████████████▊  | 1.0 MB 15.1 MB/s eta 0:00:01\r\u001b[K     |██████████████████████████████  | 1.0 MB 15.1 MB/s eta 0:00:01\r\u001b[K     |██████████████████████████████▎ | 1.0 MB 15.1 MB/s eta 0:00:01\r\u001b[K     |██████████████████████████████▋ | 1.1 MB 15.1 MB/s eta 0:00:01\r\u001b[K     |██████████████████████████████▉ | 1.1 MB 15.1 MB/s eta 0:00:01\r\u001b[K     |███████████████████████████████▏| 1.1 MB 15.1 MB/s eta 0:00:01\r\u001b[K     |███████████████████████████████▌| 1.1 MB 15.1 MB/s eta 0:00:01\r\u001b[K     |███████████████████████████████▊| 1.1 MB 15.1 MB/s eta 0:00:01\r\u001b[K     |████████████████████████████████| 1.1 MB 15.1 MB/s \n",
            "\u001b[?25h"
          ]
        }
      ],
      "source": [
        "!pip install tensorflow_addons --quiet"
      ]
    },
    {
      "cell_type": "markdown",
      "metadata": {
        "id": "lSx8ZrIGACAU"
      },
      "source": [
        "Load dependencies required"
      ]
    },
    {
      "cell_type": "code",
      "execution_count": 1,
      "metadata": {
        "id": "jBHbp76I9a9u"
      },
      "outputs": [],
      "source": [
        "from dataclasses import dataclass\n",
        "import os\n",
        "import os.path\n",
        "import re\n",
        "import shutil\n",
        "import typing\n",
        "import urllib.request\n",
        "\n",
        "import keras\n",
        "import keras.callbacks\n",
        "import keras.layers\n",
        "import keras.losses\n",
        "import keras.optimizers\n",
        "import keras.regularizers\n",
        "import numpy as np\n",
        "import pandas as pd\n",
        "import tensorflow as tf\n",
        "import tqdm"
      ]
    },
    {
      "cell_type": "markdown",
      "metadata": {
        "id": "IqcF5qcny_3h"
      },
      "source": [
        "# Dataset"
      ]
    },
    {
      "cell_type": "code",
      "source": [
        "!cat dependency_treebank/wsj_0001.dp"
      ],
      "metadata": {
        "id": "ABch5W6EJ0aM",
        "outputId": "25fb27c4-ee94-4abf-b4c1-43b539087db2",
        "colab": {
          "base_uri": "https://localhost:8080/"
        }
      },
      "execution_count": 3,
      "outputs": [
        {
          "output_type": "stream",
          "name": "stdout",
          "text": [
            "Pierre\tNNP\t2\n",
            "Vinken\tNNP\t8\n",
            ",\t,\t2\n",
            "61\tCD\t5\n",
            "years\tNNS\t6\n",
            "old\tJJ\t2\n",
            ",\t,\t2\n",
            "will\tMD\t0\n",
            "join\tVB\t8\n",
            "the\tDT\t11\n",
            "board\tNN\t9\n",
            "as\tIN\t9\n",
            "a\tDT\t15\n",
            "nonexecutive\tJJ\t15\n",
            "director\tNN\t12\n",
            "Nov.\tNNP\t9\n",
            "29\tCD\t16\n",
            ".\t.\t8\n",
            "\n",
            "Mr.\tNNP\t2\n",
            "Vinken\tNNP\t3\n",
            "is\tVBZ\t0\n",
            "chairman\tNN\t3\n",
            "of\tIN\t4\n",
            "Elsevier\tNNP\t7\n",
            "N.V.\tNNP\t12\n",
            ",\t,\t12\n",
            "the\tDT\t12\n",
            "Dutch\tNNP\t12\n",
            "publishing\tVBG\t12\n",
            "group\tNN\t5\n",
            ".\t.\t3\n"
          ]
        }
      ]
    },
    {
      "cell_type": "markdown",
      "metadata": {
        "id": "olrT7islP4Lx"
      },
      "source": [
        "## Download the data\n",
        "\n",
        "- Download the dataset\n",
        "- Unzip the dataset in the local path"
      ]
    },
    {
      "cell_type": "code",
      "execution_count": 2,
      "metadata": {
        "id": "4wz6iHyl9Yit"
      },
      "outputs": [],
      "source": [
        "file_url = \"https://raw.githubusercontent.com/nltk/nltk_data/gh-pages/packages/corpora/dependency_treebank.zip\"\n",
        "zip_name = os.path.join(os.getcwd(), \"dependency_treebank.zip\")\n",
        "file_name = os.path.join(os.getcwd(), \"dependency_treebank\")\n",
        "\n",
        "if not os.path.isdir(file_name):\n",
        "    if not os.path.isfile(zip_name):\n",
        "        with urllib.request.urlopen(file_url) as res, open(zip_name, \"wb\") as f:\n",
        "            shutil.copyfileobj(res, f)\n",
        "    shutil.unpack_archive(zip_name, os.getcwd())"
      ]
    },
    {
      "cell_type": "markdown",
      "metadata": {
        "id": "_1Txj5FHS1A0"
      },
      "source": [
        "## Load the data\n",
        "\n",
        "- Read the data for training (1-100), validation (101-150) and test (151-199)"
      ]
    },
    {
      "cell_type": "code",
      "execution_count": 4,
      "metadata": {
        "colab": {
          "base_uri": "https://localhost:8080/"
        },
        "id": "uNZ87z6pfXod",
        "outputId": "a703400d-be76-48a1-8a90-de01579a057f"
      },
      "outputs": [
        {
          "output_type": "stream",
          "name": "stderr",
          "text": [
            "Reading train data: 100%|██████████| 100/100 [00:00<00:00, 717.20it/s]\n",
            "Reading validation data: 100%|██████████| 50/50 [00:00<00:00, 639.76it/s]\n",
            "Reading test data: 100%|██████████| 49/49 [00:00<00:00, 779.08it/s]\n"
          ]
        }
      ],
      "source": [
        "class DataLoader:\n",
        "    PUNCTUATIONS = r\"[\\.,\\\\\\\"'\\-\\?\\:\\!;\\[\\]\\(\\)\\{\\}⟨⟩‒–—―‐…\\/⁄‘’“”`]+\"\n",
        "\n",
        "    def __init__(self):\n",
        "        self.prog = re.compile(self.PUNCTUATIONS)\n",
        "\n",
        "    def __call__(self, start_i: int, end_i: int, desc: typing.Optional[str] = None):\n",
        "        df = pd.DataFrame(columns=[\"text\", \"tags\"])\n",
        "        # df_y = pd.DataFrame()\n",
        "\n",
        "        for i in tqdm.trange(start_i, end_i+1, desc=f\"Reading {desc} data\"):\n",
        "            idx_len = \"0\" * (3 - len(str(i)))\n",
        "            data_file = os.path.join(file_name, f\"wsj_0{idx_len}{i}.dp\")\n",
        "            with open(data_file, \"r\") as f:\n",
        "                content = [l.strip().split() for l in f.readlines()]\n",
        "            \n",
        "            Xrows, yrows = [\"\"], [\"\"]\n",
        "            i = 0\n",
        "            for c in content:\n",
        "                # New line encountered, split the following lines in a new sentence\n",
        "                if len(c) == 0:\n",
        "                    i += 1\n",
        "                    Xrows.append(\"\")\n",
        "                    yrows.append(\"\")\n",
        "                    continue\n",
        "                # Process sentence\n",
        "                assert len(c) == 3\n",
        "                if self.prog.fullmatch(c[1]) is None:\n",
        "                    Xrows[i] += (\" \" if len(Xrows[i]) > 0 else \"\") +  c[0]\n",
        "                    yrows[i] += (\" \" if len(yrows[i]) > 0 else \"\") + c[1]\n",
        "\n",
        "            new_df = pd.DataFrame.from_dict({\"text\": Xrows, \"tags\": yrows})\n",
        "            df = pd.concat([df, new_df], axis=0, ignore_index=True)\n",
        "        return df\n",
        "\n",
        "data_loader = DataLoader()\n",
        "df_train = data_loader(1, 100, desc=\"train\")\n",
        "df_val = data_loader(101, 150, desc=\"validation\")\n",
        "df_test = data_loader(151, 199, desc=\"test\")"
      ]
    },
    {
      "cell_type": "markdown",
      "metadata": {
        "id": "wGaIsKTZwAyk"
      },
      "source": [
        "## Closer look at datasets"
      ]
    },
    {
      "cell_type": "code",
      "execution_count": 5,
      "metadata": {
        "colab": {
          "base_uri": "https://localhost:8080/",
          "height": 206
        },
        "id": "qkeb4t-cs9OG",
        "outputId": "ad275886-d8c3-4e30-c480-865eefb539c2"
      },
      "outputs": [
        {
          "output_type": "execute_result",
          "data": {
            "text/plain": [
              "                                                text  \\\n",
              "0  Pierre Vinken 61 years old will join the board...   \n",
              "1  Mr. Vinken is chairman of Elsevier N.V. the Du...   \n",
              "2  Rudolph Agnew 55 years old and former chairman...   \n",
              "3  A form of asbestos once used to make Kent ciga...   \n",
              "4  The asbestos fiber crocidolite is unusually re...   \n",
              "\n",
              "                                                tags  \n",
              "0   NNP NNP CD NNS JJ MD VB DT NN IN DT JJ NN NNP CD  \n",
              "1            NNP NNP VBZ NN IN NNP NNP DT NNP VBG NN  \n",
              "2  NNP NNP CD NNS JJ CC JJ NN IN NNP NNP NNP NNP ...  \n",
              "3  DT NN IN NN RB VBN TO VB NNP NN NNS VBZ VBN DT...  \n",
              "4  DT NN NN NN VBZ RB JJ IN PRP VBZ DT NNS IN RB ...  "
            ],
            "text/html": [
              "\n",
              "  <div id=\"df-08f2dac5-05d0-4955-bfd1-8d5e6a4cb86b\">\n",
              "    <div class=\"colab-df-container\">\n",
              "      <div>\n",
              "<style scoped>\n",
              "    .dataframe tbody tr th:only-of-type {\n",
              "        vertical-align: middle;\n",
              "    }\n",
              "\n",
              "    .dataframe tbody tr th {\n",
              "        vertical-align: top;\n",
              "    }\n",
              "\n",
              "    .dataframe thead th {\n",
              "        text-align: right;\n",
              "    }\n",
              "</style>\n",
              "<table border=\"1\" class=\"dataframe\">\n",
              "  <thead>\n",
              "    <tr style=\"text-align: right;\">\n",
              "      <th></th>\n",
              "      <th>text</th>\n",
              "      <th>tags</th>\n",
              "    </tr>\n",
              "  </thead>\n",
              "  <tbody>\n",
              "    <tr>\n",
              "      <th>0</th>\n",
              "      <td>Pierre Vinken 61 years old will join the board...</td>\n",
              "      <td>NNP NNP CD NNS JJ MD VB DT NN IN DT JJ NN NNP CD</td>\n",
              "    </tr>\n",
              "    <tr>\n",
              "      <th>1</th>\n",
              "      <td>Mr. Vinken is chairman of Elsevier N.V. the Du...</td>\n",
              "      <td>NNP NNP VBZ NN IN NNP NNP DT NNP VBG NN</td>\n",
              "    </tr>\n",
              "    <tr>\n",
              "      <th>2</th>\n",
              "      <td>Rudolph Agnew 55 years old and former chairman...</td>\n",
              "      <td>NNP NNP CD NNS JJ CC JJ NN IN NNP NNP NNP NNP ...</td>\n",
              "    </tr>\n",
              "    <tr>\n",
              "      <th>3</th>\n",
              "      <td>A form of asbestos once used to make Kent ciga...</td>\n",
              "      <td>DT NN IN NN RB VBN TO VB NNP NN NNS VBZ VBN DT...</td>\n",
              "    </tr>\n",
              "    <tr>\n",
              "      <th>4</th>\n",
              "      <td>The asbestos fiber crocidolite is unusually re...</td>\n",
              "      <td>DT NN NN NN VBZ RB JJ IN PRP VBZ DT NNS IN RB ...</td>\n",
              "    </tr>\n",
              "  </tbody>\n",
              "</table>\n",
              "</div>\n",
              "      <button class=\"colab-df-convert\" onclick=\"convertToInteractive('df-08f2dac5-05d0-4955-bfd1-8d5e6a4cb86b')\"\n",
              "              title=\"Convert this dataframe to an interactive table.\"\n",
              "              style=\"display:none;\">\n",
              "        \n",
              "  <svg xmlns=\"http://www.w3.org/2000/svg\" height=\"24px\"viewBox=\"0 0 24 24\"\n",
              "       width=\"24px\">\n",
              "    <path d=\"M0 0h24v24H0V0z\" fill=\"none\"/>\n",
              "    <path d=\"M18.56 5.44l.94 2.06.94-2.06 2.06-.94-2.06-.94-.94-2.06-.94 2.06-2.06.94zm-11 1L8.5 8.5l.94-2.06 2.06-.94-2.06-.94L8.5 2.5l-.94 2.06-2.06.94zm10 10l.94 2.06.94-2.06 2.06-.94-2.06-.94-.94-2.06-.94 2.06-2.06.94z\"/><path d=\"M17.41 7.96l-1.37-1.37c-.4-.4-.92-.59-1.43-.59-.52 0-1.04.2-1.43.59L10.3 9.45l-7.72 7.72c-.78.78-.78 2.05 0 2.83L4 21.41c.39.39.9.59 1.41.59.51 0 1.02-.2 1.41-.59l7.78-7.78 2.81-2.81c.8-.78.8-2.07 0-2.86zM5.41 20L4 18.59l7.72-7.72 1.47 1.35L5.41 20z\"/>\n",
              "  </svg>\n",
              "      </button>\n",
              "      \n",
              "  <style>\n",
              "    .colab-df-container {\n",
              "      display:flex;\n",
              "      flex-wrap:wrap;\n",
              "      gap: 12px;\n",
              "    }\n",
              "\n",
              "    .colab-df-convert {\n",
              "      background-color: #E8F0FE;\n",
              "      border: none;\n",
              "      border-radius: 50%;\n",
              "      cursor: pointer;\n",
              "      display: none;\n",
              "      fill: #1967D2;\n",
              "      height: 32px;\n",
              "      padding: 0 0 0 0;\n",
              "      width: 32px;\n",
              "    }\n",
              "\n",
              "    .colab-df-convert:hover {\n",
              "      background-color: #E2EBFA;\n",
              "      box-shadow: 0px 1px 2px rgba(60, 64, 67, 0.3), 0px 1px 3px 1px rgba(60, 64, 67, 0.15);\n",
              "      fill: #174EA6;\n",
              "    }\n",
              "\n",
              "    [theme=dark] .colab-df-convert {\n",
              "      background-color: #3B4455;\n",
              "      fill: #D2E3FC;\n",
              "    }\n",
              "\n",
              "    [theme=dark] .colab-df-convert:hover {\n",
              "      background-color: #434B5C;\n",
              "      box-shadow: 0px 1px 3px 1px rgba(0, 0, 0, 0.15);\n",
              "      filter: drop-shadow(0px 1px 2px rgba(0, 0, 0, 0.3));\n",
              "      fill: #FFFFFF;\n",
              "    }\n",
              "  </style>\n",
              "\n",
              "      <script>\n",
              "        const buttonEl =\n",
              "          document.querySelector('#df-08f2dac5-05d0-4955-bfd1-8d5e6a4cb86b button.colab-df-convert');\n",
              "        buttonEl.style.display =\n",
              "          google.colab.kernel.accessAllowed ? 'block' : 'none';\n",
              "\n",
              "        async function convertToInteractive(key) {\n",
              "          const element = document.querySelector('#df-08f2dac5-05d0-4955-bfd1-8d5e6a4cb86b');\n",
              "          const dataTable =\n",
              "            await google.colab.kernel.invokeFunction('convertToInteractive',\n",
              "                                                     [key], {});\n",
              "          if (!dataTable) return;\n",
              "\n",
              "          const docLinkHtml = 'Like what you see? Visit the ' +\n",
              "            '<a target=\"_blank\" href=https://colab.research.google.com/notebooks/data_table.ipynb>data table notebook</a>'\n",
              "            + ' to learn more about interactive tables.';\n",
              "          element.innerHTML = '';\n",
              "          dataTable['output_type'] = 'display_data';\n",
              "          await google.colab.output.renderOutput(dataTable, element);\n",
              "          const docLink = document.createElement('div');\n",
              "          docLink.innerHTML = docLinkHtml;\n",
              "          element.appendChild(docLink);\n",
              "        }\n",
              "      </script>\n",
              "    </div>\n",
              "  </div>\n",
              "  "
            ]
          },
          "metadata": {},
          "execution_count": 5
        }
      ],
      "source": [
        "df_train.head()"
      ]
    },
    {
      "cell_type": "markdown",
      "metadata": {
        "id": "HmOdw-YuO9im"
      },
      "source": [
        "## TODO\n",
        "- Distribution of classes\n",
        "- Sentences length\n",
        "    - Split sentences too long"
      ]
    },
    {
      "cell_type": "markdown",
      "metadata": {
        "id": "OH5MFA5QQHre"
      },
      "source": [
        "\n",
        "# Model"
      ]
    },
    {
      "cell_type": "code",
      "execution_count": 56,
      "metadata": {
        "id": "2jqR7WDWFwX3"
      },
      "outputs": [],
      "source": [
        "@dataclass\n",
        "class ModelConfiguration:\n",
        "    EMBEDDING_DIM = 300\n",
        "    MAX_SEQUENCE = 128\n",
        "    VOCABULARY_SIZE = 15000\n",
        "\n",
        "model_conf = ModelConfiguration()"
      ]
    },
    {
      "cell_type": "markdown",
      "metadata": {
        "id": "pLVj68WNbroz"
      },
      "source": [
        "## Dataframe to dataset"
      ]
    },
    {
      "cell_type": "code",
      "execution_count": 44,
      "metadata": {
        "id": "s9HtutpwjNC6"
      },
      "outputs": [],
      "source": [
        "def df_to_dataset(df: pd.DataFrame, batch_size: int = 32):\n",
        "    df = df.copy()\n",
        "    return tf.data.Dataset.from_tensor_slices((df[\"text\"], df[\"tags\"])).batch(batch_size)\n",
        "\n",
        "raw_train_ds = df_to_dataset(df_train, 32)\n",
        "raw_val_ds = df_to_dataset(df_val, 256)\n",
        "raw_test_ds = df_to_dataset(df_test, 512)\n",
        "raw_all_ds = df_to_dataset(pd.concat([df_train, df_val, df_test]), 512)"
      ]
    },
    {
      "cell_type": "markdown",
      "metadata": {
        "id": "O5ANaBiPFnjF"
      },
      "source": [
        "## Tokenization and encoding"
      ]
    },
    {
      "cell_type": "markdown",
      "metadata": {
        "id": "DfUuXg-xQHKv"
      },
      "source": [
        "### Tokenize features\n",
        "\n",
        "TODO\n",
        "- [ ] Tokenization should include also validation and test (for OOV)"
      ]
    },
    {
      "cell_type": "code",
      "execution_count": 57,
      "metadata": {
        "id": "XcAOYzsrSkSA"
      },
      "outputs": [],
      "source": [
        "class TokenizeFeatures:\n",
        "    vocab_size: int\n",
        "    max_sequence: int\n",
        "    layer: keras.layers.TextVectorization\n",
        "\n",
        "    def __init__(self, dataset: tf.data.Dataset, vocab_size: int = 10000, max_sequence: int = 64):\n",
        "        self.vocab_size = vocab_size\n",
        "        self.max_sequence = max_sequence\n",
        "\n",
        "        self.layer = keras.layers.TextVectorization(\n",
        "            max_tokens=self.vocab_size,\n",
        "            output_mode=\"int\",\n",
        "            standardize=\"lower\",\n",
        "            output_sequence_length=self.max_sequence,\n",
        "        )\n",
        "        \n",
        "        features_ds = dataset.map(lambda x, _: x)\n",
        "        features_ds = features_ds.map(lambda x: tf.strings.split(x, sep=\" \").to_tensor())\n",
        "        features_ds = features_ds.map(lambda x: tf.expand_dims(x, -1))\n",
        "\n",
        "        self.layer.adapt(features_ds)\n",
        "\n",
        "    def __call__(self, dataset: tf.data.Dataset) -> tf.data.Dataset:\n",
        "        return dataset.map(lambda x, y: (self.layer(x), y))\n",
        "\n",
        "    def get_vocabulary(self):\n",
        "        return self.layer.get_vocabulary()\n",
        "\n",
        "# tokenize_features = TokenizeFeatures(raw_train_ds, model_conf.VOCABULARY_SIZE, model_conf.MAX_SEQUENCE)\n",
        "tokenize_features = TokenizeFeatures(raw_all_ds, model_conf.VOCABULARY_SIZE, model_conf.MAX_SEQUENCE)"
      ]
    },
    {
      "cell_type": "markdown",
      "metadata": {
        "id": "DGGrp1-4wWOB"
      },
      "source": [
        "### Encode of labels"
      ]
    },
    {
      "cell_type": "code",
      "execution_count": 58,
      "metadata": {
        "id": "xQEN83LTjAEK"
      },
      "outputs": [],
      "source": [
        "class EncodeLabels:\n",
        "    max_sequence: int\n",
        "    layer: keras.layers.StringLookup\n",
        "\n",
        "    def __init__(self, dataset: tf.data.Dataset, max_sequence: int):\n",
        "        self.max_sequence = max_sequence\n",
        "        self.layer = keras.layers.StringLookup(output_mode=\"int\")\n",
        "\n",
        "        label_ds = dataset.map(lambda _, y: y)\n",
        "        label_ds = label_ds.map(lambda y: tf.strings.split(y, sep=\" \").to_tensor())\n",
        "        label_ds = label_ds.map(lambda y: y[..., :self.max_sequence])\n",
        "        label_ds = label_ds.map(lambda y: \n",
        "                                tf.concat([\n",
        "                                    y, \n",
        "                                    tf.fill((tf.shape(y)[0], self.max_sequence - tf.shape(y)[-1]), \"\")], -1))\n",
        "        \n",
        "        self.layer.adapt(label_ds)\n",
        "\n",
        "    def __call__(self, dataset: tf.data.Dataset):\n",
        "        ds = dataset.map(lambda x, y: (x, tf.strings.split(y, sep=\" \").to_tensor()))\n",
        "        ds = ds.map(lambda x, y: (x, y[..., :self.max_sequence]))\n",
        "        ds = ds.map(lambda x, y: \n",
        "                    (x, tf.concat([\n",
        "                        y, \n",
        "                        tf.fill((tf.shape(y)[0], self.max_sequence - tf.shape(y)[-1]), \"\")], -1)))\n",
        "        ds = ds.map(lambda x, y: (x, self.layer(y)))\n",
        "        return ds\n",
        "\n",
        "    def get_vocabulary(self):\n",
        "        return self.layer.get_vocabulary()\n",
        "\n",
        "    def get_vocabulary_size(self):\n",
        "        return self.layer.vocabulary_size()\n",
        "\n",
        "encode_labels = EncodeLabels(raw_all_ds, model_conf.MAX_SEQUENCE)\n",
        "# encode_labels = EncodeLabels(raw_train_ds, model_conf.MAX_SEQUENCE)"
      ]
    },
    {
      "cell_type": "markdown",
      "source": [
        "### Decode of labels (use after inference)"
      ],
      "metadata": {
        "id": "9gHjRcKvJVLE"
      }
    },
    {
      "cell_type": "code",
      "source": [
        "class DecodeLabels:\n",
        "    layer: keras.layers.StringLookup\n",
        "\n",
        "    def __init__(self, vocabulary):\n",
        "        self.layer = keras.layers.StringLookup(output_mode=\"int\", vocabulary=vocabulary, invert=True)\n",
        "\n",
        "    def __call__(self, dataset):\n",
        "        ds =  tf.math.argmax(dataset, axis=-1)\n",
        "        ds = self.layer(ds)\n",
        "        ds =  tf.strings.reduce_join(ds, axis=-1, separator=\" \")\n",
        "        ds = tf.strings.strip(ds)\n",
        "        return ds\n",
        "\n",
        "decode_labels = DecodeLabels(encode_labels.get_vocabulary())"
      ],
      "metadata": {
        "id": "Nm4EmtUnJYvi"
      },
      "execution_count": 59,
      "outputs": []
    },
    {
      "cell_type": "markdown",
      "source": [
        "### Encode and tokenize datasets"
      ],
      "metadata": {
        "id": "sNaoD1VkJfVd"
      }
    },
    {
      "cell_type": "code",
      "source": [
        "def prepare_data(ds: tf.data.Dataset):\n",
        "    ds = encode_labels(ds)\n",
        "    return tokenize_features(ds).prefetch(tf.data.AUTOTUNE)\n",
        "\n",
        "train_ds = prepare_data(raw_train_ds)    \n",
        "val_ds = prepare_data(raw_val_ds)  \n",
        "test_ds = prepare_data(raw_test_ds)"
      ],
      "metadata": {
        "id": "WsOer7pkJAa9"
      },
      "execution_count": 60,
      "outputs": []
    },
    {
      "cell_type": "markdown",
      "metadata": {
        "id": "5W-dsR-3QGOX"
      },
      "source": [
        "## Embedding layer\n",
        "\n",
        "- [ ] Change GloVE"
      ]
    },
    {
      "cell_type": "code",
      "execution_count": 7,
      "metadata": {
        "id": "oUF7us8nPx2Z"
      },
      "outputs": [],
      "source": [
        "!wget -q https://huggingface.co/stanfordnlp/glove/resolve/main/glove.6B.zip\n",
        "!unzip -qq glove.6B.zip"
      ]
    },
    {
      "cell_type": "markdown",
      "metadata": {
        "id": "SibMuTSPUouw"
      },
      "source": [
        "### Get GloVe vocabulary"
      ]
    },
    {
      "cell_type": "code",
      "execution_count": 32,
      "metadata": {
        "colab": {
          "base_uri": "https://localhost:8080/"
        },
        "id": "EB1G9pyyPvw6",
        "outputId": "42f4bcdf-94b9-4fa0-c8a6-8e8a6a783be3"
      },
      "outputs": [
        {
          "output_type": "stream",
          "name": "stdout",
          "text": [
            "Found 400001 word vectors.\n"
          ]
        }
      ],
      "source": [
        "glove_path = f\"glove.6B.{model_conf.EMBEDDING_DIM}d.txt\"\n",
        "embeddings_index = {}\n",
        "with open(glove_path) as f:\n",
        "    for line in f:\n",
        "        word, coefs = line.split(maxsplit=1)\n",
        "        coefs = np.fromstring(coefs, dtype=float, sep=\" \")\n",
        "        embeddings_index[word] = coefs\n",
        "\n",
        "print(f\"Found {len(embeddings_index)} word vectors.\")"
      ]
    },
    {
      "cell_type": "markdown",
      "source": [
        "### Configure pretrained embedding\n",
        "\n",
        "TODO\n",
        "- [ ] Create vocabulary for traning, validation and test"
      ],
      "metadata": {
        "id": "koexI-upJpxt"
      }
    },
    {
      "cell_type": "code",
      "execution_count": 61,
      "metadata": {
        "colab": {
          "base_uri": "https://localhost:8080/"
        },
        "id": "aGt_-3iXQVwm",
        "outputId": "5e76c919-915f-41ab-c296-fbe7e2719397"
      },
      "outputs": [
        {
          "output_type": "stream",
          "name": "stdout",
          "text": [
            "Converted 10259 words (678 misses)\n"
          ]
        }
      ],
      "source": [
        "vocabulary = tokenize_features.get_vocabulary()\n",
        "vocabulary_size = len(vocabulary)\n",
        "\n",
        "word_index = dict(zip(vocabulary, range(vocabulary_size)))\n",
        "\n",
        "hits = 0\n",
        "misses = 0\n",
        "\n",
        "rng = np.random.default_rng(seed=42)\n",
        "\n",
        "embedding_matrix = np.zeros((vocabulary_size, model_conf.EMBEDDING_DIM))\n",
        "for word, i in word_index.items():\n",
        "    embedding_vector = embeddings_index.get(word)\n",
        "    if embedding_vector is not None:\n",
        "        embedding_matrix[i] = embedding_vector\n",
        "        hits += 1\n",
        "    else:\n",
        "        # random embedding for missed words\n",
        "        embedding_matrix[i] = rng.random((model_conf.EMBEDDING_DIM))\n",
        "        misses += 1\n",
        "print(f\"Converted {hits} words ({misses} misses)\")"
      ]
    },
    {
      "cell_type": "markdown",
      "metadata": {
        "id": "2C3N4NeN-x0K"
      },
      "source": [
        "## Baseline model"
      ]
    },
    {
      "cell_type": "code",
      "execution_count": 62,
      "metadata": {
        "colab": {
          "base_uri": "https://localhost:8080/"
        },
        "id": "oMS2eunaT4uZ",
        "outputId": "7ec08830-12c8-4c92-b251-9b3038bf2571"
      },
      "outputs": [
        {
          "output_type": "stream",
          "name": "stdout",
          "text": [
            "Number of classes is: 42\n"
          ]
        }
      ],
      "source": [
        "NUM_CLASSES = encode_labels.get_vocabulary_size()\n",
        "print(f\"Number of classes is: {NUM_CLASSES}\")"
      ]
    },
    {
      "cell_type": "code",
      "source": [
        "!mkdir model_checkpoints"
      ],
      "metadata": {
        "id": "UzHtewyJKwbh"
      },
      "execution_count": 39,
      "outputs": []
    },
    {
      "cell_type": "code",
      "execution_count": 78,
      "metadata": {
        "colab": {
          "base_uri": "https://localhost:8080/"
        },
        "id": "k325U7_1cUk9",
        "outputId": "fbba9762-30aa-4340-e419-69c703e8d902"
      },
      "outputs": [
        {
          "output_type": "stream",
          "name": "stdout",
          "text": [
            "Model: \"model_9\"\n",
            "_________________________________________________________________\n",
            " Layer (type)                Output Shape              Param #   \n",
            "=================================================================\n",
            " input_10 (InputLayer)       [(None, 128)]             0         \n",
            "                                                                 \n",
            " embedding_9 (Embedding)     (None, 128, 300)          3281100   \n",
            "                                                                 \n",
            " spatial_dropout1d_7 (Spatia  (None, 128, 300)         0         \n",
            " lDropout1D)                                                     \n",
            "                                                                 \n",
            " bidirectional_10 (Bidirecti  (None, 128, 256)         330240    \n",
            " onal)                                                           \n",
            "                                                                 \n",
            " dropout_4 (Dropout)         (None, 128, 256)          0         \n",
            "                                                                 \n",
            " dense_8 (Dense)             (None, 128, 42)           10794     \n",
            "                                                                 \n",
            "=================================================================\n",
            "Total params: 3,622,134\n",
            "Trainable params: 341,034\n",
            "Non-trainable params: 3,281,100\n",
            "_________________________________________________________________\n"
          ]
        }
      ],
      "source": [
        "inputs = keras.layers.Input((model_conf.MAX_SEQUENCE, ), dtype=\"int64\")\n",
        "\n",
        "embedded = keras.layers.Embedding(\n",
        "    embedding_matrix.shape[0], \n",
        "    embedding_matrix.shape[1], \n",
        "    embeddings_initializer=tf.keras.initializers.Constant(embedding_matrix),\n",
        "    trainable=False)(inputs)\n",
        "\n",
        "x = keras.layers.SpatialDropout1D(0.3)(embedded)\n",
        "\n",
        "lstm = keras.layers.GRU(\n",
        "    128, \n",
        "    return_sequences=True, \n",
        "    recurrent_regularizer=keras.regularizers.l2(0.02))\n",
        "x = keras.layers.Bidirectional(lstm)(x)\n",
        "\n",
        "# lstm = keras.layers.LSTM(\n",
        "#     128, \n",
        "#     return_sequences=True, \n",
        "#     recurrent_regularizer=keras.regularizers.l2(0.02))\n",
        "# x = keras.layers.Bidirectional(lstm)(x)\n",
        "\n",
        "x = keras.layers.Dropout(0.2)(x)\n",
        "\n",
        "outputs = keras.layers.Dense(NUM_CLASSES, activation=\"softmax\")(x)\n",
        "model = keras.Model(inputs, outputs)\n",
        "\n",
        "opt = keras.optimizers.Adam()\n",
        "model.compile(\n",
        "    optimizer=opt, \n",
        "    loss=keras.losses.SparseCategoricalCrossentropy(),\n",
        "    metrics=[\"accuracy\"])\n",
        "    \n",
        "model.summary()"
      ]
    },
    {
      "cell_type": "markdown",
      "source": [
        "## Training"
      ],
      "metadata": {
        "id": "9iJgrMfiLGsg"
      }
    },
    {
      "cell_type": "code",
      "source": [
        "model_checkpoint = keras.callbacks.ModelCheckpoint(\"./model_checkpoints\", monitor=\"val_accuracy\", save_best_only=True)\n",
        "# early_stopping = EarlyStopping(monitor=\"val_loss\", patience=5)\n",
        "# reduce_lr = ReduceLROnPlateau(monitor=\"val_loss\", patience=1, factor=0.3)\n",
        "\n",
        "history = model.fit(train_ds, validation_data=val_ds, epochs=20)\n",
        "# history = model.fit(train_ds, validation_data=val_ds, epochs=20, callbacks=[model_checkpoint])"
      ],
      "metadata": {
        "id": "9cW_dyMSLJr5",
        "outputId": "cfe9791d-1c98-4c8a-d4ed-2299e31ae883",
        "colab": {
          "base_uri": "https://localhost:8080/"
        }
      },
      "execution_count": 79,
      "outputs": [
        {
          "output_type": "stream",
          "name": "stdout",
          "text": [
            "Epoch 1/20\n",
            "62/62 [==============================] - 5s 30ms/step - loss: 3.0467 - accuracy: 0.8595 - val_loss: 1.2132 - val_accuracy: 0.9025\n",
            "Epoch 2/20\n",
            "62/62 [==============================] - 1s 17ms/step - loss: 0.7174 - accuracy: 0.9141 - val_loss: 0.3957 - val_accuracy: 0.9339\n",
            "Epoch 3/20\n",
            "62/62 [==============================] - 1s 22ms/step - loss: 0.3077 - accuracy: 0.9357 - val_loss: 0.2275 - val_accuracy: 0.9468\n",
            "Epoch 4/20\n",
            "62/62 [==============================] - 1s 17ms/step - loss: 0.2124 - accuracy: 0.9457 - val_loss: 0.1777 - val_accuracy: 0.9538\n",
            "Epoch 5/20\n",
            "62/62 [==============================] - 1s 17ms/step - loss: 0.1780 - accuracy: 0.9517 - val_loss: 0.1532 - val_accuracy: 0.9583\n",
            "Epoch 6/20\n",
            "62/62 [==============================] - 1s 17ms/step - loss: 0.1575 - accuracy: 0.9562 - val_loss: 0.1372 - val_accuracy: 0.9621\n",
            "Epoch 7/20\n",
            "62/62 [==============================] - 1s 17ms/step - loss: 0.1436 - accuracy: 0.9596 - val_loss: 0.1254 - val_accuracy: 0.9653\n",
            "Epoch 8/20\n",
            "62/62 [==============================] - 1s 17ms/step - loss: 0.1322 - accuracy: 0.9624 - val_loss: 0.1161 - val_accuracy: 0.9674\n",
            "Epoch 9/20\n",
            "62/62 [==============================] - 1s 17ms/step - loss: 0.1230 - accuracy: 0.9652 - val_loss: 0.1087 - val_accuracy: 0.9692\n",
            "Epoch 10/20\n",
            "62/62 [==============================] - 1s 17ms/step - loss: 0.1164 - accuracy: 0.9666 - val_loss: 0.1029 - val_accuracy: 0.9706\n",
            "Epoch 11/20\n",
            "62/62 [==============================] - 1s 17ms/step - loss: 0.1103 - accuracy: 0.9681 - val_loss: 0.0977 - val_accuracy: 0.9720\n",
            "Epoch 12/20\n",
            "62/62 [==============================] - 1s 17ms/step - loss: 0.1054 - accuracy: 0.9694 - val_loss: 0.0934 - val_accuracy: 0.9731\n",
            "Epoch 13/20\n",
            "62/62 [==============================] - 1s 17ms/step - loss: 0.1006 - accuracy: 0.9707 - val_loss: 0.0897 - val_accuracy: 0.9739\n",
            "Epoch 14/20\n",
            "62/62 [==============================] - 1s 17ms/step - loss: 0.0958 - accuracy: 0.9720 - val_loss: 0.0863 - val_accuracy: 0.9746\n",
            "Epoch 15/20\n",
            "62/62 [==============================] - 1s 17ms/step - loss: 0.0933 - accuracy: 0.9728 - val_loss: 0.0835 - val_accuracy: 0.9754\n",
            "Epoch 16/20\n",
            "62/62 [==============================] - 1s 17ms/step - loss: 0.0895 - accuracy: 0.9733 - val_loss: 0.0812 - val_accuracy: 0.9761\n",
            "Epoch 17/20\n",
            "62/62 [==============================] - 1s 18ms/step - loss: 0.0859 - accuracy: 0.9747 - val_loss: 0.0784 - val_accuracy: 0.9767\n",
            "Epoch 18/20\n",
            "62/62 [==============================] - 1s 17ms/step - loss: 0.0834 - accuracy: 0.9751 - val_loss: 0.0767 - val_accuracy: 0.9773\n",
            "Epoch 19/20\n",
            "62/62 [==============================] - 1s 17ms/step - loss: 0.0811 - accuracy: 0.9758 - val_loss: 0.0752 - val_accuracy: 0.9775\n",
            "Epoch 20/20\n",
            "62/62 [==============================] - 1s 17ms/step - loss: 0.0790 - accuracy: 0.9768 - val_loss: 0.0729 - val_accuracy: 0.9783\n"
          ]
        }
      ]
    },
    {
      "cell_type": "markdown",
      "source": [
        "## Inference\n",
        "\n",
        "- [ ] Compute F1-macro score"
      ],
      "metadata": {
        "id": "QckOr8nZLBIi"
      }
    },
    {
      "cell_type": "code",
      "execution_count": 65,
      "metadata": {
        "colab": {
          "base_uri": "https://localhost:8080/"
        },
        "id": "bTCkJwXnuXmA",
        "outputId": "d5ad96a8-b37e-4d2e-c9f5-600d32b78312"
      },
      "outputs": [
        {
          "output_type": "stream",
          "name": "stdout",
          "text": [
            "2/2 [==============================] - 1s 25ms/step\n",
            "DT NN NNP NNP NN NNP NNP POS NN TO CD NN IN CD NN CC MD VB VB NNP NNP IN VBG DT NN IN DT NN NN\n",
            "DT NN VBZ NNP NNP NNP NNP POS NN TO CD NN IN CD NN CC MD VB VB NNP NNP IN VBG DT NN IN DT NNS NN\n"
          ]
        }
      ],
      "source": [
        "ypreds = model.predict(test_ds)\n",
        "\n",
        "idx = 1\n",
        "print(decode_labels(ypreds)[idx].numpy().decode(\"utf-8\"))\n",
        "print(df_test[\"tags\"].iloc[idx])"
      ]
    },
    {
      "cell_type": "code",
      "execution_count": null,
      "metadata": {
        "id": "XW4JARI1cUk-"
      },
      "outputs": [],
      "source": [
        "# print(classification_report(np.argmax(y_test, axis=1), np.argmax(model.predict(xtest_raw_ds), axis=1), digits=4))"
      ]
    },
    {
      "cell_type": "markdown",
      "metadata": {
        "id": "PxB-d-H0cUk_"
      },
      "source": [
        "### Plot the loss and the F1 score\n",
        "\n",
        "Old code, remove if not useful"
      ]
    },
    {
      "cell_type": "code",
      "execution_count": null,
      "metadata": {
        "id": "4Cor2MmFcUk_"
      },
      "outputs": [],
      "source": [
        "# fig, axs = plt.subplots(2, figsize=(8, 10))\n",
        "\n",
        "# x_len = np.arange(1, len(history.history['f1_score'])+ 1)\n",
        "\n",
        "# axs[0].plot(x_len, history.history['loss'])\n",
        "# axs[0].plot(x_len, history.history['val_loss'])\n",
        "# axs[0].set_title('model loss')\n",
        "# axs[0].set_ylabel('loss')\n",
        "# axs[0].set_xlabel('epoch')\n",
        "# axs[0].legend(['train', 'val'], loc='upper left')\n",
        "# axs[0].set_xticks(x_len)\n",
        "\n",
        "# axs[1].plot(x_len, history.history['f1_score'])\n",
        "# axs[1].plot(x_len, history.history['val_f1_score'])\n",
        "# axs[1].set_title('model f1 score macro avg')\n",
        "# axs[1].set_ylabel('f1 macro avg')\n",
        "# axs[1].set_xlabel('epoch')\n",
        "# axs[1].legend(['train', 'val'], loc='upper left')\n",
        "# axs[1].set_xticks(x_len)\n",
        "# axs[1].set_yticks(np.arange(0.35, 0.65, step=0.02))\n",
        "\n",
        "# fig.show()"
      ]
    }
  ],
  "metadata": {
    "accelerator": "GPU",
    "colab": {
      "collapsed_sections": [
        "IqcF5qcny_3h"
      ],
      "provenance": []
    },
    "gpuClass": "standard",
    "kernelspec": {
      "display_name": "Python 3",
      "name": "python3"
    },
    "language_info": {
      "name": "python"
    }
  },
  "nbformat": 4,
  "nbformat_minor": 0
}