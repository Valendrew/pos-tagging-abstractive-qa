{
  "cells": [
    {
      "cell_type": "markdown",
      "id": "d1d23b6c",
      "metadata": {
        "id": "d1d23b6c"
      },
      "source": [
        "# Assignment 2\n",
        "\n",
        "**Credits**: Andrea Galassi, Federico Ruggeri, Paolo Torroni\n",
        "\n",
        "**Keywords**: Transformers, Question Answering, CoQA"
      ]
    },
    {
      "cell_type": "markdown",
      "id": "dL4rB4Dv4q5D",
      "metadata": {
        "id": "dL4rB4Dv4q5D"
      },
      "source": [
        "## Task and dataset explanation"
      ]
    },
    {
      "cell_type": "markdown",
      "id": "11ada8c8",
      "metadata": {
        "id": "11ada8c8"
      },
      "source": [
        "### Overview"
      ]
    },
    {
      "cell_type": "markdown",
      "id": "47c07553",
      "metadata": {
        "id": "47c07553"
      },
      "source": [
        "### Problem\n",
        "\n",
        "Question Answering (QA) on [CoQA](https://stanfordnlp.github.io/coqa/) dataset: a conversational QA dataset."
      ]
    },
    {
      "cell_type": "markdown",
      "id": "b4907f8d",
      "metadata": {
        "id": "b4907f8d"
      },
      "source": [
        "### Task\n",
        "\n",
        "Given a question $Q$, a text passage $P$, the task is to generate the answer $A$.<br>\n",
        "$\\rightarrow A$ can be: (i) a free-form text or (ii) unanswerable;\n",
        "\n",
        "**Note**: an question $Q$ can refer to previous dialogue turns. <br>\n",
        "$\\rightarrow$ dialogue history $H$ may be a valuable input to provide the correct answer $A$."
      ]
    },
    {
      "cell_type": "markdown",
      "id": "9b3760b5",
      "metadata": {
        "id": "9b3760b5"
      },
      "source": [
        "### Models\n",
        "\n",
        "We are going to experiment with transformer-based models to define the following models:\n",
        "\n",
        "1.  $A = f_\\theta(Q, P)$\n",
        "\n",
        "2. $A = f_\\theta(Q, P, H)$\n",
        "\n",
        "where $f_\\theta$ is the transformer-based model we have to define with $\\theta$ parameters."
      ]
    },
    {
      "cell_type": "markdown",
      "id": "66cfee64",
      "metadata": {
        "id": "66cfee64"
      },
      "source": [
        "### The CoQA dataset"
      ]
    },
    {
      "cell_type": "markdown",
      "id": "996fa650",
      "metadata": {
        "id": "996fa650"
      },
      "source": [
        "<center>\n",
        "    <img src=\"https://drive.google.com/uc?export=view&id=16vrgyfoV42Z2AQX0QY7LHTfrgektEKKh\" width=\"750\"/>\n",
        "</center>"
      ]
    },
    {
      "cell_type": "markdown",
      "id": "f6e3e7d0",
      "metadata": {
        "id": "f6e3e7d0"
      },
      "source": [
        "For detailed information about the dataset, feel free to check the original [paper](https://arxiv.org/pdf/1808.07042.pdf).\n",
        "\n"
      ]
    },
    {
      "cell_type": "markdown",
      "id": "bfb6c37e",
      "metadata": {
        "id": "bfb6c37e"
      },
      "source": [
        "### Rationales\n",
        "\n",
        "Each QA pair is paired with a rationale $R$: it is a text span extracted from the given text passage $P$. <br>\n",
        "$\\rightarrow$ $R$ is not a requested output, but it can be used as an additional information at training time!"
      ]
    },
    {
      "cell_type": "markdown",
      "id": "daa786e2",
      "metadata": {
        "id": "daa786e2"
      },
      "source": [
        "### Dataset Statistics\n",
        "\n",
        "* **127k** QA pairs.\n",
        "* **8k** conversations.\n",
        "* **7** diverse domains: Children's Stories, Literature, Mid/High School Exams, News, Wikipedia, Reddit, Science.\n",
        "* Average conversation length: **15 turns** (i.e., QA pairs).\n",
        "* Almost **half** of CoQA questions refer back to **conversational history**.\n",
        "* Only **train** and **validation** sets are available."
      ]
    },
    {
      "cell_type": "markdown",
      "id": "d26d68b7",
      "metadata": {
        "id": "d26d68b7"
      },
      "source": [
        "### Dataset snippet\n",
        "\n",
        "The dataset is stored in JSON format. Each dialogue is represented as follows:\n",
        "\n",
        "```\n",
        "{\n",
        "    \"source\": \"mctest\",\n",
        "    \"id\": \"3dr23u6we5exclen4th8uq9rb42tel\",\n",
        "    \"filename\": \"mc160.test.41\",\n",
        "    \"story\": \"Once upon a time, in a barn near a farm house, there lived a little white kitten named Cotton. \n",
        "    Cotton lived high up in a nice warm place above the barn where all of the farmer's horses slept. [...]\" % <-- $P$\n",
        "    \"questions\": [\n",
        "        {\n",
        "            \"input_text\": \"What color was Cotton?\",   % <-- $Q_1$\n",
        "            \"turn_id\": 1\n",
        "        },\n",
        "        {\n",
        "            \"input_text\": \"Where did she live?\",\n",
        "            \"turn_id\": 2\n",
        "        },\n",
        "        [...]\n",
        "    ],\n",
        "    \"answers\": [\n",
        "        {\n",
        "            \"span_start\": 59,   % <-- $R_1$ start index\n",
        "            \"spand_end\": 93,    % <-- $R_1$ end index\n",
        "            \"span_text\": \"a little white kitten named Cotton\",   % <-- $R_1$\n",
        "            \"input_text\" \"white\",   % <-- $A_1$      \n",
        "            \"turn_id\": 1\n",
        "        },\n",
        "        [...]\n",
        "    ]\n",
        "}\n",
        "```"
      ]
    },
    {
      "cell_type": "markdown",
      "id": "72c7558c",
      "metadata": {
        "id": "72c7558c"
      },
      "source": [
        "### Simplifications\n",
        "\n",
        "Each dialogue also contains an additional field ```additional_answers```. For simplicity, we **ignore** this field and only consider one groundtruth answer $A$ and text rationale $R$.\n",
        "\n",
        "CoQA only contains 1.3% of unanswerable questions. For simplicity, we **ignore** those QA pairs."
      ]
    },
    {
      "cell_type": "markdown",
      "id": "7b532042",
      "metadata": {
        "id": "7b532042"
      },
      "source": [
        "## List of tasks"
      ]
    },
    {
      "cell_type": "markdown",
      "id": "e01cdad7",
      "metadata": {
        "id": "e01cdad7"
      },
      "source": [
        "### [Task 1] Remove unaswerable QA pairs \n",
        "\n",
        "Write your own script to remove unaswerable QA pairs from both train and validation sets. "
      ]
    },
    {
      "cell_type": "markdown",
      "id": "f57334e0",
      "metadata": {
        "id": "f57334e0"
      },
      "source": [
        "### [Task 2] Train, Validation and Test splits\n",
        "\n",
        "CoQA only provides a train and validation set since the test set is hidden for evaluation purposes.\n",
        "\n",
        "We'll consider the provided validation set as a test set. <br>\n",
        "$\\rightarrow$ Write your own script to:\n",
        "* Split the train data in train and validation splits (80% train and 20% val)\n",
        "* Perform splits such that a dialogue appears in one split only! (i.e., split at dialogue level)\n",
        "* Perform splitting using the following seed for reproducibility: 42\n",
        "\n",
        "#### Reproducibility Memo\n",
        "\n",
        "Check back tutorial 2 on how to fix a specific random seed for reproducibility!"
      ]
    },
    {
      "cell_type": "markdown",
      "id": "230a21de",
      "metadata": {
        "id": "230a21de"
      },
      "source": [
        "### [Task 3] Model definition\n",
        "\n",
        "Write your own script to define the following transformer-based models from [huggingface](https://HuggingFace.co/).\n",
        "\n",
        "* [M1] DistilRoBERTa (distilberta-base)\n",
        "* [M2] BERTTiny (bert-tiny)\n",
        "\n",
        "**Note**: Remember to install the ```transformers``` python package!\n",
        "\n",
        "**Note**: We consider small transformer models for computational reasons!"
      ]
    },
    {
      "cell_type": "markdown",
      "id": "f1e83f28",
      "metadata": {
        "id": "f1e83f28"
      },
      "source": [
        "### [Task 4] Question generation with text passage $P$ and question $Q$\n",
        "\n",
        "We want to define $f_\\theta(P, Q)$. \n",
        "\n",
        "Write your own script to implement $f_\\theta$ for each model: M1 and M2.\n",
        "\n",
        "#### Formulation\n",
        "\n",
        "Consider a dialogue on text passage $P$. \n",
        "\n",
        "For each question $Q_i$ at dialogue turn $i$, your model should take $P$ and $Q_i$ and generate $A_i$."
      ]
    },
    {
      "cell_type": "markdown",
      "id": "7311ba86",
      "metadata": {
        "id": "7311ba86"
      },
      "source": [
        "### [Task 5] Question generation with text passage $P$, question $Q$ and dialogue history $H$\n",
        "\n",
        "We want to define $f_\\theta(P, Q, H)$. Write your own script to implement $f_\\theta$ for each model: M1 and M2.\n",
        "\n",
        "#### Formulation\n",
        "\n",
        "Consider a dialogue on text passage $P$. \n",
        "\n",
        "For each question $Q_i$ at dialogue turn $i$, your model should take $P$, $Q_i$, and $H = \\{ Q_0, A_0, \\dots, Q_{i-1}, A_{i-1} \\}$ to generate $A_i$."
      ]
    },
    {
      "cell_type": "markdown",
      "id": "b5ac768c",
      "metadata": {
        "id": "b5ac768c"
      },
      "source": [
        "### [Task 6] Train and evaluate $f_\\theta(P, Q)$ and $f_\\theta(P, Q, H)$\n",
        "\n",
        "Write your own script to train and evaluate your $f_\\theta(P, Q)$ and $f_\\theta(P, Q, H)$ models.\n",
        "\n",
        "### Instructions\n",
        "\n",
        "* Perform multiple train/evaluation seed runs: [42, 2022, 1337].$^1$\n",
        "* Evaluate your models with the following metrics: SQUAD F1-score.$^2$\n",
        "* Fine-tune each transformer-based models for **3 epochs**.\n",
        "* Report evaluation SQUAD F1-score computed on the validation and test sets.\n",
        "\n",
        "$^1$ Remember what we said about code reproducibility in Tutorial 2!\n",
        "\n",
        "$^2$ You can use ```allennlp``` python package for a quick implementation of SQUAD F1-score: ```from allennlp_models.rc.tools import squad```. "
      ]
    },
    {
      "cell_type": "markdown",
      "id": "92c7e98f",
      "metadata": {
        "id": "92c7e98f"
      },
      "source": [
        "### [Task 7] Error Analysis\n",
        "\n",
        "Perform a simple and short error analysis as follows:\n",
        "* Group dialogues by ```source``` and report the worst 5 model errors for each source (w.r.t. SQUAD F1-score).\n",
        "* Inspect observed results and try to provide some comments (e.g., do the models make errors when faced with a particular question type?)$^1$\n",
        "\n",
        "$^1$ Check the [paper](https://arxiv.org/pdf/1808.07042.pdf) for some valuable information about question/answer types (e.g., Table 6, Table 8) "
      ]
    },
    {
      "cell_type": "markdown",
      "id": "f6643e14",
      "metadata": {
        "id": "f6643e14"
      },
      "source": [
        "## Dataset Download\n"
      ]
    },
    {
      "cell_type": "code",
      "execution_count": 1,
      "id": "6cZJRT4tU1ms",
      "metadata": {
        "id": "6cZJRT4tU1ms"
      },
      "outputs": [],
      "source": [
        "import os\n",
        "import os.path\n",
        "import json\n",
        "import typing\n",
        "import urllib.request\n",
        "import random\n",
        "import pickle\n",
        "\n",
        "import keras.callbacks\n",
        "import keras.layers\n",
        "import keras.losses\n",
        "import keras.optimizers\n",
        "import keras.regularizers\n",
        "import numpy as np\n",
        "import pandas as pd\n",
        "import tensorflow as tf\n",
        "from tqdm import tqdm"
      ]
    },
    {
      "cell_type": "code",
      "execution_count": 2,
      "id": "358bac70",
      "metadata": {
        "id": "358bac70"
      },
      "outputs": [],
      "source": [
        "class DownloadProgressBar(tqdm):\n",
        "    def update_to(self, b=1, bsize=1, tsize=None):\n",
        "        if tsize is not None:\n",
        "            self.total = tsize\n",
        "        self.update(b * bsize - self.n)\n",
        "        \n",
        "def download_url(url, output_path):\n",
        "    with DownloadProgressBar(unit='B', unit_scale=True,\n",
        "                             miniters=1, desc=url.split('/')[-1]) as t:\n",
        "        urllib.request.urlretrieve(url, filename=output_path, reporthook=t.update_to)\n",
        "\n",
        "def download_data(data_path, url_path, suffix):    \n",
        "    if not os.path.exists(data_path):\n",
        "        os.makedirs(data_path)\n",
        "        \n",
        "    data_path = os.path.join(data_path, f'{suffix}.json')\n",
        "\n",
        "    if not os.path.exists(data_path):\n",
        "        print(f\"Downloading CoQA {suffix} data split... (it may take a while)\")\n",
        "        download_url(url=url_path, output_path=data_path)\n",
        "        print(\"Download completed!\")"
      ]
    },
    {
      "cell_type": "code",
      "execution_count": 3,
      "id": "5f6ab3ff",
      "metadata": {
        "id": "5f6ab3ff",
        "colab": {
          "base_uri": "https://localhost:8080/"
        },
        "outputId": "f6065fff-48ec-421a-bd97-839441df5976"
      },
      "outputs": [
        {
          "output_type": "stream",
          "name": "stdout",
          "text": [
            "Downloading CoQA train data split... (it may take a while)\n"
          ]
        },
        {
          "output_type": "stream",
          "name": "stderr",
          "text": [
            "coqa-train-v1.0.json: 49.0MB [00:06, 7.88MB/s]                            \n"
          ]
        },
        {
          "output_type": "stream",
          "name": "stdout",
          "text": [
            "Download completed!\n",
            "Downloading CoQA test data split... (it may take a while)\n"
          ]
        },
        {
          "output_type": "stream",
          "name": "stderr",
          "text": [
            "coqa-dev-v1.0.json: 9.09MB [00:01, 6.77MB/s]                            "
          ]
        },
        {
          "output_type": "stream",
          "name": "stdout",
          "text": [
            "Download completed!\n"
          ]
        },
        {
          "output_type": "stream",
          "name": "stderr",
          "text": [
            "\n"
          ]
        }
      ],
      "source": [
        "# Train data\n",
        "train_url = \"https://nlp.stanford.edu/data/coqa/coqa-train-v1.0.json\"\n",
        "download_data(data_path='coqa', url_path=train_url, suffix='train')\n",
        "\n",
        "# Test data\n",
        "test_url = \"https://nlp.stanford.edu/data/coqa/coqa-dev-v1.0.json\"\n",
        "download_data(data_path='coqa', url_path=test_url, suffix='test')  # <-- Why test? See next slides for an answer!"
      ]
    },
    {
      "cell_type": "markdown",
      "id": "bddb1b09",
      "metadata": {
        "id": "bddb1b09"
      },
      "source": [
        "## Create the dataframe, inspect the data and do some preprocessing [TASK 1, TASK 2]"
      ]
    },
    {
      "cell_type": "code",
      "execution_count": 4,
      "id": "89e33d91",
      "metadata": {
        "id": "89e33d91"
      },
      "outputs": [],
      "source": [
        "train_path = './coqa/train.json'\n",
        "test_path = './coqa/test.json'\n",
        "\n",
        "with open(train_path, 'r') as f:\n",
        "    train_json = json.load(f)\n",
        "\n",
        "with open(test_path, 'r') as f:\n",
        "    test_json = json.load(f)\n"
      ]
    },
    {
      "cell_type": "markdown",
      "id": "JARrWA8lmPO_",
      "metadata": {
        "id": "JARrWA8lmPO_"
      },
      "source": [
        "Given that the dataset is provided as a json file we decided to unpack it with a first rough operation creating a column of a DataFrame for each key of the dictionary."
      ]
    },
    {
      "cell_type": "code",
      "execution_count": 5,
      "id": "9a10f052",
      "metadata": {
        "colab": {
          "base_uri": "https://localhost:8080/",
          "height": 0
        },
        "id": "9a10f052",
        "outputId": "45ba7928-6016-42c8-a5ff-55399a39f4e0"
      },
      "outputs": [
        {
          "output_type": "execute_result",
          "data": {
            "text/plain": [
              "      source                              id  \\\n",
              "0  wikipedia  3zotghdk5ibi9cex97fepx7jetpso7   \n",
              "1        cnn  3wj1oxy92agboo5nlq4r7bndc3t8a8   \n",
              "2  gutenberg  3bdcf01ogxu7zdn9vlrbf2rqzwplyf   \n",
              "3        cnn  3ewijtffvo7wwchw6rtyaf7mfwte0p   \n",
              "4  gutenberg  3urfvvm165iantk80llvkwwbjs7uzh   \n",
              "\n",
              "                                            filename  \\\n",
              "0                                Vatican_Library.txt   \n",
              "1  cnn_fe05c61a7e48461f7883cdec387567029614f07b.s...   \n",
              "2  data/gutenberg/txt/Zane Grey___Riders of the P...   \n",
              "3  cnn_0c518067e0df811501e46b2e1cd1ce511f1645b7.s...   \n",
              "4  data/gutenberg/txt/Rafael Sabatini___Love-at-A...   \n",
              "\n",
              "                                               story  \\\n",
              "0  The Vatican Apostolic Library (), more commonl...   \n",
              "1  New York (CNN) -- More than 80 Michael Jackson...   \n",
              "2  CHAPTER VII. THE DAUGHTER OF WITHERSTEEN \\n\\n\"...   \n",
              "3  (CNN) -- The longest-running holiday special s...   \n",
              "4  CHAPTER XXIV. THE INTERRUPTED MASS \\n\\nThe mor...   \n",
              "\n",
              "                                           questions  \\\n",
              "0  [{'input_text': 'When was the Vat formally ope...   \n",
              "1  [{'input_text': 'Where was the Auction held?',...   \n",
              "2  [{'input_text': 'What did Venters call Lassite...   \n",
              "3  [{'input_text': 'Who is Rudolph's father?', 't...   \n",
              "4  [{'input_text': 'Who arrived at the church?', ...   \n",
              "\n",
              "                                             answers  \\\n",
              "0  [{'span_start': 151, 'span_end': 179, 'span_te...   \n",
              "1  [{'span_start': 243, 'span_end': 284, 'span_te...   \n",
              "2  [{'span_start': 841, 'span_end': 880, 'span_te...   \n",
              "3  [{'span_start': 500, 'span_end': 557, 'span_te...   \n",
              "4  [{'span_start': 254, 'span_end': 297, 'span_te...   \n",
              "\n",
              "                                                name  \n",
              "0                                Vatican_Library.txt  \n",
              "1  cnn_fe05c61a7e48461f7883cdec387567029614f07b.s...  \n",
              "2  data/gutenberg/txt/Zane Grey___Riders of the P...  \n",
              "3  cnn_0c518067e0df811501e46b2e1cd1ce511f1645b7.s...  \n",
              "4  data/gutenberg/txt/Rafael Sabatini___Love-at-A...  "
            ],
            "text/html": [
              "\n",
              "  <div id=\"df-ef64d57e-b8b5-48e6-a84e-6ba3ae61b243\">\n",
              "    <div class=\"colab-df-container\">\n",
              "      <div>\n",
              "<style scoped>\n",
              "    .dataframe tbody tr th:only-of-type {\n",
              "        vertical-align: middle;\n",
              "    }\n",
              "\n",
              "    .dataframe tbody tr th {\n",
              "        vertical-align: top;\n",
              "    }\n",
              "\n",
              "    .dataframe thead th {\n",
              "        text-align: right;\n",
              "    }\n",
              "</style>\n",
              "<table border=\"1\" class=\"dataframe\">\n",
              "  <thead>\n",
              "    <tr style=\"text-align: right;\">\n",
              "      <th></th>\n",
              "      <th>source</th>\n",
              "      <th>id</th>\n",
              "      <th>filename</th>\n",
              "      <th>story</th>\n",
              "      <th>questions</th>\n",
              "      <th>answers</th>\n",
              "      <th>name</th>\n",
              "    </tr>\n",
              "  </thead>\n",
              "  <tbody>\n",
              "    <tr>\n",
              "      <th>0</th>\n",
              "      <td>wikipedia</td>\n",
              "      <td>3zotghdk5ibi9cex97fepx7jetpso7</td>\n",
              "      <td>Vatican_Library.txt</td>\n",
              "      <td>The Vatican Apostolic Library (), more commonl...</td>\n",
              "      <td>[{'input_text': 'When was the Vat formally ope...</td>\n",
              "      <td>[{'span_start': 151, 'span_end': 179, 'span_te...</td>\n",
              "      <td>Vatican_Library.txt</td>\n",
              "    </tr>\n",
              "    <tr>\n",
              "      <th>1</th>\n",
              "      <td>cnn</td>\n",
              "      <td>3wj1oxy92agboo5nlq4r7bndc3t8a8</td>\n",
              "      <td>cnn_fe05c61a7e48461f7883cdec387567029614f07b.s...</td>\n",
              "      <td>New York (CNN) -- More than 80 Michael Jackson...</td>\n",
              "      <td>[{'input_text': 'Where was the Auction held?',...</td>\n",
              "      <td>[{'span_start': 243, 'span_end': 284, 'span_te...</td>\n",
              "      <td>cnn_fe05c61a7e48461f7883cdec387567029614f07b.s...</td>\n",
              "    </tr>\n",
              "    <tr>\n",
              "      <th>2</th>\n",
              "      <td>gutenberg</td>\n",
              "      <td>3bdcf01ogxu7zdn9vlrbf2rqzwplyf</td>\n",
              "      <td>data/gutenberg/txt/Zane Grey___Riders of the P...</td>\n",
              "      <td>CHAPTER VII. THE DAUGHTER OF WITHERSTEEN \\n\\n\"...</td>\n",
              "      <td>[{'input_text': 'What did Venters call Lassite...</td>\n",
              "      <td>[{'span_start': 841, 'span_end': 880, 'span_te...</td>\n",
              "      <td>data/gutenberg/txt/Zane Grey___Riders of the P...</td>\n",
              "    </tr>\n",
              "    <tr>\n",
              "      <th>3</th>\n",
              "      <td>cnn</td>\n",
              "      <td>3ewijtffvo7wwchw6rtyaf7mfwte0p</td>\n",
              "      <td>cnn_0c518067e0df811501e46b2e1cd1ce511f1645b7.s...</td>\n",
              "      <td>(CNN) -- The longest-running holiday special s...</td>\n",
              "      <td>[{'input_text': 'Who is Rudolph's father?', 't...</td>\n",
              "      <td>[{'span_start': 500, 'span_end': 557, 'span_te...</td>\n",
              "      <td>cnn_0c518067e0df811501e46b2e1cd1ce511f1645b7.s...</td>\n",
              "    </tr>\n",
              "    <tr>\n",
              "      <th>4</th>\n",
              "      <td>gutenberg</td>\n",
              "      <td>3urfvvm165iantk80llvkwwbjs7uzh</td>\n",
              "      <td>data/gutenberg/txt/Rafael Sabatini___Love-at-A...</td>\n",
              "      <td>CHAPTER XXIV. THE INTERRUPTED MASS \\n\\nThe mor...</td>\n",
              "      <td>[{'input_text': 'Who arrived at the church?', ...</td>\n",
              "      <td>[{'span_start': 254, 'span_end': 297, 'span_te...</td>\n",
              "      <td>data/gutenberg/txt/Rafael Sabatini___Love-at-A...</td>\n",
              "    </tr>\n",
              "  </tbody>\n",
              "</table>\n",
              "</div>\n",
              "      <button class=\"colab-df-convert\" onclick=\"convertToInteractive('df-ef64d57e-b8b5-48e6-a84e-6ba3ae61b243')\"\n",
              "              title=\"Convert this dataframe to an interactive table.\"\n",
              "              style=\"display:none;\">\n",
              "        \n",
              "  <svg xmlns=\"http://www.w3.org/2000/svg\" height=\"24px\"viewBox=\"0 0 24 24\"\n",
              "       width=\"24px\">\n",
              "    <path d=\"M0 0h24v24H0V0z\" fill=\"none\"/>\n",
              "    <path d=\"M18.56 5.44l.94 2.06.94-2.06 2.06-.94-2.06-.94-.94-2.06-.94 2.06-2.06.94zm-11 1L8.5 8.5l.94-2.06 2.06-.94-2.06-.94L8.5 2.5l-.94 2.06-2.06.94zm10 10l.94 2.06.94-2.06 2.06-.94-2.06-.94-.94-2.06-.94 2.06-2.06.94z\"/><path d=\"M17.41 7.96l-1.37-1.37c-.4-.4-.92-.59-1.43-.59-.52 0-1.04.2-1.43.59L10.3 9.45l-7.72 7.72c-.78.78-.78 2.05 0 2.83L4 21.41c.39.39.9.59 1.41.59.51 0 1.02-.2 1.41-.59l7.78-7.78 2.81-2.81c.8-.78.8-2.07 0-2.86zM5.41 20L4 18.59l7.72-7.72 1.47 1.35L5.41 20z\"/>\n",
              "  </svg>\n",
              "      </button>\n",
              "      \n",
              "  <style>\n",
              "    .colab-df-container {\n",
              "      display:flex;\n",
              "      flex-wrap:wrap;\n",
              "      gap: 12px;\n",
              "    }\n",
              "\n",
              "    .colab-df-convert {\n",
              "      background-color: #E8F0FE;\n",
              "      border: none;\n",
              "      border-radius: 50%;\n",
              "      cursor: pointer;\n",
              "      display: none;\n",
              "      fill: #1967D2;\n",
              "      height: 32px;\n",
              "      padding: 0 0 0 0;\n",
              "      width: 32px;\n",
              "    }\n",
              "\n",
              "    .colab-df-convert:hover {\n",
              "      background-color: #E2EBFA;\n",
              "      box-shadow: 0px 1px 2px rgba(60, 64, 67, 0.3), 0px 1px 3px 1px rgba(60, 64, 67, 0.15);\n",
              "      fill: #174EA6;\n",
              "    }\n",
              "\n",
              "    [theme=dark] .colab-df-convert {\n",
              "      background-color: #3B4455;\n",
              "      fill: #D2E3FC;\n",
              "    }\n",
              "\n",
              "    [theme=dark] .colab-df-convert:hover {\n",
              "      background-color: #434B5C;\n",
              "      box-shadow: 0px 1px 3px 1px rgba(0, 0, 0, 0.15);\n",
              "      filter: drop-shadow(0px 1px 2px rgba(0, 0, 0, 0.3));\n",
              "      fill: #FFFFFF;\n",
              "    }\n",
              "  </style>\n",
              "\n",
              "      <script>\n",
              "        const buttonEl =\n",
              "          document.querySelector('#df-ef64d57e-b8b5-48e6-a84e-6ba3ae61b243 button.colab-df-convert');\n",
              "        buttonEl.style.display =\n",
              "          google.colab.kernel.accessAllowed ? 'block' : 'none';\n",
              "\n",
              "        async function convertToInteractive(key) {\n",
              "          const element = document.querySelector('#df-ef64d57e-b8b5-48e6-a84e-6ba3ae61b243');\n",
              "          const dataTable =\n",
              "            await google.colab.kernel.invokeFunction('convertToInteractive',\n",
              "                                                     [key], {});\n",
              "          if (!dataTable) return;\n",
              "\n",
              "          const docLinkHtml = 'Like what you see? Visit the ' +\n",
              "            '<a target=\"_blank\" href=https://colab.research.google.com/notebooks/data_table.ipynb>data table notebook</a>'\n",
              "            + ' to learn more about interactive tables.';\n",
              "          element.innerHTML = '';\n",
              "          dataTable['output_type'] = 'display_data';\n",
              "          await google.colab.output.renderOutput(dataTable, element);\n",
              "          const docLink = document.createElement('div');\n",
              "          docLink.innerHTML = docLinkHtml;\n",
              "          element.appendChild(docLink);\n",
              "        }\n",
              "      </script>\n",
              "    </div>\n",
              "  </div>\n",
              "  "
            ]
          },
          "metadata": {},
          "execution_count": 5
        }
      ],
      "source": [
        "df_train = pd.json_normalize(train_json['data'])\n",
        "df_test = pd.json_normalize(test_json['data'])\n",
        "# We need a different DataFrame that consider also the 'source' for the final evaluation\n",
        "df_final_evaluation = df_test.copy()\n",
        "\n",
        "df_train.head()"
      ]
    },
    {
      "cell_type": "markdown",
      "id": "9tsuAVrvmi9h",
      "metadata": {
        "id": "9tsuAVrvmi9h"
      },
      "source": [
        "As we can see, the sources for the dialogues are only five and they provide almost the same number of dialogues, apart from 'mctest'"
      ]
    },
    {
      "cell_type": "code",
      "execution_count": 6,
      "id": "eEdxQ5ALm4tu",
      "metadata": {
        "colab": {
          "base_uri": "https://localhost:8080/"
        },
        "id": "eEdxQ5ALm4tu",
        "outputId": "e7d85291-522b-4791-fa5c-e6da582c5e9f"
      },
      "outputs": [
        {
          "output_type": "execute_result",
          "data": {
            "text/plain": [
              "race         1711\n",
              "cnn          1702\n",
              "wikipedia    1621\n",
              "gutenberg    1615\n",
              "mctest        550\n",
              "Name: source, dtype: int64"
            ]
          },
          "metadata": {},
          "execution_count": 6
        }
      ],
      "source": [
        "df_train['source'].value_counts()"
      ]
    },
    {
      "cell_type": "markdown",
      "id": "3qaItcj1neoE",
      "metadata": {
        "id": "3qaItcj1neoE"
      },
      "source": [
        "We can also explore the number of dialogues and the average lenght of question-answer pairs for the training set."
      ]
    },
    {
      "cell_type": "code",
      "execution_count": 7,
      "id": "H4HKsw8jnlZm",
      "metadata": {
        "colab": {
          "base_uri": "https://localhost:8080/"
        },
        "id": "H4HKsw8jnlZm",
        "outputId": "9a8e4936-20f7-494e-e537-23ea51757ed3"
      },
      "outputs": [
        {
          "output_type": "stream",
          "name": "stdout",
          "text": [
            "- The training set contains 7199 dialogues.\n",
            "\n",
            "- On average we have 15.09 question-answer pairs for each dialogue.\n"
          ]
        }
      ],
      "source": [
        "print(f\"- The training set contains {len(df_train)} dialogues.\\n\")\n",
        "print(f\"- On average we have {round(df_train['questions'].apply(lambda x: len(x)).mean(),2)}\"\n",
        "      f\" question-answer pairs for each dialogue.\")"
      ]
    },
    {
      "cell_type": "markdown",
      "id": "730969bf",
      "metadata": {
        "id": "730969bf"
      },
      "source": [
        "In the dataset above we have some features that are not useful for our task therefore we decided to remove them and we remained with the story for each dialogue, the questions and the relative answers."
      ]
    },
    {
      "cell_type": "code",
      "execution_count": 8,
      "id": "af8558f0",
      "metadata": {
        "id": "af8558f0"
      },
      "outputs": [],
      "source": [
        "features_to_remove = ['source', 'id', 'filename', 'name']\n",
        "features_to_remove_test = features_to_remove + [f'additional_answers.{i}' for i in range(3)]\n",
        "\n",
        "df_train.drop(features_to_remove, axis=1, inplace=True)\n",
        "df_test.drop(features_to_remove_test, axis=1, inplace=True)\n",
        "df_final_evaluation.drop(features_to_remove_test[1:], axis=1, inplace=True)"
      ]
    },
    {
      "cell_type": "code",
      "execution_count": 9,
      "id": "6bce7aec",
      "metadata": {
        "colab": {
          "base_uri": "https://localhost:8080/",
          "height": 0
        },
        "id": "6bce7aec",
        "outputId": "8793afb5-8fe5-4355-a34a-46612e35c69b"
      },
      "outputs": [
        {
          "output_type": "execute_result",
          "data": {
            "text/plain": [
              "                                               story  \\\n",
              "0  The Vatican Apostolic Library (), more commonl...   \n",
              "1  New York (CNN) -- More than 80 Michael Jackson...   \n",
              "2  CHAPTER VII. THE DAUGHTER OF WITHERSTEEN \\n\\n\"...   \n",
              "3  (CNN) -- The longest-running holiday special s...   \n",
              "4  CHAPTER XXIV. THE INTERRUPTED MASS \\n\\nThe mor...   \n",
              "\n",
              "                                           questions  \\\n",
              "0  [{'input_text': 'When was the Vat formally ope...   \n",
              "1  [{'input_text': 'Where was the Auction held?',...   \n",
              "2  [{'input_text': 'What did Venters call Lassite...   \n",
              "3  [{'input_text': 'Who is Rudolph's father?', 't...   \n",
              "4  [{'input_text': 'Who arrived at the church?', ...   \n",
              "\n",
              "                                             answers  \n",
              "0  [{'span_start': 151, 'span_end': 179, 'span_te...  \n",
              "1  [{'span_start': 243, 'span_end': 284, 'span_te...  \n",
              "2  [{'span_start': 841, 'span_end': 880, 'span_te...  \n",
              "3  [{'span_start': 500, 'span_end': 557, 'span_te...  \n",
              "4  [{'span_start': 254, 'span_end': 297, 'span_te...  "
            ],
            "text/html": [
              "\n",
              "  <div id=\"df-67891345-96ae-4b37-a7ac-6d8e51ab9be1\">\n",
              "    <div class=\"colab-df-container\">\n",
              "      <div>\n",
              "<style scoped>\n",
              "    .dataframe tbody tr th:only-of-type {\n",
              "        vertical-align: middle;\n",
              "    }\n",
              "\n",
              "    .dataframe tbody tr th {\n",
              "        vertical-align: top;\n",
              "    }\n",
              "\n",
              "    .dataframe thead th {\n",
              "        text-align: right;\n",
              "    }\n",
              "</style>\n",
              "<table border=\"1\" class=\"dataframe\">\n",
              "  <thead>\n",
              "    <tr style=\"text-align: right;\">\n",
              "      <th></th>\n",
              "      <th>story</th>\n",
              "      <th>questions</th>\n",
              "      <th>answers</th>\n",
              "    </tr>\n",
              "  </thead>\n",
              "  <tbody>\n",
              "    <tr>\n",
              "      <th>0</th>\n",
              "      <td>The Vatican Apostolic Library (), more commonl...</td>\n",
              "      <td>[{'input_text': 'When was the Vat formally ope...</td>\n",
              "      <td>[{'span_start': 151, 'span_end': 179, 'span_te...</td>\n",
              "    </tr>\n",
              "    <tr>\n",
              "      <th>1</th>\n",
              "      <td>New York (CNN) -- More than 80 Michael Jackson...</td>\n",
              "      <td>[{'input_text': 'Where was the Auction held?',...</td>\n",
              "      <td>[{'span_start': 243, 'span_end': 284, 'span_te...</td>\n",
              "    </tr>\n",
              "    <tr>\n",
              "      <th>2</th>\n",
              "      <td>CHAPTER VII. THE DAUGHTER OF WITHERSTEEN \\n\\n\"...</td>\n",
              "      <td>[{'input_text': 'What did Venters call Lassite...</td>\n",
              "      <td>[{'span_start': 841, 'span_end': 880, 'span_te...</td>\n",
              "    </tr>\n",
              "    <tr>\n",
              "      <th>3</th>\n",
              "      <td>(CNN) -- The longest-running holiday special s...</td>\n",
              "      <td>[{'input_text': 'Who is Rudolph's father?', 't...</td>\n",
              "      <td>[{'span_start': 500, 'span_end': 557, 'span_te...</td>\n",
              "    </tr>\n",
              "    <tr>\n",
              "      <th>4</th>\n",
              "      <td>CHAPTER XXIV. THE INTERRUPTED MASS \\n\\nThe mor...</td>\n",
              "      <td>[{'input_text': 'Who arrived at the church?', ...</td>\n",
              "      <td>[{'span_start': 254, 'span_end': 297, 'span_te...</td>\n",
              "    </tr>\n",
              "  </tbody>\n",
              "</table>\n",
              "</div>\n",
              "      <button class=\"colab-df-convert\" onclick=\"convertToInteractive('df-67891345-96ae-4b37-a7ac-6d8e51ab9be1')\"\n",
              "              title=\"Convert this dataframe to an interactive table.\"\n",
              "              style=\"display:none;\">\n",
              "        \n",
              "  <svg xmlns=\"http://www.w3.org/2000/svg\" height=\"24px\"viewBox=\"0 0 24 24\"\n",
              "       width=\"24px\">\n",
              "    <path d=\"M0 0h24v24H0V0z\" fill=\"none\"/>\n",
              "    <path d=\"M18.56 5.44l.94 2.06.94-2.06 2.06-.94-2.06-.94-.94-2.06-.94 2.06-2.06.94zm-11 1L8.5 8.5l.94-2.06 2.06-.94-2.06-.94L8.5 2.5l-.94 2.06-2.06.94zm10 10l.94 2.06.94-2.06 2.06-.94-2.06-.94-.94-2.06-.94 2.06-2.06.94z\"/><path d=\"M17.41 7.96l-1.37-1.37c-.4-.4-.92-.59-1.43-.59-.52 0-1.04.2-1.43.59L10.3 9.45l-7.72 7.72c-.78.78-.78 2.05 0 2.83L4 21.41c.39.39.9.59 1.41.59.51 0 1.02-.2 1.41-.59l7.78-7.78 2.81-2.81c.8-.78.8-2.07 0-2.86zM5.41 20L4 18.59l7.72-7.72 1.47 1.35L5.41 20z\"/>\n",
              "  </svg>\n",
              "      </button>\n",
              "      \n",
              "  <style>\n",
              "    .colab-df-container {\n",
              "      display:flex;\n",
              "      flex-wrap:wrap;\n",
              "      gap: 12px;\n",
              "    }\n",
              "\n",
              "    .colab-df-convert {\n",
              "      background-color: #E8F0FE;\n",
              "      border: none;\n",
              "      border-radius: 50%;\n",
              "      cursor: pointer;\n",
              "      display: none;\n",
              "      fill: #1967D2;\n",
              "      height: 32px;\n",
              "      padding: 0 0 0 0;\n",
              "      width: 32px;\n",
              "    }\n",
              "\n",
              "    .colab-df-convert:hover {\n",
              "      background-color: #E2EBFA;\n",
              "      box-shadow: 0px 1px 2px rgba(60, 64, 67, 0.3), 0px 1px 3px 1px rgba(60, 64, 67, 0.15);\n",
              "      fill: #174EA6;\n",
              "    }\n",
              "\n",
              "    [theme=dark] .colab-df-convert {\n",
              "      background-color: #3B4455;\n",
              "      fill: #D2E3FC;\n",
              "    }\n",
              "\n",
              "    [theme=dark] .colab-df-convert:hover {\n",
              "      background-color: #434B5C;\n",
              "      box-shadow: 0px 1px 3px 1px rgba(0, 0, 0, 0.15);\n",
              "      filter: drop-shadow(0px 1px 2px rgba(0, 0, 0, 0.3));\n",
              "      fill: #FFFFFF;\n",
              "    }\n",
              "  </style>\n",
              "\n",
              "      <script>\n",
              "        const buttonEl =\n",
              "          document.querySelector('#df-67891345-96ae-4b37-a7ac-6d8e51ab9be1 button.colab-df-convert');\n",
              "        buttonEl.style.display =\n",
              "          google.colab.kernel.accessAllowed ? 'block' : 'none';\n",
              "\n",
              "        async function convertToInteractive(key) {\n",
              "          const element = document.querySelector('#df-67891345-96ae-4b37-a7ac-6d8e51ab9be1');\n",
              "          const dataTable =\n",
              "            await google.colab.kernel.invokeFunction('convertToInteractive',\n",
              "                                                     [key], {});\n",
              "          if (!dataTable) return;\n",
              "\n",
              "          const docLinkHtml = 'Like what you see? Visit the ' +\n",
              "            '<a target=\"_blank\" href=https://colab.research.google.com/notebooks/data_table.ipynb>data table notebook</a>'\n",
              "            + ' to learn more about interactive tables.';\n",
              "          element.innerHTML = '';\n",
              "          dataTable['output_type'] = 'display_data';\n",
              "          await google.colab.output.renderOutput(dataTable, element);\n",
              "          const docLink = document.createElement('div');\n",
              "          docLink.innerHTML = docLinkHtml;\n",
              "          element.appendChild(docLink);\n",
              "        }\n",
              "      </script>\n",
              "    </div>\n",
              "  </div>\n",
              "  "
            ]
          },
          "metadata": {},
          "execution_count": 9
        }
      ],
      "source": [
        "df_train.head()"
      ]
    },
    {
      "cell_type": "markdown",
      "id": "9cd3b662",
      "metadata": {
        "id": "9cd3b662"
      },
      "source": [
        "At this point we can split the dataset in training and validation as stated in the assignment, we do that operation here because the questions are still grouped in dialogues therefore we put all the questions from one dialogue either in validation or in the training set, as specified in ***Task 2***."
      ]
    },
    {
      "cell_type": "code",
      "execution_count": 10,
      "id": "IGstSaVRpVLh",
      "metadata": {
        "id": "IGstSaVRpVLh"
      },
      "outputs": [],
      "source": [
        "seeds = [42, 2022, 1337]\n",
        "\n",
        "def set_reproducibility(seed):\n",
        "    random.seed(seed)\n",
        "    np.random.seed(seed)\n",
        "    tf.random.set_seed(seed)\n",
        "    os.environ['TF_DETERMINISTIC_OPS'] = '1'"
      ]
    },
    {
      "cell_type": "code",
      "execution_count": 11,
      "id": "AK-cFhGWwTvv",
      "metadata": {
        "id": "AK-cFhGWwTvv"
      },
      "outputs": [],
      "source": [
        "def split_train_validation(df: pd.DataFrame, val_size: float=0.2) -> typing.Tuple[pd.DataFrame, pd.DataFrame]:\n",
        "    '''\n",
        "        It takes as input a dataframe and it splits it in 2 dataframes considering the \n",
        "        'val_size' parameter. \n",
        "    '''\n",
        "\n",
        "    validation = df.sample(frac=val_size) \n",
        "    training = df.drop(validation.index)\n",
        "\n",
        "    assert training is not None, \"The dataframe is None\"\n",
        "    # It shuffles the training set dialogues\n",
        "    training = training.sample(frac=1)\n",
        "\n",
        "    return training.reset_index(drop=True), validation.reset_index(drop=True)"
      ]
    },
    {
      "cell_type": "markdown",
      "id": "6u_lmheKo0vK",
      "metadata": {
        "id": "6u_lmheKo0vK"
      },
      "source": [
        "Before splitting the training data in training and validation set we set the seed 42 for the reproducibility as requested."
      ]
    },
    {
      "cell_type": "code",
      "execution_count": 12,
      "id": "a63f6ff1",
      "metadata": {
        "colab": {
          "base_uri": "https://localhost:8080/"
        },
        "id": "a63f6ff1",
        "outputId": "36c13d64-211f-4725-cd26-aec717b048f7"
      },
      "outputs": [
        {
          "output_type": "stream",
          "name": "stdout",
          "text": [
            "The dimensions of the datasets are:\n",
            "Training dataset -> (5759, 3) - Validation dataset -> (1440, 3)\n"
          ]
        }
      ],
      "source": [
        "set_reproducibility(seeds[0])\n",
        "df_train, df_val = split_train_validation(df_train, 0.2)\n",
        "print(f\"The dimensions of the datasets are:\\n\"\n",
        "     f\"Training dataset -> {df_train.shape} - Validation dataset -> {df_val.shape}\")"
      ]
    },
    {
      "cell_type": "markdown",
      "id": "JD_WpQG4pOGS",
      "metadata": {
        "id": "JD_WpQG4pOGS"
      },
      "source": [
        "We still have to unpack the array of questions and answers in order to create a row for each single element and we need to remove the unanswerable questions from the data.\n",
        "- The first function is a helper that allows us to create different rows of a DataFrame from a list of questions. \n",
        "- The second one is used to remove the unanswerable questions from the data, a question is ***unanswerable*** if the 'span_start' feature is -1."
      ]
    },
    {
      "cell_type": "code",
      "execution_count": 13,
      "id": "be70ee1a",
      "metadata": {
        "id": "be70ee1a"
      },
      "outputs": [],
      "source": [
        "def expand_lists(df: pd.DataFrame, to_drop: typing.List[str]=[],\n",
        "                 for_eval: bool=False) -> pd.DataFrame:\n",
        "    '''\n",
        "        Given a Pandas dataframe it returns a new dataframe with the expansion of\n",
        "        the questions and the answers and removing the desired columns.\n",
        "    '''\n",
        "    if for_eval:\n",
        "        # Add also the 'source' feature\n",
        "        assert 'source' in df.columns, \"The DataFrame has not the 'source' feature\"\n",
        "        questions = [{'source': df.source[i], 'story':df.story[i], **quest} \n",
        "                        for i, lis in enumerate(df.questions) for quest in lis]\n",
        "    else:\n",
        "        # Create a dictionary with the story and the other features for each question\n",
        "        questions = [{'story':df.story[i], **quest} for i, lis in enumerate(df.questions) for quest in lis]\n",
        "\n",
        "    answers = [ans for lis in df.answers for ans in lis]\n",
        "\n",
        "    # Create a DataFrame from the previous dictionaries and remove useless features\n",
        "    X = pd.DataFrame.from_dict(questions, orient=\"columns\").drop(to_drop, axis=1)\n",
        "    y = pd.DataFrame.from_dict(answers, orient=\"columns\").drop(to_drop, axis=1)\n",
        "\n",
        "    assert X is not None and y is not None, \"The dataframe is None\"\n",
        "    \n",
        "    X.rename(columns={'input_text':'questions'}, inplace=True)\n",
        "    y.rename(columns={'input_text':'answers'}, inplace=True)\n",
        "    \n",
        "    return pd.concat([X, y], axis=1)\n",
        "\n",
        "\n",
        "def remove_unanswerable(df: pd.DataFrame, verbose:bool=True) -> pd.DataFrame:\n",
        "    '''\n",
        "        It removes the unanswerable questions from the passed DataFrame\n",
        "        removing the elements with 'span_start' < 0\n",
        "    '''\n",
        "\n",
        "    target = 'span_start'\n",
        "    if target not in df.columns:\n",
        "        print(\n",
        "            \"WARNING: the DataFrame doesn't have the 'span_start' column, the\"\n",
        "            \" function will return the DataFrame without changes.\"\n",
        "            )\n",
        "        return df\n",
        "        \n",
        "    uns_rows = df[target] > 0\n",
        "    if verbose:\n",
        "        print(\n",
        "            f\"{len(df) - len(df[uns_rows])} unanswerable questions has been removed\"\n",
        "             \" from the DataFrame.\"\n",
        "            )\n",
        "    return df[uns_rows].reset_index(drop=True)"
      ]
    },
    {
      "cell_type": "markdown",
      "id": "u1ufKLEVpgE8",
      "metadata": {
        "id": "u1ufKLEVpgE8"
      },
      "source": [
        "In order to make the code as ordered as possible we implemented a unique function for the preprocessing that we need to apply on the different DataFrames. It simply calls the 2 previous functions on the passed DataFrame, it removes the features about the spans and it returns the new DataFrame."
      ]
    },
    {
      "cell_type": "code",
      "execution_count": 14,
      "id": "VEPGym-Q-d6K",
      "metadata": {
        "id": "VEPGym-Q-d6K"
      },
      "outputs": [],
      "source": [
        "def data_preprocessing(df: pd.DataFrame, to_drop: typing.List[str]=[],\n",
        "                       for_eval: bool=False) -> pd.DataFrame:\n",
        "    '''\n",
        "        This function creates a DataFrame with a column for the 'story', one\n",
        "        for the 'questions' and another for the 'answers' and it removes the\n",
        "        unanswerable questions.\n",
        "        Parameters:\n",
        "            - df : pd.DataFrame\n",
        "                The structure on which performing the operations.\n",
        "            - to_drop: list[str]\n",
        "                The names of the columns to drop.\n",
        "            - for_eval: bool\n",
        "                If the expand_lists function has to be run in evaluation mode,\n",
        "                so we preserve the 'source' feature.\n",
        "                \n",
        "        Returns:\n",
        "            pandas.Dataframe\n",
        "                The modified dataframe.\n",
        "    '''\n",
        "    new_df = expand_lists(df, to_drop, for_eval)\n",
        "    new_df = remove_unanswerable(new_df)\n",
        "\n",
        "    span_feat = ['span_start', 'span_end', 'span_text']\n",
        "    new_df.drop(span_feat, axis=1, inplace=True)\n",
        "\n",
        "    return new_df"
      ]
    },
    {
      "cell_type": "code",
      "execution_count": 15,
      "id": "6e6f82ee",
      "metadata": {
        "colab": {
          "base_uri": "https://localhost:8080/"
        },
        "id": "6e6f82ee",
        "outputId": "4584ebd8-6288-4d1a-d603-41ee811e8927"
      },
      "outputs": [
        {
          "output_type": "stream",
          "name": "stdout",
          "text": [
            "3490 unanswerable questions has been removed from the DataFrame.\n",
            "900 unanswerable questions has been removed from the DataFrame.\n",
            "288 unanswerable questions has been removed from the DataFrame.\n",
            "288 unanswerable questions has been removed from the DataFrame.\n",
            "\n",
            "The training set has 83408 samples, the validation set has 20849 samplesand the test set has 7695 samples.\n"
          ]
        }
      ],
      "source": [
        "df_train = data_preprocessing(df_train, to_drop=['turn_id', 'bad_turn'])\n",
        "df_val = data_preprocessing(df_val, to_drop=['turn_id', 'bad_turn'])\n",
        "df_test = data_preprocessing(df_test, to_drop=['turn_id'])\n",
        "df_final_evaluation = data_preprocessing(df_final_evaluation, to_drop=['turn_id'], for_eval=True)\n",
        "\n",
        "print(f\"\\nThe training set has {len(df_train)} samples, the validation set has {len(df_val)} samples\"\n",
        "      f\"and the test set has {len(df_test)} samples.\")"
      ]
    },
    {
      "cell_type": "markdown",
      "id": "aWpccDgqEVbs",
      "metadata": {
        "id": "aWpccDgqEVbs"
      },
      "source": [
        "At this moment the DataFrame looks like this:"
      ]
    },
    {
      "cell_type": "code",
      "execution_count": 16,
      "id": "ahNnLLGVEU6p",
      "metadata": {
        "colab": {
          "base_uri": "https://localhost:8080/",
          "height": 0
        },
        "id": "ahNnLLGVEU6p",
        "outputId": "6364724b-814c-44a8-d8ec-fafa1b059db0"
      },
      "outputs": [
        {
          "output_type": "execute_result",
          "data": {
            "text/plain": [
              "                                               story  \\\n",
              "0  CHAPTER III. \\n\\nTHE NIGHT-WATCHERS. \\n\\nWhat ...   \n",
              "1  CHAPTER III. \\n\\nTHE NIGHT-WATCHERS. \\n\\nWhat ...   \n",
              "2  CHAPTER III. \\n\\nTHE NIGHT-WATCHERS. \\n\\nWhat ...   \n",
              "3  CHAPTER III. \\n\\nTHE NIGHT-WATCHERS. \\n\\nWhat ...   \n",
              "4  CHAPTER III. \\n\\nTHE NIGHT-WATCHERS. \\n\\nWhat ...   \n",
              "\n",
              "                              questions  \\\n",
              "0  What color is the top of the church?   \n",
              "1                          Is it short?   \n",
              "2                   Who behaves better?   \n",
              "3                                  Why?   \n",
              "4                   Who killed himself?   \n",
              "\n",
              "                                             answers  \n",
              "0                                              green  \n",
              "1                                                 No  \n",
              "2                          the back of the Tenements  \n",
              "3  Every back window in the Tenements has a glint...  \n",
              "4                                            Beattie  "
            ],
            "text/html": [
              "\n",
              "  <div id=\"df-82be64ee-8c7f-48ce-b3f8-7b017a1a10c9\">\n",
              "    <div class=\"colab-df-container\">\n",
              "      <div>\n",
              "<style scoped>\n",
              "    .dataframe tbody tr th:only-of-type {\n",
              "        vertical-align: middle;\n",
              "    }\n",
              "\n",
              "    .dataframe tbody tr th {\n",
              "        vertical-align: top;\n",
              "    }\n",
              "\n",
              "    .dataframe thead th {\n",
              "        text-align: right;\n",
              "    }\n",
              "</style>\n",
              "<table border=\"1\" class=\"dataframe\">\n",
              "  <thead>\n",
              "    <tr style=\"text-align: right;\">\n",
              "      <th></th>\n",
              "      <th>story</th>\n",
              "      <th>questions</th>\n",
              "      <th>answers</th>\n",
              "    </tr>\n",
              "  </thead>\n",
              "  <tbody>\n",
              "    <tr>\n",
              "      <th>0</th>\n",
              "      <td>CHAPTER III. \\n\\nTHE NIGHT-WATCHERS. \\n\\nWhat ...</td>\n",
              "      <td>What color is the top of the church?</td>\n",
              "      <td>green</td>\n",
              "    </tr>\n",
              "    <tr>\n",
              "      <th>1</th>\n",
              "      <td>CHAPTER III. \\n\\nTHE NIGHT-WATCHERS. \\n\\nWhat ...</td>\n",
              "      <td>Is it short?</td>\n",
              "      <td>No</td>\n",
              "    </tr>\n",
              "    <tr>\n",
              "      <th>2</th>\n",
              "      <td>CHAPTER III. \\n\\nTHE NIGHT-WATCHERS. \\n\\nWhat ...</td>\n",
              "      <td>Who behaves better?</td>\n",
              "      <td>the back of the Tenements</td>\n",
              "    </tr>\n",
              "    <tr>\n",
              "      <th>3</th>\n",
              "      <td>CHAPTER III. \\n\\nTHE NIGHT-WATCHERS. \\n\\nWhat ...</td>\n",
              "      <td>Why?</td>\n",
              "      <td>Every back window in the Tenements has a glint...</td>\n",
              "    </tr>\n",
              "    <tr>\n",
              "      <th>4</th>\n",
              "      <td>CHAPTER III. \\n\\nTHE NIGHT-WATCHERS. \\n\\nWhat ...</td>\n",
              "      <td>Who killed himself?</td>\n",
              "      <td>Beattie</td>\n",
              "    </tr>\n",
              "  </tbody>\n",
              "</table>\n",
              "</div>\n",
              "      <button class=\"colab-df-convert\" onclick=\"convertToInteractive('df-82be64ee-8c7f-48ce-b3f8-7b017a1a10c9')\"\n",
              "              title=\"Convert this dataframe to an interactive table.\"\n",
              "              style=\"display:none;\">\n",
              "        \n",
              "  <svg xmlns=\"http://www.w3.org/2000/svg\" height=\"24px\"viewBox=\"0 0 24 24\"\n",
              "       width=\"24px\">\n",
              "    <path d=\"M0 0h24v24H0V0z\" fill=\"none\"/>\n",
              "    <path d=\"M18.56 5.44l.94 2.06.94-2.06 2.06-.94-2.06-.94-.94-2.06-.94 2.06-2.06.94zm-11 1L8.5 8.5l.94-2.06 2.06-.94-2.06-.94L8.5 2.5l-.94 2.06-2.06.94zm10 10l.94 2.06.94-2.06 2.06-.94-2.06-.94-.94-2.06-.94 2.06-2.06.94z\"/><path d=\"M17.41 7.96l-1.37-1.37c-.4-.4-.92-.59-1.43-.59-.52 0-1.04.2-1.43.59L10.3 9.45l-7.72 7.72c-.78.78-.78 2.05 0 2.83L4 21.41c.39.39.9.59 1.41.59.51 0 1.02-.2 1.41-.59l7.78-7.78 2.81-2.81c.8-.78.8-2.07 0-2.86zM5.41 20L4 18.59l7.72-7.72 1.47 1.35L5.41 20z\"/>\n",
              "  </svg>\n",
              "      </button>\n",
              "      \n",
              "  <style>\n",
              "    .colab-df-container {\n",
              "      display:flex;\n",
              "      flex-wrap:wrap;\n",
              "      gap: 12px;\n",
              "    }\n",
              "\n",
              "    .colab-df-convert {\n",
              "      background-color: #E8F0FE;\n",
              "      border: none;\n",
              "      border-radius: 50%;\n",
              "      cursor: pointer;\n",
              "      display: none;\n",
              "      fill: #1967D2;\n",
              "      height: 32px;\n",
              "      padding: 0 0 0 0;\n",
              "      width: 32px;\n",
              "    }\n",
              "\n",
              "    .colab-df-convert:hover {\n",
              "      background-color: #E2EBFA;\n",
              "      box-shadow: 0px 1px 2px rgba(60, 64, 67, 0.3), 0px 1px 3px 1px rgba(60, 64, 67, 0.15);\n",
              "      fill: #174EA6;\n",
              "    }\n",
              "\n",
              "    [theme=dark] .colab-df-convert {\n",
              "      background-color: #3B4455;\n",
              "      fill: #D2E3FC;\n",
              "    }\n",
              "\n",
              "    [theme=dark] .colab-df-convert:hover {\n",
              "      background-color: #434B5C;\n",
              "      box-shadow: 0px 1px 3px 1px rgba(0, 0, 0, 0.15);\n",
              "      filter: drop-shadow(0px 1px 2px rgba(0, 0, 0, 0.3));\n",
              "      fill: #FFFFFF;\n",
              "    }\n",
              "  </style>\n",
              "\n",
              "      <script>\n",
              "        const buttonEl =\n",
              "          document.querySelector('#df-82be64ee-8c7f-48ce-b3f8-7b017a1a10c9 button.colab-df-convert');\n",
              "        buttonEl.style.display =\n",
              "          google.colab.kernel.accessAllowed ? 'block' : 'none';\n",
              "\n",
              "        async function convertToInteractive(key) {\n",
              "          const element = document.querySelector('#df-82be64ee-8c7f-48ce-b3f8-7b017a1a10c9');\n",
              "          const dataTable =\n",
              "            await google.colab.kernel.invokeFunction('convertToInteractive',\n",
              "                                                     [key], {});\n",
              "          if (!dataTable) return;\n",
              "\n",
              "          const docLinkHtml = 'Like what you see? Visit the ' +\n",
              "            '<a target=\"_blank\" href=https://colab.research.google.com/notebooks/data_table.ipynb>data table notebook</a>'\n",
              "            + ' to learn more about interactive tables.';\n",
              "          element.innerHTML = '';\n",
              "          dataTable['output_type'] = 'display_data';\n",
              "          await google.colab.output.renderOutput(dataTable, element);\n",
              "          const docLink = document.createElement('div');\n",
              "          docLink.innerHTML = docLinkHtml;\n",
              "          element.appendChild(docLink);\n",
              "        }\n",
              "      </script>\n",
              "    </div>\n",
              "  </div>\n",
              "  "
            ]
          },
          "metadata": {},
          "execution_count": 16
        }
      ],
      "source": [
        "df_train.head()"
      ]
    },
    {
      "cell_type": "markdown",
      "id": "YPSy07kp-5NZ",
      "metadata": {
        "id": "YPSy07kp-5NZ"
      },
      "source": [
        "We decided to save all the predicted answers in a column of the dataframe for each model, for the validation and test set, such that we can perform the final analysis importing this saved dataframe. In order to get this result we need to append the questions and the answers of the validation set to the df_final_evaluation dataframe. We copy only len(df_test) questions in order to do a fair comparison and having the same number of questions both for test and validation during the final considerations."
      ]
    },
    {
      "cell_type": "code",
      "execution_count": 17,
      "id": "ooNYs3pu_oZn",
      "metadata": {
        "id": "ooNYs3pu_oZn"
      },
      "outputs": [],
      "source": [
        "val_to_concat = df_val.iloc[:len(df_test)].copy() \\\n",
        "                    .rename({'questions':'val_quest', 'answers':'val_answ',\n",
        "                             'story': 'val_story'}, axis=1)\n",
        "                    \n",
        "df_final_evaluation.rename({'questions':'test_quest', 'answers':'test_answ',\n",
        "                            'story': 'test_story'}, axis=1, inplace=True)\n",
        "\n",
        "df_final_evaluation = pd.concat([df_final_evaluation, val_to_concat], axis=1)"
      ]
    },
    {
      "cell_type": "code",
      "execution_count": 18,
      "id": "wlVuUhZrDYv6",
      "metadata": {
        "colab": {
          "base_uri": "https://localhost:8080/",
          "height": 0
        },
        "id": "wlVuUhZrDYv6",
        "outputId": "7828406c-801b-428a-d6e6-666e5c0b38c6"
      },
      "outputs": [
        {
          "output_type": "execute_result",
          "data": {
            "text/plain": [
              "   source                                         test_story  \\\n",
              "0  mctest  Once upon a time, in a barn near a farm house,...   \n",
              "1  mctest  Once upon a time, in a barn near a farm house,...   \n",
              "2  mctest  Once upon a time, in a barn near a farm house,...   \n",
              "3  mctest  Once upon a time, in a barn near a farm house,...   \n",
              "4  mctest  Once upon a time, in a barn near a farm house,...   \n",
              "\n",
              "                     test_quest                     test_answ  \\\n",
              "0        What color was Cotton?                         white   \n",
              "1           Where did she live?                     in a barn   \n",
              "2           Did she live alone?                            no   \n",
              "3        Who did she live with?  with her mommy and 5 sisters   \n",
              "4  What color were her sisters?              orange and white   \n",
              "\n",
              "                                           val_story  \\\n",
              "0  (CNN) -- Andy Carroll scored twice, his first ...   \n",
              "1  (CNN) -- Andy Carroll scored twice, his first ...   \n",
              "2  (CNN) -- Andy Carroll scored twice, his first ...   \n",
              "3  (CNN) -- Andy Carroll scored twice, his first ...   \n",
              "4  (CNN) -- Andy Carroll scored twice, his first ...   \n",
              "\n",
              "                       val_quest                 val_answ  \n",
              "0   Who was playing in the game?  the team from Liverpool  \n",
              "1  who was playing against them?          Manchester City  \n",
              "2            What was the score?                      3-0  \n",
              "3             When was the game?                   Monday  \n",
              "4       What league are they in?           Premier League  "
            ],
            "text/html": [
              "\n",
              "  <div id=\"df-b5582d73-f259-48e7-9f1e-21a5af1399ac\">\n",
              "    <div class=\"colab-df-container\">\n",
              "      <div>\n",
              "<style scoped>\n",
              "    .dataframe tbody tr th:only-of-type {\n",
              "        vertical-align: middle;\n",
              "    }\n",
              "\n",
              "    .dataframe tbody tr th {\n",
              "        vertical-align: top;\n",
              "    }\n",
              "\n",
              "    .dataframe thead th {\n",
              "        text-align: right;\n",
              "    }\n",
              "</style>\n",
              "<table border=\"1\" class=\"dataframe\">\n",
              "  <thead>\n",
              "    <tr style=\"text-align: right;\">\n",
              "      <th></th>\n",
              "      <th>source</th>\n",
              "      <th>test_story</th>\n",
              "      <th>test_quest</th>\n",
              "      <th>test_answ</th>\n",
              "      <th>val_story</th>\n",
              "      <th>val_quest</th>\n",
              "      <th>val_answ</th>\n",
              "    </tr>\n",
              "  </thead>\n",
              "  <tbody>\n",
              "    <tr>\n",
              "      <th>0</th>\n",
              "      <td>mctest</td>\n",
              "      <td>Once upon a time, in a barn near a farm house,...</td>\n",
              "      <td>What color was Cotton?</td>\n",
              "      <td>white</td>\n",
              "      <td>(CNN) -- Andy Carroll scored twice, his first ...</td>\n",
              "      <td>Who was playing in the game?</td>\n",
              "      <td>the team from Liverpool</td>\n",
              "    </tr>\n",
              "    <tr>\n",
              "      <th>1</th>\n",
              "      <td>mctest</td>\n",
              "      <td>Once upon a time, in a barn near a farm house,...</td>\n",
              "      <td>Where did she live?</td>\n",
              "      <td>in a barn</td>\n",
              "      <td>(CNN) -- Andy Carroll scored twice, his first ...</td>\n",
              "      <td>who was playing against them?</td>\n",
              "      <td>Manchester City</td>\n",
              "    </tr>\n",
              "    <tr>\n",
              "      <th>2</th>\n",
              "      <td>mctest</td>\n",
              "      <td>Once upon a time, in a barn near a farm house,...</td>\n",
              "      <td>Did she live alone?</td>\n",
              "      <td>no</td>\n",
              "      <td>(CNN) -- Andy Carroll scored twice, his first ...</td>\n",
              "      <td>What was the score?</td>\n",
              "      <td>3-0</td>\n",
              "    </tr>\n",
              "    <tr>\n",
              "      <th>3</th>\n",
              "      <td>mctest</td>\n",
              "      <td>Once upon a time, in a barn near a farm house,...</td>\n",
              "      <td>Who did she live with?</td>\n",
              "      <td>with her mommy and 5 sisters</td>\n",
              "      <td>(CNN) -- Andy Carroll scored twice, his first ...</td>\n",
              "      <td>When was the game?</td>\n",
              "      <td>Monday</td>\n",
              "    </tr>\n",
              "    <tr>\n",
              "      <th>4</th>\n",
              "      <td>mctest</td>\n",
              "      <td>Once upon a time, in a barn near a farm house,...</td>\n",
              "      <td>What color were her sisters?</td>\n",
              "      <td>orange and white</td>\n",
              "      <td>(CNN) -- Andy Carroll scored twice, his first ...</td>\n",
              "      <td>What league are they in?</td>\n",
              "      <td>Premier League</td>\n",
              "    </tr>\n",
              "  </tbody>\n",
              "</table>\n",
              "</div>\n",
              "      <button class=\"colab-df-convert\" onclick=\"convertToInteractive('df-b5582d73-f259-48e7-9f1e-21a5af1399ac')\"\n",
              "              title=\"Convert this dataframe to an interactive table.\"\n",
              "              style=\"display:none;\">\n",
              "        \n",
              "  <svg xmlns=\"http://www.w3.org/2000/svg\" height=\"24px\"viewBox=\"0 0 24 24\"\n",
              "       width=\"24px\">\n",
              "    <path d=\"M0 0h24v24H0V0z\" fill=\"none\"/>\n",
              "    <path d=\"M18.56 5.44l.94 2.06.94-2.06 2.06-.94-2.06-.94-.94-2.06-.94 2.06-2.06.94zm-11 1L8.5 8.5l.94-2.06 2.06-.94-2.06-.94L8.5 2.5l-.94 2.06-2.06.94zm10 10l.94 2.06.94-2.06 2.06-.94-2.06-.94-.94-2.06-.94 2.06-2.06.94z\"/><path d=\"M17.41 7.96l-1.37-1.37c-.4-.4-.92-.59-1.43-.59-.52 0-1.04.2-1.43.59L10.3 9.45l-7.72 7.72c-.78.78-.78 2.05 0 2.83L4 21.41c.39.39.9.59 1.41.59.51 0 1.02-.2 1.41-.59l7.78-7.78 2.81-2.81c.8-.78.8-2.07 0-2.86zM5.41 20L4 18.59l7.72-7.72 1.47 1.35L5.41 20z\"/>\n",
              "  </svg>\n",
              "      </button>\n",
              "      \n",
              "  <style>\n",
              "    .colab-df-container {\n",
              "      display:flex;\n",
              "      flex-wrap:wrap;\n",
              "      gap: 12px;\n",
              "    }\n",
              "\n",
              "    .colab-df-convert {\n",
              "      background-color: #E8F0FE;\n",
              "      border: none;\n",
              "      border-radius: 50%;\n",
              "      cursor: pointer;\n",
              "      display: none;\n",
              "      fill: #1967D2;\n",
              "      height: 32px;\n",
              "      padding: 0 0 0 0;\n",
              "      width: 32px;\n",
              "    }\n",
              "\n",
              "    .colab-df-convert:hover {\n",
              "      background-color: #E2EBFA;\n",
              "      box-shadow: 0px 1px 2px rgba(60, 64, 67, 0.3), 0px 1px 3px 1px rgba(60, 64, 67, 0.15);\n",
              "      fill: #174EA6;\n",
              "    }\n",
              "\n",
              "    [theme=dark] .colab-df-convert {\n",
              "      background-color: #3B4455;\n",
              "      fill: #D2E3FC;\n",
              "    }\n",
              "\n",
              "    [theme=dark] .colab-df-convert:hover {\n",
              "      background-color: #434B5C;\n",
              "      box-shadow: 0px 1px 3px 1px rgba(0, 0, 0, 0.15);\n",
              "      filter: drop-shadow(0px 1px 2px rgba(0, 0, 0, 0.3));\n",
              "      fill: #FFFFFF;\n",
              "    }\n",
              "  </style>\n",
              "\n",
              "      <script>\n",
              "        const buttonEl =\n",
              "          document.querySelector('#df-b5582d73-f259-48e7-9f1e-21a5af1399ac button.colab-df-convert');\n",
              "        buttonEl.style.display =\n",
              "          google.colab.kernel.accessAllowed ? 'block' : 'none';\n",
              "\n",
              "        async function convertToInteractive(key) {\n",
              "          const element = document.querySelector('#df-b5582d73-f259-48e7-9f1e-21a5af1399ac');\n",
              "          const dataTable =\n",
              "            await google.colab.kernel.invokeFunction('convertToInteractive',\n",
              "                                                     [key], {});\n",
              "          if (!dataTable) return;\n",
              "\n",
              "          const docLinkHtml = 'Like what you see? Visit the ' +\n",
              "            '<a target=\"_blank\" href=https://colab.research.google.com/notebooks/data_table.ipynb>data table notebook</a>'\n",
              "            + ' to learn more about interactive tables.';\n",
              "          element.innerHTML = '';\n",
              "          dataTable['output_type'] = 'display_data';\n",
              "          await google.colab.output.renderOutput(dataTable, element);\n",
              "          const docLink = document.createElement('div');\n",
              "          docLink.innerHTML = docLinkHtml;\n",
              "          element.appendChild(docLink);\n",
              "        }\n",
              "      </script>\n",
              "    </div>\n",
              "  </div>\n",
              "  "
            ]
          },
          "metadata": {},
          "execution_count": 18
        }
      ],
      "source": [
        "df_final_evaluation.head()"
      ]
    },
    {
      "cell_type": "markdown",
      "id": "yDRKGGZhhDYh",
      "metadata": {
        "id": "yDRKGGZhhDYh"
      },
      "source": [
        "## Model implementation and data tokenization [TASK 3, TASK 4, TASK 5]"
      ]
    },
    {
      "cell_type": "markdown",
      "id": "RIIrgApsE0LM",
      "metadata": {
        "id": "RIIrgApsE0LM"
      },
      "source": [
        "In order to train the encoder-decoder architecture we have to tokenize the samples such that we can give numbers as input to the network.\n",
        "\n",
        "In our case we will use the tokenizer of the relative pre-trained model."
      ]
    },
    {
      "cell_type": "code",
      "execution_count": 19,
      "id": "86ih3U7eVgy2",
      "metadata": {
        "id": "86ih3U7eVgy2",
        "colab": {
          "base_uri": "https://localhost:8080/"
        },
        "outputId": "df57131e-2ad8-4df2-939d-6b587d7ca94b"
      },
      "outputs": [
        {
          "output_type": "stream",
          "name": "stdout",
          "text": [
            "\u001b[K     |████████████████████████████████| 5.8 MB 5.2 MB/s \n",
            "\u001b[K     |████████████████████████████████| 182 kB 74.1 MB/s \n",
            "\u001b[K     |████████████████████████████████| 7.6 MB 53.2 MB/s \n",
            "\u001b[K     |████████████████████████████████| 451 kB 4.8 MB/s \n",
            "\u001b[K     |████████████████████████████████| 212 kB 64.2 MB/s \n",
            "\u001b[K     |████████████████████████████████| 132 kB 71.2 MB/s \n",
            "\u001b[K     |████████████████████████████████| 127 kB 43.2 MB/s \n",
            "\u001b[?25h"
          ]
        }
      ],
      "source": [
        "!pip install transformers -q\n",
        "!pip install datasets -q\n",
        "import datasets"
      ]
    },
    {
      "cell_type": "markdown",
      "id": "icicV7K0sEzm",
      "metadata": {
        "id": "icicV7K0sEzm"
      },
      "source": [
        "### Load the pre-trained model and tokenizer either from Huggingface or Drive"
      ]
    },
    {
      "cell_type": "code",
      "execution_count": 20,
      "id": "p-v8bD-1sP7i",
      "metadata": {
        "id": "p-v8bD-1sP7i"
      },
      "outputs": [],
      "source": [
        "from typing import Optional, Union, List, Tuple, Dict\n",
        "\n",
        "from datasets.arrow_dataset import Dataset\n",
        "from transformers import TFEncoderDecoderModel, AutoTokenizer\n",
        "\n",
        "from keras.optimizers import Adam"
      ]
    },
    {
      "cell_type": "code",
      "execution_count": 21,
      "id": "5OH0olNXsTF2",
      "metadata": {
        "colab": {
          "base_uri": "https://localhost:8080/"
        },
        "id": "5OH0olNXsTF2",
        "outputId": "26d4fe25-000a-4e37-fca8-279998f75142"
      },
      "outputs": [
        {
          "output_type": "stream",
          "name": "stdout",
          "text": [
            "Mounted at /content/drive\n"
          ]
        }
      ],
      "source": [
        "from google.colab import drive\n",
        "drive.mount('/content/drive')\n",
        "\n",
        "drive_weights_path = \"/content/drive/MyDrive/weights_NLP_assignments/\"\n",
        "drive_tokenized_path = \"/content/drive/MyDrive/weights_NLP_assignments/tok_data/\"\n",
        "\n",
        "bertiny_name = \"prajjwal1/bert-tiny\"\n",
        "roberta_name = \"distilroberta-base\""
      ]
    },
    {
      "cell_type": "markdown",
      "id": "mrMByUePtCjm",
      "metadata": {
        "id": "mrMByUePtCjm"
      },
      "source": [
        "We implemented a function to import the tokenizer and the model from a pre-saved model or directly from Huggingface if no path is passed."
      ]
    },
    {
      "cell_type": "code",
      "execution_count": 22,
      "id": "usyK7nEHsZBK",
      "metadata": {
        "id": "usyK7nEHsZBK"
      },
      "outputs": [],
      "source": [
        "def check_pretrained_path(path: str) -> bool:\n",
        "    '''\n",
        "        It checks if the config.json file exists in the current path.\n",
        "    '''\n",
        "    config_file = os.path.join(path, 'config.json')\n",
        "    return os.path.exists(config_file)\n",
        "\n",
        "\n",
        "def import_model_tokenizer(name: str=\"distilroberta-base\", load_weights: Optional[str]=None)->tuple:\n",
        "    '''\n",
        "        It imports the tokenizer and the model specified from the 'name' parameter.\n",
        "        If a path in 'load_weigths' is specified then it imports the model from\n",
        "        a pre-saved file.\n",
        "        Parameters:\n",
        "            - name: str\n",
        "                The name of the model we want to import, it must exist in the\n",
        "                Huggingface database.\n",
        "            - load_weights: str | None\n",
        "                The path to a directory that contains the config file and the \n",
        "                .h5 file for loading a pre-saved model.\n",
        "        \n",
        "        Returns:\n",
        "            - tuple\n",
        "                It returns the desired tokenizer and the imported model.\n",
        "    '''\n",
        "    tokenizer = AutoTokenizer.from_pretrained(name)\n",
        "    enc_from_pt = False\n",
        "\n",
        "    # If a path has been passed\n",
        "    if load_weights != None:\n",
        "        mod_name = name.split('/')[-1]\n",
        "        full_path = os.path.join(drive_weights_path, mod_name, load_weights)\n",
        "        if check_pretrained_path(full_path):\n",
        "            model = TFEncoderDecoderModel.from_pretrained(full_path)\n",
        "        else:\n",
        "            print(\"ERROR: Check if a config.json file exists in the given path.\")\n",
        "            return None, None\n",
        "    else:\n",
        "        if name != \"distilroberta-base\":\n",
        "            enc_from_pt = True\n",
        "\n",
        "        model = TFEncoderDecoderModel.from_encoder_decoder_pretrained(\n",
        "            name, name, encoder_from_pt=enc_from_pt, decoder_from_pt=enc_from_pt\n",
        "        )\n",
        "        model.config.decoder_start_token_id = tokenizer.cls_token_id\n",
        "        model.config.pad_token_id = tokenizer.pad_token_id\n",
        "        model.config_eos_token_id = tokenizer.sep_token_id\n",
        "        model.config.vocab_size = model.config.encoder.vocab_size\n",
        "\n",
        "    return tokenizer, model"
      ]
    },
    {
      "cell_type": "code",
      "execution_count": null,
      "id": "FCQ8VSepsk3v",
      "metadata": {
        "id": "FCQ8VSepsk3v"
      },
      "outputs": [],
      "source": [
        "tokenizer, model = import_model_tokenizer(bertiny_name)#, load_weights='42_no_history')"
      ]
    },
    {
      "cell_type": "markdown",
      "id": "C4RB6BoVsmgO",
      "metadata": {
        "id": "C4RB6BoVsmgO"
      },
      "source": [
        "### Tokenization function and history creation"
      ]
    },
    {
      "cell_type": "markdown",
      "id": "4LQqckhmB9Nt",
      "metadata": {
        "id": "4LQqckhmB9Nt"
      },
      "source": [
        "The following function is needed to create the history for each sample, the history is composed by the 'story' of the question and all the questions and answers from the previous rows.\n",
        "The function has 3 main steps:\n",
        "- we group by 'story' in order to consider the samples belonging to the same dialogue; we create a new column 'history' in the DataFrame where we put for each line the concatenation of answer and question of the successive row. This because the first element of the history for each question is the previous one, so we need to shift by 1 such that we avoid to put the current question and answer in the history as well.\n",
        "- Now, after having grouped by 'story' again, we apply the function *cumulative sum*, it sums the previous rows of the same group to the current one.\n",
        "- As last step we sum the 'story' to the computed history and we return the DataFrame with the new column."
      ]
    },
    {
      "cell_type": "code",
      "execution_count": 23,
      "id": "fFPB_4uXCBIo",
      "metadata": {
        "id": "fFPB_4uXCBIo"
      },
      "outputs": [],
      "source": [
        "def create_history(df: pd.DataFrame, group: str='story') -> pd.DataFrame:\n",
        "    '''\n",
        "        This function returns the dataframe with a new column 'history' which\n",
        "        contains the sum of the story and all the questions and answers within\n",
        "        the same context, not considering the current sample.\n",
        "        Parameters:\n",
        "            - df: pd.DataFrame\n",
        "                The dataframe from which the function takes the data.\n",
        "            - group: str\n",
        "                The column to consider for the groupby operation.\n",
        "        \n",
        "        Returns:\n",
        "            - pd.DataFrame\n",
        "                The DataFrame with the new column added. \n",
        "    '''\n",
        "    new_df = df.copy()\n",
        "    sum_columns = lambda x: x.questions + ' ' + x.answers + ' '\n",
        "    # If the story has a white space at the end, we don't need to add it\n",
        "    def sum_ctx_history(row):\n",
        "        space = \" \"\n",
        "        if row.story[-1].isspace():\n",
        "            space = \"\"\n",
        "        return row.story + space + row.history\n",
        "\n",
        "    # Returns a new column that contains for each sample the sum of the\n",
        "    # question and the context\n",
        "    new_df['history'] = new_df.groupby(group, axis=0, sort=False) \\\n",
        "                            .shift(fill_value='') \\\n",
        "                            .apply(sum_columns, axis=1)\n",
        "\n",
        "    # Sum the history up to the previous question for each sample\n",
        "    new_df['history'] = new_df.groupby(group, axis=0, sort=False)['history'] \\\n",
        "                            .apply(lambda x: x.cumsum()).str.strip()\n",
        "\n",
        "    new_df['history'] = new_df.apply(sum_ctx_history, axis=1)\n",
        "\n",
        "    print(\"The column for the history has been added to the dataset.\")\n",
        "    return new_df"
      ]
    },
    {
      "cell_type": "markdown",
      "id": "XAX8TSBqCCXi",
      "metadata": {
        "id": "XAX8TSBqCCXi"
      },
      "source": [
        "The following functions are used to compute the tokenized answers and the tokenization of each question + the relative context (story / history). The function has a parameter that checks if the history needs to be created, if this is the case the previous function 'create_history' is called and the successive operations are performed with the new dataset.\n",
        "\n",
        "We decided to create batch of samples from the passed dataset in order to avoid the consumption of the RAM, even if we also give the possibiity to save the tokenized data in a .json file in a Drive directory, to make the loading of the data faster.   "
      ]
    },
    {
      "cell_type": "code",
      "execution_count": 24,
      "id": "P9L8DQnw8QnH",
      "metadata": {
        "id": "P9L8DQnw8QnH"
      },
      "outputs": [],
      "source": [
        "def apply_reduce(data, func):\n",
        "    '''\n",
        "        Apply the function on a list of elements concatenating the samples with \n",
        "        the previous results (as the reduce).\n",
        "    '''\n",
        "    res = data.pop(0)\n",
        "    for el in data:\n",
        "        res = func((res, el))\n",
        "    return res"
      ]
    },
    {
      "cell_type": "code",
      "execution_count": 25,
      "id": "U1pTuqZ1FwWX",
      "metadata": {
        "id": "U1pTuqZ1FwWX"
      },
      "outputs": [],
      "source": [
        "def tokenize_samples(dataset: datasets.arrow_dataset.Dataset, tokenizer, max_embed_quest: int=512,\n",
        "                     max_embed_answ: int=30, mode: Optional[str]='np', with_history: bool=False, \n",
        "                     batch_size: int=1024)->tuple:\n",
        "    '''\n",
        "        This function returns a dictionary with the outputs of the tokenizer.\n",
        "        As input we refer to the concatenation of the quesions with the relative\n",
        "        contexts and we need both tokenization and attention mask. For the\n",
        "        answers we only need the tokenization.\n",
        "        Parameters:\n",
        "            - dataset: datasets.arrow_dataset.Dataset\n",
        "                The dataset from which the function takes the data.\n",
        "            - max_embed_quest: int\n",
        "                The maximum length for the sequence context + questions, in our \n",
        "                case is 512.\n",
        "            - max_embed_answ: int\n",
        "                The maximum length for the tokenized answers.\n",
        "            - mode: bool\n",
        "                Wheter the tokenizer could return the outputs as lists of python\n",
        "                integers, 'tf' tensors, 'np' arrays or 'pt' for pytorch tensors.\n",
        "            - with_history: bool\n",
        "                If True then we concatenate the question with the history instead \n",
        "                of the simple context.\n",
        "            - batch_size: int\n",
        "                The batch size to use in for computing the tokenization.\n",
        "        Returns:\n",
        "            - tuple\n",
        "                A tuple with the tokenized questions+contexts, their relative\n",
        "                attention masks and the tokenized answers.\n",
        "                If 'with_history' is True it also returns the new dataset\n",
        "                with the history, the passed dataset otherwise.\n",
        "    '''\n",
        "    if with_history:\n",
        "        pandas_dataset = dataset.to_pandas()\n",
        "        assert isinstance(pandas_dataset, pd.DataFrame)\n",
        "\n",
        "        new_dataset = Dataset.from_pandas(create_history(pandas_dataset))\n",
        "        context = new_dataset[\"history\"]\n",
        "    else:\n",
        "        new_dataset = dataset\n",
        "        context = dataset['story']\n",
        "\n",
        "    ids = []\n",
        "    masks = []\n",
        "    ys = []\n",
        "\n",
        "    num_steps = len(new_dataset) // batch_size\n",
        "    last_batch_size = len(new_dataset) - (batch_size*num_steps)\n",
        "\n",
        "    print(\"Tokenization begins ...\\n\")\n",
        "    for i in tqdm(range(num_steps+1)):\n",
        "        start = batch_size * i\n",
        "        # If we are in the last batch and it's > 0\n",
        "        if i >= num_steps:\n",
        "            if last_batch_size > 0:\n",
        "                batch_size = last_batch_size\n",
        "            else:\n",
        "                break\n",
        "\n",
        "        # Take a batch of samples\n",
        "        batch_quest = new_dataset['questions'][start:start+batch_size]\n",
        "        batch_ctx = context[start:start+batch_size]\n",
        "        batch_answ = new_dataset['answers'][start:start+batch_size]\n",
        "        \n",
        "        # Tokenize the batch\n",
        "        x_tok_batch = tokenizer(\n",
        "            batch_quest,\n",
        "            batch_ctx,\n",
        "            max_length=max_embed_quest,\n",
        "            truncation=\"only_second\",\n",
        "            padding=\"max_length\",\n",
        "            return_tensors=mode,\n",
        "            return_token_type_ids=False\n",
        "        )\n",
        "        y_tok_batch = tokenizer(\n",
        "            batch_answ,\n",
        "            max_length=max_embed_answ,\n",
        "            truncation=True,\n",
        "            padding=\"max_length\",\n",
        "            return_tensors=mode,\n",
        "            return_token_type_ids=False\n",
        "        )\n",
        "        # Create 3 lists for the results\n",
        "        ids.append(x_tok_batch['input_ids'])\n",
        "        masks.append(x_tok_batch['attention_mask'])\n",
        "        ys.append(y_tok_batch['input_ids'])\n",
        "    \n",
        "    # Merge the results of the different batches concatenating them\n",
        "    X_tok = {'input_ids': apply_reduce(ids, np.concatenate), \n",
        "             'attention_mask': apply_reduce(masks, np.concatenate)}\n",
        "    y_tok = apply_reduce(ys, np.concatenate)\n",
        "    \n",
        "    return X_tok, y_tok, new_dataset"
      ]
    },
    {
      "cell_type": "markdown",
      "id": "b8EXn3NrYo6D",
      "metadata": {
        "id": "b8EXn3NrYo6D"
      },
      "source": [
        "### Tokenize data"
      ]
    },
    {
      "cell_type": "markdown",
      "id": "BaahRWYRyeML",
      "metadata": {
        "id": "BaahRWYRyeML"
      },
      "source": [
        "Actually before tokenization occurs we create the Dataset objects (Huggingface) from the DataFrames. Then the tokenization function returns as result a dictionary of numpy array ('input_ids' and 'attention_mask') that is used as input for the model and a numpy array for the tokenized answers."
      ]
    },
    {
      "cell_type": "code",
      "execution_count": 26,
      "id": "CSDEDS1XzjXQ",
      "metadata": {
        "id": "CSDEDS1XzjXQ"
      },
      "outputs": [],
      "source": [
        "dataset_train = Dataset.from_pandas(df_train)\n",
        "dataset_val = Dataset.from_pandas(df_val)\n",
        "dataset_test = Dataset.from_pandas(df_test)"
      ]
    },
    {
      "cell_type": "markdown",
      "id": "f60g6Nu2z8QE",
      "metadata": {
        "id": "f60g6Nu2z8QE"
      },
      "source": [
        "#### Load pre-saved tokenized data"
      ]
    },
    {
      "cell_type": "markdown",
      "id": "Vso3dvQv2aBE",
      "metadata": {
        "id": "Vso3dvQv2aBE"
      },
      "source": [
        "If you prefer to load the tokenized data from .pkl files. \n",
        "\n",
        "The .pkl files, one for training, validation and test, contain:\n",
        "- 'input_ids': the tokenization of the concatenation of the answer and the context (+ the history if selected);\n",
        "- 'attention_mask': the attention masks for the input_ids;\n",
        "- 'labels': the target arrays that represent the tokenized answers.\n"
      ]
    },
    {
      "cell_type": "code",
      "execution_count": null,
      "id": "z2St3eHn0FT1",
      "metadata": {
        "id": "z2St3eHn0FT1"
      },
      "outputs": [],
      "source": [
        "def load_tokenized_dict(file_path: str) -> Union[Tuple[Dict, np.ndarray], Tuple[None, None]]:\n",
        "    '''\n",
        "        It load the .pkl file from the given path, it convert the lists to numpy\n",
        "        arrays and at the end it returns a dictionary with 'input_ids' and \n",
        "        'attention_mask' and the array of the tokenized answers.\n",
        "        Parameters:\n",
        "            - file_path: str\n",
        "                The path of the .pkl file from which we read the data.\n",
        "            \n",
        "        Returns:\n",
        "            - Tuple[Dict[np.ndarray, np.ndarray], np.ndarray] | Tuple[None, None]\n",
        "                A tuple, the dictionary with the 'input_ids' and the 'attention_mask'\n",
        "                numpy arrays if the path exists, None otherwise.\n",
        "    '''\n",
        "    if os.path.exists(file_path):\n",
        "        with open(file_path, 'rb') as handle:\n",
        "            data = pickle.load(handle)\n",
        "\n",
        "        y_labels = data['labels']\n",
        "        del data['labels']\n",
        "\n",
        "        return data, y_labels \n",
        "    else:\n",
        "        print(f\"ERROR: a file doesn't exist in the specified path: {file_path}.\")\n",
        "        return None, None"
      ]
    },
    {
      "cell_type": "code",
      "execution_count": null,
      "id": "yjSYd91n0Hou",
      "metadata": {
        "id": "yjSYd91n0Hou"
      },
      "outputs": [],
      "source": [
        "#  Import the tokenized data from the json files\n",
        "load_dir = 'no_history'\n",
        "is_hist = '_hist' if load_dir=='history' else ''\n",
        "model_name = roberta_name\n",
        "\n",
        "x_train, y_train = load_tokenized_dict(os.path.join(\n",
        "                    drive_tokenized_path, load_dir, model_name, f'train_tok{is_hist}.pkl'))\n",
        "\n",
        "x_val, y_val = load_tokenized_dict(os.path.join(\n",
        "                    drive_tokenized_path, load_dir, model_name, f'val_tok{is_hist}.pkl'))\n",
        "\n",
        "x_test, y_test = load_tokenized_dict(os.path.join(\n",
        "                    drive_tokenized_path, load_dir, model_name, f'test_tok{is_hist}.pkl'))"
      ]
    },
    {
      "cell_type": "markdown",
      "id": "Q7FiFQD0Yv-n",
      "metadata": {
        "id": "Q7FiFQD0Yv-n"
      },
      "source": [
        "#### Compute tokenization "
      ]
    },
    {
      "cell_type": "code",
      "execution_count": null,
      "id": "6fJhsbxH04DJ",
      "metadata": {
        "colab": {
          "base_uri": "https://localhost:8080/"
        },
        "id": "6fJhsbxH04DJ",
        "outputId": "3d73edee-f845-44f1-e23d-0af7b4d86913"
      },
      "outputs": [
        {
          "name": "stdout",
          "output_type": "stream",
          "text": [
            "The column for the history has been added to the dataset.\n",
            "Tokenization begins ...\n",
            "\n"
          ]
        },
        {
          "name": "stderr",
          "output_type": "stream",
          "text": [
            "100%|██████████| 6/6 [01:20<00:00, 13.45s/it]\n"
          ]
        },
        {
          "name": "stdout",
          "output_type": "stream",
          "text": [
            "The column for the history has been added to the dataset.\n",
            "Tokenization begins ...\n",
            "\n"
          ]
        },
        {
          "name": "stderr",
          "output_type": "stream",
          "text": [
            "100%|██████████| 6/6 [00:18<00:00,  3.14s/it]\n"
          ]
        },
        {
          "name": "stdout",
          "output_type": "stream",
          "text": [
            "The column for the history has been added to the dataset.\n",
            "Tokenization begins ...\n",
            "\n"
          ]
        },
        {
          "name": "stderr",
          "output_type": "stream",
          "text": [
            "100%|██████████| 8/8 [00:06<00:00,  1.15it/s]\n"
          ]
        }
      ],
      "source": [
        "# Compute the tokenized data, if you specify a different dimension, only on a subset\n",
        "# of the dataset.\n",
        "train_samples = len(dataset_train)\n",
        "val_samples = len(dataset_val)\n",
        "history = True\n",
        "\n",
        "x_train, y_train, hist_train_dataset = tokenize_samples(\n",
        "    dataset_train.select(range(train_samples)),\n",
        "    tokenizer, with_history=history, batch_size=16384\n",
        "    )\n",
        "\n",
        "x_val, y_val, hist_val_dataset = tokenize_samples(\n",
        "    dataset_val.select(range(val_samples)),\n",
        "    tokenizer, with_history=history, batch_size=4096\n",
        "    )\n",
        "\n",
        "x_test, y_test, hist_test_dataset = tokenize_samples(\n",
        "    dataset_test, tokenizer, with_history=history, batch_size=1024\n",
        "    )"
      ]
    },
    {
      "cell_type": "markdown",
      "id": "5KDoYgi13amI",
      "metadata": {
        "id": "5KDoYgi13amI"
      },
      "source": [
        "##### Save tokenized data in .json"
      ]
    },
    {
      "cell_type": "code",
      "execution_count": null,
      "id": "7QxfGi7HnwkD",
      "metadata": {
        "id": "7QxfGi7HnwkD"
      },
      "outputs": [],
      "source": [
        "def save_tokenized_dict(x_data: dict, y_data: np.ndarray, file_path: str='./tokenized.pkl'):\n",
        "    '''\n",
        "        It saves the given data, a dictionary with 'input_ids' and \n",
        "        'attention_mask', as a .pkl file in the given_path. The values in the\n",
        "        x_data needs to be numpy arrays otherwise an error is raised due to the\n",
        "        'tolist()' function. \n",
        "        Parameters:\n",
        "            - x_data: dict\n",
        "                The dictionary that contains 'input_ids' and 'attention_mask'.\n",
        "            - y_data: np.ndarray\n",
        "                The array of tokenized answers.\n",
        "            - file_path: str\n",
        "                The path where the file will be saved.\n",
        "    '''\n",
        "    data = {**x_data, 'labels': y_data}\n",
        "    with open(file_path, 'wb') as handle:\n",
        "        pickle.dump(data, handle, protocol=pickle.HIGHEST_PROTOCOL)"
      ]
    },
    {
      "cell_type": "code",
      "execution_count": null,
      "id": "cL1B2CsTnyKF",
      "metadata": {
        "id": "cL1B2CsTnyKF"
      },
      "outputs": [],
      "source": [
        "save_to = 'history'\n",
        "is_history_save = '_hist' if save_to=='history' else ''\n",
        "model_name = bertiny_name.split('/')[-1] #roberta_name\n",
        "\n",
        "save_tokenized_dict(\n",
        "    x_train, y_train, \n",
        "    os.path.join(drive_tokenized_path, save_to, model_name, f'train_tok{is_history_save}.pkl')\n",
        "    )\n",
        "\n",
        "save_tokenized_dict(\n",
        "    x_val, y_val,\n",
        "    os.path.join(drive_tokenized_path, save_to, model_name, f'val_tok{is_history_save}.pkl')\n",
        "    )\n",
        "\n",
        "save_tokenized_dict(\n",
        "    x_test, y_test, \n",
        "    os.path.join(drive_tokenized_path, save_to, model_name, f'test_tok{is_history_save}.pkl')\n",
        "    )"
      ]
    },
    {
      "cell_type": "markdown",
      "id": "zP9VsaqkfIhm",
      "metadata": {
        "id": "zP9VsaqkfIhm"
      },
      "source": [
        "## Train the models [TASK 6 a]"
      ]
    },
    {
      "cell_type": "code",
      "execution_count": null,
      "id": "71xy7mv_fRKb",
      "metadata": {
        "id": "71xy7mv_fRKb"
      },
      "outputs": [],
      "source": [
        "def train_model(model: TFEncoderDecoderModel, X_train: dict, y_train: np.ndarray, epochs: int=3,\n",
        "                batch_size: int=32, optimizer: keras.optimizers.Optimizer=Adam(1e-5),\n",
        "                X_val: Optional[dict]=None, y_val: Optional[dict]=None) -> keras.callbacks.History:\n",
        "    '''\n",
        "        It trains the given model for the specified number of epochs, the given\n",
        "        optimizer and the given batch. It returns the history\n",
        "        Parameters:\n",
        "            - model: TFEncoderDecoderModel\n",
        "                The encoder decoder model to train on the data.\n",
        "            - X_train: dict\n",
        "                The dictionary that contains 'input_ids' and 'attention_mask'\n",
        "                arrays.\n",
        "            - y_train: np.ndarray\n",
        "                The array of the tokenized answers.\n",
        "            - epochs: int\n",
        "                The number of epochs to train the model for.\n",
        "            - batch_size: int\n",
        "                The batch size to use during the training.\n",
        "            - optimizer: keras.optimizers.Optimizer\n",
        "                The optimizer to consider for the training.\n",
        "            - X_val: dict | None\n",
        "                The X data for the validation dataset.\n",
        "            - y_val: dict | None\n",
        "                The y data for the validation dataset.\n",
        "        \n",
        "        Returns:\n",
        "            - keras.callbacks.History\n",
        "                The history of the training.\n",
        "    '''\n",
        "    validation_data = None if (X_val is None or y_val is None) else (X_val, y_val) \n",
        "\n",
        "    model.compile(optimizer=optim)\n",
        "\n",
        "    history = model.fit(X_train, y_train, epochs=epochs, batch_size=batch_size,\n",
        "                        validation_data=validation_data)\n",
        "    return history"
      ]
    },
    {
      "cell_type": "markdown",
      "id": "dgtYeRav5DdT",
      "metadata": {
        "id": "dgtYeRav5DdT"
      },
      "source": [
        "We only need to fine-tune the model on our data so we keep a low learning rate."
      ]
    },
    {
      "cell_type": "code",
      "execution_count": null,
      "id": "buBmeA61FrFc",
      "metadata": {
        "id": "buBmeA61FrFc"
      },
      "outputs": [],
      "source": [
        "def reduce_dataset(x: dict, y: np.ndarray, red_samples: int):\n",
        "    '''\n",
        "        It returns a smaller version of x and y taking only 'red_samples' samples.\n",
        "    '''\n",
        "    x_red = {\n",
        "        'input_ids': x['input_ids'][:red_samples],\n",
        "        'attention_mask': x['attention_mask'][:red_samples]\n",
        "        }\n",
        "    y_red = y[:red_samples]\n",
        "\n",
        "    return x_red, y_red"
      ]
    },
    {
      "cell_type": "code",
      "execution_count": null,
      "id": "xTKA9ZKPKd22",
      "metadata": {
        "id": "xTKA9ZKPKd22"
      },
      "outputs": [],
      "source": [
        "epochs = 3\n",
        "lr=3e-5\n",
        "optim = Adam(lr)\n",
        "\n",
        "def prepare_and_start_training(model, x_train, y_train, x_val, y_val, seed_ind,\n",
        "                               use_history, save=True):\n",
        "    '''\n",
        "        This function prepares the data (e.g. change dataset size if roberta), set\n",
        "        the desired seed and saves the model weights if the parameter 'save' is true.\n",
        "        It returns the history of the training of the model.\n",
        "    '''\n",
        "    curr_seed = seeds[seed_ind]\n",
        "    set_reproducibility(curr_seed)\n",
        "\n",
        "    # Reduce the batch size and number of samples to avoid OOM and too long training time\n",
        "    if 'roberta' in model.config.encoder.name_or_path:\n",
        "        red_train = 10000\n",
        "        red_val = 2000\n",
        "        batch_size = 16\n",
        "        mod_name = roberta_name\n",
        "\n",
        "        x_train_red, y_train_red = reduce_dataset(x_train, y_train, red_train)\n",
        "        x_val_red, y_val_red = reduce_dataset(x_val, y_val, red_val)\n",
        "\n",
        "        history = train_model(model, x_train_red, y_train_red, epochs, batch_size, optim, \n",
        "                        x_val_red, y_val_red)\n",
        "    else:\n",
        "        batch_size = 64\n",
        "        history = train_model(model, x_train, y_train, epochs, batch_size, optim, \n",
        "                        x_val, y_val)\n",
        "        mod_name = bertiny_name.split('/')[-1]\n",
        "\n",
        "    if save:\n",
        "        is_hist = 'history' if use_history else 'no_history'\n",
        "        save_to = os.path.join(drive_weights_path, mod_name, f'{curr_seed}_{is_hist}')\n",
        "        # Check if you really want to overwrite the weights\n",
        "        if os.path.exists(save_to):\n",
        "            permission = input(f\"Do you want to overwrite {save_to}? [y/n]\")\n",
        "            if permission == 'y':\n",
        "                model.save_pretrained(save_to)\n",
        "            else:\n",
        "                print(\"The model has not been saved as chosen.\")\n",
        "        else:\n",
        "            model.save_pretrained(save_to)\n",
        "    return history"
      ]
    },
    {
      "cell_type": "code",
      "execution_count": null,
      "id": "AT1keJY6KNY2",
      "metadata": {
        "id": "AT1keJY6KNY2"
      },
      "outputs": [],
      "source": [
        "from matplotlib import pyplot as plt\n",
        "\n",
        "def plot_loss(history, min_y, max_y):\n",
        "    plt.plot(history.history['loss'])\n",
        "    plt.plot(history.history['val_loss'])\n",
        "    plt.title('model loss')\n",
        "    plt.ylabel('loss')\n",
        "    plt.xlabel('epoch')\n",
        "    plt.ylim(min_y, max_y)\n",
        "    plt.legend(['train', 'val'], loc='upper left')\n",
        "    plt.show()"
      ]
    },
    {
      "cell_type": "markdown",
      "id": "ir9nt1qwbkvb",
      "metadata": {
        "id": "ir9nt1qwbkvb"
      },
      "source": [
        "### Bert-tiny models training"
      ]
    },
    {
      "cell_type": "markdown",
      "id": "e2WHzAP0boZV",
      "metadata": {
        "id": "e2WHzAP0boZV"
      },
      "source": [
        "#### Bert-tiny seed 42"
      ]
    },
    {
      "cell_type": "markdown",
      "id": "FNj_lHv4tiPv",
      "metadata": {
        "id": "FNj_lHv4tiPv"
      },
      "source": [
        "##### Without history"
      ]
    },
    {
      "cell_type": "code",
      "execution_count": null,
      "id": "U0PbM9S8t2Ma",
      "metadata": {
        "colab": {
          "base_uri": "https://localhost:8080/"
        },
        "id": "U0PbM9S8t2Ma",
        "outputId": "6d809937-75b3-4825-b5ac-e15ef6b7d310"
      },
      "outputs": [
        {
          "name": "stderr",
          "output_type": "stream",
          "text": [
            "No loss specified in compile() - the model's internal loss computation will be used as the loss. Don't panic - this is a common way to train TensorFlow models in Transformers! To disable this behaviour please pass a loss argument, or explicitly pass `loss=None` if you do not want your model to compute a loss.\n"
          ]
        },
        {
          "name": "stdout",
          "output_type": "stream",
          "text": [
            "Epoch 1/3\n"
          ]
        },
        {
          "name": "stderr",
          "output_type": "stream",
          "text": [
            "/usr/local/lib/python3.8/dist-packages/tensorflow/python/autograph/impl/api.py:371: FutureWarning: Version v4.17.0 introduces a better way to train encoder-decoder models by computing the loss inside the encoder-decoder framework rather than in the decoder itself. You may observe training discrepancies if fine-tuning a model trained with versions anterior to 4.17.0. The decoder_input_ids are now created based on the labels, no need to pass them yourself anymore.\n",
            "  return py_builtins.overload_of(f)(*args)\n",
            "WARNING:tensorflow:Gradients do not exist for variables ['tf_encoder_decoder_model/encoder/bert/pooler/dense/kernel:0', 'tf_encoder_decoder_model/encoder/bert/pooler/dense/bias:0'] when minimizing the loss. If you're using `model.compile()`, did you forget to provide a `loss`argument?\n",
            "WARNING:tensorflow:Gradients do not exist for variables ['tf_encoder_decoder_model/encoder/bert/pooler/dense/kernel:0', 'tf_encoder_decoder_model/encoder/bert/pooler/dense/bias:0'] when minimizing the loss. If you're using `model.compile()`, did you forget to provide a `loss`argument?\n"
          ]
        },
        {
          "name": "stdout",
          "output_type": "stream",
          "text": [
            "1304/1304 [==============================] - 419s 310ms/step - loss: 1.1535 - val_loss: 0.7299\n",
            "Epoch 2/3\n",
            "1304/1304 [==============================] - 401s 308ms/step - loss: 0.7343 - val_loss: 0.6935\n",
            "Epoch 3/3\n",
            "1304/1304 [==============================] - 402s 308ms/step - loss: 0.6832 - val_loss: 0.6495\n"
          ]
        }
      ],
      "source": [
        "history = prepare_and_start_training(model, x_train, y_train, x_val, y_val, \n",
        "                                     seed_ind=0, use_history=False, save=True)"
      ]
    },
    {
      "cell_type": "code",
      "execution_count": null,
      "id": "uoBL_wCatyKJ",
      "metadata": {
        "colab": {
          "base_uri": "https://localhost:8080/",
          "height": 295
        },
        "id": "uoBL_wCatyKJ",
        "outputId": "aec98865-61b8-4f64-d02c-e48d5ebeec77"
      },
      "outputs": [
        {
          "data": {
            "image/png": "[encoded data removed]",
            "text/plain": [
              "<Figure size 432x288 with 1 Axes>"
            ]
          },
          "metadata": {
            "needs_background": "light"
          },
          "output_type": "display_data"
        }
      ],
      "source": [
        "plot_loss(history, 0.5, 1.2)"
      ]
    },
    {
      "cell_type": "markdown",
      "id": "tKmW9Kk3u8xV",
      "metadata": {
        "id": "tKmW9Kk3u8xV"
      },
      "source": [
        "##### With history"
      ]
    },
    {
      "cell_type": "code",
      "execution_count": null,
      "id": "HAj3ncPW1syB",
      "metadata": {
        "colab": {
          "base_uri": "https://localhost:8080/"
        },
        "id": "HAj3ncPW1syB",
        "outputId": "2b6aa0c4-62b1-4be7-bb30-28386a967594"
      },
      "outputs": [
        {
          "name": "stderr",
          "output_type": "stream",
          "text": [
            "No loss specified in compile() - the model's internal loss computation will be used as the loss. Don't panic - this is a common way to train TensorFlow models in Transformers! To disable this behaviour please pass a loss argument, or explicitly pass `loss=None` if you do not want your model to compute a loss.\n"
          ]
        },
        {
          "name": "stdout",
          "output_type": "stream",
          "text": [
            "Epoch 1/3\n"
          ]
        },
        {
          "name": "stderr",
          "output_type": "stream",
          "text": [
            "/usr/local/lib/python3.8/dist-packages/tensorflow/python/autograph/impl/api.py:371: FutureWarning: Version v4.17.0 introduces a better way to train encoder-decoder models by computing the loss inside the encoder-decoder framework rather than in the decoder itself. You may observe training discrepancies if fine-tuning a model trained with versions anterior to 4.17.0. The decoder_input_ids are now created based on the labels, no need to pass them yourself anymore.\n",
            "  return py_builtins.overload_of(f)(*args)\n",
            "WARNING:tensorflow:Gradients do not exist for variables ['tf_encoder_decoder_model/encoder/bert/pooler/dense/kernel:0', 'tf_encoder_decoder_model/encoder/bert/pooler/dense/bias:0'] when minimizing the loss. If you're using `model.compile()`, did you forget to provide a `loss`argument?\n",
            "WARNING:tensorflow:Gradients do not exist for variables ['tf_encoder_decoder_model/encoder/bert/pooler/dense/kernel:0', 'tf_encoder_decoder_model/encoder/bert/pooler/dense/bias:0'] when minimizing the loss. If you're using `model.compile()`, did you forget to provide a `loss`argument?\n"
          ]
        },
        {
          "name": "stdout",
          "output_type": "stream",
          "text": [
            "1304/1304 [==============================] - 415s 309ms/step - loss: 1.1537 - val_loss: 0.7306\n",
            "Epoch 2/3\n",
            "1304/1304 [==============================] - 401s 308ms/step - loss: 0.7348 - val_loss: 0.6957\n",
            "Epoch 3/3\n",
            "1304/1304 [==============================] - 401s 307ms/step - loss: 0.6855 - val_loss: 0.6504\n"
          ]
        }
      ],
      "source": [
        "history = prepare_and_start_training(model, x_train, y_train, x_val, y_val, \n",
        "                                     seed_ind=0, use_history=True, save=True)"
      ]
    },
    {
      "cell_type": "code",
      "execution_count": null,
      "id": "pZk9zkpo1xUM",
      "metadata": {
        "colab": {
          "base_uri": "https://localhost:8080/",
          "height": 295
        },
        "id": "pZk9zkpo1xUM",
        "outputId": "03b5fdaf-aa93-4e78-8d7b-afac1be6e4d1"
      },
      "outputs": [
        {
          "data": {
            "image/png": "[encoded data removed]",
            "text/plain": [
              "<Figure size 432x288 with 1 Axes>"
            ]
          },
          "metadata": {
            "needs_background": "light"
          },
          "output_type": "display_data"
        }
      ],
      "source": [
        "plot_loss(history, 0.5, 1.2)"
      ]
    },
    {
      "cell_type": "markdown",
      "id": "I3sK03-Ubs-L",
      "metadata": {
        "id": "I3sK03-Ubs-L"
      },
      "source": [
        "#### Bert-tiny seed 2022"
      ]
    },
    {
      "cell_type": "markdown",
      "id": "hLSaExRdTZ4E",
      "metadata": {
        "id": "hLSaExRdTZ4E"
      },
      "source": [
        "##### Without history"
      ]
    },
    {
      "cell_type": "code",
      "execution_count": null,
      "id": "KfYQx_ocbwbH",
      "metadata": {
        "id": "KfYQx_ocbwbH"
      },
      "outputs": [],
      "source": [
        "history = prepare_and_start_training(model, x_train, y_train, x_val, y_val, \n",
        "                                     seed_ind=1, use_history=False, save=True)"
      ]
    },
    {
      "cell_type": "code",
      "execution_count": null,
      "id": "jJZeJVI9Tfug",
      "metadata": {
        "id": "jJZeJVI9Tfug"
      },
      "outputs": [],
      "source": [
        "plot_loss(history, 0.1, 1)"
      ]
    },
    {
      "cell_type": "markdown",
      "id": "gvrSc_EvT1n2",
      "metadata": {
        "id": "gvrSc_EvT1n2"
      },
      "source": [
        "##### With history"
      ]
    },
    {
      "cell_type": "code",
      "execution_count": null,
      "id": "u_o3ZrpzT3Wx",
      "metadata": {
        "id": "u_o3ZrpzT3Wx"
      },
      "outputs": [],
      "source": [
        "history = prepare_and_start_training(model, x_train, y_train, x_val, y_val, \n",
        "                                     seed_ind=1, use_history=True, save=True)"
      ]
    },
    {
      "cell_type": "code",
      "execution_count": null,
      "id": "Tca14hOnT6bY",
      "metadata": {
        "id": "Tca14hOnT6bY"
      },
      "outputs": [],
      "source": [
        "plot_loss(history, 0.1, 1)"
      ]
    },
    {
      "cell_type": "markdown",
      "id": "-aYGDoUWbxxd",
      "metadata": {
        "id": "-aYGDoUWbxxd"
      },
      "source": [
        "#### Bert-tiny seed 1337"
      ]
    },
    {
      "cell_type": "markdown",
      "id": "azptglePT9Fu",
      "metadata": {
        "id": "azptglePT9Fu"
      },
      "source": [
        "##### Without history"
      ]
    },
    {
      "cell_type": "code",
      "execution_count": null,
      "id": "QnBEB072T_fq",
      "metadata": {
        "id": "QnBEB072T_fq"
      },
      "outputs": [],
      "source": [
        "history = prepare_and_start_training(model, x_train, y_train, x_val, y_val, \n",
        "                                     seed_ind=2, use_history=False, save=True)"
      ]
    },
    {
      "cell_type": "code",
      "execution_count": null,
      "id": "Bs2LxEiBUGb4",
      "metadata": {
        "id": "Bs2LxEiBUGb4"
      },
      "outputs": [],
      "source": [
        "plot_loss(history, 0, 1)"
      ]
    },
    {
      "cell_type": "markdown",
      "id": "wX22I17uUKTq",
      "metadata": {
        "id": "wX22I17uUKTq"
      },
      "source": [
        "##### With history"
      ]
    },
    {
      "cell_type": "code",
      "execution_count": null,
      "id": "MZV0qBLoUMNq",
      "metadata": {
        "id": "MZV0qBLoUMNq"
      },
      "outputs": [],
      "source": [
        "history = prepare_and_start_training(model, x_train, y_train, x_val, y_val, \n",
        "                                     seed_ind=2, use_history=True, save=True)"
      ]
    },
    {
      "cell_type": "code",
      "execution_count": null,
      "id": "1QkaWS8lUNPW",
      "metadata": {
        "id": "1QkaWS8lUNPW"
      },
      "outputs": [],
      "source": [
        "plot_loss(history, 0, 1)"
      ]
    },
    {
      "cell_type": "markdown",
      "id": "qob7laawl5bN",
      "metadata": {
        "id": "qob7laawl5bN"
      },
      "source": [
        "### Distilroberta-base models training"
      ]
    },
    {
      "cell_type": "markdown",
      "id": "tS8vj3vkivit",
      "metadata": {
        "id": "tS8vj3vkivit"
      },
      "source": [
        "#### Distilroberta-base seed 42"
      ]
    },
    {
      "cell_type": "markdown",
      "id": "nOQK9Za4GRCT",
      "metadata": {
        "id": "nOQK9Za4GRCT"
      },
      "source": [
        "##### Without history"
      ]
    },
    {
      "cell_type": "code",
      "execution_count": null,
      "id": "IdjRk-nflvmE",
      "metadata": {
        "colab": {
          "base_uri": "https://localhost:8080/"
        },
        "id": "IdjRk-nflvmE",
        "outputId": "824d1f10-aed1-4aad-c3e2-e6f3f53fd5bd"
      },
      "outputs": [
        {
          "name": "stderr",
          "output_type": "stream",
          "text": [
            "No loss specified in compile() - the model's internal loss computation will be used as the loss. Don't panic - this is a common way to train TensorFlow models in Transformers! To disable this behaviour please pass a loss argument, or explicitly pass `loss=None` if you do not want your model to compute a loss.\n"
          ]
        },
        {
          "name": "stdout",
          "output_type": "stream",
          "text": [
            "Epoch 1/3\n"
          ]
        },
        {
          "name": "stderr",
          "output_type": "stream",
          "text": [
            "/usr/local/lib/python3.8/dist-packages/tensorflow/python/autograph/impl/api.py:371: FutureWarning: Version v4.17.0 introduces a better way to train encoder-decoder models by computing the loss inside the encoder-decoder framework rather than in the decoder itself. You may observe training discrepancies if fine-tuning a model trained with versions anterior to 4.17.0. The decoder_input_ids are now created based on the labels, no need to pass them yourself anymore.\n",
            "  return py_builtins.overload_of(f)(*args)\n",
            "WARNING:tensorflow:Gradients do not exist for variables ['tf_encoder_decoder_model/encoder/roberta/pooler/dense/kernel:0', 'tf_encoder_decoder_model/encoder/roberta/pooler/dense/bias:0'] when minimizing the loss. If you're using `model.compile()`, did you forget to provide a `loss`argument?\n",
            "WARNING:tensorflow:Gradients do not exist for variables ['tf_encoder_decoder_model/encoder/roberta/pooler/dense/kernel:0', 'tf_encoder_decoder_model/encoder/roberta/pooler/dense/bias:0'] when minimizing the loss. If you're using `model.compile()`, did you forget to provide a `loss`argument?\n"
          ]
        },
        {
          "name": "stdout",
          "output_type": "stream",
          "text": [
            "625/625 [==============================] - 904s 1s/step - loss: 1.2658 - val_loss: 0.9859\n",
            "Epoch 2/3\n",
            "625/625 [==============================] - 882s 1s/step - loss: 0.9134 - val_loss: 0.9226\n",
            "Epoch 3/3\n",
            "625/625 [==============================] - 883s 1s/step - loss: 0.8200 - val_loss: 0.8682\n"
          ]
        }
      ],
      "source": [
        "history = prepare_and_start_training(model, x_train, y_train, x_val, y_val, \n",
        "                                     seed_ind=0, use_history=False, save=True)"
      ]
    },
    {
      "cell_type": "code",
      "execution_count": null,
      "id": "s9RkOY87T9_n",
      "metadata": {
        "colab": {
          "base_uri": "https://localhost:8080/",
          "height": 295
        },
        "id": "s9RkOY87T9_n",
        "outputId": "41a13612-2a35-4c02-8665-cdcefa3387de"
      },
      "outputs": [
        {
          "data": {
            "image/png": "[encoded data removed]",
            "text/plain": [
              "<Figure size 432x288 with 1 Axes>"
            ]
          },
          "metadata": {
            "needs_background": "light"
          },
          "output_type": "display_data"
        }
      ],
      "source": [
        "plot_loss(history, 0.7, 1.4)"
      ]
    },
    {
      "cell_type": "markdown",
      "id": "wHFR9RgCGUPx",
      "metadata": {
        "id": "wHFR9RgCGUPx"
      },
      "source": [
        "##### With history"
      ]
    },
    {
      "cell_type": "code",
      "execution_count": null,
      "id": "BhVhtnvUhWmS",
      "metadata": {
        "colab": {
          "base_uri": "https://localhost:8080/"
        },
        "id": "BhVhtnvUhWmS",
        "outputId": "9a686470-c535-4a94-e231-6068f7e689a9"
      },
      "outputs": [
        {
          "name": "stderr",
          "output_type": "stream",
          "text": [
            "No loss specified in compile() - the model's internal loss computation will be used as the loss. Don't panic - this is a common way to train TensorFlow models in Transformers! To disable this behaviour please pass a loss argument, or explicitly pass `loss=None` if you do not want your model to compute a loss.\n"
          ]
        },
        {
          "name": "stdout",
          "output_type": "stream",
          "text": [
            "Epoch 1/3\n"
          ]
        },
        {
          "name": "stderr",
          "output_type": "stream",
          "text": [
            "/usr/local/lib/python3.8/dist-packages/tensorflow/python/autograph/impl/api.py:371: FutureWarning: Version v4.17.0 introduces a better way to train encoder-decoder models by computing the loss inside the encoder-decoder framework rather than in the decoder itself. You may observe training discrepancies if fine-tuning a model trained with versions anterior to 4.17.0. The decoder_input_ids are now created based on the labels, no need to pass them yourself anymore.\n",
            "  return py_builtins.overload_of(f)(*args)\n",
            "WARNING:tensorflow:Gradients do not exist for variables ['tf_encoder_decoder_model/encoder/roberta/pooler/dense/kernel:0', 'tf_encoder_decoder_model/encoder/roberta/pooler/dense/bias:0'] when minimizing the loss. If you're using `model.compile()`, did you forget to provide a `loss`argument?\n",
            "WARNING:tensorflow:Gradients do not exist for variables ['tf_encoder_decoder_model/encoder/roberta/pooler/dense/kernel:0', 'tf_encoder_decoder_model/encoder/roberta/pooler/dense/bias:0'] when minimizing the loss. If you're using `model.compile()`, did you forget to provide a `loss`argument?\n"
          ]
        },
        {
          "name": "stdout",
          "output_type": "stream",
          "text": [
            "625/625 [==============================] - 901s 1s/step - loss: 1.2693 - val_loss: 0.9823\n",
            "Epoch 2/3\n",
            "625/625 [==============================] - 878s 1s/step - loss: 0.9116 - val_loss: 0.9297\n",
            "Epoch 3/3\n",
            "625/625 [==============================] - 913s 1s/step - loss: 0.8168 - val_loss: 0.8379\n"
          ]
        }
      ],
      "source": [
        "history = prepare_and_start_training(model, x_train, y_train, x_val, y_val, \n",
        "                                     seed_ind=0, use_history=True, save=True)"
      ]
    },
    {
      "cell_type": "code",
      "execution_count": null,
      "id": "v42tsgSuhay_",
      "metadata": {
        "colab": {
          "base_uri": "https://localhost:8080/",
          "height": 295
        },
        "id": "v42tsgSuhay_",
        "outputId": "1ff1a698-2c9d-4083-9bad-1431511226ab"
      },
      "outputs": [
        {
          "data": {
            "image/png": "[encoded data removed]",
            "text/plain": [
              "<Figure size 432x288 with 1 Axes>"
            ]
          },
          "metadata": {
            "needs_background": "light"
          },
          "output_type": "display_data"
        }
      ],
      "source": [
        "plot_loss(history, 0.7, 1.4)"
      ]
    },
    {
      "cell_type": "markdown",
      "id": "Ju27ZRiJbI_C",
      "metadata": {
        "id": "Ju27ZRiJbI_C"
      },
      "source": [
        "#### Distilroberta-base seed 2022"
      ]
    },
    {
      "cell_type": "markdown",
      "id": "AoPyK-J3UYrM",
      "metadata": {
        "id": "AoPyK-J3UYrM"
      },
      "source": [
        "##### Without history"
      ]
    },
    {
      "cell_type": "code",
      "execution_count": null,
      "id": "KmEwwz3-Ubu5",
      "metadata": {
        "id": "KmEwwz3-Ubu5"
      },
      "outputs": [],
      "source": [
        "history = prepare_and_start_training(model, x_train, y_train, x_val, y_val, \n",
        "                                     seed_ind=1, use_history=False, save=True)"
      ]
    },
    {
      "cell_type": "code",
      "execution_count": null,
      "id": "QpOxJw5JbOct",
      "metadata": {
        "id": "QpOxJw5JbOct"
      },
      "outputs": [],
      "source": [
        "plot_loss(history, 0.7, 1.5)"
      ]
    },
    {
      "cell_type": "markdown",
      "id": "M-UdWiyaUiuW",
      "metadata": {
        "id": "M-UdWiyaUiuW"
      },
      "source": [
        "##### With history"
      ]
    },
    {
      "cell_type": "code",
      "execution_count": null,
      "id": "Q-liRSB3UkY0",
      "metadata": {
        "id": "Q-liRSB3UkY0"
      },
      "outputs": [],
      "source": [
        "history = prepare_and_start_training(model, x_train, y_train, x_val, y_val, \n",
        "                                     seed_ind=1, use_history=True, save=True)"
      ]
    },
    {
      "cell_type": "code",
      "execution_count": null,
      "id": "Gas7PnNVUtDZ",
      "metadata": {
        "id": "Gas7PnNVUtDZ"
      },
      "outputs": [],
      "source": [
        "plot_loss(history, 0.7, 1.5)"
      ]
    },
    {
      "cell_type": "markdown",
      "id": "ffJy4f8YbYer",
      "metadata": {
        "id": "ffJy4f8YbYer"
      },
      "source": [
        "#### Distilroberta-base seed 1337"
      ]
    },
    {
      "cell_type": "markdown",
      "id": "TgEw9pLeUyGP",
      "metadata": {
        "id": "TgEw9pLeUyGP"
      },
      "source": [
        "##### Without history"
      ]
    },
    {
      "cell_type": "code",
      "execution_count": null,
      "id": "WigDu_gHUzzT",
      "metadata": {
        "id": "WigDu_gHUzzT"
      },
      "outputs": [],
      "source": [
        "history = prepare_and_start_training(model, x_train, y_train, x_val, y_val, \n",
        "                                     seed_ind=2, use_history=False, save=True)"
      ]
    },
    {
      "cell_type": "code",
      "execution_count": null,
      "id": "HhHtuA44bcbr",
      "metadata": {
        "id": "HhHtuA44bcbr"
      },
      "outputs": [],
      "source": [
        "plot_loss(history, 0.7, 1.5)"
      ]
    },
    {
      "cell_type": "markdown",
      "id": "kkbr3LNVU6H8",
      "metadata": {
        "id": "kkbr3LNVU6H8"
      },
      "source": [
        "##### With history"
      ]
    },
    {
      "cell_type": "code",
      "execution_count": null,
      "id": "bV7rV2q3U8jF",
      "metadata": {
        "id": "bV7rV2q3U8jF"
      },
      "outputs": [],
      "source": [
        "history = prepare_and_start_training(model, x_train, y_train, x_val, y_val, \n",
        "                                     seed_ind=2, use_history=True, save=True)"
      ]
    },
    {
      "cell_type": "code",
      "execution_count": null,
      "id": "PeVHT-lVVAtR",
      "metadata": {
        "id": "PeVHT-lVVAtR"
      },
      "outputs": [],
      "source": [
        "plot_loss(history, 0.7, 1.5)"
      ]
    },
    {
      "cell_type": "markdown",
      "id": "WVo26jFIMBhz",
      "metadata": {
        "id": "WVo26jFIMBhz"
      },
      "source": [
        "## Compute squad f1 score [TASK 6 b, TASK 7]"
      ]
    },
    {
      "cell_type": "markdown",
      "id": "lRySN7JoMBh0",
      "metadata": {
        "id": "lRySN7JoMBh0"
      },
      "source": [
        "\n",
        "In order to compute the squad f1 score we decided to use the [squad metric](https://huggingface.co/spaces/evaluate-metric/squad) from Huggingface. \n",
        "\n",
        "To avoid problem with RAM allocation (model.generate gave OOM error if we tried to run on the full test set), we generate batch of results and then we merge them together before computing the f1 score.\n",
        "\n",
        "If you are testing and an OOM error occur try to reduce the batch size or the number of samples.\n",
        "\n",
        "***NOTE***: actually we saved all the predicted answers for each model in a dataframe and we saved it in a pickle file 'df_final_evaluation.pkl' therefore using it there should not be any problems."
      ]
    },
    {
      "cell_type": "code",
      "execution_count": 27,
      "id": "A3McHp3_MBh0",
      "metadata": {
        "id": "A3McHp3_MBh0",
        "colab": {
          "base_uri": "https://localhost:8080/"
        },
        "outputId": "de6f9953-7d7c-47bd-f75d-c7fbb850d0d6"
      },
      "outputs": [
        {
          "output_type": "stream",
          "name": "stdout",
          "text": [
            "\u001b[?25l\r\u001b[K     |████▌                           | 10 kB 13.1 MB/s eta 0:00:01\r\u001b[K     |█████████                       | 20 kB 6.1 MB/s eta 0:00:01\r\u001b[K     |█████████████▌                  | 30 kB 8.3 MB/s eta 0:00:01\r\u001b[K     |██████████████████              | 40 kB 4.4 MB/s eta 0:00:01\r\u001b[K     |██████████████████████▌         | 51 kB 4.2 MB/s eta 0:00:01\r\u001b[K     |███████████████████████████     | 61 kB 5.0 MB/s eta 0:00:01\r\u001b[K     |███████████████████████████████▌| 71 kB 5.7 MB/s eta 0:00:01\r\u001b[K     |████████████████████████████████| 72 kB 1.1 MB/s \n",
            "\u001b[?25h"
          ]
        }
      ],
      "source": [
        "!pip install evaluate -q\n",
        "import evaluate"
      ]
    },
    {
      "cell_type": "code",
      "execution_count": null,
      "id": "ZriJmUm0MBh0",
      "metadata": {
        "id": "ZriJmUm0MBh0"
      },
      "outputs": [],
      "source": [
        "f1_metric = evaluate.load(\"squad\")"
      ]
    },
    {
      "cell_type": "code",
      "execution_count": null,
      "id": "iphTmLslMBh1",
      "metadata": {
        "cellView": "form",
        "id": "iphTmLslMBh1"
      },
      "outputs": [],
      "source": [
        "#@title #### Function for computing the f1 score on the entire dataset\n",
        "#@markdown This function was used to compute the predicted answers and the f1\n",
        "#@markdown score for each model.\n",
        "def compute_f1_score(model: TFEncoderDecoderModel, X: dict, answers: List[str],\n",
        "                     metric: evaluate.EvaluationModule, tokenizer,\n",
        "                     num_samples: Optional[int]=None, max_length: int=20, batch_size: int=500, \n",
        "                     return_pred_answers: bool=False) -> Tuple[float, list]:\n",
        "    '''\n",
        "        This function takes as input a dataset, it runs inference on the given\n",
        "        model and then it returns the F1 score metric.\n",
        "        Parameters:\n",
        "            - model: transformers.models\n",
        "                The model to run inference on.\n",
        "            - X: dict\n",
        "                The structure that contains the input_ids and attention_mask, it\n",
        "                is obtained doing 'variable.data' on an object of type\n",
        "                transformers.tokenization_utils_base.BatchEncoding.\n",
        "            - answers: list\n",
        "                The array of strings of answers.\n",
        "            - metric: evaluate.Metric\n",
        "                It's the metric object to consider for the computation.\n",
        "            - tokenizer:\n",
        "                The tokenizer of the model.\n",
        "            - num_samples: int \n",
        "                The function takes from the samples the first 'num_samples'\n",
        "                samples.\n",
        "            - max_length: int\n",
        "                It's the maximum length used during the generation\n",
        "            - batch_size: int\n",
        "                It's the batch size used to pass this number of answers to the \n",
        "                model (to avoid RAM allocation error).\n",
        "            - return_pred_answers: bool\n",
        "                If the function has to return the array of predicted answers.\n",
        "\n",
        "        Returns:\n",
        "            - (float, list)\n",
        "                The f1 score and the array of predicted answers if return_pred_answers\n",
        "                is True, only the f1 score and an empty list otherwise.\n",
        "    '''\n",
        "    # Take all the samples\n",
        "    if num_samples == None:\n",
        "        num_samples = len(answers)\n",
        "    \n",
        "    assert num_samples > batch_size, \"ERROR: the batch size is greater than the number of samples.\"\n",
        "    \n",
        "    ids, att_mask = X['input_ids'][:num_samples], X['attention_mask'][:num_samples]\n",
        "\n",
        "    num_step = num_samples//batch_size\n",
        "    # The last batch may be smaller than the batch_size \n",
        "    last_batch_size = num_samples - (num_step*batch_size)\n",
        "\n",
        "    predicted_answers = []\n",
        "    print(\"Computing the f1 score ... \\n\")\n",
        "    for i in tqdm(range(num_step+1)):\n",
        "        start = batch_size*(i)\n",
        "\n",
        "        # Check if it has to run the last batch with a different size\n",
        "        if i >= num_step:\n",
        "            if last_batch_size > 0:\n",
        "                batch_size = last_batch_size\n",
        "            else:\n",
        "                break\n",
        "\n",
        "        out = model.generate(ids[start:start+batch_size], \n",
        "                             attention_mask=att_mask[start:start+batch_size],\n",
        "                             max_length=max_length).numpy()\n",
        "\n",
        "        refs = []\n",
        "        preds = []\n",
        "        for j in range(start, start+batch_size):\n",
        "            # The model output is always of 'batch_size' elements so I need to\n",
        "            # access the j - start element\n",
        "            pred_string = tokenizer.decode(out[j-start], skip_special_tokens=True)\n",
        "            if return_pred_answers:\n",
        "                predicted_answers.append(pred_string)\n",
        "\n",
        "            preds.append({'prediction_text':pred_string, 'id':str(j)})\n",
        "            refs.append({'answers': {'text':[answers[j]],'answer_start':[0],},'id':str(j)})\n",
        "\n",
        "        metric.add_batch(predictions=preds, references=refs)\n",
        "\n",
        "    f1_score = metric.compute()\n",
        "    assert f1_score is not None\n",
        "    \n",
        "    return f1_score['f1'], predicted_answers"
      ]
    },
    {
      "cell_type": "markdown",
      "id": "0qrn9-pHiXZf",
      "metadata": {
        "id": "0qrn9-pHiXZf"
      },
      "source": [
        "To make the whole process more efficient, once we computed the predicted answers and the f1 score for each model with the previous function, we decided to save a DataFrame with all the questions and answers of the test set, the first 7965 (that is the length of the test set to make a fair comparison) of the validation set and the predicted answers for both validation and test set of all the models.\n",
        "\n",
        "Given this DataFrame we can perform the desired operations to compute in a more efficient way the different f1 scores needed."
      ]
    },
    {
      "cell_type": "code",
      "execution_count": 41,
      "id": "41Ik0t8Ri38v",
      "metadata": {
        "id": "41Ik0t8Ri38v"
      },
      "outputs": [],
      "source": [
        "df_eval_path = os.path.join(drive_weights_path, 'df_final_evaluation.pkl')\n",
        "df_final_evaluation = pd.read_pickle(df_eval_path)"
      ]
    },
    {
      "cell_type": "markdown",
      "id": "RQtKkDL1e1Kn",
      "metadata": {
        "id": "RQtKkDL1e1Kn"
      },
      "source": [
        "For simplicity we decided to divide the evaluation dataframe in 2 dataframes, one for the validation set and the other for the test set."
      ]
    },
    {
      "cell_type": "code",
      "execution_count": 31,
      "id": "8niSqI6efGYZ",
      "metadata": {
        "cellView": "form",
        "id": "8niSqI6efGYZ"
      },
      "outputs": [],
      "source": [
        "#@title #### Function for splitting the evaluation dataframe \n",
        "def split_eval_df(df):\n",
        "    val_cols = []\n",
        "    test_cols = ['source']\n",
        "    # Find all the columns that are of validation or test set\n",
        "    for col in df.columns:\n",
        "        if col.startswith('test') or col.endswith('test'):\n",
        "            test_cols.append(col)\n",
        "        else:\n",
        "            val_cols.append(col)\n",
        "\n",
        "    df_test_eval, df_val_eval = df[test_cols], df[val_cols]\n",
        "    return df_test_eval, df_val_eval"
      ]
    },
    {
      "cell_type": "code",
      "execution_count": 42,
      "id": "CjPLqjSHgmbq",
      "metadata": {
        "id": "CjPLqjSHgmbq"
      },
      "outputs": [],
      "source": [
        "df_test_eval, df_val_eval = split_eval_df(df_final_evaluation)\n",
        "\n",
        "df_test_eval = df_test_eval.rename({'test_story':'story', 'test_quest':'questions',\n",
        "                                    'test_answ': 'answers'}, axis=1)\n",
        "df_val_eval = df_val_eval.rename({'val_story':'story', 'val_quest':'questions',\n",
        "                                  'val_answ': 'answers'}, axis=1);"
      ]
    },
    {
      "cell_type": "markdown",
      "id": "pzJTHl7XkqUu",
      "metadata": {
        "id": "pzJTHl7XkqUu"
      },
      "source": [
        "As explained before from now on the functions take as input the 2 saved dataframes that contain the predicted answers from all the model + the source, the stories, the questions and the actual answers."
      ]
    },
    {
      "cell_type": "code",
      "execution_count": 59,
      "id": "Eyyg7qqek9ID",
      "metadata": {
        "id": "Eyyg7qqek9ID",
        "cellView": "form"
      },
      "outputs": [],
      "source": [
        "#@title #### New function to compute f1 score on all the dataset\n",
        "\n",
        "def get_selected_model(df, model_name, with_history, seed):\n",
        "    '''\n",
        "        Given the evaluation dataframe and the different parameters it returns\n",
        "        the dataframe with the source, story, questions, answers and the predicted\n",
        "        answers of the desired model.\n",
        "    '''\n",
        "    mod_abbr = 'rob' if 'roberta' in model_name else 'bert'\n",
        "    hist = '_h' if with_history else 'nh'\n",
        "\n",
        "    correct_cols = lambda x: mod_abbr in x and hist in x and str(seed) in x\n",
        "    \n",
        "    # Take the source, story, questions, answers and the other correct ones \n",
        "    sel_model = [col for col in df.columns[4:] if correct_cols(col)]\n",
        "    cols = list(df.columns[:4]) + sel_model\n",
        "\n",
        "    assert len(cols) > 4, \"ERROR: with the selected combination there is no model.\"\n",
        "    \n",
        "    res = df[cols].rename({sel_model[0]: 'predictions'}, axis=1)\n",
        "    print(f\"The model {model_name} {'with' if with_history else 'without'} the history\"\n",
        "          f\" and seed {seed} has been selected.\\n\")\n",
        "    \n",
        "    return res\n",
        "\n",
        "\n",
        "\n",
        "def add_sample_metric(sample, metric):\n",
        "    pred = {'prediction_text':sample['predictions'], 'id':str(sample.name)}\n",
        "    ref = {'answers': {'text':[sample['answers']],'answer_start':[0],},'id':str(sample.name)}\n",
        "\n",
        "    metric.add(prediction=pred, reference=ref)\n",
        "    return sample\n",
        "\n",
        "def compute_f1_score_eval(df: pd.DataFrame, model_name: str, with_history: bool,\n",
        "                          seed: int, metric) -> float:\n",
        "\n",
        "    clean = get_selected_model(df, model_name, with_history, seed)\n",
        "    clean.apply(add_sample_metric, metric=metric, axis=1)\n",
        "\n",
        "    f1_score = metric.compute()\n",
        "    assert f1_score is not None\n",
        "\n",
        "    return f1_score['f1']"
      ]
    },
    {
      "cell_type": "code",
      "execution_count": 63,
      "id": "18UEsBkGWQm4",
      "metadata": {
        "cellView": "form",
        "id": "18UEsBkGWQm4"
      },
      "outputs": [],
      "source": [
        "#@title #### Functions to compute f1 score by source and dialogue [TASK 7]\n",
        "def compute_f1_group(sample, metric):\n",
        "    '''\n",
        "        It computes the f1 score and the sum of the questions, answers and predicted\n",
        "        answers for the samples within a same dialogue provided by a source.\n",
        "    '''\n",
        "    sumstr = []\n",
        "    for i, (ans, pr) in enumerate(zip(sample['answers'], sample['predictions'])):\n",
        "        pred = {'prediction_text':pr, 'id':str(i)}\n",
        "        ref = {'answers': {'text':[ans],'answer_start':[0]},'id':str(i)}\n",
        "        metric.add(prediction=pred, reference=ref)\n",
        "        sumstr.append(f\"Q:{sample['questions'].iloc[i]} A:{ans} P:{pr}\")\n",
        "\n",
        "    return pd.Series({'f1':metric.compute()['f1'], 'dialogue': sumstr})\n",
        "\n",
        "\n",
        "def f1_score_source_dialogue(df_eval, model_name, with_history, seed, metric, \n",
        "                             drop_index=None):\n",
        "    '''\n",
        "        Returns a DataFrame with 2 additional columns, one for the f1 score at\n",
        "        a dialogue level and another for the dialogue with the questions, the \n",
        "        answers and the predicted answers.\n",
        "    '''\n",
        "\n",
        "    df_sel = get_selected_model(df_eval, model_name, with_history, seed)\n",
        "    new_df = df_sel.groupby(['source','story'], sort=True) \\\n",
        "                    .apply(compute_f1_group, metric=metric)\n",
        "\n",
        "    if drop_index is not None:\n",
        "        assert isinstance(drop_index, bool), \"ERROR: drop_index needs to be a bool.\"\n",
        "        new_df = new_df.reset_index(drop=drop_index)\n",
        "    return new_df\n",
        "\n",
        "\n",
        "def k_worst_best_dialogues(df_f1: pd.DataFrame, mode: str='worst', k: int=5):\n",
        "    '''\n",
        "        It returns the k best / worst dialogues for each source.\n",
        "        Parameters:\n",
        "            - df_f1: pd.DataFrame\n",
        "                The dataframe on which we want to perform the operation, must be\n",
        "                the dataframe for which the f1 has already been calculated for\n",
        "                each dialogue.\n",
        "            - mode: str\n",
        "                - 'worst': returns the k worst dialogues considering the f1 score.\n",
        "                - 'best': returns the k best dialogues considering the f1 score.\n",
        "                - 'both': returns 2 dataframes, one for the k best dialogues and\n",
        "                   one for the k worst dialogues for each source.\n",
        "            - k: int\n",
        "                The number of dialogues to return for each source.\n",
        "        \n",
        "        Returns:\n",
        "            - Tuple(pd.DataFrame, pd.DataFrame) | Tuple(pd.DataFrame, None)\n",
        "                If the function needs to return only one DataFrame, the second\n",
        "                element of the tuple is None, otherwise it returns the 'best' one \n",
        "                first and then the other.\n",
        "    '''\n",
        "    best_df, worst_df = None, None\n",
        "    if mode == 'worst':\n",
        "        worst_df = df_f1.groupby('source', as_index=False) \\\n",
        "                    .apply(lambda x: x.nsmallest(k, columns=['f1']))\n",
        "        return worst_df, best_df\n",
        "\n",
        "    elif mode == 'best':\n",
        "        best_df = df_f1.groupby('source', as_index=False) \\\n",
        "                    .apply(lambda x: x.nlargest(k, columns=['f1']))\n",
        "        return best_df, worst_df\n",
        "\n",
        "    elif mode == 'both':\n",
        "        best_df = df_f1.groupby('source', as_index=False) \\\n",
        "                    .apply(lambda x: x.nlargest(k, columns=['f1']))\n",
        "        worst_df = df_f1.groupby('source', as_index=False) \\\n",
        "                    .apply(lambda x: x.nsmallest(k, columns=['f1']))\n",
        "        return best_df, worst_df"
      ]
    },
    {
      "cell_type": "markdown",
      "id": "rLRdSlF3SK21",
      "metadata": {
        "id": "rLRdSlF3SK21"
      },
      "source": [
        "### Bert-tiny models f1 evaluation"
      ]
    },
    {
      "cell_type": "code",
      "execution_count": null,
      "metadata": {
        "id": "wpcgO1UXSK29"
      },
      "outputs": [],
      "source": [
        "# Load the pickle to update it\n",
        "df_final_evaluation = pd.read_pickle(os.path.join(drive_weights_path, 'df_final_evaluation.pkl'))  "
      ],
      "id": "wpcgO1UXSK29"
    },
    {
      "cell_type": "markdown",
      "id": "jkjbneuSSK22",
      "metadata": {
        "id": "jkjbneuSSK22"
      },
      "source": [
        "#### Bert-tiny seed 42"
      ]
    },
    {
      "cell_type": "markdown",
      "id": "dVpgDe0_SK22",
      "metadata": {
        "id": "dVpgDe0_SK22"
      },
      "source": [
        "##### Without history"
      ]
    },
    {
      "cell_type": "code",
      "execution_count": 60,
      "id": "849UsuugSK24",
      "metadata": {
        "colab": {
          "base_uri": "https://localhost:8080/"
        },
        "id": "849UsuugSK24",
        "outputId": "ce190a2c-4816-438c-bf99-8040c0414f0c"
      },
      "outputs": [
        {
          "output_type": "stream",
          "name": "stdout",
          "text": [
            "The model prajjwal1/bert-tiny without the history and seed 42 has been selected.\n",
            "\n",
            "The f1 score on the test set is 12.47\n"
          ]
        }
      ],
      "source": [
        "f1_nohist_42_test = compute_f1_score_eval(df_test_eval, bertiny_name, False, seeds[0], f1_metric)\n",
        "print(f\"The f1 score on the test set is {round(f1_nohist_42_test, 2)}\")"
      ]
    },
    {
      "cell_type": "code",
      "execution_count": 61,
      "id": "_oBwz9ffSK25",
      "metadata": {
        "colab": {
          "base_uri": "https://localhost:8080/"
        },
        "id": "_oBwz9ffSK25",
        "outputId": "79cfb54c-0191-4b89-c85a-cc0f2e909136"
      },
      "outputs": [
        {
          "output_type": "stream",
          "name": "stdout",
          "text": [
            "The model prajjwal1/bert-tiny without the history and seed 42 has been selected.\n",
            "\n",
            "The f1 score on the validation set is 11.76\n"
          ]
        }
      ],
      "source": [
        "f1_nohist_42_val = compute_f1_score_eval(df_val_eval, bertiny_name, False, seeds[0], f1_metric)\n",
        "print(f\"The f1 score on the validation set is {round(f1_nohist_42_val, 2)}\")"
      ]
    },
    {
      "cell_type": "code",
      "source": [
        "df_f1_nohist_42 = f1_score_source_dialogue(df_test_eval, bertiny_name, False,\n",
        "                                           seeds[0], f1_metric)\n",
        "\n",
        "df_worst_nohist_42, _ = k_worst_best_dialogues(df_f1_nohist_42, mode='worst', k=5)\n",
        "display(df_worst_nohist_42)"
      ],
      "metadata": {
        "colab": {
          "base_uri": "https://localhost:8080/",
          "height": 1000
        },
        "id": "yL-0aqv3k8vO",
        "outputId": "2e64c156-9e5a-447e-be0d-4a2454b0f912"
      },
      "id": "yL-0aqv3k8vO",
      "execution_count": 69,
      "outputs": [
        {
          "output_type": "stream",
          "name": "stdout",
          "text": [
            "The model prajjwal1/bert-tiny without the history and seed 42 has been selected.\n",
            "\n"
          ]
        },
        {
          "output_type": "display_data",
          "data": {
            "text/plain": [
              "                                                                 f1  \\\n",
              "  source    story                                                     \n",
              "0 cnn       (CNN) -- A 16-year-old Pennsylvania boy is faci...  0.0   \n",
              "            (CNN) -- A Russian bookmaking company is offeri...  0.0   \n",
              "            (CNN) -- According to the \"Guinness Book of Wor...  0.0   \n",
              "            (CNN) -- Brad Pitt clearly has a great deal goi...  0.0   \n",
              "            (CNN) -- FBI agents on Friday night searched th...  0.0   \n",
              "1 gutenberg CHAPTER FIFTY FIVE. \\n\\nWAITING. \\n\\nThe length...  0.0   \n",
              "            CHAPTER IV. \\n\\nLady Wallinger and Edith were t...  0.0   \n",
              "            CHAPTER VIII. \\n\\nHOSTAGE. \\n\\nThe revolution o...  0.0   \n",
              "            CHAPTER VIII. STEAD IN POSSESSION. \\n\\n\"At nigh...  0.0   \n",
              "            CHAPTER X \\n\\nAfter nearly a year's captivity, ...  0.0   \n",
              "2 mctest    A boy named Pedro was walking down the street o...  0.0   \n",
              "            Andrew waited for his granddaddy to show up. Th...  0.0   \n",
              "            Annie was helping her little brother Max pick f...  0.0   \n",
              "            As Michael put each finger on the white laces o...  0.0   \n",
              "            David and Sue went to their Auntie's house to v...  0.0   \n",
              "3 race      \"What is success\"? Mr. Black asked his 6th grad...  0.0   \n",
              "            A couple of weeks ago, my 12-year-old daughter,...  0.0   \n",
              "            A great loss--Shirley Temple dies at 85 \\n\\nFeb...  0.0   \n",
              "            Canada geese are large blue and white birds .Wh...  0.0   \n",
              "            Christopher Thomas, 27, was a writer by night a...  0.0   \n",
              "4 wikipedia A psychological identity relates to self-image ...  0.0   \n",
              "            A social class (or, simply, class), as in class...  0.0   \n",
              "            A thorough understanding of adolescence in soci...  0.0   \n",
              "            A440 or A4 (also known as the Stuttgart pitch),...  0.0   \n",
              "            Cork was originally a monastic settlement, repu...  0.0   \n",
              "\n",
              "                                                                                                         dialogue  \n",
              "  source    story                                                                                                  \n",
              "0 cnn       (CNN) -- A 16-year-old Pennsylvania boy is faci...  [Q:HOW OLD IS THE PERSPECTIVE? A:16 P:two, Q:W...  \n",
              "            (CNN) -- A Russian bookmaking company is offeri...  [Q:What did the firm do with the offer? A:decl...  \n",
              "            (CNN) -- According to the \"Guinness Book of Wor...  [Q:What is the most popular character in films...  \n",
              "            (CNN) -- Brad Pitt clearly has a great deal goi...  [Q:How many children does he have? A:Six. P:tw...  \n",
              "            (CNN) -- FBI agents on Friday night searched th...  [Q:Whose house was searched? A:Gary Giordano P...  \n",
              "1 gutenberg CHAPTER FIFTY FIVE. \\n\\nWAITING. \\n\\nThe length...  [Q:Who was excommunicated? A:Fra Girolamo P:th...  \n",
              "            CHAPTER IV. \\n\\nLady Wallinger and Edith were t...  [Q:Was someone in the morning room alone? A:no...  \n",
              "            CHAPTER VIII. \\n\\nHOSTAGE. \\n\\nThe revolution o...  [Q:What was the revolution A:Todos Santos P:th...  \n",
              "            CHAPTER VIII. STEAD IN POSSESSION. \\n\\n\"At nigh...  [Q:Who surrendered? A:the garrison of Bristol ...  \n",
              "            CHAPTER X \\n\\nAfter nearly a year's captivity, ...  [Q:What was the King to pay? A:a ransom P:the ...  \n",
              "2 mctest    A boy named Pedro was walking down the street o...  [Q:How many times do you have to ring the bell...  \n",
              "            Andrew waited for his granddaddy to show up. Th...  [Q:Why? A:Because they were going fishing. P:h...  \n",
              "            Annie was helping her little brother Max pick f...  [Q:What holiday was coming up? A:Mother's Day ...  \n",
              "            As Michael put each finger on the white laces o...  [Q:What sport was Michael playing? A:football ...  \n",
              "            David and Sue went to their Auntie's house to v...  [Q:When did they go to visit their Aunt? A:Sat...  \n",
              "3 race      \"What is success\"? Mr. Black asked his 6th grad...  [Q:mr black asked what ? A:What is success P:h...  \n",
              "            A couple of weeks ago, my 12-year-old daughter,...  [Q:Who threatened to take a phone? A:Ella. P:t...  \n",
              "            A great loss--Shirley Temple dies at 85 \\n\\nFeb...  [Q:Who is this news story about? A:Shirley Tem...  \n",
              "            Canada geese are large blue and white birds .Wh...  [Q:What time of year do they travel to the war...  \n",
              "            Christopher Thomas, 27, was a writer by night a...  [Q:What disease was he diagnosed with? A:diabe...  \n",
              "4 wikipedia A psychological identity relates to self-image ...  [Q:What is the ISA? A:Identity Structure Analy...  \n",
              "            A social class (or, simply, class), as in class...  [Q:What is one group that analyzes classes? A:...  \n",
              "            A thorough understanding of adolescence in soci...  [Q:What non-biological purpose does it have? A...  \n",
              "            A440 or A4 (also known as the Stuttgart pitch),...  [Q:What entity standardized A4 on 440 Hertz? A...  \n",
              "            Cork was originally a monastic settlement, repu...  [Q:Who granted the city's charter? A:Prince Jo...  "
            ],
            "text/html": [
              "\n",
              "  <div id=\"df-1196edef-f280-40b0-b538-4d08ad52c7b6\">\n",
              "    <div class=\"colab-df-container\">\n",
              "      <div>\n",
              "<style scoped>\n",
              "    .dataframe tbody tr th:only-of-type {\n",
              "        vertical-align: middle;\n",
              "    }\n",
              "\n",
              "    .dataframe tbody tr th {\n",
              "        vertical-align: top;\n",
              "    }\n",
              "\n",
              "    .dataframe thead th {\n",
              "        text-align: right;\n",
              "    }\n",
              "</style>\n",
              "<table border=\"1\" class=\"dataframe\">\n",
              "  <thead>\n",
              "    <tr style=\"text-align: right;\">\n",
              "      <th></th>\n",
              "      <th></th>\n",
              "      <th></th>\n",
              "      <th>f1</th>\n",
              "      <th>dialogue</th>\n",
              "    </tr>\n",
              "    <tr>\n",
              "      <th></th>\n",
              "      <th>source</th>\n",
              "      <th>story</th>\n",
              "      <th></th>\n",
              "      <th></th>\n",
              "    </tr>\n",
              "  </thead>\n",
              "  <tbody>\n",
              "    <tr>\n",
              "      <th rowspan=\"5\" valign=\"top\">0</th>\n",
              "      <th rowspan=\"5\" valign=\"top\">cnn</th>\n",
              "      <th>(CNN) -- A 16-year-old Pennsylvania boy is facing murder charges, accused of fatally shooting a cab driver who he believed was intentionally taking a longer route to his destination. \\n\\nAazis Richardson is accused of shooting the cab driver, Vincent Darbenzio, 47, twice in the back of his head while still in the cab, according to Lackawanna County Assistant District Attorney Gene Talerico. \\n\\nRichardson believed Darbenzio had ignored his route suggestions in attempt to increase the fare, according to Talerico. \\n\\n\"I just told him, 'take this way;' he didn't want to listen -- he got his (expletive) shot,\" Richardson told CNN affiliate WNEP. \\n\\nCalls and e-mails to the Lackawanna County public defender's office, which is representing Richardson, were not immediately returned. \\n\\nAs Richardson was being taken away, he showed no remorse for the driver or his family telling WNEP, \"my homies died, everybody gotta die.\" \\n\\nRichardson was charged as an adult with multiple counts of murder in the first, second and third degrees, as well as robbery and firearms-related offenses, according Talerico. \\n\\nOn Sunday, more than 50 of Darbenzio's friends and family members held a vigil near the spot where Darbenzio was killed, according to the victim's brother, Chris Darbenzio. \\n\\nRichardson is currently being held without bail at the Lackawanna County Prison, according to the district attorney's office. \\n\\n</th>\n",
              "      <td>0.0</td>\n",
              "      <td>[Q:HOW OLD IS THE PERSPECTIVE? A:16 P:two, Q:W...</td>\n",
              "    </tr>\n",
              "    <tr>\n",
              "      <th>(CNN) -- A Russian bookmaking company is offering to pay 100,000 euros for Paul, the prognosticating octopus who correctly predicted Spain's win in the World Cup. \\n\\n\"100,000 euros (about $129,800) was our starting price,\" Oleg Zhuravsky, co-owner of Liga Stavok -- \"Bet League\" in Russian -- told CNN. He said the offer could be increased if need be -- \"We are bookmakers, after all.\" \\n\\nPaul currently lives at the Sea Life Center in Oberhausen, Germany. Zhuravsky said a representative of the center's public relations firm has told him the offer has been received and \"they are studying it.\" \\n\\nHowever, the firm, Dederichs Reinecke and Parner, said it declined the Russian offer and that Paul will not be sold to anyone. \\n\\n\"Seriously speaking, we want the octopus for a number of purposes,\" Zhuravsky said. \"First, to see whether he can indeed effectively forecast the results of the football games. Secondly, Paul could become a good mascot, a good symbol for my bookmaking companies. And thirdly, he has an international fame like perhaps no other animal across the world does these days, and I'd love to be able to move him to Russia. \\n\\n\"Both kids and adults, I'm sure, would love to see him here,\" he said. \"We are even prepared to put him in the Moscow City Aquarium if that were the condition.\" \\n\\nHe said Paul would be given \"the best food\" and officials would let him forecast the results of the Russian domestic football tournament, \"which, I think, is a more difficult task than predicting the World Cup,\" he said. \"This would also boost the profile of the Moscow Aquarium.\"</th>\n",
              "      <td>0.0</td>\n",
              "      <td>[Q:What did the firm do with the offer? A:decl...</td>\n",
              "    </tr>\n",
              "    <tr>\n",
              "      <th>(CNN) -- According to the \"Guinness Book of World Records,\" Sherlock Holmes is the most popular role in the movies. \\n\\nSo if Robert Downey Jr. hardly seems like the iconic Sherlock (he's too short and muscular, and strains to suggest the intellectual arrogance that comes so easily to the English), he can take his place alongside such oddball castings as Buster Keaton, Charlton Heston and George C. Scott. And he's ideally suited to director Guy Ritchie's purpose, which is not to dust off your grandfather's Conan Doyle, but to juice today's kids with a quirky 19th century super sleuth. \\n\\nWhat's fun about these movies is that the equation works both ways. \\n\\nYes, this Holmes is more likely to get physical than his predecessors, he's even a bit of a boor, but he's still a more cerebral action hero than we find in most blockbusters, and the period trappings (a seamless blend of CGI and location work) help this franchise stand out from the crowd of comic book adaptations. \\n\\nRitchie and husband-and-wife screenwriters Kieran and Michele Mulroney (\"Paper Man\") map out a fast-moving -- if ridiculously digressive -- Victorian adventure that crisscrosses Europe by horseless carriage, train, boat, and, in Sherlock's case, pony. \\n\\nJust down the road from 221 Baker Street they're digging a tunnel for what will become the London Underground. The Industrial Age is beginning to stretch its muscles, while a series of terrorist atrocities are gnawing at the fragile understanding between the great European powers. Holmes detects something other than social unrest behind the bombings: an evil master plan leading inexorably to his nemesis, Professor Moriarty (Jared Harris).</th>\n",
              "      <td>0.0</td>\n",
              "      <td>[Q:What is the most popular character in films...</td>\n",
              "    </tr>\n",
              "    <tr>\n",
              "      <th>(CNN) -- Brad Pitt clearly has a great deal going on. \\n\\nBetween being dad to six children, a fiancÃ©, an activist and a perfume pitchman, he still manages to squeeze in some time acting. The movie star recently sat down with \"Showbiz Tonight's\" A.J. Hammer to talk about his latest project, the mob film \"Killing Them Softly,\" and that nagging question of when he plans to marry partner Angelina Jolie. \\n\\nA.J. Hammer: Brad, we've got a mob movie and I believe the first one we've seen that has political campaign speeches throughout it. \\n\\nBrad Pitt: I like to mix it up. \\n\\nHammer: Was this -- for you -- as much about making a mob movie as it was about sending a political message? \\n\\nPitt: This is a good friend of mine, the writer and director, Andrew Dominik, he's from Australia, and his view of America was very interesting to me. His feeling in some way oppressed and that we get caught up in trying to sell the idea that the image is more important than the actual substance. This is what he was trying to tell with this story. He finds this book about a crime syndicate, and he makes these comparisons to -- not politics, per se, or not just politics, but ... the financial crisis itself, and it was a good subject matter. \\n\\nHammer: I know, and timely! The idea of the mob dealing with corporate concerns or falling off a fiscal cliff. How timely is that coming off this political season?</th>\n",
              "      <td>0.0</td>\n",
              "      <td>[Q:How many children does he have? A:Six. P:tw...</td>\n",
              "    </tr>\n",
              "    <tr>\n",
              "      <th>(CNN) -- FBI agents on Friday night searched the Maryland home of the suspect in the recent disappearance of an American woman in Aruba, an agent said. \\n\\nThe search is occurring in the Gaithersburg residence of Gary Giordano, who is currently being held in an Aruban jail, FBI Special Agent Rich Wolf told CNN. \\n\\nAgents, wearing vests that said FBI and carrying empty cardboard and plastic boxes, arrived about 8:40 p.m. Friday. About 15 unmarked cars could be seen on the street, as well as a Montgomery County police vehicle. \\n\\nSupervisory Special Agent Philip Celestini, who was at the residence, declined to comment further on the search, citing the active investigation. \\n\\nAruban Solicitor General Taco Stein said earlier Friday that the suspect will appear in court Monday, where an investigating magistrate could order him held for at least eight more days, order him to remain on the island or release him outright due to a lack of evidence. \\n\\nGiordano was arrested by Aruban police on August 5, three days after Robyn Gardner was last seen near Baby Beach on the western tip of the Caribbean island. \\n\\nGiordano told authorities that he had been snorkeling with Gardner when he signaled to her to swim back, according to a statement. When he reached the beach, Gardner was nowhere to be found, Giordano allegedly said. \\n\\nThe area that Giordano led authorities to is a rocky, unsightly location that locals say is not a popular snorkeling spot. \\n\\nAlthough prosecutors have continued to identify the 50-year-old American man by his initials, GVG, they also released a photo of a man who appears to be Giordano. His attorney, Michael Lopez, also has said that his client is being held as a suspect in Gardner's death. Lopez has not returned telephone calls seeking comment.</th>\n",
              "      <td>0.0</td>\n",
              "      <td>[Q:Whose house was searched? A:Gary Giordano P...</td>\n",
              "    </tr>\n",
              "    <tr>\n",
              "      <th rowspan=\"5\" valign=\"top\">1</th>\n",
              "      <th rowspan=\"5\" valign=\"top\">gutenberg</th>\n",
              "      <th>CHAPTER FIFTY FIVE. \\n\\nWAITING. \\n\\nThe lengthening sunny days went on without bringing either what Romola most desired or what she most dreaded. They brought no sign from Baldassarre, and, in spite of special watch on the part of the Government, no revelation of the suspected conspiracy. But they brought other things which touched her closely, and bridged the phantom-crowded space of anxiety with active sympathy in immediate trial. They brought the spreading Plague and the Excommunication of Savonarola. \\n\\nBoth these events tended to arrest her incipient alienation from the Frate, and to rivet again her attachment to the man who had opened to her the new life of duty, and who seemed now to be worsted in the fight for principle against profligacy. For Romola could not carry from day to day into the abodes of pestilence and misery the sublime excitement of a gladness that, since such anguish existed, she too existed to make some of the anguish less bitter, without remembering that she owed this transcendent moral life to Fra Girolamo. She could not witness the silencing and excommunication of a man whose distinction from the great mass of the clergy lay, not in any heretical belief, not in his superstitions, but in the energy with which he sought to make the Christian life a reality, without feeling herself drawn strongly to his side. \\n\\nFar on in the hot days of June the Excommunication, for some weeks arrived from Rome, was solemnly published in the Duomo. Romola went to witness the scene, that the resistance it inspired might invigorate that sympathy with Savonarola which was one source of her strength. It was in memorable contrast with the scene she had been accustomed to witness there.</th>\n",
              "      <td>0.0</td>\n",
              "      <td>[Q:Who was excommunicated? A:Fra Girolamo P:th...</td>\n",
              "    </tr>\n",
              "    <tr>\n",
              "      <th>CHAPTER IV. \\n\\nLady Wallinger and Edith were together in the morning room of Hellingsley, the morrow after the arrival of Oswald. Edith was arranging flowers in a vase, while her aunt was embroidering a Spanish peasant in correct costume. The daughter of Millbank looked as bright and fragrant as the fair creations that surrounded her. Beautiful to watch her as she arranged their forms and composed their groups; to mark her eye glance with gratification at some happy combination of colour, or to listen to her delight as they wafted to her in gratitude their perfume. Oswald and Sir Joseph were surveying the stables; Mr. Millbank, who had been daily expected for the last week from the factories, had not yet arrived. \\n\\n'I must say he gained my heart from the first,' said Lady Wallinger. \\n\\n'I wish the gardener would send us more roses,' said Edith. \\n\\n'He is so very superior to any young man I ever met,' continued Lady Wallinger. \\n\\n'I think we must have this vase entirely of roses; don't you think so, aunt?' inquired her niece. \\n\\n'I am fond of roses,' said Lady Wallinger. 'What beautiful bouquets Mr. Coningsby gave us at Paris, Edith!' \\n\\n'Beautiful!' \\n\\n'I must say, I was very happy when I met Mr. Coningsby again at Cambridge,' said Lady Wallinger. 'It gave me much greater pleasure than seeing any of the colleges.' \\n\\n'How delighted Oswald seems at having Mr. Coningsby for a companion again!' said Edith. \\n\\n'And very naturally,' said Lady Wallinger. 'Oswald ought to deem himself fortunate in having such a friend. I am sure the kindness of Mr. Coningsby when we met him at Cambridge is what I never shall forget. But he always was my favourite from the first time I saw him at Paris. Do you know, Edith, I liked him best of all your admirers.'</th>\n",
              "      <td>0.0</td>\n",
              "      <td>[Q:Was someone in the morning room alone? A:no...</td>\n",
              "    </tr>\n",
              "    <tr>\n",
              "      <th>CHAPTER VIII. \\n\\nHOSTAGE. \\n\\nThe revolution of Todos Santos had to all appearances been effected as peacefully as the gentle Liberator of Quinquinambo could have wished. Two pronunciamientos, rudely printed and posted in the Plaza, and saluted by the fickle garrison of one hundred men, who had, however, immediately reappointed their old commander as Generalissimo under the new regime, seemed to leave nothing to be desired. A surging mob of vacant and wondering peons, bearing a singular resemblance to the wild cattle and horses which intermingled with them in blind and unceasing movement across the Plaza and up the hilly street, and seemingly as incapable of self-government, were alternately dispersed and stampeded or allowed to gather again as occasion required. Some of these heterogeneous bands were afterwards found--the revolution accomplished--gazing stupidly on the sea, or ruminating in bovine wantonness on the glacis before the Presidio. \\n\\nEleanor Keene, who with her countrywomen had been hurried to the refuge of the Mission, was more disturbed and excited at the prospect of meeting Hurlstone again than by any terror of the insurrection. But Hurlstone was not there, and Father Esteban received her with a coldness she could not attribute entirely to her countrymen's supposed sympathy with the insurgents. When Richard Keene, who would not leave his sister until he had seen her safe under the Mission walls, ventured at her suggestion to ask after the American recluse, Father Esteban replied dryly that, being a Christian gentleman, Hurlstone was the only one who had the boldness to seek out the American filibuster Perkins, on his own ship, and remonstrate with him for his unholy crusade. For the old priest had already become aware of Hurlstone's blunder, and he hated Eleanor as the primary cause of the trouble. But for her, Diego would be still with him in this emergency.</th>\n",
              "      <td>0.0</td>\n",
              "      <td>[Q:What was the revolution A:Todos Santos P:th...</td>\n",
              "    </tr>\n",
              "    <tr>\n",
              "      <th>CHAPTER VIII. STEAD IN POSSESSION. \\n\\n\"At night returning, every labour sped, He sits him down, the monarch of a shed.\" GOLDSMITH. \\n\\nAnother day made it certain that the garrison of Bristol had surrendered to the besiegers. A few shots were heard, but they were only fired in rejoicing by the Royalists, and while Steadfast was studying his barley field, already silvered over by its long beards, and wondering how soon it would be ripe, and how he should get it cut and stacked, his name was shouted out, and he saw Tom Oates and all the rest of the boys scampering down the lane. \\n\\n\"Come along, Stead Kenton, come on and see, the Parliament soldiers come out and go by.\" \\n\\nPoor Steadfast had not much heart for watching soldiers, but it struck him that he might see or hear something of Jephthah, so he came with the other boys to the bank, where from behind a hedge they could look down at the ranks of soldiers as they marched along, five abreast, the road was not wide enough to hold more. They had been allowed to keep their weapons, so the officers had their swords, and the men carried their musquets. Most of them looked dull and dispirited, and the officers had very gloomy, displeased faces. In fact, they were very angry with their commander, Colonel Fiennes, for having surrendered so easily, and he was afterwards brought to a court-martial for having done so. \\n\\nStead did not understand this, he thought only of looking under each steel cap or tall, slouching hat for Jephthah. Several times a youthful, slender figure raised his hopes, and disappointed him, and he began to wonder whether Jeph could have after all stayed behind in the town, or if he could have been hurt and was ill there.</th>\n",
              "      <td>0.0</td>\n",
              "      <td>[Q:Who surrendered? A:the garrison of Bristol ...</td>\n",
              "    </tr>\n",
              "    <tr>\n",
              "      <th>CHAPTER X \\n\\nAfter nearly a year's captivity, the King engaged to pay a ransom, and, until the terms could be arranged, his two sons were to be placed as hostages in the hands of the Normans, whilst he returned to his own domains. The Princes were to be sent to Bayeux; whither Richard had returned, under the charge of the Centevilles, and was now allowed to ride and walk abroad freely, provided he was accompanied by a guard. \\n\\n\"I shall rejoice to have Carloman, and make him happy,\" said Richard; \"but I wish Lothaire were not coming.\" \\n\\n\"Perhaps,\" said good Father Lucas, \"he comes that you may have a first trial in your father's last lesson, and Abbot Martin's, and return good for evil.\" \\n\\nThe Duke's cheek flushed, and he made no answer. \\n\\nHe and Alberic betook themselves to the watch-tower, and, by and by, saw a cavalcade approaching, with a curtained vehicle in the midst, slung between two horses. \"That cannot be the Princes,\" said Alberic; \"that must surely be some sick lady.\" \\n\\n\"I only hope it is not the Queen,\" exclaimed Richard, in dismay. \"But no; Lothaire is such a coward, no doubt he was afraid to ride, and she would not trust her darling without shutting him up like a demoiselle. But come down, Alberic; I will say nothing unkind of Lothaire, if I can help it.\" \\n\\nRichard met the Princes in the court, his sunny hair uncovered, and bowing with such becoming courtesy, that Fru Astrida pressed her son's arm, and bade him say if their little Duke was not the fairest and noblest child in Christendom.</th>\n",
              "      <td>0.0</td>\n",
              "      <td>[Q:What was the King to pay? A:a ransom P:the ...</td>\n",
              "    </tr>\n",
              "    <tr>\n",
              "      <th rowspan=\"5\" valign=\"top\">2</th>\n",
              "      <th rowspan=\"5\" valign=\"top\">mctest</th>\n",
              "      <th>A boy named Pedro was walking down the street one day, and he met a pretty girl in a pink dress who handed him a bell. It was made of metal, and looked worn and old. The girl said, this bell gave me my wish for a pink dress, but in order to keep my wish, I have to give the bell to someone else. Ring the bell three times to get your wish. Not two, not four, but three. When your wish arrives, give the bell to someone else. Pedro thanked the girl for the bell, and when she had gone, he rang the bell three times and wished for a puppy. Soon after, he saw a puppy on a street corner. It was black with brown and white spots. He picked the puppy up and hugged it. Then he saw his friend Alice. He gave the bell to Alice, who rang the bell and wished for a pretty bird. Soon a pretty bird landed on her shoulder. Alice thought the bell was a wonderful thing, and chose to keep it, rather than give it away. The next day when she woke up, her bird had flown away.</th>\n",
              "      <td>0.0</td>\n",
              "      <td>[Q:How many times do you have to ring the bell...</td>\n",
              "    </tr>\n",
              "    <tr>\n",
              "      <th>Andrew waited for his granddaddy to show up. They were going fishing. His mom had packed them a lunch. She had made Peanut Butter and Jelly Sandwiches. She also packed a bottle of nice cool water to drink. Andrew had wanted something else for lunch. He wanted chicken or cold cuts or left over meat loaf, but his mom sent Peanut Butter and Jelly sandwiches. The best way to get to the river was along the path. When the path ended, they needed to go through the bushes to the river. On some days they would think about going another way. They could go over the bridge, or through the back of the house or through Uncle Tom's yard. Today they took the path to the river. Andrew found some animal poop along the path. He asked his Grandpa what kind of animal poop he had found. He wanted to know if it was a lion, a tiger or a bear that had made the poop. Grandpa pointed in the bushes. Andrew saw a small black and white animal looking at him with big eyes. Andrew knew that he had was looking at a raccoon. He was sure that the raccoon had made the poop. When Andrew and Grandpa got to the river they put their fishing poles into the water. Andrew caught his first fish right away. He caught a second fish before lunch. He got hungry and had his Peanut Butter and Jelly sandwich and cool water. He saw that Grandpa had fallen asleep. After eating his lunch, Andrew caught three more fish before he woke up his grandpa. When Andrew and Grandpa got back home they gave all the fish they had caught to Andrew's mother, so she could make a good dinner.</th>\n",
              "      <td>0.0</td>\n",
              "      <td>[Q:Why? A:Because they were going fishing. P:h...</td>\n",
              "    </tr>\n",
              "    <tr>\n",
              "      <th>Annie was helping her little brother Max pick flowers from the garden. They wanted to put the flowers in a jar to put on the kitchen table. Mother's Day was the next day and their mother loved fresh flowers. \\n\\nAfter they picked flowers and put them in a jar, Max asked Annie if they could have a snack. Annie took Max into the kitchen and got out an apple to slice up. They sat down at the table looking at the flowers and ate their apple slices. There was a window in the kitchen that let in sunlight. \\n\\n\"Hey!\" Max said, pointing at one of the roses in the jar. \"There's something moving on that rose.\" \\n\\nAnnie looked more closely at the flowers. \"It's a ladybug,\" she said. \"We need to take it back outside.\" \\n\\nSuddenly the ladybug began flying around the kitchen. Max jumped up and ran around trying to catch it. At last he clapped his hands around it. \"Careful!\" said Annie. \\n\\nMax walked outside and let the ladybug go.</th>\n",
              "      <td>0.0</td>\n",
              "      <td>[Q:What holiday was coming up? A:Mother's Day ...</td>\n",
              "    </tr>\n",
              "    <tr>\n",
              "      <th>As Michael put each finger on the white laces of the football like his dad had shown him he thought about his school trip to the zoo tomorrow. He could not wait to get to the zoo and most of all could not wait to see his favorite animal, the lion. Aiming the football at the tire swing that hung in his back yard, he remembered the second thing his dad had taught him about throwing a football which was making sure his shoulder and the football were in a straight line before he threw it. He watched the football sail toward the tire, right as his mom called him in for dinner. His mom had made his favorite food, hotdogs. He sat in the kitchen and watched as ketchup fell on to his plate as he ate his hotdog. His mom told him that in order to get his after dinner treat he would have to eat his corn, carrots, and drink all of his milk too. \\n\\nThat night as his mom tucked him in to bed he starred out the window and wondered if the lions at the zoo were looking up at the moon too. Michael, wondered if his best friends Joe, Nick, and Ryan were as excited as he was about going to the zoo the next day. He closed his eyes and went to sleep. \\n\\nThe next day he hopped from one foot to the other as his class lined up to get on the bus that would take him to the zoo. On the bus he sat with Ryan. The bus driver started the engine and turned the big steering wheel leading them out on to the road. Finally, at the zoo Michael began to imagine how cool it would be to finally get to see the lion cage. First his class went to see the monkeys and then headed over to see the long necked giraffes. As their teacher announced that they would then be going to see the elephants, we wondered if he would ever get to see the lions. Finally after learning about the elephants it was time to see the lions. The lion stood on a huge rock and swung its long tail from side to side. The lion licked his lips with its long pink tongue and Michael wondered if it was thinking about having a class full of kids for its lunch.</th>\n",
              "      <td>0.0</td>\n",
              "      <td>[Q:What sport was Michael playing? A:football ...</td>\n",
              "    </tr>\n",
              "    <tr>\n",
              "      <th>David and Sue went to their Auntie's house to visit on Saturday morning. She had some new ducklings in the pond that they wanted to see. They went out to the pond and on the way they saw a frog. They also saw a boat in the water. They saw a water lily. They looked in the water until they saw the mother duck and her ducklings. They were different colors. Six of them were brown and yellow. Four of them were only yellow. Two ducklings were brown. There was one that was white. They were all very fuzzy. They went back to the house to tell Auntie Beth about the ducklings. She was cooking on the stove. She asked Sue to get some eggs. She asked David to get some butter. Auntie Beth poured some milk into a bowl of flour. She made them a cake. \"I'm so glad you've come to visit me,\" Auntie Beth said. Sue told her about the things they saw at the pond. David said, \"We saw a frog. Don't forget the frog. It was my favorite.\" It was a good visit.</th>\n",
              "      <td>0.0</td>\n",
              "      <td>[Q:When did they go to visit their Aunt? A:Sat...</td>\n",
              "    </tr>\n",
              "    <tr>\n",
              "      <th rowspan=\"5\" valign=\"top\">3</th>\n",
              "      <th rowspan=\"5\" valign=\"top\">race</th>\n",
              "      <th>\"What is success\"? Mr. Black asked his 6th grade business class. It was his opening conversation for the first class of the term. \"Success is riding in a sweet car, watching an 80-inch( TV, and living in a place with at least twelve rooms.\" One student answered, earning laughs from all the students. Mr. Black smiled, but shook his head. \"Tom, that is excess . That is not success.\" \"How about being able to provide for your family?\" A blonde girl named Sandy in the front suggested as an answer. \"Now we're getting closer,\" Mr. Black smiled, \"but try thinking about what you need and what you want.\" \"Getting everything you want.\" Tom shouted out an answer again, trying for more laughs. Mr. Black sighed .\" I believe we've already talked about excess versus(...) success.\" \"Getting everything you need, but some of what you want?\" James, sitting in the back wondered aloud. \"Quite right!\" Mr. Black clapped. \"Success is getting everything you need and some of what you want. The more you get that you want, the more successful you are. You do reach a point where you are living in excess, though.\" \"What does this have to do with business?\" Tom asked. It seemed if it wasn't funny, he wasn't happy. \"Well, Tom, think of it this way: the point of business is to make a living to support your family. Once you have properly seen to their needs, you can then seen to getting the extras that you want.\" \"What if I don't have a family?\" he continued to be difficult. \"Then you have to provide for yourself, a family of one.\" \"He has goldfish to think about!\" Peter, Tom's friend, shouted out. \"Then he needs to provide for a family of one with a fishbowl.\" Mr. Black corrected himself. Tom nodded, satisfied with that answer. \"So in the next nine weeks, we're going to study basic business situations, like having a checking account and understanding credit cards .\" Tom rubbed his hands together excitedly. \"When do we get to start spending?\" \"You already are, Tom. You're spending time with us!\" Mr. Black laughed. \"Now, let's see what you guys know about credit cards...\"</th>\n",
              "      <td>0.0</td>\n",
              "      <td>[Q:mr black asked what ? A:What is success P:h...</td>\n",
              "    </tr>\n",
              "    <tr>\n",
              "      <th>A couple of weeks ago, my 12-year-old daughter, Ella threatened to take my phone and break it. \"At night you'll always have your phone out and break you'll just type,\" Ella says. \"I'm ready to go to bed, and try to get you to read stories for me and you're just standing there reading your texts and texting other people,\" she adds. I came to realize that I was ignoring her as a father. \\n\\nElla isn't the only kid who feels this way about her parent's relationship with devices. Catherine Steiner-Adair, a psychologist at Harvard, wrote The Big Disconnect: Protecting Childhood and Family Relationships in the Digital Age. For her book, Steiner-Adair interviewed more than 1,000 kids from the ages of 4 to 18. She talked to hundreds of teachers and parents. \\n\\nOne of the many things that knocked my socks off, \" she says, \"was the consistency with which children -- whether they were 4 or 8 or 18 or 24-- talked about feeling exhausted and frustrated or mad trying to get their parents' attention, competing with computer screens or iPhone screens or any kind of technology.\" \\n\\nA couple of years ago, my daughter got a laptop for school. And because she was becoming more independent, we got her a phone. We set up rules for when she could use the device and when she'd need to put it away. We created a charging station, outside her bedroom, where she had to plug in these devices every night. Basically -- except for homework-- she has to put it all away when she comes home. \\n\\nSteiner-Adair says most adults don't set up similar limits in their own lives. \"We've lost the boundaries that protect work and family life,'' she says. \"So it is very hard to manage yourself and be present in the moments your children need you.'' \\n\\nAfter my daughter's little intervention ,I made myself a promise to create my own charging station. To plug my phone in-- somewhere faraway -- when I am done working for the day. I've been trying to leave it there untouched for most of the weekend</th>\n",
              "      <td>0.0</td>\n",
              "      <td>[Q:Who threatened to take a phone? A:Ella. P:t...</td>\n",
              "    </tr>\n",
              "    <tr>\n",
              "      <th>A great loss--Shirley Temple dies at 85 \\n\\nFebruary 12,2014 \\n\\nBYDERRIKJ.LANG ,Associated Press \\n\\nShirley Temple Black, who died on February 10that age 85, wasn't just a child star. She was THE child star--the sweet little girl whose shining smile helped _ some of the darkest days the US has known during the Great Depression. \\n\\nIt's hard today to imagine the super star Shirley was once \"America's Little Darling\". She sang and danced her way to the top of the box office in such films as Bright Eyes, Curly Top and Heidi. By 1940, she had appeared in 43 films. Temple teamed with Bill Robison in four movies, and their dance on the stairs in The Little Colonel is still a legendary film moment. \\n\\nIn the 1930s, her name on a movie introduction assured a packed house. She inspired dolls, dresses, dishes--even a drink (alcohol-free, of course). \\n\\nUS President Franklin D. Roosevelt once famously said that \"as long as our country has Shirley Temple, we will be all right.'' \\n\\nUnlike so many of today's child stars, Temple didn't end up with her name appearing across the headlines for bad behaviors. Instead of getting her photos on front pages or struggling with drugs and alcohol, Temple went on to a second career in diplomacy , including presidential appointments as ambassador to Ghana. \\n\\nShe surprised a lot of people who doubted her with her grace, knowledge and eagerness to serve. In fact, her career in public service (20 years) was longer than her career in movies (19). The role she valued most, however, was as wife, mother, grandmother and great-grandmother. \\n\\nThe world has lost a treasured Hollywood legend. But her movies will allow that little dynamic figure to continue charming audiences for a very long time.</th>\n",
              "      <td>0.0</td>\n",
              "      <td>[Q:Who is this news story about? A:Shirley Tem...</td>\n",
              "    </tr>\n",
              "    <tr>\n",
              "      <th>Canada geese are large blue and white birds .When autumn arrives ,they have to fly south where the weather is warmer .The winters are so cold in Canada that the birds will die if they stay there . Last spring ,Bill Lishman found sixteen young Canada geese on his farm \"They had lost their parents , \"Bill thought . \"These young birds won't know what to do in the autumn . Bill had a small plane and he decided to teach the birds to follow him .All through the summer ,he went on short trips in his plane and the young geese flew after him .\" When the cold weather arrived in autumn ,Bill flew to Virginia in the United States ,600 miles south from his home in Canada .The geese follwed him all the way .Bill flew to Virginia and returned home . This spring ,Bill was waiting for the birds to come back .They didn't arrive ,so Bill flew to Virginia to get them .He looked for them for two weeks but he couldn't find them . When he arrived back home ,Bill found the geese waiting for him .Then had found the way home without him !</th>\n",
              "      <td>0.0</td>\n",
              "      <td>[Q:What time of year do they travel to the war...</td>\n",
              "    </tr>\n",
              "    <tr>\n",
              "      <th>Christopher Thomas, 27, was a writer by night and a teacher by day when he noticed he was always tired and was losing weight fast. Diagnosed with diabetes , Thomas would need to inject himself with insulin three times a day for the rest of his life or risk nerve damage, blindness, and even death. And if that weren't bad enough, he had no health insurance. After a month of feeling upset, Thomas decided he'd better find a way to fight back. He left Canton, Michigan for New York, got a job waiting tables, nicknamed himself the Diabetic Rockstar , and created diabeticrockstar.com, a free online community for diabetics and their loved ones--a place where over 1,100 people share personal stories, information, and resources. \\n\\nJason Swencki\"s son, Kody, was diagnosed with type diabetes at six. Father and son visit the online children's forums together most evenings. \"Kody gets so excited, writing to kids from all over,\" says Swencki, one of the site's volunteers. \"They know what he's going through, so he doesn't feel alone.\" Kody is anything but alone: Diabetes is now the seventh leading cause of death in the United States, with 24 million diagnosed cases. And more people are being diagnosed at younger ages. \\n\\nThese days, Thomas's main focus is his charity, Fight It, which provides medicines and supplies to people--225 to date--who can't afford a diabetic's huge expenses. Fight-it.org has raised about $23,000--in products and in cash. In May, Thomas will hold the first annual Diabetic Rockstar Festival in the Caribbean. \\n\\nEven with a staff of 22 volunteers, Thomas often devotes up to 50 hours a week to his cause, while still doing his full-time job waiting tables. \"Of the diabetes charities out there, most are putting money into finding a cure,\" says Bentley Gubar one of Rockstar's original members. \"But Christopher is the only person I know saying people need help now.\"</th>\n",
              "      <td>0.0</td>\n",
              "      <td>[Q:What disease was he diagnosed with? A:diabe...</td>\n",
              "    </tr>\n",
              "    <tr>\n",
              "      <th rowspan=\"5\" valign=\"top\">4</th>\n",
              "      <th rowspan=\"5\" valign=\"top\">wikipedia</th>\n",
              "      <th>A psychological identity relates to self-image (one's mental model of oneself), self-esteem, and individuality. Consequently, Weinreich gives the definition \"A person's identity is defined as the totality of one's self-construal, in which how one construes oneself in the present expresses the continuity between how one construes oneself as one was in the past and how one construes oneself as one aspires to be in the future\"; this allows for definitions of aspects of identity, such as: \"One's ethnic identity is defined as that part of the totality of one's self-construal made up of those dimensions that express the continuity between one's construal of past ancestry and one's future aspirations in relation to ethnicity\" (Weinreich, 1986a). \\n\\nThe description or representation of individual and group identity is a central task for psychologists, sociologists and anthropologists and those of other disciplines where \"identity\" needs to be mapped and defined. How should one describe the identity of another, in ways which encompass both their idiosyncratic qualities and their group memberships or identifications, both of which can shift according to circumstance? Following on from the work of Kelly, Erikson, Tajfel and others Weinreich's Identity Structure Analysis (ISA), is \"a structural representation of the individual's existential experience, in which the relationships between self and other agents are organised in relatively stable structures over time … with the emphasis on the socio-cultural milieu in which self relates to other agents and institutions\" (Weinreich and Saunderson, (eds) 2003, p1). Using constructs drawn from the salient discourses of the individual, the group and cultural norms, the practical operationalisation of ISA provides a methodology that maps how these are used by the individual, applied across time and milieus by the \"situated self\" to appraise self and other agents and institutions (for example, resulting in the individual's evaluation of self and significant others and institutions).[citation needed]</th>\n",
              "      <td>0.0</td>\n",
              "      <td>[Q:What is the ISA? A:Identity Structure Analy...</td>\n",
              "    </tr>\n",
              "    <tr>\n",
              "      <th>A social class (or, simply, class), as in class society, is a set of subjectively defined concepts in the social sciences and political theory centered on models of social stratification in which people are grouped into a set of hierarchical social categories, the most common being the upper, middle, and lower classes. \\n\\nClass is a subject of analysis for sociologists, political scientists, anthropologists, and social historians. However, there is not a consensus on a definition of \"class\", and the term has a wide range of sometimes conflicting meanings. In common parlance, the term \"social class\" is usually synonymous with \"socio-economic class\", defined as \"people having the same social, economic, cultural, political or educational status\", e.g., \"the working class\"; \"an emerging professional class\". However, academics distinguish social class and socioeconomic status, with the former referring to one’s relatively stable sociocultural background and the latter referring to one’s current social and economic situation and, consequently, being more changeable over time. \\n\\nThe precise measurements of what determines social class in society has varied over time. Karl Marx thought \"class\" was defined by one's relationship to the means of production (their relations of production). His simple understanding of classes in modern capitalist society, are the proletariat, those who work but do not own the means of production; and the bourgeoisie, those who invest and live off of the surplus generated by the former. This contrasts with the view of the sociologist Max Weber, who argued \"class\" is determined by economic position, in contrast to \"social status\" or \"\"Stand\"\" which is determined by social prestige rather than simply just relations of production.</th>\n",
              "      <td>0.0</td>\n",
              "      <td>[Q:What is one group that analyzes classes? A:...</td>\n",
              "    </tr>\n",
              "    <tr>\n",
              "      <th>A thorough understanding of adolescence in society depends on information from various perspectives, including psychology, biology, history, sociology, education, and anthropology. Within all of these perspectives, adolescence is viewed as a transitional period between childhood and adulthood, whose cultural purpose is the preparation of children for adult roles. It is a period of multiple transitions involving education, training, employment and unemployment, as well as transitions from one living circumstance to another. \\n\\nPuberty occurs through a long process and begins with a surge in hormone production, which in turn causes a number of physical changes. It is the stage of life characterized by the appearance and development of secondary sex characteristics (for example, a deeper voice and larger adam's apple in boys, and development of breasts and more curved and prominent hips in girls) and a strong shift in hormonal balance towards an adult state. This is triggered by the pituitary gland, which secretes a surge of hormonal agents into the blood stream, initiating a chain reaction to occur. The male and female gonads are subsequently activated, which puts them into a state of rapid growth and development; the triggered gonads now commence the mass production of the necessary chemicals. The testes primarily release testosterone, and the ovaries predominantly dispense estrogen. The production of these hormones increases gradually until sexual maturation is met. Some boys may develop gynecomastia due to an imbalance of sex hormones, tissue responsiveness or obesity.</th>\n",
              "      <td>0.0</td>\n",
              "      <td>[Q:What non-biological purpose does it have? A...</td>\n",
              "    </tr>\n",
              "    <tr>\n",
              "      <th>A440 or A4 (also known as the Stuttgart pitch), which has a frequency of 440 Hz, is the musical note of A above middle C and serves as a general tuning standard for musical pitch. \\n\\nThe International Organization for Standardization classify it as ISO 16. Prior to the standardization on 440 Hz, other frequencies were standardised upon. Although not universally accepted, it serves as the audio frequency reference for the calibration of acoustic equipment and the tuning of pianos, violins, and other musical instruments. \\n\\nPrior to the standardization on 440 Hz, many countries and organizations followed the French standard since the 1860s of 435 Hz, which had also been the Austrian government's 1885 recommendation. Johann Heinrich Scheibler recommended A440 as a standard in 1834 after inventing the \"tonometer\" to measure pitch, and it was approved by the the same year. \\n\\nThe American music industry reached an informal standard of 440 Hz in 1926, and some began using it in instrument manufacturing. In 1936 the American Standards Association recommended that the A above middle C be tuned to 440 Hz. This standard was taken up by the International Organization for Standardization in 1955 (reaffirmed by them in 1975) as ISO 16. Although not universally accepted, since then it has served as the audio frequency reference for the calibration of acoustic equipment and the tuning of pianos, violins, and other musical instruments.</th>\n",
              "      <td>0.0</td>\n",
              "      <td>[Q:What entity standardized A4 on 440 Hertz? A...</td>\n",
              "    </tr>\n",
              "    <tr>\n",
              "      <th>Cork was originally a monastic settlement, reputedly founded by Saint Finbarr in the 6th century. Cork achieved an urban character at some point between 915 and 922 when Norseman (Viking) settlers founded a trading port. It has been proposed that, like Dublin, Cork was an important trading centre in the global Scandinavian trade network. The ecclesiastical settlement continued alongside the Viking longphort, with the two developing a type of symbiotic relationship; the Norsemen providing otherwise unobtainable trade goods for the monastery, and perhaps also military aid. \\n\\nThe city's charter was granted by Prince John, as Lord of Ireland, in 1185. The city was once fully walled, and some wall sections and gates remain today. For much of the Middle Ages, Cork city was an outpost of Old English culture in the midst of a predominantly hostile Gaelic countryside and cut off from the English government in the Pale around Dublin. Neighbouring Gaelic and Hiberno-Norman lords extorted \"Black Rent\" from the citizens to keep them from attacking the city. The present extent of the city has exceeded the medieval boundaries of the Barony of Cork City; it now takes in much of the neighbouring Barony of Cork. Together, these baronies are located between the Barony of Barrymore to the east, Muskerry East to the west and Kerrycurrihy to the south.</th>\n",
              "      <td>0.0</td>\n",
              "      <td>[Q:Who granted the city's charter? A:Prince Jo...</td>\n",
              "    </tr>\n",
              "  </tbody>\n",
              "</table>\n",
              "</div>\n",
              "      <button class=\"colab-df-convert\" onclick=\"convertToInteractive('df-1196edef-f280-40b0-b538-4d08ad52c7b6')\"\n",
              "              title=\"Convert this dataframe to an interactive table.\"\n",
              "              style=\"display:none;\">\n",
              "        \n",
              "  <svg xmlns=\"http://www.w3.org/2000/svg\" height=\"24px\"viewBox=\"0 0 24 24\"\n",
              "       width=\"24px\">\n",
              "    <path d=\"M0 0h24v24H0V0z\" fill=\"none\"/>\n",
              "    <path d=\"M18.56 5.44l.94 2.06.94-2.06 2.06-.94-2.06-.94-.94-2.06-.94 2.06-2.06.94zm-11 1L8.5 8.5l.94-2.06 2.06-.94-2.06-.94L8.5 2.5l-.94 2.06-2.06.94zm10 10l.94 2.06.94-2.06 2.06-.94-2.06-.94-.94-2.06-.94 2.06-2.06.94z\"/><path d=\"M17.41 7.96l-1.37-1.37c-.4-.4-.92-.59-1.43-.59-.52 0-1.04.2-1.43.59L10.3 9.45l-7.72 7.72c-.78.78-.78 2.05 0 2.83L4 21.41c.39.39.9.59 1.41.59.51 0 1.02-.2 1.41-.59l7.78-7.78 2.81-2.81c.8-.78.8-2.07 0-2.86zM5.41 20L4 18.59l7.72-7.72 1.47 1.35L5.41 20z\"/>\n",
              "  </svg>\n",
              "      </button>\n",
              "      \n",
              "  <style>\n",
              "    .colab-df-container {\n",
              "      display:flex;\n",
              "      flex-wrap:wrap;\n",
              "      gap: 12px;\n",
              "    }\n",
              "\n",
              "    .colab-df-convert {\n",
              "      background-color: #E8F0FE;\n",
              "      border: none;\n",
              "      border-radius: 50%;\n",
              "      cursor: pointer;\n",
              "      display: none;\n",
              "      fill: #1967D2;\n",
              "      height: 32px;\n",
              "      padding: 0 0 0 0;\n",
              "      width: 32px;\n",
              "    }\n",
              "\n",
              "    .colab-df-convert:hover {\n",
              "      background-color: #E2EBFA;\n",
              "      box-shadow: 0px 1px 2px rgba(60, 64, 67, 0.3), 0px 1px 3px 1px rgba(60, 64, 67, 0.15);\n",
              "      fill: #174EA6;\n",
              "    }\n",
              "\n",
              "    [theme=dark] .colab-df-convert {\n",
              "      background-color: #3B4455;\n",
              "      fill: #D2E3FC;\n",
              "    }\n",
              "\n",
              "    [theme=dark] .colab-df-convert:hover {\n",
              "      background-color: #434B5C;\n",
              "      box-shadow: 0px 1px 3px 1px rgba(0, 0, 0, 0.15);\n",
              "      filter: drop-shadow(0px 1px 2px rgba(0, 0, 0, 0.3));\n",
              "      fill: #FFFFFF;\n",
              "    }\n",
              "  </style>\n",
              "\n",
              "      <script>\n",
              "        const buttonEl =\n",
              "          document.querySelector('#df-1196edef-f280-40b0-b538-4d08ad52c7b6 button.colab-df-convert');\n",
              "        buttonEl.style.display =\n",
              "          google.colab.kernel.accessAllowed ? 'block' : 'none';\n",
              "\n",
              "        async function convertToInteractive(key) {\n",
              "          const element = document.querySelector('#df-1196edef-f280-40b0-b538-4d08ad52c7b6');\n",
              "          const dataTable =\n",
              "            await google.colab.kernel.invokeFunction('convertToInteractive',\n",
              "                                                     [key], {});\n",
              "          if (!dataTable) return;\n",
              "\n",
              "          const docLinkHtml = 'Like what you see? Visit the ' +\n",
              "            '<a target=\"_blank\" href=https://colab.research.google.com/notebooks/data_table.ipynb>data table notebook</a>'\n",
              "            + ' to learn more about interactive tables.';\n",
              "          element.innerHTML = '';\n",
              "          dataTable['output_type'] = 'display_data';\n",
              "          await google.colab.output.renderOutput(dataTable, element);\n",
              "          const docLink = document.createElement('div');\n",
              "          docLink.innerHTML = docLinkHtml;\n",
              "          element.appendChild(docLink);\n",
              "        }\n",
              "      </script>\n",
              "    </div>\n",
              "  </div>\n",
              "  "
            ]
          },
          "metadata": {}
        }
      ]
    },
    {
      "cell_type": "markdown",
      "source": [
        "You can explore furtherly the dialogues choosing one from the dataframe and you will see in the case of the worst ones that the model is wrong to answer all the questions."
      ],
      "metadata": {
        "id": "Js5NfQRPpZ7G"
      },
      "id": "Js5NfQRPpZ7G"
    },
    {
      "cell_type": "code",
      "source": [
        "df_worst_nohist_42.reset_index(drop=True)['dialogue'][0]"
      ],
      "metadata": {
        "colab": {
          "base_uri": "https://localhost:8080/"
        },
        "id": "teOTqynyoDgm",
        "outputId": "f018601d-6f04-42eb-fadd-91d854ce7505"
      },
      "id": "teOTqynyoDgm",
      "execution_count": 74,
      "outputs": [
        {
          "output_type": "execute_result",
          "data": {
            "text/plain": [
              "['Q:HOW OLD IS THE PERSPECTIVE? A:16 P:two',\n",
              " 'Q:WHERE IS HE FROM? A:Pennsylvania P:the united states',\n",
              " 'Q:WHAT CHARGES IS HE FACING. A:multiple counts of murder in the first, second and third degrees, as well as robbery and firearms-related offenses P:the world',\n",
              " 'Q:WHAT IS THE 16 YEAR OLDS NAME? A:Aazis Richardson P:the united states',\n",
              " 'Q:WHO DID HE SHOOT? A:Vincent Darbenzio P:the president',\n",
              " 'Q:WHAT DID HE DO FOR A LIVING A:cab driver P:a new york',\n",
              " 'Q:HOW OLD WAS HE? A:47 P:two',\n",
              " \"Q:WHERE DID HE SHOOT HIM>' A:back of his head P:in the united states\",\n",
              " 'Q:AND THE LOCATION? A:in the cab P:the united states',\n",
              " 'Q:FOR WHAT REASON? A:He ignored his route suggestions. P:a - - term',\n",
              " 'Q:WHAT DID HE BELIEVE WAS THE INTENTION? A:To attempt to increase the fare. P:a new york',\n",
              " 'Q:WHAT COUNTY IS HOLDING THE CASE? A:Lackawanna County P:the united states',\n",
              " 'Q:DOES THE BOY SHOW REMORSE? A:No P:yes',\n",
              " 'Q:WHAT MAKES YOU SAY THAT? A:He said \"my homies died, everybody gotta die.\" P:a lot of the world',\n",
              " 'Q:WHO IS TALERICO? A:Lackawanna County Assistant District Attorney P:the president']"
            ]
          },
          "metadata": {},
          "execution_count": 74
        }
      ]
    },
    {
      "cell_type": "markdown",
      "id": "hIBMpBIlSK25",
      "metadata": {
        "id": "hIBMpBIlSK25"
      },
      "source": [
        "##### With history"
      ]
    },
    {
      "cell_type": "code",
      "execution_count": 75,
      "id": "p39spt1dSK27",
      "metadata": {
        "colab": {
          "base_uri": "https://localhost:8080/"
        },
        "id": "p39spt1dSK27",
        "outputId": "3ca28a8b-c191-41b7-9507-7c92bbd8cf6c"
      },
      "outputs": [
        {
          "output_type": "stream",
          "name": "stdout",
          "text": [
            "The model prajjwal1/bert-tiny with the history and seed 42 has been selected.\n",
            "\n",
            "The f1 score on the test set is 12.38\n"
          ]
        }
      ],
      "source": [
        "f1_hist_42_test = compute_f1_score_eval(df_test_eval, bertiny_name, True, seeds[0], f1_metric)\n",
        "print(f\"The f1 score on the test set is {round(f1_hist_42_test, 2)}\")"
      ]
    },
    {
      "cell_type": "code",
      "execution_count": 76,
      "id": "fZIMvltlSK27",
      "metadata": {
        "colab": {
          "base_uri": "https://localhost:8080/"
        },
        "id": "fZIMvltlSK27",
        "outputId": "e7aa2eec-6a5a-475b-8920-f90f86a869d6"
      },
      "outputs": [
        {
          "output_type": "stream",
          "name": "stdout",
          "text": [
            "The model prajjwal1/bert-tiny with the history and seed 42 has been selected.\n",
            "\n",
            "The f1 score on the validation set is 11.56\n"
          ]
        }
      ],
      "source": [
        "f1_hist_42_val = compute_f1_score_eval(df_val_eval, bertiny_name, True, seeds[0], f1_metric)\n",
        "print(f\"The f1 score on the validation set is {round(f1_hist_42_val, 2)}\")"
      ]
    },
    {
      "cell_type": "code",
      "source": [
        "df_f1_hist_42 = f1_score_source_dialogue(df_test_eval, bertiny_name, True,\n",
        "                                           seeds[0], f1_metric)\n",
        "\n",
        "df_worst_hist_42, _ = k_worst_best_dialogues(df_f1_hist_42, mode='worst', k=5)\n",
        "display(df_worst_hist_42)"
      ],
      "metadata": {
        "colab": {
          "base_uri": "https://localhost:8080/",
          "height": 1000
        },
        "id": "CHPlgXxNqQ9N",
        "outputId": "c665a8fc-17aa-40ca-9f44-61554ee392e6"
      },
      "id": "CHPlgXxNqQ9N",
      "execution_count": 77,
      "outputs": [
        {
          "output_type": "stream",
          "name": "stdout",
          "text": [
            "The model prajjwal1/bert-tiny with the history and seed 42 has been selected.\n",
            "\n"
          ]
        },
        {
          "output_type": "display_data",
          "data": {
            "text/plain": [
              "                                                                 f1  \\\n",
              "  source    story                                                     \n",
              "0 cnn       (CNN) -- A 16-year-old Pennsylvania boy is faci...  0.0   \n",
              "            (CNN) -- According to the \"Guinness Book of Wor...  0.0   \n",
              "            (CNN) -- Brad Pitt clearly has a great deal goi...  0.0   \n",
              "            (CNN) -- His was a suicide with a macabre twist...  0.0   \n",
              "            (CNN) -- Kenyan actress Lupita Nyong'o has beco...  0.0   \n",
              "1 gutenberg CHAPTER 6 \\n\\nCan piety the discord heal, Or st...  0.0   \n",
              "            CHAPTER FIFTY FIVE. \\n\\nWAITING. \\n\\nThe length...  0.0   \n",
              "            CHAPTER IV. \\n\\nLady Wallinger and Edith were t...  0.0   \n",
              "            CHAPTER VIII. \\n\\nHOSTAGE. \\n\\nThe revolution o...  0.0   \n",
              "            CHAPTER VIII. STEAD IN POSSESSION. \\n\\n\"At nigh...  0.0   \n",
              "2 mctest    A boy named Pedro was walking down the street o...  0.0   \n",
              "            Andrew waited for his granddaddy to show up. Th...  0.0   \n",
              "            Annie was helping her little brother Max pick f...  0.0   \n",
              "            As Michael put each finger on the white laces o...  0.0   \n",
              "            Hey! That isn't fair! Knights can't fly! Only w...  0.0   \n",
              "3 race      \"What is success\"? Mr. Black asked his 6th grad...  0.0   \n",
              "            A couple of weeks ago, my 12-year-old daughter,...  0.0   \n",
              "            A great loss--Shirley Temple dies at 85 \\n\\nFeb...  0.0   \n",
              "            Canada geese are large blue and white birds .Wh...  0.0   \n",
              "            Christopher Thomas, 27, was a writer by night a...  0.0   \n",
              "4 wikipedia A psychological identity relates to self-image ...  0.0   \n",
              "            A social class (or, simply, class), as in class...  0.0   \n",
              "            A thorough understanding of adolescence in soci...  0.0   \n",
              "            A440 or A4 (also known as the Stuttgart pitch),...  0.0   \n",
              "            Cork was originally a monastic settlement, repu...  0.0   \n",
              "\n",
              "                                                                                                         dialogue  \n",
              "  source    story                                                                                                  \n",
              "0 cnn       (CNN) -- A 16-year-old Pennsylvania boy is faci...  [Q:HOW OLD IS THE PERSPECTIVE? A:16 P:two, Q:W...  \n",
              "            (CNN) -- According to the \"Guinness Book of Wor...  [Q:What is the most popular character in films...  \n",
              "            (CNN) -- Brad Pitt clearly has a great deal goi...  [Q:How many children does he have? A:Six. P:tw...  \n",
              "            (CNN) -- His was a suicide with a macabre twist...  [Q:What did David want done with his brain? A:...  \n",
              "            (CNN) -- Kenyan actress Lupita Nyong'o has beco...  [Q:Who was born in Mexico but not raised there...  \n",
              "1 gutenberg CHAPTER 6 \\n\\nCan piety the discord heal, Or st...  [Q:Who wanted a friend like her brother? A:Mrs...  \n",
              "            CHAPTER FIFTY FIVE. \\n\\nWAITING. \\n\\nThe length...  [Q:Who was excommunicated? A:Fra Girolamo P:th...  \n",
              "            CHAPTER IV. \\n\\nLady Wallinger and Edith were t...  [Q:Was someone in the morning room alone? A:no...  \n",
              "            CHAPTER VIII. \\n\\nHOSTAGE. \\n\\nThe revolution o...  [Q:What was the revolution A:Todos Santos P:th...  \n",
              "            CHAPTER VIII. STEAD IN POSSESSION. \\n\\n\"At nigh...  [Q:Who surrendered? A:the garrison of Bristol ...  \n",
              "2 mctest    A boy named Pedro was walking down the street o...  [Q:How many times do you have to ring the bell...  \n",
              "            Andrew waited for his granddaddy to show up. Th...  [Q:Why? A:Because they were going fishing. P:h...  \n",
              "            Annie was helping her little brother Max pick f...  [Q:What holiday was coming up? A:Mother's Day ...  \n",
              "            As Michael put each finger on the white laces o...  [Q:What sport was Michael playing? A:football ...  \n",
              "            Hey! That isn't fair! Knights can't fly! Only w...  [Q:What character is Frank playing? A:Knight P...  \n",
              "3 race      \"What is success\"? Mr. Black asked his 6th grad...  [Q:mr black asked what ? A:What is success P:h...  \n",
              "            A couple of weeks ago, my 12-year-old daughter,...  [Q:Who threatened to take a phone? A:Ella. P:t...  \n",
              "            A great loss--Shirley Temple dies at 85 \\n\\nFeb...  [Q:Who is this news story about? A:Shirley Tem...  \n",
              "            Canada geese are large blue and white birds .Wh...  [Q:What time of year do they travel to the war...  \n",
              "            Christopher Thomas, 27, was a writer by night a...  [Q:What disease was he diagnosed with? A:diabe...  \n",
              "4 wikipedia A psychological identity relates to self-image ...  [Q:What is the ISA? A:Identity Structure Analy...  \n",
              "            A social class (or, simply, class), as in class...  [Q:What is one group that analyzes classes? A:...  \n",
              "            A thorough understanding of adolescence in soci...  [Q:What non-biological purpose does it have? A...  \n",
              "            A440 or A4 (also known as the Stuttgart pitch),...  [Q:What entity standardized A4 on 440 Hertz? A...  \n",
              "            Cork was originally a monastic settlement, repu...  [Q:Who granted the city's charter? A:Prince Jo...  "
            ],
            "text/html": [
              "\n",
              "  <div id=\"df-41490d4e-eb75-4c41-afca-a3b3b812ee6b\">\n",
              "    <div class=\"colab-df-container\">\n",
              "      <div>\n",
              "<style scoped>\n",
              "    .dataframe tbody tr th:only-of-type {\n",
              "        vertical-align: middle;\n",
              "    }\n",
              "\n",
              "    .dataframe tbody tr th {\n",
              "        vertical-align: top;\n",
              "    }\n",
              "\n",
              "    .dataframe thead th {\n",
              "        text-align: right;\n",
              "    }\n",
              "</style>\n",
              "<table border=\"1\" class=\"dataframe\">\n",
              "  <thead>\n",
              "    <tr style=\"text-align: right;\">\n",
              "      <th></th>\n",
              "      <th></th>\n",
              "      <th></th>\n",
              "      <th>f1</th>\n",
              "      <th>dialogue</th>\n",
              "    </tr>\n",
              "    <tr>\n",
              "      <th></th>\n",
              "      <th>source</th>\n",
              "      <th>story</th>\n",
              "      <th></th>\n",
              "      <th></th>\n",
              "    </tr>\n",
              "  </thead>\n",
              "  <tbody>\n",
              "    <tr>\n",
              "      <th rowspan=\"5\" valign=\"top\">0</th>\n",
              "      <th rowspan=\"5\" valign=\"top\">cnn</th>\n",
              "      <th>(CNN) -- A 16-year-old Pennsylvania boy is facing murder charges, accused of fatally shooting a cab driver who he believed was intentionally taking a longer route to his destination. \\n\\nAazis Richardson is accused of shooting the cab driver, Vincent Darbenzio, 47, twice in the back of his head while still in the cab, according to Lackawanna County Assistant District Attorney Gene Talerico. \\n\\nRichardson believed Darbenzio had ignored his route suggestions in attempt to increase the fare, according to Talerico. \\n\\n\"I just told him, 'take this way;' he didn't want to listen -- he got his (expletive) shot,\" Richardson told CNN affiliate WNEP. \\n\\nCalls and e-mails to the Lackawanna County public defender's office, which is representing Richardson, were not immediately returned. \\n\\nAs Richardson was being taken away, he showed no remorse for the driver or his family telling WNEP, \"my homies died, everybody gotta die.\" \\n\\nRichardson was charged as an adult with multiple counts of murder in the first, second and third degrees, as well as robbery and firearms-related offenses, according Talerico. \\n\\nOn Sunday, more than 50 of Darbenzio's friends and family members held a vigil near the spot where Darbenzio was killed, according to the victim's brother, Chris Darbenzio. \\n\\nRichardson is currently being held without bail at the Lackawanna County Prison, according to the district attorney's office. \\n\\n</th>\n",
              "      <td>0.0</td>\n",
              "      <td>[Q:HOW OLD IS THE PERSPECTIVE? A:16 P:two, Q:W...</td>\n",
              "    </tr>\n",
              "    <tr>\n",
              "      <th>(CNN) -- According to the \"Guinness Book of World Records,\" Sherlock Holmes is the most popular role in the movies. \\n\\nSo if Robert Downey Jr. hardly seems like the iconic Sherlock (he's too short and muscular, and strains to suggest the intellectual arrogance that comes so easily to the English), he can take his place alongside such oddball castings as Buster Keaton, Charlton Heston and George C. Scott. And he's ideally suited to director Guy Ritchie's purpose, which is not to dust off your grandfather's Conan Doyle, but to juice today's kids with a quirky 19th century super sleuth. \\n\\nWhat's fun about these movies is that the equation works both ways. \\n\\nYes, this Holmes is more likely to get physical than his predecessors, he's even a bit of a boor, but he's still a more cerebral action hero than we find in most blockbusters, and the period trappings (a seamless blend of CGI and location work) help this franchise stand out from the crowd of comic book adaptations. \\n\\nRitchie and husband-and-wife screenwriters Kieran and Michele Mulroney (\"Paper Man\") map out a fast-moving -- if ridiculously digressive -- Victorian adventure that crisscrosses Europe by horseless carriage, train, boat, and, in Sherlock's case, pony. \\n\\nJust down the road from 221 Baker Street they're digging a tunnel for what will become the London Underground. The Industrial Age is beginning to stretch its muscles, while a series of terrorist atrocities are gnawing at the fragile understanding between the great European powers. Holmes detects something other than social unrest behind the bombings: an evil master plan leading inexorably to his nemesis, Professor Moriarty (Jared Harris).</th>\n",
              "      <td>0.0</td>\n",
              "      <td>[Q:What is the most popular character in films...</td>\n",
              "    </tr>\n",
              "    <tr>\n",
              "      <th>(CNN) -- Brad Pitt clearly has a great deal going on. \\n\\nBetween being dad to six children, a fiancÃ©, an activist and a perfume pitchman, he still manages to squeeze in some time acting. The movie star recently sat down with \"Showbiz Tonight's\" A.J. Hammer to talk about his latest project, the mob film \"Killing Them Softly,\" and that nagging question of when he plans to marry partner Angelina Jolie. \\n\\nA.J. Hammer: Brad, we've got a mob movie and I believe the first one we've seen that has political campaign speeches throughout it. \\n\\nBrad Pitt: I like to mix it up. \\n\\nHammer: Was this -- for you -- as much about making a mob movie as it was about sending a political message? \\n\\nPitt: This is a good friend of mine, the writer and director, Andrew Dominik, he's from Australia, and his view of America was very interesting to me. His feeling in some way oppressed and that we get caught up in trying to sell the idea that the image is more important than the actual substance. This is what he was trying to tell with this story. He finds this book about a crime syndicate, and he makes these comparisons to -- not politics, per se, or not just politics, but ... the financial crisis itself, and it was a good subject matter. \\n\\nHammer: I know, and timely! The idea of the mob dealing with corporate concerns or falling off a fiscal cliff. How timely is that coming off this political season?</th>\n",
              "      <td>0.0</td>\n",
              "      <td>[Q:How many children does he have? A:Six. P:tw...</td>\n",
              "    </tr>\n",
              "    <tr>\n",
              "      <th>(CNN) -- His was a suicide with a macabre twist. In February, former Chicago Bears safety David Duerson shot himself in the chest, but not before leaving behind a note requesting his brain be studied for evidence of a disease striking football players. \\n\\nThe plaintive note read, \"Please, see that my brain is given to the NFL's brain bank.\" \\n\\nToday, scientists announced that Duerson's brain tissue showed \"moderately advanced\" evidence of chronic traumatic encephalopathy, a dementia-like brain disease afflicting athletes exposed to repeated brain trauma. \\n\\n\"Dave Duerson had classic pathology of CTE and no evidence of any other disease,\" said Dr. Ann McKee, a neuropathologist with the Bedford VA Medical Center, and co-director of the Boston University School of Medicine Center for the Study of Traumatic Encephalopathy. \"He had severe involvement of areas that control judgment, inhibition, impulse control, mood and memory.\" \\n\\nCTE has been found in the brains of 14 of 15 former NFL players thus far studied at the center. Their cases share a common thread -- repeated concussions, sub-concussive blows to the head, or both. The picture beginning to emerge from these cases is that trauma could be causing brain damage. \\n\\nA brain with CTE is riddled with dense clumps of a protein called tau. Under a microscope, tau appears as brown tangles that look similar to dementia. Except the cases of CTE have shown this progressive, dementia-like array in players well in advance of a typical dementia diagnosis, which typically occurs in the 70s or 80s. \\n\\nMike Webster, an offensive lineman with the Pittsburgh Steelers whose CTE was also diagnosed posthumously, was 50 when he died. John Grimsley, a nine-year NFL veteran who played most of his career with the Houston Oilers, was 45, and Duerson was 50. Scientists at Boston University have found evidence of CTE in the brain of an athlete as young as 18.</th>\n",
              "      <td>0.0</td>\n",
              "      <td>[Q:What did David want done with his brain? A:...</td>\n",
              "    </tr>\n",
              "    <tr>\n",
              "      <th>(CNN) -- Kenyan actress Lupita Nyong'o has become a new critics' darling after her breakout role in last year's hit movie \"12 Years A Slave.\" \\n\\nSince then, the award ceremonies and opportunities to dazzle photographers have been plentiful for Nyong'o, whose mesmerizing performance as Patsey earned her numerous accolades and recognition, including an Oscar nomination for Best Actress in a Supporting Role. \\n\\nThough all this attention is new to Nyong'o, who was born in Mexico to Kenyan parents, the young actress seems to enjoy all the hype around her. But there is much more to her story than how she captivates the cameras on the red carpet. \\n\\nCNN's Stephanie Elam caught up with Nyong'o to speak about her journey from Kenya to Hollywood. An edited version of the interview follows. \\n\\nCNN: How did you end up being born in Mexico? \\n\\nLupita Nyong'o: My father is a politician. At the time he was also a professor of political science and he was organizing for democracy in Kenya. We were under an autocratic regime and after a series of unfortunate events, including the disappearance of his brother, he went into political exile in Mexico. I was born in his last year there. \\n\\nRead more: 10 things to know about Lupita Nyong'o \\n\\nCNN: So you were born in Mexico but grew up in Kenya. \\n\\nLN: Yes, all my conscious memories are in Kenya until when I was 16 my parents sent me back to Mexico to learn Spanish. I grew up in Nairobi, which is the capital of Kenya, so it's hustle and bustle and there's always something going on. I come from a very big family and we're very close knit so I had lots of time with me family.</th>\n",
              "      <td>0.0</td>\n",
              "      <td>[Q:Who was born in Mexico but not raised there...</td>\n",
              "    </tr>\n",
              "    <tr>\n",
              "      <th rowspan=\"5\" valign=\"top\">1</th>\n",
              "      <th rowspan=\"5\" valign=\"top\">gutenberg</th>\n",
              "      <th>CHAPTER 6 \\n\\nCan piety the discord heal, Or stanch the death-feud's enmity? --Scott \\n\\nIt must not be supposed that such a history of Guy's mind was expressed by himself, or understood by Mrs. Edmonstone; but she saw enough to guess at his character, perceive the sort of guidance he needed, and be doubly interested in him. Much did she wish he could have such a friend as her brother would have been, and hope that nothing would prevent a friendship with her nephew. \\n\\nThe present question about the horse was, she thought, unfortunate, since, though Guy had exercised great self-denial, it was no wonder Philip was annoyed. Mr. Edmonstone's vexation was soon over. As soon as she had persuaded him that there had been no offence, he strove to say with a good grace, that it was very proper, and told Guy he would be a thorough book-worm and tremendous scholar, which Guy took as an excellent joke. \\n\\nPhilip had made up his mind to be forbearing, and to say no more about it. Laura thought this a pity, as they could thus never come to an understanding; but when she hinted it, he wore such a dignified air of not being offended, that she was much ashamed of having tried to direct one so much better able to judge. On his side Guy had no idea the trouble he had caused; so, after bestowing his thanks in a gay, off-hand way, which Philip thought the worst feature of the case, he did his best to bring Hecuba back into his mind, drive the hunters out of it, and appease the much-aggrieved William of Deloraine.</th>\n",
              "      <td>0.0</td>\n",
              "      <td>[Q:Who wanted a friend like her brother? A:Mrs...</td>\n",
              "    </tr>\n",
              "    <tr>\n",
              "      <th>CHAPTER FIFTY FIVE. \\n\\nWAITING. \\n\\nThe lengthening sunny days went on without bringing either what Romola most desired or what she most dreaded. They brought no sign from Baldassarre, and, in spite of special watch on the part of the Government, no revelation of the suspected conspiracy. But they brought other things which touched her closely, and bridged the phantom-crowded space of anxiety with active sympathy in immediate trial. They brought the spreading Plague and the Excommunication of Savonarola. \\n\\nBoth these events tended to arrest her incipient alienation from the Frate, and to rivet again her attachment to the man who had opened to her the new life of duty, and who seemed now to be worsted in the fight for principle against profligacy. For Romola could not carry from day to day into the abodes of pestilence and misery the sublime excitement of a gladness that, since such anguish existed, she too existed to make some of the anguish less bitter, without remembering that she owed this transcendent moral life to Fra Girolamo. She could not witness the silencing and excommunication of a man whose distinction from the great mass of the clergy lay, not in any heretical belief, not in his superstitions, but in the energy with which he sought to make the Christian life a reality, without feeling herself drawn strongly to his side. \\n\\nFar on in the hot days of June the Excommunication, for some weeks arrived from Rome, was solemnly published in the Duomo. Romola went to witness the scene, that the resistance it inspired might invigorate that sympathy with Savonarola which was one source of her strength. It was in memorable contrast with the scene she had been accustomed to witness there.</th>\n",
              "      <td>0.0</td>\n",
              "      <td>[Q:Who was excommunicated? A:Fra Girolamo P:th...</td>\n",
              "    </tr>\n",
              "    <tr>\n",
              "      <th>CHAPTER IV. \\n\\nLady Wallinger and Edith were together in the morning room of Hellingsley, the morrow after the arrival of Oswald. Edith was arranging flowers in a vase, while her aunt was embroidering a Spanish peasant in correct costume. The daughter of Millbank looked as bright and fragrant as the fair creations that surrounded her. Beautiful to watch her as she arranged their forms and composed their groups; to mark her eye glance with gratification at some happy combination of colour, or to listen to her delight as they wafted to her in gratitude their perfume. Oswald and Sir Joseph were surveying the stables; Mr. Millbank, who had been daily expected for the last week from the factories, had not yet arrived. \\n\\n'I must say he gained my heart from the first,' said Lady Wallinger. \\n\\n'I wish the gardener would send us more roses,' said Edith. \\n\\n'He is so very superior to any young man I ever met,' continued Lady Wallinger. \\n\\n'I think we must have this vase entirely of roses; don't you think so, aunt?' inquired her niece. \\n\\n'I am fond of roses,' said Lady Wallinger. 'What beautiful bouquets Mr. Coningsby gave us at Paris, Edith!' \\n\\n'Beautiful!' \\n\\n'I must say, I was very happy when I met Mr. Coningsby again at Cambridge,' said Lady Wallinger. 'It gave me much greater pleasure than seeing any of the colleges.' \\n\\n'How delighted Oswald seems at having Mr. Coningsby for a companion again!' said Edith. \\n\\n'And very naturally,' said Lady Wallinger. 'Oswald ought to deem himself fortunate in having such a friend. I am sure the kindness of Mr. Coningsby when we met him at Cambridge is what I never shall forget. But he always was my favourite from the first time I saw him at Paris. Do you know, Edith, I liked him best of all your admirers.'</th>\n",
              "      <td>0.0</td>\n",
              "      <td>[Q:Was someone in the morning room alone? A:no...</td>\n",
              "    </tr>\n",
              "    <tr>\n",
              "      <th>CHAPTER VIII. \\n\\nHOSTAGE. \\n\\nThe revolution of Todos Santos had to all appearances been effected as peacefully as the gentle Liberator of Quinquinambo could have wished. Two pronunciamientos, rudely printed and posted in the Plaza, and saluted by the fickle garrison of one hundred men, who had, however, immediately reappointed their old commander as Generalissimo under the new regime, seemed to leave nothing to be desired. A surging mob of vacant and wondering peons, bearing a singular resemblance to the wild cattle and horses which intermingled with them in blind and unceasing movement across the Plaza and up the hilly street, and seemingly as incapable of self-government, were alternately dispersed and stampeded or allowed to gather again as occasion required. Some of these heterogeneous bands were afterwards found--the revolution accomplished--gazing stupidly on the sea, or ruminating in bovine wantonness on the glacis before the Presidio. \\n\\nEleanor Keene, who with her countrywomen had been hurried to the refuge of the Mission, was more disturbed and excited at the prospect of meeting Hurlstone again than by any terror of the insurrection. But Hurlstone was not there, and Father Esteban received her with a coldness she could not attribute entirely to her countrymen's supposed sympathy with the insurgents. When Richard Keene, who would not leave his sister until he had seen her safe under the Mission walls, ventured at her suggestion to ask after the American recluse, Father Esteban replied dryly that, being a Christian gentleman, Hurlstone was the only one who had the boldness to seek out the American filibuster Perkins, on his own ship, and remonstrate with him for his unholy crusade. For the old priest had already become aware of Hurlstone's blunder, and he hated Eleanor as the primary cause of the trouble. But for her, Diego would be still with him in this emergency.</th>\n",
              "      <td>0.0</td>\n",
              "      <td>[Q:What was the revolution A:Todos Santos P:th...</td>\n",
              "    </tr>\n",
              "    <tr>\n",
              "      <th>CHAPTER VIII. STEAD IN POSSESSION. \\n\\n\"At night returning, every labour sped, He sits him down, the monarch of a shed.\" GOLDSMITH. \\n\\nAnother day made it certain that the garrison of Bristol had surrendered to the besiegers. A few shots were heard, but they were only fired in rejoicing by the Royalists, and while Steadfast was studying his barley field, already silvered over by its long beards, and wondering how soon it would be ripe, and how he should get it cut and stacked, his name was shouted out, and he saw Tom Oates and all the rest of the boys scampering down the lane. \\n\\n\"Come along, Stead Kenton, come on and see, the Parliament soldiers come out and go by.\" \\n\\nPoor Steadfast had not much heart for watching soldiers, but it struck him that he might see or hear something of Jephthah, so he came with the other boys to the bank, where from behind a hedge they could look down at the ranks of soldiers as they marched along, five abreast, the road was not wide enough to hold more. They had been allowed to keep their weapons, so the officers had their swords, and the men carried their musquets. Most of them looked dull and dispirited, and the officers had very gloomy, displeased faces. In fact, they were very angry with their commander, Colonel Fiennes, for having surrendered so easily, and he was afterwards brought to a court-martial for having done so. \\n\\nStead did not understand this, he thought only of looking under each steel cap or tall, slouching hat for Jephthah. Several times a youthful, slender figure raised his hopes, and disappointed him, and he began to wonder whether Jeph could have after all stayed behind in the town, or if he could have been hurt and was ill there.</th>\n",
              "      <td>0.0</td>\n",
              "      <td>[Q:Who surrendered? A:the garrison of Bristol ...</td>\n",
              "    </tr>\n",
              "    <tr>\n",
              "      <th rowspan=\"5\" valign=\"top\">2</th>\n",
              "      <th rowspan=\"5\" valign=\"top\">mctest</th>\n",
              "      <th>A boy named Pedro was walking down the street one day, and he met a pretty girl in a pink dress who handed him a bell. It was made of metal, and looked worn and old. The girl said, this bell gave me my wish for a pink dress, but in order to keep my wish, I have to give the bell to someone else. Ring the bell three times to get your wish. Not two, not four, but three. When your wish arrives, give the bell to someone else. Pedro thanked the girl for the bell, and when she had gone, he rang the bell three times and wished for a puppy. Soon after, he saw a puppy on a street corner. It was black with brown and white spots. He picked the puppy up and hugged it. Then he saw his friend Alice. He gave the bell to Alice, who rang the bell and wished for a pretty bird. Soon a pretty bird landed on her shoulder. Alice thought the bell was a wonderful thing, and chose to keep it, rather than give it away. The next day when she woke up, her bird had flown away.</th>\n",
              "      <td>0.0</td>\n",
              "      <td>[Q:How many times do you have to ring the bell...</td>\n",
              "    </tr>\n",
              "    <tr>\n",
              "      <th>Andrew waited for his granddaddy to show up. They were going fishing. His mom had packed them a lunch. She had made Peanut Butter and Jelly Sandwiches. She also packed a bottle of nice cool water to drink. Andrew had wanted something else for lunch. He wanted chicken or cold cuts or left over meat loaf, but his mom sent Peanut Butter and Jelly sandwiches. The best way to get to the river was along the path. When the path ended, they needed to go through the bushes to the river. On some days they would think about going another way. They could go over the bridge, or through the back of the house or through Uncle Tom's yard. Today they took the path to the river. Andrew found some animal poop along the path. He asked his Grandpa what kind of animal poop he had found. He wanted to know if it was a lion, a tiger or a bear that had made the poop. Grandpa pointed in the bushes. Andrew saw a small black and white animal looking at him with big eyes. Andrew knew that he had was looking at a raccoon. He was sure that the raccoon had made the poop. When Andrew and Grandpa got to the river they put their fishing poles into the water. Andrew caught his first fish right away. He caught a second fish before lunch. He got hungry and had his Peanut Butter and Jelly sandwich and cool water. He saw that Grandpa had fallen asleep. After eating his lunch, Andrew caught three more fish before he woke up his grandpa. When Andrew and Grandpa got back home they gave all the fish they had caught to Andrew's mother, so she could make a good dinner.</th>\n",
              "      <td>0.0</td>\n",
              "      <td>[Q:Why? A:Because they were going fishing. P:h...</td>\n",
              "    </tr>\n",
              "    <tr>\n",
              "      <th>Annie was helping her little brother Max pick flowers from the garden. They wanted to put the flowers in a jar to put on the kitchen table. Mother's Day was the next day and their mother loved fresh flowers. \\n\\nAfter they picked flowers and put them in a jar, Max asked Annie if they could have a snack. Annie took Max into the kitchen and got out an apple to slice up. They sat down at the table looking at the flowers and ate their apple slices. There was a window in the kitchen that let in sunlight. \\n\\n\"Hey!\" Max said, pointing at one of the roses in the jar. \"There's something moving on that rose.\" \\n\\nAnnie looked more closely at the flowers. \"It's a ladybug,\" she said. \"We need to take it back outside.\" \\n\\nSuddenly the ladybug began flying around the kitchen. Max jumped up and ran around trying to catch it. At last he clapped his hands around it. \"Careful!\" said Annie. \\n\\nMax walked outside and let the ladybug go.</th>\n",
              "      <td>0.0</td>\n",
              "      <td>[Q:What holiday was coming up? A:Mother's Day ...</td>\n",
              "    </tr>\n",
              "    <tr>\n",
              "      <th>As Michael put each finger on the white laces of the football like his dad had shown him he thought about his school trip to the zoo tomorrow. He could not wait to get to the zoo and most of all could not wait to see his favorite animal, the lion. Aiming the football at the tire swing that hung in his back yard, he remembered the second thing his dad had taught him about throwing a football which was making sure his shoulder and the football were in a straight line before he threw it. He watched the football sail toward the tire, right as his mom called him in for dinner. His mom had made his favorite food, hotdogs. He sat in the kitchen and watched as ketchup fell on to his plate as he ate his hotdog. His mom told him that in order to get his after dinner treat he would have to eat his corn, carrots, and drink all of his milk too. \\n\\nThat night as his mom tucked him in to bed he starred out the window and wondered if the lions at the zoo were looking up at the moon too. Michael, wondered if his best friends Joe, Nick, and Ryan were as excited as he was about going to the zoo the next day. He closed his eyes and went to sleep. \\n\\nThe next day he hopped from one foot to the other as his class lined up to get on the bus that would take him to the zoo. On the bus he sat with Ryan. The bus driver started the engine and turned the big steering wheel leading them out on to the road. Finally, at the zoo Michael began to imagine how cool it would be to finally get to see the lion cage. First his class went to see the monkeys and then headed over to see the long necked giraffes. As their teacher announced that they would then be going to see the elephants, we wondered if he would ever get to see the lions. Finally after learning about the elephants it was time to see the lions. The lion stood on a huge rock and swung its long tail from side to side. The lion licked his lips with its long pink tongue and Michael wondered if it was thinking about having a class full of kids for its lunch.</th>\n",
              "      <td>0.0</td>\n",
              "      <td>[Q:What sport was Michael playing? A:football ...</td>\n",
              "    </tr>\n",
              "    <tr>\n",
              "      <th>Hey! That isn't fair! Knights can't fly! Only wizards like me can! And maybe also witches. Bobby yelled. \\n\\n\"Yes! They can, too!\" Frank said, \"They're the most powerful and you can't stop me from flying!\" \\n\\n\"Well, if you fly, then I can fight with a sword, too. It's only fair,\" Bobby said back. \\n\\n\"No! They can't! They aren't even strong enough to pick up a sword. They can't even pick up a knife, they're so weak! I don't even know what you're talking about. You're crazy, aren't you?\" Frank pointed his finger at Bobby and ran at him with the sword made out of cardboard. \\n\\nBobby jumped out of the way as quickly as he could! Bobby then pointed a finger at Frank. \"FREEZE!\" \\n\\nFrank stopped in place. \"Hey, you can't use the freeze spell. How can I fight you if I can't move? I'm going to tell mom.\" \\n\\n\"I can use any spell I want! I can use Freeze, Trap, and Fly! I can do any of them! I'm also telling mom that you think you can fly and you can't. You're a stupid knight with no brains. I have all the brains here.\" Bobby crossed his arms over his chest and stomped a foot on the ground. \\n\\n\"You take that back! I'm the smartest knight there is and I'll get you any day!\" Suddenly, Frank pulled Bobby to the ground. \"Take it back right now!\" \\n\\n\"BOYS! What's all the noise?\" Mom asked. \\n\\n\"Bobby called me stupid!\" Frank yelled. \\n\\n\"Frank is trying to fly!\" Bobby cried. \\n\\n\"Oh boy.\" Mom laughed.</th>\n",
              "      <td>0.0</td>\n",
              "      <td>[Q:What character is Frank playing? A:Knight P...</td>\n",
              "    </tr>\n",
              "    <tr>\n",
              "      <th rowspan=\"5\" valign=\"top\">3</th>\n",
              "      <th rowspan=\"5\" valign=\"top\">race</th>\n",
              "      <th>\"What is success\"? Mr. Black asked his 6th grade business class. It was his opening conversation for the first class of the term. \"Success is riding in a sweet car, watching an 80-inch( TV, and living in a place with at least twelve rooms.\" One student answered, earning laughs from all the students. Mr. Black smiled, but shook his head. \"Tom, that is excess . That is not success.\" \"How about being able to provide for your family?\" A blonde girl named Sandy in the front suggested as an answer. \"Now we're getting closer,\" Mr. Black smiled, \"but try thinking about what you need and what you want.\" \"Getting everything you want.\" Tom shouted out an answer again, trying for more laughs. Mr. Black sighed .\" I believe we've already talked about excess versus(...) success.\" \"Getting everything you need, but some of what you want?\" James, sitting in the back wondered aloud. \"Quite right!\" Mr. Black clapped. \"Success is getting everything you need and some of what you want. The more you get that you want, the more successful you are. You do reach a point where you are living in excess, though.\" \"What does this have to do with business?\" Tom asked. It seemed if it wasn't funny, he wasn't happy. \"Well, Tom, think of it this way: the point of business is to make a living to support your family. Once you have properly seen to their needs, you can then seen to getting the extras that you want.\" \"What if I don't have a family?\" he continued to be difficult. \"Then you have to provide for yourself, a family of one.\" \"He has goldfish to think about!\" Peter, Tom's friend, shouted out. \"Then he needs to provide for a family of one with a fishbowl.\" Mr. Black corrected himself. Tom nodded, satisfied with that answer. \"So in the next nine weeks, we're going to study basic business situations, like having a checking account and understanding credit cards .\" Tom rubbed his hands together excitedly. \"When do we get to start spending?\" \"You already are, Tom. You're spending time with us!\" Mr. Black laughed. \"Now, let's see what you guys know about credit cards...\"</th>\n",
              "      <td>0.0</td>\n",
              "      <td>[Q:mr black asked what ? A:What is success P:h...</td>\n",
              "    </tr>\n",
              "    <tr>\n",
              "      <th>A couple of weeks ago, my 12-year-old daughter, Ella threatened to take my phone and break it. \"At night you'll always have your phone out and break you'll just type,\" Ella says. \"I'm ready to go to bed, and try to get you to read stories for me and you're just standing there reading your texts and texting other people,\" she adds. I came to realize that I was ignoring her as a father. \\n\\nElla isn't the only kid who feels this way about her parent's relationship with devices. Catherine Steiner-Adair, a psychologist at Harvard, wrote The Big Disconnect: Protecting Childhood and Family Relationships in the Digital Age. For her book, Steiner-Adair interviewed more than 1,000 kids from the ages of 4 to 18. She talked to hundreds of teachers and parents. \\n\\nOne of the many things that knocked my socks off, \" she says, \"was the consistency with which children -- whether they were 4 or 8 or 18 or 24-- talked about feeling exhausted and frustrated or mad trying to get their parents' attention, competing with computer screens or iPhone screens or any kind of technology.\" \\n\\nA couple of years ago, my daughter got a laptop for school. And because she was becoming more independent, we got her a phone. We set up rules for when she could use the device and when she'd need to put it away. We created a charging station, outside her bedroom, where she had to plug in these devices every night. Basically -- except for homework-- she has to put it all away when she comes home. \\n\\nSteiner-Adair says most adults don't set up similar limits in their own lives. \"We've lost the boundaries that protect work and family life,'' she says. \"So it is very hard to manage yourself and be present in the moments your children need you.'' \\n\\nAfter my daughter's little intervention ,I made myself a promise to create my own charging station. To plug my phone in-- somewhere faraway -- when I am done working for the day. I've been trying to leave it there untouched for most of the weekend</th>\n",
              "      <td>0.0</td>\n",
              "      <td>[Q:Who threatened to take a phone? A:Ella. P:t...</td>\n",
              "    </tr>\n",
              "    <tr>\n",
              "      <th>A great loss--Shirley Temple dies at 85 \\n\\nFebruary 12,2014 \\n\\nBYDERRIKJ.LANG ,Associated Press \\n\\nShirley Temple Black, who died on February 10that age 85, wasn't just a child star. She was THE child star--the sweet little girl whose shining smile helped _ some of the darkest days the US has known during the Great Depression. \\n\\nIt's hard today to imagine the super star Shirley was once \"America's Little Darling\". She sang and danced her way to the top of the box office in such films as Bright Eyes, Curly Top and Heidi. By 1940, she had appeared in 43 films. Temple teamed with Bill Robison in four movies, and their dance on the stairs in The Little Colonel is still a legendary film moment. \\n\\nIn the 1930s, her name on a movie introduction assured a packed house. She inspired dolls, dresses, dishes--even a drink (alcohol-free, of course). \\n\\nUS President Franklin D. Roosevelt once famously said that \"as long as our country has Shirley Temple, we will be all right.'' \\n\\nUnlike so many of today's child stars, Temple didn't end up with her name appearing across the headlines for bad behaviors. Instead of getting her photos on front pages or struggling with drugs and alcohol, Temple went on to a second career in diplomacy , including presidential appointments as ambassador to Ghana. \\n\\nShe surprised a lot of people who doubted her with her grace, knowledge and eagerness to serve. In fact, her career in public service (20 years) was longer than her career in movies (19). The role she valued most, however, was as wife, mother, grandmother and great-grandmother. \\n\\nThe world has lost a treasured Hollywood legend. But her movies will allow that little dynamic figure to continue charming audiences for a very long time.</th>\n",
              "      <td>0.0</td>\n",
              "      <td>[Q:Who is this news story about? A:Shirley Tem...</td>\n",
              "    </tr>\n",
              "    <tr>\n",
              "      <th>Canada geese are large blue and white birds .When autumn arrives ,they have to fly south where the weather is warmer .The winters are so cold in Canada that the birds will die if they stay there . Last spring ,Bill Lishman found sixteen young Canada geese on his farm \"They had lost their parents , \"Bill thought . \"These young birds won't know what to do in the autumn . Bill had a small plane and he decided to teach the birds to follow him .All through the summer ,he went on short trips in his plane and the young geese flew after him .\" When the cold weather arrived in autumn ,Bill flew to Virginia in the United States ,600 miles south from his home in Canada .The geese follwed him all the way .Bill flew to Virginia and returned home . This spring ,Bill was waiting for the birds to come back .They didn't arrive ,so Bill flew to Virginia to get them .He looked for them for two weeks but he couldn't find them . When he arrived back home ,Bill found the geese waiting for him .Then had found the way home without him !</th>\n",
              "      <td>0.0</td>\n",
              "      <td>[Q:What time of year do they travel to the war...</td>\n",
              "    </tr>\n",
              "    <tr>\n",
              "      <th>Christopher Thomas, 27, was a writer by night and a teacher by day when he noticed he was always tired and was losing weight fast. Diagnosed with diabetes , Thomas would need to inject himself with insulin three times a day for the rest of his life or risk nerve damage, blindness, and even death. And if that weren't bad enough, he had no health insurance. After a month of feeling upset, Thomas decided he'd better find a way to fight back. He left Canton, Michigan for New York, got a job waiting tables, nicknamed himself the Diabetic Rockstar , and created diabeticrockstar.com, a free online community for diabetics and their loved ones--a place where over 1,100 people share personal stories, information, and resources. \\n\\nJason Swencki\"s son, Kody, was diagnosed with type diabetes at six. Father and son visit the online children's forums together most evenings. \"Kody gets so excited, writing to kids from all over,\" says Swencki, one of the site's volunteers. \"They know what he's going through, so he doesn't feel alone.\" Kody is anything but alone: Diabetes is now the seventh leading cause of death in the United States, with 24 million diagnosed cases. And more people are being diagnosed at younger ages. \\n\\nThese days, Thomas's main focus is his charity, Fight It, which provides medicines and supplies to people--225 to date--who can't afford a diabetic's huge expenses. Fight-it.org has raised about $23,000--in products and in cash. In May, Thomas will hold the first annual Diabetic Rockstar Festival in the Caribbean. \\n\\nEven with a staff of 22 volunteers, Thomas often devotes up to 50 hours a week to his cause, while still doing his full-time job waiting tables. \"Of the diabetes charities out there, most are putting money into finding a cure,\" says Bentley Gubar one of Rockstar's original members. \"But Christopher is the only person I know saying people need help now.\"</th>\n",
              "      <td>0.0</td>\n",
              "      <td>[Q:What disease was he diagnosed with? A:diabe...</td>\n",
              "    </tr>\n",
              "    <tr>\n",
              "      <th rowspan=\"5\" valign=\"top\">4</th>\n",
              "      <th rowspan=\"5\" valign=\"top\">wikipedia</th>\n",
              "      <th>A psychological identity relates to self-image (one's mental model of oneself), self-esteem, and individuality. Consequently, Weinreich gives the definition \"A person's identity is defined as the totality of one's self-construal, in which how one construes oneself in the present expresses the continuity between how one construes oneself as one was in the past and how one construes oneself as one aspires to be in the future\"; this allows for definitions of aspects of identity, such as: \"One's ethnic identity is defined as that part of the totality of one's self-construal made up of those dimensions that express the continuity between one's construal of past ancestry and one's future aspirations in relation to ethnicity\" (Weinreich, 1986a). \\n\\nThe description or representation of individual and group identity is a central task for psychologists, sociologists and anthropologists and those of other disciplines where \"identity\" needs to be mapped and defined. How should one describe the identity of another, in ways which encompass both their idiosyncratic qualities and their group memberships or identifications, both of which can shift according to circumstance? Following on from the work of Kelly, Erikson, Tajfel and others Weinreich's Identity Structure Analysis (ISA), is \"a structural representation of the individual's existential experience, in which the relationships between self and other agents are organised in relatively stable structures over time … with the emphasis on the socio-cultural milieu in which self relates to other agents and institutions\" (Weinreich and Saunderson, (eds) 2003, p1). Using constructs drawn from the salient discourses of the individual, the group and cultural norms, the practical operationalisation of ISA provides a methodology that maps how these are used by the individual, applied across time and milieus by the \"situated self\" to appraise self and other agents and institutions (for example, resulting in the individual's evaluation of self and significant others and institutions).[citation needed]</th>\n",
              "      <td>0.0</td>\n",
              "      <td>[Q:What is the ISA? A:Identity Structure Analy...</td>\n",
              "    </tr>\n",
              "    <tr>\n",
              "      <th>A social class (or, simply, class), as in class society, is a set of subjectively defined concepts in the social sciences and political theory centered on models of social stratification in which people are grouped into a set of hierarchical social categories, the most common being the upper, middle, and lower classes. \\n\\nClass is a subject of analysis for sociologists, political scientists, anthropologists, and social historians. However, there is not a consensus on a definition of \"class\", and the term has a wide range of sometimes conflicting meanings. In common parlance, the term \"social class\" is usually synonymous with \"socio-economic class\", defined as \"people having the same social, economic, cultural, political or educational status\", e.g., \"the working class\"; \"an emerging professional class\". However, academics distinguish social class and socioeconomic status, with the former referring to one’s relatively stable sociocultural background and the latter referring to one’s current social and economic situation and, consequently, being more changeable over time. \\n\\nThe precise measurements of what determines social class in society has varied over time. Karl Marx thought \"class\" was defined by one's relationship to the means of production (their relations of production). His simple understanding of classes in modern capitalist society, are the proletariat, those who work but do not own the means of production; and the bourgeoisie, those who invest and live off of the surplus generated by the former. This contrasts with the view of the sociologist Max Weber, who argued \"class\" is determined by economic position, in contrast to \"social status\" or \"\"Stand\"\" which is determined by social prestige rather than simply just relations of production.</th>\n",
              "      <td>0.0</td>\n",
              "      <td>[Q:What is one group that analyzes classes? A:...</td>\n",
              "    </tr>\n",
              "    <tr>\n",
              "      <th>A thorough understanding of adolescence in society depends on information from various perspectives, including psychology, biology, history, sociology, education, and anthropology. Within all of these perspectives, adolescence is viewed as a transitional period between childhood and adulthood, whose cultural purpose is the preparation of children for adult roles. It is a period of multiple transitions involving education, training, employment and unemployment, as well as transitions from one living circumstance to another. \\n\\nPuberty occurs through a long process and begins with a surge in hormone production, which in turn causes a number of physical changes. It is the stage of life characterized by the appearance and development of secondary sex characteristics (for example, a deeper voice and larger adam's apple in boys, and development of breasts and more curved and prominent hips in girls) and a strong shift in hormonal balance towards an adult state. This is triggered by the pituitary gland, which secretes a surge of hormonal agents into the blood stream, initiating a chain reaction to occur. The male and female gonads are subsequently activated, which puts them into a state of rapid growth and development; the triggered gonads now commence the mass production of the necessary chemicals. The testes primarily release testosterone, and the ovaries predominantly dispense estrogen. The production of these hormones increases gradually until sexual maturation is met. Some boys may develop gynecomastia due to an imbalance of sex hormones, tissue responsiveness or obesity.</th>\n",
              "      <td>0.0</td>\n",
              "      <td>[Q:What non-biological purpose does it have? A...</td>\n",
              "    </tr>\n",
              "    <tr>\n",
              "      <th>A440 or A4 (also known as the Stuttgart pitch), which has a frequency of 440 Hz, is the musical note of A above middle C and serves as a general tuning standard for musical pitch. \\n\\nThe International Organization for Standardization classify it as ISO 16. Prior to the standardization on 440 Hz, other frequencies were standardised upon. Although not universally accepted, it serves as the audio frequency reference for the calibration of acoustic equipment and the tuning of pianos, violins, and other musical instruments. \\n\\nPrior to the standardization on 440 Hz, many countries and organizations followed the French standard since the 1860s of 435 Hz, which had also been the Austrian government's 1885 recommendation. Johann Heinrich Scheibler recommended A440 as a standard in 1834 after inventing the \"tonometer\" to measure pitch, and it was approved by the the same year. \\n\\nThe American music industry reached an informal standard of 440 Hz in 1926, and some began using it in instrument manufacturing. In 1936 the American Standards Association recommended that the A above middle C be tuned to 440 Hz. This standard was taken up by the International Organization for Standardization in 1955 (reaffirmed by them in 1975) as ISO 16. Although not universally accepted, since then it has served as the audio frequency reference for the calibration of acoustic equipment and the tuning of pianos, violins, and other musical instruments.</th>\n",
              "      <td>0.0</td>\n",
              "      <td>[Q:What entity standardized A4 on 440 Hertz? A...</td>\n",
              "    </tr>\n",
              "    <tr>\n",
              "      <th>Cork was originally a monastic settlement, reputedly founded by Saint Finbarr in the 6th century. Cork achieved an urban character at some point between 915 and 922 when Norseman (Viking) settlers founded a trading port. It has been proposed that, like Dublin, Cork was an important trading centre in the global Scandinavian trade network. The ecclesiastical settlement continued alongside the Viking longphort, with the two developing a type of symbiotic relationship; the Norsemen providing otherwise unobtainable trade goods for the monastery, and perhaps also military aid. \\n\\nThe city's charter was granted by Prince John, as Lord of Ireland, in 1185. The city was once fully walled, and some wall sections and gates remain today. For much of the Middle Ages, Cork city was an outpost of Old English culture in the midst of a predominantly hostile Gaelic countryside and cut off from the English government in the Pale around Dublin. Neighbouring Gaelic and Hiberno-Norman lords extorted \"Black Rent\" from the citizens to keep them from attacking the city. The present extent of the city has exceeded the medieval boundaries of the Barony of Cork City; it now takes in much of the neighbouring Barony of Cork. Together, these baronies are located between the Barony of Barrymore to the east, Muskerry East to the west and Kerrycurrihy to the south.</th>\n",
              "      <td>0.0</td>\n",
              "      <td>[Q:Who granted the city's charter? A:Prince Jo...</td>\n",
              "    </tr>\n",
              "  </tbody>\n",
              "</table>\n",
              "</div>\n",
              "      <button class=\"colab-df-convert\" onclick=\"convertToInteractive('df-41490d4e-eb75-4c41-afca-a3b3b812ee6b')\"\n",
              "              title=\"Convert this dataframe to an interactive table.\"\n",
              "              style=\"display:none;\">\n",
              "        \n",
              "  <svg xmlns=\"http://www.w3.org/2000/svg\" height=\"24px\"viewBox=\"0 0 24 24\"\n",
              "       width=\"24px\">\n",
              "    <path d=\"M0 0h24v24H0V0z\" fill=\"none\"/>\n",
              "    <path d=\"M18.56 5.44l.94 2.06.94-2.06 2.06-.94-2.06-.94-.94-2.06-.94 2.06-2.06.94zm-11 1L8.5 8.5l.94-2.06 2.06-.94-2.06-.94L8.5 2.5l-.94 2.06-2.06.94zm10 10l.94 2.06.94-2.06 2.06-.94-2.06-.94-.94-2.06-.94 2.06-2.06.94z\"/><path d=\"M17.41 7.96l-1.37-1.37c-.4-.4-.92-.59-1.43-.59-.52 0-1.04.2-1.43.59L10.3 9.45l-7.72 7.72c-.78.78-.78 2.05 0 2.83L4 21.41c.39.39.9.59 1.41.59.51 0 1.02-.2 1.41-.59l7.78-7.78 2.81-2.81c.8-.78.8-2.07 0-2.86zM5.41 20L4 18.59l7.72-7.72 1.47 1.35L5.41 20z\"/>\n",
              "  </svg>\n",
              "      </button>\n",
              "      \n",
              "  <style>\n",
              "    .colab-df-container {\n",
              "      display:flex;\n",
              "      flex-wrap:wrap;\n",
              "      gap: 12px;\n",
              "    }\n",
              "\n",
              "    .colab-df-convert {\n",
              "      background-color: #E8F0FE;\n",
              "      border: none;\n",
              "      border-radius: 50%;\n",
              "      cursor: pointer;\n",
              "      display: none;\n",
              "      fill: #1967D2;\n",
              "      height: 32px;\n",
              "      padding: 0 0 0 0;\n",
              "      width: 32px;\n",
              "    }\n",
              "\n",
              "    .colab-df-convert:hover {\n",
              "      background-color: #E2EBFA;\n",
              "      box-shadow: 0px 1px 2px rgba(60, 64, 67, 0.3), 0px 1px 3px 1px rgba(60, 64, 67, 0.15);\n",
              "      fill: #174EA6;\n",
              "    }\n",
              "\n",
              "    [theme=dark] .colab-df-convert {\n",
              "      background-color: #3B4455;\n",
              "      fill: #D2E3FC;\n",
              "    }\n",
              "\n",
              "    [theme=dark] .colab-df-convert:hover {\n",
              "      background-color: #434B5C;\n",
              "      box-shadow: 0px 1px 3px 1px rgba(0, 0, 0, 0.15);\n",
              "      filter: drop-shadow(0px 1px 2px rgba(0, 0, 0, 0.3));\n",
              "      fill: #FFFFFF;\n",
              "    }\n",
              "  </style>\n",
              "\n",
              "      <script>\n",
              "        const buttonEl =\n",
              "          document.querySelector('#df-41490d4e-eb75-4c41-afca-a3b3b812ee6b button.colab-df-convert');\n",
              "        buttonEl.style.display =\n",
              "          google.colab.kernel.accessAllowed ? 'block' : 'none';\n",
              "\n",
              "        async function convertToInteractive(key) {\n",
              "          const element = document.querySelector('#df-41490d4e-eb75-4c41-afca-a3b3b812ee6b');\n",
              "          const dataTable =\n",
              "            await google.colab.kernel.invokeFunction('convertToInteractive',\n",
              "                                                     [key], {});\n",
              "          if (!dataTable) return;\n",
              "\n",
              "          const docLinkHtml = 'Like what you see? Visit the ' +\n",
              "            '<a target=\"_blank\" href=https://colab.research.google.com/notebooks/data_table.ipynb>data table notebook</a>'\n",
              "            + ' to learn more about interactive tables.';\n",
              "          element.innerHTML = '';\n",
              "          dataTable['output_type'] = 'display_data';\n",
              "          await google.colab.output.renderOutput(dataTable, element);\n",
              "          const docLink = document.createElement('div');\n",
              "          docLink.innerHTML = docLinkHtml;\n",
              "          element.appendChild(docLink);\n",
              "        }\n",
              "      </script>\n",
              "    </div>\n",
              "  </div>\n",
              "  "
            ]
          },
          "metadata": {}
        }
      ]
    },
    {
      "cell_type": "code",
      "source": [
        "df_worst_hist_42.reset_index(drop=True)['dialogue'][0]"
      ],
      "metadata": {
        "colab": {
          "base_uri": "https://localhost:8080/"
        },
        "id": "aMr32yWjqpbN",
        "outputId": "eeb196c3-4b99-41b9-dcc2-659c5a88f4d4"
      },
      "id": "aMr32yWjqpbN",
      "execution_count": 78,
      "outputs": [
        {
          "output_type": "execute_result",
          "data": {
            "text/plain": [
              "['Q:HOW OLD IS THE PERSPECTIVE? A:16 P:two',\n",
              " 'Q:WHERE IS HE FROM? A:Pennsylvania P:the united states',\n",
              " 'Q:WHAT CHARGES IS HE FACING. A:multiple counts of murder in the first, second and third degrees, as well as robbery and firearms-related offenses P:the world',\n",
              " 'Q:WHAT IS THE 16 YEAR OLDS NAME? A:Aazis Richardson P:the united states',\n",
              " 'Q:WHO DID HE SHOOT? A:Vincent Darbenzio P:the president',\n",
              " 'Q:WHAT DID HE DO FOR A LIVING A:cab driver P:the world',\n",
              " 'Q:HOW OLD WAS HE? A:47 P:two',\n",
              " \"Q:WHERE DID HE SHOOT HIM>' A:back of his head P:the united states\",\n",
              " 'Q:AND THE LOCATION? A:in the cab P:the united states',\n",
              " 'Q:FOR WHAT REASON? A:He ignored his route suggestions. P:a new york',\n",
              " 'Q:WHAT DID HE BELIEVE WAS THE INTENTION? A:To attempt to increase the fare. P:the world',\n",
              " 'Q:WHAT COUNTY IS HOLDING THE CASE? A:Lackawanna County P:the united states',\n",
              " 'Q:DOES THE BOY SHOW REMORSE? A:No P:yes',\n",
              " 'Q:WHAT MAKES YOU SAY THAT? A:He said \"my homies died, everybody gotta die.\" P:a lot of the world',\n",
              " 'Q:WHO IS TALERICO? A:Lackawanna County Assistant District Attorney P:the president']"
            ]
          },
          "metadata": {},
          "execution_count": 78
        }
      ]
    },
    {
      "cell_type": "markdown",
      "id": "aCz9jUFwSK28",
      "metadata": {
        "id": "aCz9jUFwSK28"
      },
      "source": [
        "#### Bert-tiny seed 2022"
      ]
    },
    {
      "cell_type": "code",
      "execution_count": null,
      "id": "P4MDo54cSK28",
      "metadata": {
        "id": "P4MDo54cSK28"
      },
      "outputs": [],
      "source": [
        "# code"
      ]
    },
    {
      "cell_type": "markdown",
      "id": "xmiZ_-hFSK29",
      "metadata": {
        "id": "xmiZ_-hFSK29"
      },
      "source": [
        "#### Bert-tiny seed 1337"
      ]
    },
    {
      "cell_type": "code",
      "execution_count": null,
      "id": "o9vzxD9YSK29",
      "metadata": {
        "id": "o9vzxD9YSK29"
      },
      "outputs": [],
      "source": [
        "#code"
      ]
    },
    {
      "cell_type": "markdown",
      "id": "AxxeIARxSK29",
      "metadata": {
        "id": "AxxeIARxSK29"
      },
      "source": [
        "### Distilroberta-base models"
      ]
    },
    {
      "cell_type": "markdown",
      "id": "5IY34QNKSK2-",
      "metadata": {
        "id": "5IY34QNKSK2-"
      },
      "source": [
        "#### Distilroberta-base seed 42"
      ]
    },
    {
      "cell_type": "markdown",
      "id": "wb1TP78NSK2-",
      "metadata": {
        "id": "wb1TP78NSK2-"
      },
      "source": [
        "##### Without history"
      ]
    },
    {
      "cell_type": "code",
      "execution_count": 79,
      "metadata": {
        "colab": {
          "base_uri": "https://localhost:8080/"
        },
        "outputId": "5df18e14-7437-4fec-c9d0-9ecb728060ac",
        "id": "XYUkC8NcrIvp"
      },
      "outputs": [
        {
          "output_type": "stream",
          "name": "stdout",
          "text": [
            "The model distilroberta-base without the history and seed 42 has been selected.\n",
            "\n",
            "The f1 score on the test set is 11.33\n"
          ]
        }
      ],
      "source": [
        "f1_nohist_42_test = compute_f1_score_eval(df_test_eval, roberta_name, False, seeds[0], f1_metric)\n",
        "print(f\"The f1 score on the test set is {round(f1_nohist_42_test, 2)}\")"
      ],
      "id": "XYUkC8NcrIvp"
    },
    {
      "cell_type": "code",
      "execution_count": 80,
      "metadata": {
        "colab": {
          "base_uri": "https://localhost:8080/"
        },
        "outputId": "4f5f7fef-e8f6-446c-c8ac-078ee75dd14b",
        "id": "fxrcNGCcrIvr"
      },
      "outputs": [
        {
          "output_type": "stream",
          "name": "stdout",
          "text": [
            "The model distilroberta-base without the history and seed 42 has been selected.\n",
            "\n",
            "The f1 score on the validation set is 10.42\n"
          ]
        }
      ],
      "source": [
        "f1_nohist_42_val = compute_f1_score_eval(df_val_eval, roberta_name, False, seeds[0], f1_metric)\n",
        "print(f\"The f1 score on the validation set is {round(f1_nohist_42_val, 2)}\")"
      ],
      "id": "fxrcNGCcrIvr"
    },
    {
      "cell_type": "code",
      "source": [
        "df_f1_nohist_42 = f1_score_source_dialogue(df_test_eval, roberta_name, False,\n",
        "                                           seeds[0], f1_metric)\n",
        "\n",
        "df_worst_nohist_42, _ = k_worst_best_dialogues(df_f1_nohist_42, mode='worst', k=5)\n",
        "display(df_worst_nohist_42)"
      ],
      "metadata": {
        "colab": {
          "base_uri": "https://localhost:8080/",
          "height": 1000
        },
        "outputId": "171635e0-3a03-4e33-a7da-3e87d1c4fb48",
        "id": "-V10dAMprIvs"
      },
      "execution_count": 81,
      "outputs": [
        {
          "output_type": "stream",
          "name": "stdout",
          "text": [
            "The model distilroberta-base without the history and seed 42 has been selected.\n",
            "\n"
          ]
        },
        {
          "output_type": "display_data",
          "data": {
            "text/plain": [
              "                                                                 f1  \\\n",
              "  source    story                                                     \n",
              "0 cnn       (CNN) -- A 16-year-old Pennsylvania boy is faci...  0.0   \n",
              "            (CNN) -- A Russian bookmaking company is offeri...  0.0   \n",
              "            (CNN) -- According to the \"Guinness Book of Wor...  0.0   \n",
              "            (CNN) -- Brad Pitt clearly has a great deal goi...  0.0   \n",
              "            (CNN) -- His was a suicide with a macabre twist...  0.0   \n",
              "1 gutenberg CHAPTER 6 \\n\\nCan piety the discord heal, Or st...  0.0   \n",
              "            CHAPTER FIFTY FIVE. \\n\\nWAITING. \\n\\nThe length...  0.0   \n",
              "            CHAPTER II \\n\\nTHE RULERS OF FRANCE \\n\\nGreat a...  0.0   \n",
              "            CHAPTER II. ON A MOUNTAIN PATH \\n\\n\"Armed men, ...  0.0   \n",
              "            CHAPTER IV. \\n\\nLady Wallinger and Edith were t...  0.0   \n",
              "2 mctest    A boy named Pedro was walking down the street o...  0.0   \n",
              "            A little boy named Jimmy and his best friend Je...  0.0   \n",
              "            Andrew waited for his granddaddy to show up. Th...  0.0   \n",
              "            Anna loved the beach and went as often as she c...  0.0   \n",
              "            Annie was helping her little brother Max pick f...  0.0   \n",
              "3 race      \"If I rest, I _ \"----would be an excellent mott...  0.0   \n",
              "            \"What is success\"? Mr. Black asked his 6th grad...  0.0   \n",
              "            A couple of weeks ago, my 12-year-old daughter,...  0.0   \n",
              "            A great loss--Shirley Temple dies at 85 \\n\\nFeb...  0.0   \n",
              "            Bill Gates was born on October 28th, 1955. He g...  0.0   \n",
              "4 wikipedia A One Day International (ODI) is a form of limi...  0.0   \n",
              "            A psychological identity relates to self-image ...  0.0   \n",
              "            A social class (or, simply, class), as in class...  0.0   \n",
              "            A thorough understanding of adolescence in soci...  0.0   \n",
              "            A440 or A4 (also known as the Stuttgart pitch),...  0.0   \n",
              "\n",
              "                                                                                                         dialogue  \n",
              "  source    story                                                                                                  \n",
              "0 cnn       (CNN) -- A 16-year-old Pennsylvania boy is faci...  [Q:HOW OLD IS THE PERSPECTIVE? A:16 P:more tha...  \n",
              "            (CNN) -- A Russian bookmaking company is offeri...  [Q:What did the firm do with the offer? A:decl...  \n",
              "            (CNN) -- According to the \"Guinness Book of Wor...  [Q:What is the most popular character in films...  \n",
              "            (CNN) -- Brad Pitt clearly has a great deal goi...  [Q:How many children does he have? A:Six. P:mo...  \n",
              "            (CNN) -- His was a suicide with a macabre twist...  [Q:What did David want done with his brain? A:...  \n",
              "1 gutenberg CHAPTER 6 \\n\\nCan piety the discord heal, Or st...  [Q:Who wanted a friend like her brother? A:Mrs...  \n",
              "            CHAPTER FIFTY FIVE. \\n\\nWAITING. \\n\\nThe length...  [Q:Who was excommunicated? A:Fra Girolamo P:th...  \n",
              "            CHAPTER II \\n\\nTHE RULERS OF FRANCE \\n\\nGreat a...  [Q:Where was the banquet being held? A:the old...  \n",
              "            CHAPTER II. ON A MOUNTAIN PATH \\n\\n\"Armed men, ...  [Q:who rose to his feet? A:Aquila P:the father...  \n",
              "            CHAPTER IV. \\n\\nLady Wallinger and Edith were t...  [Q:Was someone in the morning room alone? A:no...  \n",
              "2 mctest    A boy named Pedro was walking down the street o...  [Q:How many times do you have to ring the bell...  \n",
              "            A little boy named Jimmy and his best friend Je...  [Q:Who is Jimmy's best friend? A:Jeremy P:a fa...  \n",
              "            Andrew waited for his granddaddy to show up. Th...  [Q:Why? A:Because they were going fishing. P:a...  \n",
              "            Anna loved the beach and went as often as she c...  [Q:what did she like about it? A:birds and the...  \n",
              "            Annie was helping her little brother Max pick f...  [Q:What holiday was coming up? A:Mother's Day ...  \n",
              "3 race      \"If I rest, I _ \"----would be an excellent mott...  [Q:What defeats all? A:Labor P:the the the the...  \n",
              "            \"What is success\"? Mr. Black asked his 6th grad...  [Q:mr black asked what ? A:What is success P:a...  \n",
              "            A couple of weeks ago, my 12-year-old daughter,...  [Q:Who threatened to take a phone? A:Ella. P:t...  \n",
              "            A great loss--Shirley Temple dies at 85 \\n\\nFeb...  [Q:Who is this news story about? A:Shirley Tem...  \n",
              "            Bill Gates was born on October 28th, 1955. He g...  [Q:When was he born? A:October 28th, 1955 P:19...  \n",
              "4 wikipedia A One Day International (ODI) is a form of limi...  [Q:How long is an ODI? A:One Day P:more than t...  \n",
              "            A psychological identity relates to self-image ...  [Q:What is the ISA? A:Identity Structure Analy...  \n",
              "            A social class (or, simply, class), as in class...  [Q:What is one group that analyzes classes? A:...  \n",
              "            A thorough understanding of adolescence in soci...  [Q:What non-biological purpose does it have? A...  \n",
              "            A440 or A4 (also known as the Stuttgart pitch),...  [Q:What entity standardized A4 on 440 Hertz? A...  "
            ],
            "text/html": [
              "\n",
              "  <div id=\"df-87120cbe-3f9c-45c0-8824-2aa38fed05e1\">\n",
              "    <div class=\"colab-df-container\">\n",
              "      <div>\n",
              "<style scoped>\n",
              "    .dataframe tbody tr th:only-of-type {\n",
              "        vertical-align: middle;\n",
              "    }\n",
              "\n",
              "    .dataframe tbody tr th {\n",
              "        vertical-align: top;\n",
              "    }\n",
              "\n",
              "    .dataframe thead th {\n",
              "        text-align: right;\n",
              "    }\n",
              "</style>\n",
              "<table border=\"1\" class=\"dataframe\">\n",
              "  <thead>\n",
              "    <tr style=\"text-align: right;\">\n",
              "      <th></th>\n",
              "      <th></th>\n",
              "      <th></th>\n",
              "      <th>f1</th>\n",
              "      <th>dialogue</th>\n",
              "    </tr>\n",
              "    <tr>\n",
              "      <th></th>\n",
              "      <th>source</th>\n",
              "      <th>story</th>\n",
              "      <th></th>\n",
              "      <th></th>\n",
              "    </tr>\n",
              "  </thead>\n",
              "  <tbody>\n",
              "    <tr>\n",
              "      <th rowspan=\"5\" valign=\"top\">0</th>\n",
              "      <th rowspan=\"5\" valign=\"top\">cnn</th>\n",
              "      <th>(CNN) -- A 16-year-old Pennsylvania boy is facing murder charges, accused of fatally shooting a cab driver who he believed was intentionally taking a longer route to his destination. \\n\\nAazis Richardson is accused of shooting the cab driver, Vincent Darbenzio, 47, twice in the back of his head while still in the cab, according to Lackawanna County Assistant District Attorney Gene Talerico. \\n\\nRichardson believed Darbenzio had ignored his route suggestions in attempt to increase the fare, according to Talerico. \\n\\n\"I just told him, 'take this way;' he didn't want to listen -- he got his (expletive) shot,\" Richardson told CNN affiliate WNEP. \\n\\nCalls and e-mails to the Lackawanna County public defender's office, which is representing Richardson, were not immediately returned. \\n\\nAs Richardson was being taken away, he showed no remorse for the driver or his family telling WNEP, \"my homies died, everybody gotta die.\" \\n\\nRichardson was charged as an adult with multiple counts of murder in the first, second and third degrees, as well as robbery and firearms-related offenses, according Talerico. \\n\\nOn Sunday, more than 50 of Darbenzio's friends and family members held a vigil near the spot where Darbenzio was killed, according to the victim's brother, Chris Darbenzio. \\n\\nRichardson is currently being held without bail at the Lackawanna County Prison, according to the district attorney's office. \\n\\n</th>\n",
              "      <td>0.0</td>\n",
              "      <td>[Q:HOW OLD IS THE PERSPECTIVE? A:16 P:more tha...</td>\n",
              "    </tr>\n",
              "    <tr>\n",
              "      <th>(CNN) -- A Russian bookmaking company is offering to pay 100,000 euros for Paul, the prognosticating octopus who correctly predicted Spain's win in the World Cup. \\n\\n\"100,000 euros (about $129,800) was our starting price,\" Oleg Zhuravsky, co-owner of Liga Stavok -- \"Bet League\" in Russian -- told CNN. He said the offer could be increased if need be -- \"We are bookmakers, after all.\" \\n\\nPaul currently lives at the Sea Life Center in Oberhausen, Germany. Zhuravsky said a representative of the center's public relations firm has told him the offer has been received and \"they are studying it.\" \\n\\nHowever, the firm, Dederichs Reinecke and Parner, said it declined the Russian offer and that Paul will not be sold to anyone. \\n\\n\"Seriously speaking, we want the octopus for a number of purposes,\" Zhuravsky said. \"First, to see whether he can indeed effectively forecast the results of the football games. Secondly, Paul could become a good mascot, a good symbol for my bookmaking companies. And thirdly, he has an international fame like perhaps no other animal across the world does these days, and I'd love to be able to move him to Russia. \\n\\n\"Both kids and adults, I'm sure, would love to see him here,\" he said. \"We are even prepared to put him in the Moscow City Aquarium if that were the condition.\" \\n\\nHe said Paul would be given \"the best food\" and officials would let him forecast the results of the Russian domestic football tournament, \"which, I think, is a more difficult task than predicting the World Cup,\" he said. \"This would also boost the profile of the Moscow Aquarium.\"</th>\n",
              "      <td>0.0</td>\n",
              "      <td>[Q:What did the firm do with the offer? A:decl...</td>\n",
              "    </tr>\n",
              "    <tr>\n",
              "      <th>(CNN) -- According to the \"Guinness Book of World Records,\" Sherlock Holmes is the most popular role in the movies. \\n\\nSo if Robert Downey Jr. hardly seems like the iconic Sherlock (he's too short and muscular, and strains to suggest the intellectual arrogance that comes so easily to the English), he can take his place alongside such oddball castings as Buster Keaton, Charlton Heston and George C. Scott. And he's ideally suited to director Guy Ritchie's purpose, which is not to dust off your grandfather's Conan Doyle, but to juice today's kids with a quirky 19th century super sleuth. \\n\\nWhat's fun about these movies is that the equation works both ways. \\n\\nYes, this Holmes is more likely to get physical than his predecessors, he's even a bit of a boor, but he's still a more cerebral action hero than we find in most blockbusters, and the period trappings (a seamless blend of CGI and location work) help this franchise stand out from the crowd of comic book adaptations. \\n\\nRitchie and husband-and-wife screenwriters Kieran and Michele Mulroney (\"Paper Man\") map out a fast-moving -- if ridiculously digressive -- Victorian adventure that crisscrosses Europe by horseless carriage, train, boat, and, in Sherlock's case, pony. \\n\\nJust down the road from 221 Baker Street they're digging a tunnel for what will become the London Underground. The Industrial Age is beginning to stretch its muscles, while a series of terrorist atrocities are gnawing at the fragile understanding between the great European powers. Holmes detects something other than social unrest behind the bombings: an evil master plan leading inexorably to his nemesis, Professor Moriarty (Jared Harris).</th>\n",
              "      <td>0.0</td>\n",
              "      <td>[Q:What is the most popular character in films...</td>\n",
              "    </tr>\n",
              "    <tr>\n",
              "      <th>(CNN) -- Brad Pitt clearly has a great deal going on. \\n\\nBetween being dad to six children, a fiancÃ©, an activist and a perfume pitchman, he still manages to squeeze in some time acting. The movie star recently sat down with \"Showbiz Tonight's\" A.J. Hammer to talk about his latest project, the mob film \"Killing Them Softly,\" and that nagging question of when he plans to marry partner Angelina Jolie. \\n\\nA.J. Hammer: Brad, we've got a mob movie and I believe the first one we've seen that has political campaign speeches throughout it. \\n\\nBrad Pitt: I like to mix it up. \\n\\nHammer: Was this -- for you -- as much about making a mob movie as it was about sending a political message? \\n\\nPitt: This is a good friend of mine, the writer and director, Andrew Dominik, he's from Australia, and his view of America was very interesting to me. His feeling in some way oppressed and that we get caught up in trying to sell the idea that the image is more important than the actual substance. This is what he was trying to tell with this story. He finds this book about a crime syndicate, and he makes these comparisons to -- not politics, per se, or not just politics, but ... the financial crisis itself, and it was a good subject matter. \\n\\nHammer: I know, and timely! The idea of the mob dealing with corporate concerns or falling off a fiscal cliff. How timely is that coming off this political season?</th>\n",
              "      <td>0.0</td>\n",
              "      <td>[Q:How many children does he have? A:Six. P:mo...</td>\n",
              "    </tr>\n",
              "    <tr>\n",
              "      <th>(CNN) -- His was a suicide with a macabre twist. In February, former Chicago Bears safety David Duerson shot himself in the chest, but not before leaving behind a note requesting his brain be studied for evidence of a disease striking football players. \\n\\nThe plaintive note read, \"Please, see that my brain is given to the NFL's brain bank.\" \\n\\nToday, scientists announced that Duerson's brain tissue showed \"moderately advanced\" evidence of chronic traumatic encephalopathy, a dementia-like brain disease afflicting athletes exposed to repeated brain trauma. \\n\\n\"Dave Duerson had classic pathology of CTE and no evidence of any other disease,\" said Dr. Ann McKee, a neuropathologist with the Bedford VA Medical Center, and co-director of the Boston University School of Medicine Center for the Study of Traumatic Encephalopathy. \"He had severe involvement of areas that control judgment, inhibition, impulse control, mood and memory.\" \\n\\nCTE has been found in the brains of 14 of 15 former NFL players thus far studied at the center. Their cases share a common thread -- repeated concussions, sub-concussive blows to the head, or both. The picture beginning to emerge from these cases is that trauma could be causing brain damage. \\n\\nA brain with CTE is riddled with dense clumps of a protein called tau. Under a microscope, tau appears as brown tangles that look similar to dementia. Except the cases of CTE have shown this progressive, dementia-like array in players well in advance of a typical dementia diagnosis, which typically occurs in the 70s or 80s. \\n\\nMike Webster, an offensive lineman with the Pittsburgh Steelers whose CTE was also diagnosed posthumously, was 50 when he died. John Grimsley, a nine-year NFL veteran who played most of his career with the Houston Oilers, was 45, and Duerson was 50. Scientists at Boston University have found evidence of CTE in the brain of an athlete as young as 18.</th>\n",
              "      <td>0.0</td>\n",
              "      <td>[Q:What did David want done with his brain? A:...</td>\n",
              "    </tr>\n",
              "    <tr>\n",
              "      <th rowspan=\"5\" valign=\"top\">1</th>\n",
              "      <th rowspan=\"5\" valign=\"top\">gutenberg</th>\n",
              "      <th>CHAPTER 6 \\n\\nCan piety the discord heal, Or stanch the death-feud's enmity? --Scott \\n\\nIt must not be supposed that such a history of Guy's mind was expressed by himself, or understood by Mrs. Edmonstone; but she saw enough to guess at his character, perceive the sort of guidance he needed, and be doubly interested in him. Much did she wish he could have such a friend as her brother would have been, and hope that nothing would prevent a friendship with her nephew. \\n\\nThe present question about the horse was, she thought, unfortunate, since, though Guy had exercised great self-denial, it was no wonder Philip was annoyed. Mr. Edmonstone's vexation was soon over. As soon as she had persuaded him that there had been no offence, he strove to say with a good grace, that it was very proper, and told Guy he would be a thorough book-worm and tremendous scholar, which Guy took as an excellent joke. \\n\\nPhilip had made up his mind to be forbearing, and to say no more about it. Laura thought this a pity, as they could thus never come to an understanding; but when she hinted it, he wore such a dignified air of not being offended, that she was much ashamed of having tried to direct one so much better able to judge. On his side Guy had no idea the trouble he had caused; so, after bestowing his thanks in a gay, off-hand way, which Philip thought the worst feature of the case, he did his best to bring Hecuba back into his mind, drive the hunters out of it, and appease the much-aggrieved William of Deloraine.</th>\n",
              "      <td>0.0</td>\n",
              "      <td>[Q:Who wanted a friend like her brother? A:Mrs...</td>\n",
              "    </tr>\n",
              "    <tr>\n",
              "      <th>CHAPTER FIFTY FIVE. \\n\\nWAITING. \\n\\nThe lengthening sunny days went on without bringing either what Romola most desired or what she most dreaded. They brought no sign from Baldassarre, and, in spite of special watch on the part of the Government, no revelation of the suspected conspiracy. But they brought other things which touched her closely, and bridged the phantom-crowded space of anxiety with active sympathy in immediate trial. They brought the spreading Plague and the Excommunication of Savonarola. \\n\\nBoth these events tended to arrest her incipient alienation from the Frate, and to rivet again her attachment to the man who had opened to her the new life of duty, and who seemed now to be worsted in the fight for principle against profligacy. For Romola could not carry from day to day into the abodes of pestilence and misery the sublime excitement of a gladness that, since such anguish existed, she too existed to make some of the anguish less bitter, without remembering that she owed this transcendent moral life to Fra Girolamo. She could not witness the silencing and excommunication of a man whose distinction from the great mass of the clergy lay, not in any heretical belief, not in his superstitions, but in the energy with which he sought to make the Christian life a reality, without feeling herself drawn strongly to his side. \\n\\nFar on in the hot days of June the Excommunication, for some weeks arrived from Rome, was solemnly published in the Duomo. Romola went to witness the scene, that the resistance it inspired might invigorate that sympathy with Savonarola which was one source of her strength. It was in memorable contrast with the scene she had been accustomed to witness there.</th>\n",
              "      <td>0.0</td>\n",
              "      <td>[Q:Who was excommunicated? A:Fra Girolamo P:th...</td>\n",
              "    </tr>\n",
              "    <tr>\n",
              "      <th>CHAPTER II \\n\\nTHE RULERS OF FRANCE \\n\\nGreat activity reigned in the corridors and kitchens of the old château. M. le Chef--the only true rival the immortal Vatel ever had--in white cap and apron, calm and self-possessed as a field-marshal in the hour of victory, and surrounded by an army of scullions and wenches, was directing the operations of dishing-up--the crowning glory of his arduous labours. Pies and patties, haunches of venison, trout and carp from the Rhine were placed on gold and silver dishes and adorned with tasteful ornaments of truly architectural beauty and monumental proportions. These were then handed over to the footmen, who, resplendent in gorgeous liveries of scarlet and azure, hurried along the marble passages carrying the masterpieces of culinary art to the banqueting-hall beyond, whilst the butlers, more sedate and dignified in sober garb of puce or brown, stalked along in stately repose bearing the huge tankards and crystal jugs. \\n\\nAll of the best that the fine old Château d'Aumont could provide was being requisitioned to-night, since M. le Duc and Mlle. Lydie, his daughter, were giving a farewell banquet to Charles Edward Stuart by the grace of God--if not by the will of the people--King of Great Britain and Ireland and all her dependencies beyond the seas. \\n\\nFor him speeches were made, toasts drunk and glasses raised; for him the ducal veneries had been ransacked, the ducal cellars shorn of their most ancient possessions; for him M. le Chef had raged and stormed for five hours, had expended the sweat of his brow and the intricacies of his brain; for him the scullions' backs had smarted, the wenches' cheeks had glowed, all to do honour to the only rightful King of England about to quit the hospitable land of France in order to conquer that island kingdom which his grandfather had lost.</th>\n",
              "      <td>0.0</td>\n",
              "      <td>[Q:Where was the banquet being held? A:the old...</td>\n",
              "    </tr>\n",
              "    <tr>\n",
              "      <th>CHAPTER II. ON A MOUNTAIN PATH \\n\\n\"Armed men, my lords!\" had been Fanfulla's cry. \"We are betrayed!\" \\n\\nThey looked at one another with stern eyes, and with that grimness that takes the place which fear would hold in meaner souls. \\n\\nThen Aquila rose slowly to his feet, and with him rose the others, looking to their weapons. He softly breathed a name--\"Masuccio Torri.\" \\n\\n\"Aye,\" cried Lodi bitterly, \"would that we had heeded your warning! Masuccio it will be, and at his heels his fifty mercenaries.\" \\n\\n\"Not less, I'll swear, by the sound of them,\" said Ferrabraccio. \"And we but six, without our harness.\" \\n\\n\"Seven,\" the Count laconically amended, resuming his hat and loosening his sword in its scabbard. \\n\\n\"Not so, my lord,\" exclaimed Lodi, laying a hand upon the Count's arm. \"You must not stay with us. You are our only hope--the only hope of Babbiano. If we are indeed betrayed--though by what infernal means I know not--and they have knowledge that six traitors met here to-night to conspire against the throne of Gian Maria, at least, I'll swear, it is not known that you were to have met us. His Highness may conjecture, but he cannot know for sure, and if you but escape, all may yet he well--saving with us, who matter not. Go, my lord! Remember your promise to seek at your cousin's hand the gonfalon, and may God and His blessed Saints prosper your Excellency.\" \\n\\nThe old man caught the young man's hand, and bending his head until his face was hidden in his long white hair, he imprinted a kiss of fealty upon it. But Aquila was not so easily to be dismissed.</th>\n",
              "      <td>0.0</td>\n",
              "      <td>[Q:who rose to his feet? A:Aquila P:the father...</td>\n",
              "    </tr>\n",
              "    <tr>\n",
              "      <th>CHAPTER IV. \\n\\nLady Wallinger and Edith were together in the morning room of Hellingsley, the morrow after the arrival of Oswald. Edith was arranging flowers in a vase, while her aunt was embroidering a Spanish peasant in correct costume. The daughter of Millbank looked as bright and fragrant as the fair creations that surrounded her. Beautiful to watch her as she arranged their forms and composed their groups; to mark her eye glance with gratification at some happy combination of colour, or to listen to her delight as they wafted to her in gratitude their perfume. Oswald and Sir Joseph were surveying the stables; Mr. Millbank, who had been daily expected for the last week from the factories, had not yet arrived. \\n\\n'I must say he gained my heart from the first,' said Lady Wallinger. \\n\\n'I wish the gardener would send us more roses,' said Edith. \\n\\n'He is so very superior to any young man I ever met,' continued Lady Wallinger. \\n\\n'I think we must have this vase entirely of roses; don't you think so, aunt?' inquired her niece. \\n\\n'I am fond of roses,' said Lady Wallinger. 'What beautiful bouquets Mr. Coningsby gave us at Paris, Edith!' \\n\\n'Beautiful!' \\n\\n'I must say, I was very happy when I met Mr. Coningsby again at Cambridge,' said Lady Wallinger. 'It gave me much greater pleasure than seeing any of the colleges.' \\n\\n'How delighted Oswald seems at having Mr. Coningsby for a companion again!' said Edith. \\n\\n'And very naturally,' said Lady Wallinger. 'Oswald ought to deem himself fortunate in having such a friend. I am sure the kindness of Mr. Coningsby when we met him at Cambridge is what I never shall forget. But he always was my favourite from the first time I saw him at Paris. Do you know, Edith, I liked him best of all your admirers.'</th>\n",
              "      <td>0.0</td>\n",
              "      <td>[Q:Was someone in the morning room alone? A:no...</td>\n",
              "    </tr>\n",
              "    <tr>\n",
              "      <th rowspan=\"5\" valign=\"top\">2</th>\n",
              "      <th rowspan=\"5\" valign=\"top\">mctest</th>\n",
              "      <th>A boy named Pedro was walking down the street one day, and he met a pretty girl in a pink dress who handed him a bell. It was made of metal, and looked worn and old. The girl said, this bell gave me my wish for a pink dress, but in order to keep my wish, I have to give the bell to someone else. Ring the bell three times to get your wish. Not two, not four, but three. When your wish arrives, give the bell to someone else. Pedro thanked the girl for the bell, and when she had gone, he rang the bell three times and wished for a puppy. Soon after, he saw a puppy on a street corner. It was black with brown and white spots. He picked the puppy up and hugged it. Then he saw his friend Alice. He gave the bell to Alice, who rang the bell and wished for a pretty bird. Soon a pretty bird landed on her shoulder. Alice thought the bell was a wonderful thing, and chose to keep it, rather than give it away. The next day when she woke up, her bird had flown away.</th>\n",
              "      <td>0.0</td>\n",
              "      <td>[Q:How many times do you have to ring the bell...</td>\n",
              "    </tr>\n",
              "    <tr>\n",
              "      <th>A little boy named Jimmy and his best friend Jeremy are walking home from school one day in the cold. They walk and talk about how different kindergarten is from the first grade. Jimmy and Jeremy are in different classes and they do different things. Jimmy's teacher has the kids do lots of arts and crafts making sock puppets, pasting pictures and many other things. Jeremy wishes he was in the same class as Jimmy because they are best friends and he likes doing arts and crafts. Jimmy tells Jeremy that they are going to be best friends even if they are in different classes, this makes Jeremy feel better. Jimmy remembers that Jeremy's birthday party is next week and he gets excited. Jimmy has the idea to make Jeremy a birthday cake with the help of his mother. They finally arrive at the corner where Jimmy lives and they promise to meet up the next morning for the walk to school. Jeremy lives three houses down and he races home.</th>\n",
              "      <td>0.0</td>\n",
              "      <td>[Q:Who is Jimmy's best friend? A:Jeremy P:a fa...</td>\n",
              "    </tr>\n",
              "    <tr>\n",
              "      <th>Andrew waited for his granddaddy to show up. They were going fishing. His mom had packed them a lunch. She had made Peanut Butter and Jelly Sandwiches. She also packed a bottle of nice cool water to drink. Andrew had wanted something else for lunch. He wanted chicken or cold cuts or left over meat loaf, but his mom sent Peanut Butter and Jelly sandwiches. The best way to get to the river was along the path. When the path ended, they needed to go through the bushes to the river. On some days they would think about going another way. They could go over the bridge, or through the back of the house or through Uncle Tom's yard. Today they took the path to the river. Andrew found some animal poop along the path. He asked his Grandpa what kind of animal poop he had found. He wanted to know if it was a lion, a tiger or a bear that had made the poop. Grandpa pointed in the bushes. Andrew saw a small black and white animal looking at him with big eyes. Andrew knew that he had was looking at a raccoon. He was sure that the raccoon had made the poop. When Andrew and Grandpa got to the river they put their fishing poles into the water. Andrew caught his first fish right away. He caught a second fish before lunch. He got hungry and had his Peanut Butter and Jelly sandwich and cool water. He saw that Grandpa had fallen asleep. After eating his lunch, Andrew caught three more fish before he woke up his grandpa. When Andrew and Grandpa got back home they gave all the fish they had caught to Andrew's mother, so she could make a good dinner.</th>\n",
              "      <td>0.0</td>\n",
              "      <td>[Q:Why? A:Because they were going fishing. P:a...</td>\n",
              "    </tr>\n",
              "    <tr>\n",
              "      <th>Anna loved the beach and went as often as she could. She liked the birds and the waves. Jason did not like the beach. He did not like how warm the sand was. He didn't like the salt in the water. Jason wanted to stay home. Jason went to the beach with his mother and father and met Anna. She had a red kite that Jason liked very much. Anna was having trouble getting the kite in the air and was sad. Jason went over to help her and together they got the kite into the air and watched it go higher and higher. Anna let Jason fly the kite for a little bit. After that Jason was hungry. Anna showed him that she had brought a green Picnic basket from her house. Inside the picnic basket there were cakes and sandwiches and salad and some fruit. Jason had brought lemonade in a blue bottle and shared it with Anna. It was the most fun Jason had at the beach.</th>\n",
              "      <td>0.0</td>\n",
              "      <td>[Q:what did she like about it? A:birds and the...</td>\n",
              "    </tr>\n",
              "    <tr>\n",
              "      <th>Annie was helping her little brother Max pick flowers from the garden. They wanted to put the flowers in a jar to put on the kitchen table. Mother's Day was the next day and their mother loved fresh flowers. \\n\\nAfter they picked flowers and put them in a jar, Max asked Annie if they could have a snack. Annie took Max into the kitchen and got out an apple to slice up. They sat down at the table looking at the flowers and ate their apple slices. There was a window in the kitchen that let in sunlight. \\n\\n\"Hey!\" Max said, pointing at one of the roses in the jar. \"There's something moving on that rose.\" \\n\\nAnnie looked more closely at the flowers. \"It's a ladybug,\" she said. \"We need to take it back outside.\" \\n\\nSuddenly the ladybug began flying around the kitchen. Max jumped up and ran around trying to catch it. At last he clapped his hands around it. \"Careful!\" said Annie. \\n\\nMax walked outside and let the ladybug go.</th>\n",
              "      <td>0.0</td>\n",
              "      <td>[Q:What holiday was coming up? A:Mother's Day ...</td>\n",
              "    </tr>\n",
              "    <tr>\n",
              "      <th rowspan=\"5\" valign=\"top\">3</th>\n",
              "      <th rowspan=\"5\" valign=\"top\">race</th>\n",
              "      <th>\"If I rest, I _ \"----would be an excellent motto for those who are troubled by the slightest bit of idleness.Even the most hard-working person might adopt it with advantage to serve as a reminder that, if one allows his abilities to rest, like the iron in the unused key, they will soon show signs of rust and, eventually, cannot do the work required of them. \\n\\nThose who would attain the heights reached and kept by great men must- keep their ability polished by constant use, so that they may unlock the doors of knowledge, the gate that guard the entrances to the professions, to science, art, literature, agriculture--every department of human endeavor. \\n\\nIndustry keeps the key bright that opens the treasury of achievement.If Hugh Miller, after toiling all day in a quarry, had devoted his evenings to rest and recreation, he would never have become a famous geologist.The celebrated mathematician, Edmund Stone, would never have published a mathematical dictionary, never have found the key to science of mathematics, if he had given his spare moments to idleness, had the little Scotch lad, Ferguson, allowed the busy brain to go to sleep while he tended sheep on the hillside instead of calculating the position of the stars by a string of beads, he would never have become a famous astronomer. \\n\\nLabor defeats all--not inconstant, or ill-directed labor; but faithful, persistent, daily effort toward a well-directed purpose.So industry is the price of noble and enduring success.</th>\n",
              "      <td>0.0</td>\n",
              "      <td>[Q:What defeats all? A:Labor P:the the the the...</td>\n",
              "    </tr>\n",
              "    <tr>\n",
              "      <th>\"What is success\"? Mr. Black asked his 6th grade business class. It was his opening conversation for the first class of the term. \"Success is riding in a sweet car, watching an 80-inch( TV, and living in a place with at least twelve rooms.\" One student answered, earning laughs from all the students. Mr. Black smiled, but shook his head. \"Tom, that is excess . That is not success.\" \"How about being able to provide for your family?\" A blonde girl named Sandy in the front suggested as an answer. \"Now we're getting closer,\" Mr. Black smiled, \"but try thinking about what you need and what you want.\" \"Getting everything you want.\" Tom shouted out an answer again, trying for more laughs. Mr. Black sighed .\" I believe we've already talked about excess versus(...) success.\" \"Getting everything you need, but some of what you want?\" James, sitting in the back wondered aloud. \"Quite right!\" Mr. Black clapped. \"Success is getting everything you need and some of what you want. The more you get that you want, the more successful you are. You do reach a point where you are living in excess, though.\" \"What does this have to do with business?\" Tom asked. It seemed if it wasn't funny, he wasn't happy. \"Well, Tom, think of it this way: the point of business is to make a living to support your family. Once you have properly seen to their needs, you can then seen to getting the extras that you want.\" \"What if I don't have a family?\" he continued to be difficult. \"Then you have to provide for yourself, a family of one.\" \"He has goldfish to think about!\" Peter, Tom's friend, shouted out. \"Then he needs to provide for a family of one with a fishbowl.\" Mr. Black corrected himself. Tom nodded, satisfied with that answer. \"So in the next nine weeks, we're going to study basic business situations, like having a checking account and understanding credit cards .\" Tom rubbed his hands together excitedly. \"When do we get to start spending?\" \"You already are, Tom. You're spending time with us!\" Mr. Black laughed. \"Now, let's see what you guys know about credit cards...\"</th>\n",
              "      <td>0.0</td>\n",
              "      <td>[Q:mr black asked what ? A:What is success P:a...</td>\n",
              "    </tr>\n",
              "    <tr>\n",
              "      <th>A couple of weeks ago, my 12-year-old daughter, Ella threatened to take my phone and break it. \"At night you'll always have your phone out and break you'll just type,\" Ella says. \"I'm ready to go to bed, and try to get you to read stories for me and you're just standing there reading your texts and texting other people,\" she adds. I came to realize that I was ignoring her as a father. \\n\\nElla isn't the only kid who feels this way about her parent's relationship with devices. Catherine Steiner-Adair, a psychologist at Harvard, wrote The Big Disconnect: Protecting Childhood and Family Relationships in the Digital Age. For her book, Steiner-Adair interviewed more than 1,000 kids from the ages of 4 to 18. She talked to hundreds of teachers and parents. \\n\\nOne of the many things that knocked my socks off, \" she says, \"was the consistency with which children -- whether they were 4 or 8 or 18 or 24-- talked about feeling exhausted and frustrated or mad trying to get their parents' attention, competing with computer screens or iPhone screens or any kind of technology.\" \\n\\nA couple of years ago, my daughter got a laptop for school. And because she was becoming more independent, we got her a phone. We set up rules for when she could use the device and when she'd need to put it away. We created a charging station, outside her bedroom, where she had to plug in these devices every night. Basically -- except for homework-- she has to put it all away when she comes home. \\n\\nSteiner-Adair says most adults don't set up similar limits in their own lives. \"We've lost the boundaries that protect work and family life,'' she says. \"So it is very hard to manage yourself and be present in the moments your children need you.'' \\n\\nAfter my daughter's little intervention ,I made myself a promise to create my own charging station. To plug my phone in-- somewhere faraway -- when I am done working for the day. I've been trying to leave it there untouched for most of the weekend</th>\n",
              "      <td>0.0</td>\n",
              "      <td>[Q:Who threatened to take a phone? A:Ella. P:t...</td>\n",
              "    </tr>\n",
              "    <tr>\n",
              "      <th>A great loss--Shirley Temple dies at 85 \\n\\nFebruary 12,2014 \\n\\nBYDERRIKJ.LANG ,Associated Press \\n\\nShirley Temple Black, who died on February 10that age 85, wasn't just a child star. She was THE child star--the sweet little girl whose shining smile helped _ some of the darkest days the US has known during the Great Depression. \\n\\nIt's hard today to imagine the super star Shirley was once \"America's Little Darling\". She sang and danced her way to the top of the box office in such films as Bright Eyes, Curly Top and Heidi. By 1940, she had appeared in 43 films. Temple teamed with Bill Robison in four movies, and their dance on the stairs in The Little Colonel is still a legendary film moment. \\n\\nIn the 1930s, her name on a movie introduction assured a packed house. She inspired dolls, dresses, dishes--even a drink (alcohol-free, of course). \\n\\nUS President Franklin D. Roosevelt once famously said that \"as long as our country has Shirley Temple, we will be all right.'' \\n\\nUnlike so many of today's child stars, Temple didn't end up with her name appearing across the headlines for bad behaviors. Instead of getting her photos on front pages or struggling with drugs and alcohol, Temple went on to a second career in diplomacy , including presidential appointments as ambassador to Ghana. \\n\\nShe surprised a lot of people who doubted her with her grace, knowledge and eagerness to serve. In fact, her career in public service (20 years) was longer than her career in movies (19). The role she valued most, however, was as wife, mother, grandmother and great-grandmother. \\n\\nThe world has lost a treasured Hollywood legend. But her movies will allow that little dynamic figure to continue charming audiences for a very long time.</th>\n",
              "      <td>0.0</td>\n",
              "      <td>[Q:Who is this news story about? A:Shirley Tem...</td>\n",
              "    </tr>\n",
              "    <tr>\n",
              "      <th>Bill Gates was born on October 28th, 1955. He grew up in Seattle, Washington. Bill Gates was named William Henry after his father and grandfather. He was a very clever boy. His favourite subject at school were science and maths. When he was 13 years old, Bill started to play with computers. At that time, computers were very large machines. Once he was interested in a very old computer. He and some of his friends spent lots of time doing unusual things with it. In the end, they worked out a software programme with the old machine. Bill sold it for 4, 200 dollars when he was only 17. In 1973, Bill went to Harvard University. At Harvard, he developed the BASIC language for the first microcomputer . In his third year, he left Harvard to work for a company called Microsoft. Bill began this company in 1975 with his friend Paul Allen. They thought that the computer would be a very important tool in every office and in every home, so they began developing software for personal computers. They improved the software to make it easier for people to use computer.</th>\n",
              "      <td>0.0</td>\n",
              "      <td>[Q:When was he born? A:October 28th, 1955 P:19...</td>\n",
              "    </tr>\n",
              "    <tr>\n",
              "      <th rowspan=\"5\" valign=\"top\">4</th>\n",
              "      <th rowspan=\"5\" valign=\"top\">wikipedia</th>\n",
              "      <th>A One Day International (ODI) is a form of limited overs cricket, played between two teams with international status, in which each team faces a fixed number of overs, usually 50. The Cricket World Cup is played in this format. One Day International matches are also called Limited Overs Internationals (LOI), although this generic term may also refer to Twenty20 International matches. They are major matches and considered the highest standard of List A, limited overs competition. \\n\\nThe international one-day game is a late twentieth-century development. The first ODI was played on 5 January 1971 between Australia and England at the Melbourne Cricket Ground. When the first three days of the third Test were washed out officials decided to abandon the match and, instead, play a one-off one day game consisting of 40 eight-ball overs per side. Australia won the game by 5 wickets. ODIs were played in white kits with a red ball. \\n\\nIn the late 1970s, Kerry Packer established the rival World Series Cricket competition, and it introduced many of the features of One Day International cricket that are now commonplace, including coloured uniforms, matches played at night under floodlights with a white ball and dark sight screens, and, for television broadcasts, multiple camera angles, effects microphones to capture sounds from the players on the pitch, and on-screen graphics. The first of the matches with coloured uniforms was the WSC Australians in wattle gold versus WSC West Indians in coral pink, played at VFL Park in Melbourne on 17 January 1979. This led not only to Kerry Packer's Channel 9 getting the TV rights to cricket in Australia but also led to players worldwide being paid to play, and becoming international professionals, no longer needing jobs outside cricket. Matches played with coloured kits and a white ball became more commonplace over time, and the use of white flannels and a red ball in ODIs was finally abandoned in 2001.</th>\n",
              "      <td>0.0</td>\n",
              "      <td>[Q:How long is an ODI? A:One Day P:more than t...</td>\n",
              "    </tr>\n",
              "    <tr>\n",
              "      <th>A psychological identity relates to self-image (one's mental model of oneself), self-esteem, and individuality. Consequently, Weinreich gives the definition \"A person's identity is defined as the totality of one's self-construal, in which how one construes oneself in the present expresses the continuity between how one construes oneself as one was in the past and how one construes oneself as one aspires to be in the future\"; this allows for definitions of aspects of identity, such as: \"One's ethnic identity is defined as that part of the totality of one's self-construal made up of those dimensions that express the continuity between one's construal of past ancestry and one's future aspirations in relation to ethnicity\" (Weinreich, 1986a). \\n\\nThe description or representation of individual and group identity is a central task for psychologists, sociologists and anthropologists and those of other disciplines where \"identity\" needs to be mapped and defined. How should one describe the identity of another, in ways which encompass both their idiosyncratic qualities and their group memberships or identifications, both of which can shift according to circumstance? Following on from the work of Kelly, Erikson, Tajfel and others Weinreich's Identity Structure Analysis (ISA), is \"a structural representation of the individual's existential experience, in which the relationships between self and other agents are organised in relatively stable structures over time … with the emphasis on the socio-cultural milieu in which self relates to other agents and institutions\" (Weinreich and Saunderson, (eds) 2003, p1). Using constructs drawn from the salient discourses of the individual, the group and cultural norms, the practical operationalisation of ISA provides a methodology that maps how these are used by the individual, applied across time and milieus by the \"situated self\" to appraise self and other agents and institutions (for example, resulting in the individual's evaluation of self and significant others and institutions).[citation needed]</th>\n",
              "      <td>0.0</td>\n",
              "      <td>[Q:What is the ISA? A:Identity Structure Analy...</td>\n",
              "    </tr>\n",
              "    <tr>\n",
              "      <th>A social class (or, simply, class), as in class society, is a set of subjectively defined concepts in the social sciences and political theory centered on models of social stratification in which people are grouped into a set of hierarchical social categories, the most common being the upper, middle, and lower classes. \\n\\nClass is a subject of analysis for sociologists, political scientists, anthropologists, and social historians. However, there is not a consensus on a definition of \"class\", and the term has a wide range of sometimes conflicting meanings. In common parlance, the term \"social class\" is usually synonymous with \"socio-economic class\", defined as \"people having the same social, economic, cultural, political or educational status\", e.g., \"the working class\"; \"an emerging professional class\". However, academics distinguish social class and socioeconomic status, with the former referring to one’s relatively stable sociocultural background and the latter referring to one’s current social and economic situation and, consequently, being more changeable over time. \\n\\nThe precise measurements of what determines social class in society has varied over time. Karl Marx thought \"class\" was defined by one's relationship to the means of production (their relations of production). His simple understanding of classes in modern capitalist society, are the proletariat, those who work but do not own the means of production; and the bourgeoisie, those who invest and live off of the surplus generated by the former. This contrasts with the view of the sociologist Max Weber, who argued \"class\" is determined by economic position, in contrast to \"social status\" or \"\"Stand\"\" which is determined by social prestige rather than simply just relations of production.</th>\n",
              "      <td>0.0</td>\n",
              "      <td>[Q:What is one group that analyzes classes? A:...</td>\n",
              "    </tr>\n",
              "    <tr>\n",
              "      <th>A thorough understanding of adolescence in society depends on information from various perspectives, including psychology, biology, history, sociology, education, and anthropology. Within all of these perspectives, adolescence is viewed as a transitional period between childhood and adulthood, whose cultural purpose is the preparation of children for adult roles. It is a period of multiple transitions involving education, training, employment and unemployment, as well as transitions from one living circumstance to another. \\n\\nPuberty occurs through a long process and begins with a surge in hormone production, which in turn causes a number of physical changes. It is the stage of life characterized by the appearance and development of secondary sex characteristics (for example, a deeper voice and larger adam's apple in boys, and development of breasts and more curved and prominent hips in girls) and a strong shift in hormonal balance towards an adult state. This is triggered by the pituitary gland, which secretes a surge of hormonal agents into the blood stream, initiating a chain reaction to occur. The male and female gonads are subsequently activated, which puts them into a state of rapid growth and development; the triggered gonads now commence the mass production of the necessary chemicals. The testes primarily release testosterone, and the ovaries predominantly dispense estrogen. The production of these hormones increases gradually until sexual maturation is met. Some boys may develop gynecomastia due to an imbalance of sex hormones, tissue responsiveness or obesity.</th>\n",
              "      <td>0.0</td>\n",
              "      <td>[Q:What non-biological purpose does it have? A...</td>\n",
              "    </tr>\n",
              "    <tr>\n",
              "      <th>A440 or A4 (also known as the Stuttgart pitch), which has a frequency of 440 Hz, is the musical note of A above middle C and serves as a general tuning standard for musical pitch. \\n\\nThe International Organization for Standardization classify it as ISO 16. Prior to the standardization on 440 Hz, other frequencies were standardised upon. Although not universally accepted, it serves as the audio frequency reference for the calibration of acoustic equipment and the tuning of pianos, violins, and other musical instruments. \\n\\nPrior to the standardization on 440 Hz, many countries and organizations followed the French standard since the 1860s of 435 Hz, which had also been the Austrian government's 1885 recommendation. Johann Heinrich Scheibler recommended A440 as a standard in 1834 after inventing the \"tonometer\" to measure pitch, and it was approved by the the same year. \\n\\nThe American music industry reached an informal standard of 440 Hz in 1926, and some began using it in instrument manufacturing. In 1936 the American Standards Association recommended that the A above middle C be tuned to 440 Hz. This standard was taken up by the International Organization for Standardization in 1955 (reaffirmed by them in 1975) as ISO 16. Although not universally accepted, since then it has served as the audio frequency reference for the calibration of acoustic equipment and the tuning of pianos, violins, and other musical instruments.</th>\n",
              "      <td>0.0</td>\n",
              "      <td>[Q:What entity standardized A4 on 440 Hertz? A...</td>\n",
              "    </tr>\n",
              "  </tbody>\n",
              "</table>\n",
              "</div>\n",
              "      <button class=\"colab-df-convert\" onclick=\"convertToInteractive('df-87120cbe-3f9c-45c0-8824-2aa38fed05e1')\"\n",
              "              title=\"Convert this dataframe to an interactive table.\"\n",
              "              style=\"display:none;\">\n",
              "        \n",
              "  <svg xmlns=\"http://www.w3.org/2000/svg\" height=\"24px\"viewBox=\"0 0 24 24\"\n",
              "       width=\"24px\">\n",
              "    <path d=\"M0 0h24v24H0V0z\" fill=\"none\"/>\n",
              "    <path d=\"M18.56 5.44l.94 2.06.94-2.06 2.06-.94-2.06-.94-.94-2.06-.94 2.06-2.06.94zm-11 1L8.5 8.5l.94-2.06 2.06-.94-2.06-.94L8.5 2.5l-.94 2.06-2.06.94zm10 10l.94 2.06.94-2.06 2.06-.94-2.06-.94-.94-2.06-.94 2.06-2.06.94z\"/><path d=\"M17.41 7.96l-1.37-1.37c-.4-.4-.92-.59-1.43-.59-.52 0-1.04.2-1.43.59L10.3 9.45l-7.72 7.72c-.78.78-.78 2.05 0 2.83L4 21.41c.39.39.9.59 1.41.59.51 0 1.02-.2 1.41-.59l7.78-7.78 2.81-2.81c.8-.78.8-2.07 0-2.86zM5.41 20L4 18.59l7.72-7.72 1.47 1.35L5.41 20z\"/>\n",
              "  </svg>\n",
              "      </button>\n",
              "      \n",
              "  <style>\n",
              "    .colab-df-container {\n",
              "      display:flex;\n",
              "      flex-wrap:wrap;\n",
              "      gap: 12px;\n",
              "    }\n",
              "\n",
              "    .colab-df-convert {\n",
              "      background-color: #E8F0FE;\n",
              "      border: none;\n",
              "      border-radius: 50%;\n",
              "      cursor: pointer;\n",
              "      display: none;\n",
              "      fill: #1967D2;\n",
              "      height: 32px;\n",
              "      padding: 0 0 0 0;\n",
              "      width: 32px;\n",
              "    }\n",
              "\n",
              "    .colab-df-convert:hover {\n",
              "      background-color: #E2EBFA;\n",
              "      box-shadow: 0px 1px 2px rgba(60, 64, 67, 0.3), 0px 1px 3px 1px rgba(60, 64, 67, 0.15);\n",
              "      fill: #174EA6;\n",
              "    }\n",
              "\n",
              "    [theme=dark] .colab-df-convert {\n",
              "      background-color: #3B4455;\n",
              "      fill: #D2E3FC;\n",
              "    }\n",
              "\n",
              "    [theme=dark] .colab-df-convert:hover {\n",
              "      background-color: #434B5C;\n",
              "      box-shadow: 0px 1px 3px 1px rgba(0, 0, 0, 0.15);\n",
              "      filter: drop-shadow(0px 1px 2px rgba(0, 0, 0, 0.3));\n",
              "      fill: #FFFFFF;\n",
              "    }\n",
              "  </style>\n",
              "\n",
              "      <script>\n",
              "        const buttonEl =\n",
              "          document.querySelector('#df-87120cbe-3f9c-45c0-8824-2aa38fed05e1 button.colab-df-convert');\n",
              "        buttonEl.style.display =\n",
              "          google.colab.kernel.accessAllowed ? 'block' : 'none';\n",
              "\n",
              "        async function convertToInteractive(key) {\n",
              "          const element = document.querySelector('#df-87120cbe-3f9c-45c0-8824-2aa38fed05e1');\n",
              "          const dataTable =\n",
              "            await google.colab.kernel.invokeFunction('convertToInteractive',\n",
              "                                                     [key], {});\n",
              "          if (!dataTable) return;\n",
              "\n",
              "          const docLinkHtml = 'Like what you see? Visit the ' +\n",
              "            '<a target=\"_blank\" href=https://colab.research.google.com/notebooks/data_table.ipynb>data table notebook</a>'\n",
              "            + ' to learn more about interactive tables.';\n",
              "          element.innerHTML = '';\n",
              "          dataTable['output_type'] = 'display_data';\n",
              "          await google.colab.output.renderOutput(dataTable, element);\n",
              "          const docLink = document.createElement('div');\n",
              "          docLink.innerHTML = docLinkHtml;\n",
              "          element.appendChild(docLink);\n",
              "        }\n",
              "      </script>\n",
              "    </div>\n",
              "  </div>\n",
              "  "
            ]
          },
          "metadata": {}
        }
      ],
      "id": "-V10dAMprIvs"
    },
    {
      "cell_type": "code",
      "source": [
        "df_worst_nohist_42.reset_index(drop=True)['dialogue'][0]"
      ],
      "metadata": {
        "colab": {
          "base_uri": "https://localhost:8080/"
        },
        "outputId": "899ce86a-8235-4220-c45f-672507882277",
        "id": "mJf_YxcPrIvt"
      },
      "execution_count": 82,
      "outputs": [
        {
          "output_type": "execute_result",
          "data": {
            "text/plain": [
              "['Q:HOW OLD IS THE PERSPECTIVE? A:16 P:more than the the city',\n",
              " 'Q:WHERE IS HE FROM? A:Pennsylvania P:the city',\n",
              " 'Q:WHAT CHARGES IS HE FACING. A:multiple counts of murder in the first, second and third degrees, as well as robbery and firearms-related offenses P:a the the the the the the the the the the the the the the the the the',\n",
              " 'Q:WHAT IS THE 16 YEAR OLDS NAME? A:Aazis Richardson P:the the the the the the the the the the the the the the the the the the',\n",
              " 'Q:WHO DID HE SHOOT? A:Vincent Darbenzio P:the the the the the the the the the the the the the the the the the the',\n",
              " 'Q:WHAT DID HE DO FOR A LIVING A:cab driver P:a car',\n",
              " 'Q:HOW OLD WAS HE? A:47 P:more than the city',\n",
              " \"Q:WHERE DID HE SHOOT HIM>' A:back of his head P:the city\",\n",
              " 'Q:AND THE LOCATION? A:in the cab P:the city',\n",
              " 'Q:FOR WHAT REASON? A:He ignored his route suggestions. P:a the the the the the the the the the the the the the the the the the',\n",
              " 'Q:WHAT DID HE BELIEVE WAS THE INTENTION? A:To attempt to increase the fare. P:a the the the the the the the the the the the the the the the the the',\n",
              " 'Q:WHAT COUNTY IS HOLDING THE CASE? A:Lackawanna County P:the New York',\n",
              " 'Q:DOES THE BOY SHOW REMORSE? A:No P:yes',\n",
              " 'Q:WHAT MAKES YOU SAY THAT? A:He said \"my homies died, everybody gotta die.\" P:a the the the the the the the the the the the the the the the the the',\n",
              " 'Q:WHO IS TALERICO? A:Lackawanna County Assistant District Attorney P:the United']"
            ]
          },
          "metadata": {},
          "execution_count": 82
        }
      ],
      "id": "mJf_YxcPrIvt"
    },
    {
      "cell_type": "markdown",
      "id": "11YOnyldSK3A",
      "metadata": {
        "id": "11YOnyldSK3A"
      },
      "source": [
        "##### With history"
      ]
    },
    {
      "cell_type": "code",
      "execution_count": 83,
      "metadata": {
        "colab": {
          "base_uri": "https://localhost:8080/"
        },
        "outputId": "acac168f-a980-4668-9900-d8474282d0f1",
        "id": "g5n1GINtsAPl"
      },
      "outputs": [
        {
          "output_type": "stream",
          "name": "stdout",
          "text": [
            "The model distilroberta-base with the history and seed 42 has been selected.\n",
            "\n",
            "The f1 score on the test set is 10.95\n"
          ]
        }
      ],
      "source": [
        "f1_hist_42_test = compute_f1_score_eval(df_test_eval, roberta_name, True, seeds[0], f1_metric)\n",
        "print(f\"The f1 score on the test set is {round(f1_hist_42_test, 2)}\")"
      ],
      "id": "g5n1GINtsAPl"
    },
    {
      "cell_type": "code",
      "execution_count": 84,
      "metadata": {
        "colab": {
          "base_uri": "https://localhost:8080/"
        },
        "outputId": "c9bdd0ee-fce9-452d-c970-c9dc13f41f01",
        "id": "_6RyHZudsAPm"
      },
      "outputs": [
        {
          "output_type": "stream",
          "name": "stdout",
          "text": [
            "The model distilroberta-base with the history and seed 42 has been selected.\n",
            "\n",
            "The f1 score on the validation set is 9.84\n"
          ]
        }
      ],
      "source": [
        "f1_hist_42_val = compute_f1_score_eval(df_val_eval, roberta_name, True, seeds[0], f1_metric)\n",
        "print(f\"The f1 score on the validation set is {round(f1_hist_42_val, 2)}\")"
      ],
      "id": "_6RyHZudsAPm"
    },
    {
      "cell_type": "code",
      "source": [
        "df_f1_hist_42 = f1_score_source_dialogue(df_test_eval, roberta_name, True,\n",
        "                                           seeds[0], f1_metric)\n",
        "\n",
        "df_worst_hist_42, _ = k_worst_best_dialogues(df_f1_hist_42, mode='worst', k=5)\n",
        "display(df_worst_hist_42)"
      ],
      "metadata": {
        "colab": {
          "base_uri": "https://localhost:8080/",
          "height": 1000
        },
        "outputId": "608f0ae2-2335-4d1c-8657-96455892464a",
        "id": "eW2Ia5YZsAPm"
      },
      "execution_count": 85,
      "outputs": [
        {
          "output_type": "stream",
          "name": "stdout",
          "text": [
            "The model distilroberta-base with the history and seed 42 has been selected.\n",
            "\n"
          ]
        },
        {
          "output_type": "display_data",
          "data": {
            "text/plain": [
              "                                                                 f1  \\\n",
              "  source    story                                                     \n",
              "0 cnn       (CNN) -- A 16-year-old Pennsylvania boy is faci...  0.0   \n",
              "            (CNN) -- According to the \"Guinness Book of Wor...  0.0   \n",
              "            (CNN) -- Brad Pitt clearly has a great deal goi...  0.0   \n",
              "            (CNN) -- FBI agents on Friday night searched th...  0.0   \n",
              "            (CNN) -- His was a suicide with a macabre twist...  0.0   \n",
              "1 gutenberg CHAPTER 6 \\n\\nCan piety the discord heal, Or st...  0.0   \n",
              "            CHAPTER FIFTY FIVE. \\n\\nWAITING. \\n\\nThe length...  0.0   \n",
              "            CHAPTER II \\n\\nTHE RULERS OF FRANCE \\n\\nGreat a...  0.0   \n",
              "            CHAPTER II. ON A MOUNTAIN PATH \\n\\n\"Armed men, ...  0.0   \n",
              "            CHAPTER IV. \\n\\nLady Wallinger and Edith were t...  0.0   \n",
              "2 mctest    A boy named Pedro was walking down the street o...  0.0   \n",
              "            Andrew waited for his granddaddy to show up. Th...  0.0   \n",
              "            Anna loved the beach and went as often as she c...  0.0   \n",
              "            Annie was helping her little brother Max pick f...  0.0   \n",
              "            As Michael put each finger on the white laces o...  0.0   \n",
              "3 race      \"If I rest, I _ \"----would be an excellent mott...  0.0   \n",
              "            A couple of weeks ago, my 12-year-old daughter,...  0.0   \n",
              "            A great loss--Shirley Temple dies at 85 \\n\\nFeb...  0.0   \n",
              "            As we drove along, my spirits went up again, an...  0.0   \n",
              "            Bill Gates was born on October 28th, 1955. He g...  0.0   \n",
              "4 wikipedia A One Day International (ODI) is a form of limi...  0.0   \n",
              "            A psychological identity relates to self-image ...  0.0   \n",
              "            A social class (or, simply, class), as in class...  0.0   \n",
              "            A thorough understanding of adolescence in soci...  0.0   \n",
              "            A440 or A4 (also known as the Stuttgart pitch),...  0.0   \n",
              "\n",
              "                                                                                                         dialogue  \n",
              "  source    story                                                                                                  \n",
              "0 cnn       (CNN) -- A 16-year-old Pennsylvania boy is faci...  [Q:HOW OLD IS THE PERSPECTIVE? A:16 P:a school...  \n",
              "            (CNN) -- According to the \"Guinness Book of Wor...  [Q:What is the most popular character in films...  \n",
              "            (CNN) -- Brad Pitt clearly has a great deal goi...  [Q:How many children does he have? A:Six. P:a ...  \n",
              "            (CNN) -- FBI agents on Friday night searched th...  [Q:Whose house was searched? A:Gary Giordano P...  \n",
              "            (CNN) -- His was a suicide with a macabre twist...  [Q:What did David want done with his brain? A:...  \n",
              "1 gutenberg CHAPTER 6 \\n\\nCan piety the discord heal, Or st...  [Q:Who wanted a friend like her brother? A:Mrs...  \n",
              "            CHAPTER FIFTY FIVE. \\n\\nWAITING. \\n\\nThe length...  [Q:Who was excommunicated? A:Fra Girolamo P:th...  \n",
              "            CHAPTER II \\n\\nTHE RULERS OF FRANCE \\n\\nGreat a...  [Q:Where was the banquet being held? A:the old...  \n",
              "            CHAPTER II. ON A MOUNTAIN PATH \\n\\n\"Armed men, ...  [Q:who rose to his feet? A:Aquila P:the the he...  \n",
              "            CHAPTER IV. \\n\\nLady Wallinger and Edith were t...  [Q:Was someone in the morning room alone? A:no...  \n",
              "2 mctest    A boy named Pedro was walking down the street o...  [Q:How many times do you have to ring the bell...  \n",
              "            Andrew waited for his granddaddy to show up. Th...  [Q:Why? A:Because they were going fishing. P:a...  \n",
              "            Anna loved the beach and went as often as she c...  [Q:what did she like about it? A:birds and the...  \n",
              "            Annie was helping her little brother Max pick f...  [Q:What holiday was coming up? A:Mother's Day ...  \n",
              "            As Michael put each finger on the white laces o...  [Q:What sport was Michael playing? A:football ...  \n",
              "3 race      \"If I rest, I _ \"----would be an excellent mott...  [Q:What defeats all? A:Labor P:a head, Q:What ...  \n",
              "            A couple of weeks ago, my 12-year-old daughter,...  [Q:Who threatened to take a phone? A:Ella. P:a...  \n",
              "            A great loss--Shirley Temple dies at 85 \\n\\nFeb...  [Q:Who is this news story about? A:Shirley Tem...  \n",
              "            As we drove along, my spirits went up again, an...  [Q:What time of year was it? A:not far past th...  \n",
              "            Bill Gates was born on October 28th, 1955. He g...  [Q:When was he born? A:October 28th, 1955 P:19...  \n",
              "4 wikipedia A One Day International (ODI) is a form of limi...  [Q:How long is an ODI? A:One Day P:a year, Q:W...  \n",
              "            A psychological identity relates to self-image ...  [Q:What is the ISA? A:Identity Structure Analy...  \n",
              "            A social class (or, simply, class), as in class...  [Q:What is one group that analyzes classes? A:...  \n",
              "            A thorough understanding of adolescence in soci...  [Q:What non-biological purpose does it have? A...  \n",
              "            A440 or A4 (also known as the Stuttgart pitch),...  [Q:What entity standardized A4 on 440 Hertz? A...  "
            ],
            "text/html": [
              "\n",
              "  <div id=\"df-c595ce83-b62c-44db-943f-0d127b0fad78\">\n",
              "    <div class=\"colab-df-container\">\n",
              "      <div>\n",
              "<style scoped>\n",
              "    .dataframe tbody tr th:only-of-type {\n",
              "        vertical-align: middle;\n",
              "    }\n",
              "\n",
              "    .dataframe tbody tr th {\n",
              "        vertical-align: top;\n",
              "    }\n",
              "\n",
              "    .dataframe thead th {\n",
              "        text-align: right;\n",
              "    }\n",
              "</style>\n",
              "<table border=\"1\" class=\"dataframe\">\n",
              "  <thead>\n",
              "    <tr style=\"text-align: right;\">\n",
              "      <th></th>\n",
              "      <th></th>\n",
              "      <th></th>\n",
              "      <th>f1</th>\n",
              "      <th>dialogue</th>\n",
              "    </tr>\n",
              "    <tr>\n",
              "      <th></th>\n",
              "      <th>source</th>\n",
              "      <th>story</th>\n",
              "      <th></th>\n",
              "      <th></th>\n",
              "    </tr>\n",
              "  </thead>\n",
              "  <tbody>\n",
              "    <tr>\n",
              "      <th rowspan=\"5\" valign=\"top\">0</th>\n",
              "      <th rowspan=\"5\" valign=\"top\">cnn</th>\n",
              "      <th>(CNN) -- A 16-year-old Pennsylvania boy is facing murder charges, accused of fatally shooting a cab driver who he believed was intentionally taking a longer route to his destination. \\n\\nAazis Richardson is accused of shooting the cab driver, Vincent Darbenzio, 47, twice in the back of his head while still in the cab, according to Lackawanna County Assistant District Attorney Gene Talerico. \\n\\nRichardson believed Darbenzio had ignored his route suggestions in attempt to increase the fare, according to Talerico. \\n\\n\"I just told him, 'take this way;' he didn't want to listen -- he got his (expletive) shot,\" Richardson told CNN affiliate WNEP. \\n\\nCalls and e-mails to the Lackawanna County public defender's office, which is representing Richardson, were not immediately returned. \\n\\nAs Richardson was being taken away, he showed no remorse for the driver or his family telling WNEP, \"my homies died, everybody gotta die.\" \\n\\nRichardson was charged as an adult with multiple counts of murder in the first, second and third degrees, as well as robbery and firearms-related offenses, according Talerico. \\n\\nOn Sunday, more than 50 of Darbenzio's friends and family members held a vigil near the spot where Darbenzio was killed, according to the victim's brother, Chris Darbenzio. \\n\\nRichardson is currently being held without bail at the Lackawanna County Prison, according to the district attorney's office. \\n\\n</th>\n",
              "      <td>0.0</td>\n",
              "      <td>[Q:HOW OLD IS THE PERSPECTIVE? A:16 P:a school...</td>\n",
              "    </tr>\n",
              "    <tr>\n",
              "      <th>(CNN) -- According to the \"Guinness Book of World Records,\" Sherlock Holmes is the most popular role in the movies. \\n\\nSo if Robert Downey Jr. hardly seems like the iconic Sherlock (he's too short and muscular, and strains to suggest the intellectual arrogance that comes so easily to the English), he can take his place alongside such oddball castings as Buster Keaton, Charlton Heston and George C. Scott. And he's ideally suited to director Guy Ritchie's purpose, which is not to dust off your grandfather's Conan Doyle, but to juice today's kids with a quirky 19th century super sleuth. \\n\\nWhat's fun about these movies is that the equation works both ways. \\n\\nYes, this Holmes is more likely to get physical than his predecessors, he's even a bit of a boor, but he's still a more cerebral action hero than we find in most blockbusters, and the period trappings (a seamless blend of CGI and location work) help this franchise stand out from the crowd of comic book adaptations. \\n\\nRitchie and husband-and-wife screenwriters Kieran and Michele Mulroney (\"Paper Man\") map out a fast-moving -- if ridiculously digressive -- Victorian adventure that crisscrosses Europe by horseless carriage, train, boat, and, in Sherlock's case, pony. \\n\\nJust down the road from 221 Baker Street they're digging a tunnel for what will become the London Underground. The Industrial Age is beginning to stretch its muscles, while a series of terrorist atrocities are gnawing at the fragile understanding between the great European powers. Holmes detects something other than social unrest behind the bombings: an evil master plan leading inexorably to his nemesis, Professor Moriarty (Jared Harris).</th>\n",
              "      <td>0.0</td>\n",
              "      <td>[Q:What is the most popular character in films...</td>\n",
              "    </tr>\n",
              "    <tr>\n",
              "      <th>(CNN) -- Brad Pitt clearly has a great deal going on. \\n\\nBetween being dad to six children, a fiancÃ©, an activist and a perfume pitchman, he still manages to squeeze in some time acting. The movie star recently sat down with \"Showbiz Tonight's\" A.J. Hammer to talk about his latest project, the mob film \"Killing Them Softly,\" and that nagging question of when he plans to marry partner Angelina Jolie. \\n\\nA.J. Hammer: Brad, we've got a mob movie and I believe the first one we've seen that has political campaign speeches throughout it. \\n\\nBrad Pitt: I like to mix it up. \\n\\nHammer: Was this -- for you -- as much about making a mob movie as it was about sending a political message? \\n\\nPitt: This is a good friend of mine, the writer and director, Andrew Dominik, he's from Australia, and his view of America was very interesting to me. His feeling in some way oppressed and that we get caught up in trying to sell the idea that the image is more important than the actual substance. This is what he was trying to tell with this story. He finds this book about a crime syndicate, and he makes these comparisons to -- not politics, per se, or not just politics, but ... the financial crisis itself, and it was a good subject matter. \\n\\nHammer: I know, and timely! The idea of the mob dealing with corporate concerns or falling off a fiscal cliff. How timely is that coming off this political season?</th>\n",
              "      <td>0.0</td>\n",
              "      <td>[Q:How many children does he have? A:Six. P:a ...</td>\n",
              "    </tr>\n",
              "    <tr>\n",
              "      <th>(CNN) -- FBI agents on Friday night searched the Maryland home of the suspect in the recent disappearance of an American woman in Aruba, an agent said. \\n\\nThe search is occurring in the Gaithersburg residence of Gary Giordano, who is currently being held in an Aruban jail, FBI Special Agent Rich Wolf told CNN. \\n\\nAgents, wearing vests that said FBI and carrying empty cardboard and plastic boxes, arrived about 8:40 p.m. Friday. About 15 unmarked cars could be seen on the street, as well as a Montgomery County police vehicle. \\n\\nSupervisory Special Agent Philip Celestini, who was at the residence, declined to comment further on the search, citing the active investigation. \\n\\nAruban Solicitor General Taco Stein said earlier Friday that the suspect will appear in court Monday, where an investigating magistrate could order him held for at least eight more days, order him to remain on the island or release him outright due to a lack of evidence. \\n\\nGiordano was arrested by Aruban police on August 5, three days after Robyn Gardner was last seen near Baby Beach on the western tip of the Caribbean island. \\n\\nGiordano told authorities that he had been snorkeling with Gardner when he signaled to her to swim back, according to a statement. When he reached the beach, Gardner was nowhere to be found, Giordano allegedly said. \\n\\nThe area that Giordano led authorities to is a rocky, unsightly location that locals say is not a popular snorkeling spot. \\n\\nAlthough prosecutors have continued to identify the 50-year-old American man by his initials, GVG, they also released a photo of a man who appears to be Giordano. His attorney, Michael Lopez, also has said that his client is being held as a suspect in Gardner's death. Lopez has not returned telephone calls seeking comment.</th>\n",
              "      <td>0.0</td>\n",
              "      <td>[Q:Whose house was searched? A:Gary Giordano P...</td>\n",
              "    </tr>\n",
              "    <tr>\n",
              "      <th>(CNN) -- His was a suicide with a macabre twist. In February, former Chicago Bears safety David Duerson shot himself in the chest, but not before leaving behind a note requesting his brain be studied for evidence of a disease striking football players. \\n\\nThe plaintive note read, \"Please, see that my brain is given to the NFL's brain bank.\" \\n\\nToday, scientists announced that Duerson's brain tissue showed \"moderately advanced\" evidence of chronic traumatic encephalopathy, a dementia-like brain disease afflicting athletes exposed to repeated brain trauma. \\n\\n\"Dave Duerson had classic pathology of CTE and no evidence of any other disease,\" said Dr. Ann McKee, a neuropathologist with the Bedford VA Medical Center, and co-director of the Boston University School of Medicine Center for the Study of Traumatic Encephalopathy. \"He had severe involvement of areas that control judgment, inhibition, impulse control, mood and memory.\" \\n\\nCTE has been found in the brains of 14 of 15 former NFL players thus far studied at the center. Their cases share a common thread -- repeated concussions, sub-concussive blows to the head, or both. The picture beginning to emerge from these cases is that trauma could be causing brain damage. \\n\\nA brain with CTE is riddled with dense clumps of a protein called tau. Under a microscope, tau appears as brown tangles that look similar to dementia. Except the cases of CTE have shown this progressive, dementia-like array in players well in advance of a typical dementia diagnosis, which typically occurs in the 70s or 80s. \\n\\nMike Webster, an offensive lineman with the Pittsburgh Steelers whose CTE was also diagnosed posthumously, was 50 when he died. John Grimsley, a nine-year NFL veteran who played most of his career with the Houston Oilers, was 45, and Duerson was 50. Scientists at Boston University have found evidence of CTE in the brain of an athlete as young as 18.</th>\n",
              "      <td>0.0</td>\n",
              "      <td>[Q:What did David want done with his brain? A:...</td>\n",
              "    </tr>\n",
              "    <tr>\n",
              "      <th rowspan=\"5\" valign=\"top\">1</th>\n",
              "      <th rowspan=\"5\" valign=\"top\">gutenberg</th>\n",
              "      <th>CHAPTER 6 \\n\\nCan piety the discord heal, Or stanch the death-feud's enmity? --Scott \\n\\nIt must not be supposed that such a history of Guy's mind was expressed by himself, or understood by Mrs. Edmonstone; but she saw enough to guess at his character, perceive the sort of guidance he needed, and be doubly interested in him. Much did she wish he could have such a friend as her brother would have been, and hope that nothing would prevent a friendship with her nephew. \\n\\nThe present question about the horse was, she thought, unfortunate, since, though Guy had exercised great self-denial, it was no wonder Philip was annoyed. Mr. Edmonstone's vexation was soon over. As soon as she had persuaded him that there had been no offence, he strove to say with a good grace, that it was very proper, and told Guy he would be a thorough book-worm and tremendous scholar, which Guy took as an excellent joke. \\n\\nPhilip had made up his mind to be forbearing, and to say no more about it. Laura thought this a pity, as they could thus never come to an understanding; but when she hinted it, he wore such a dignified air of not being offended, that she was much ashamed of having tried to direct one so much better able to judge. On his side Guy had no idea the trouble he had caused; so, after bestowing his thanks in a gay, off-hand way, which Philip thought the worst feature of the case, he did his best to bring Hecuba back into his mind, drive the hunters out of it, and appease the much-aggrieved William of Deloraine.</th>\n",
              "      <td>0.0</td>\n",
              "      <td>[Q:Who wanted a friend like her brother? A:Mrs...</td>\n",
              "    </tr>\n",
              "    <tr>\n",
              "      <th>CHAPTER FIFTY FIVE. \\n\\nWAITING. \\n\\nThe lengthening sunny days went on without bringing either what Romola most desired or what she most dreaded. They brought no sign from Baldassarre, and, in spite of special watch on the part of the Government, no revelation of the suspected conspiracy. But they brought other things which touched her closely, and bridged the phantom-crowded space of anxiety with active sympathy in immediate trial. They brought the spreading Plague and the Excommunication of Savonarola. \\n\\nBoth these events tended to arrest her incipient alienation from the Frate, and to rivet again her attachment to the man who had opened to her the new life of duty, and who seemed now to be worsted in the fight for principle against profligacy. For Romola could not carry from day to day into the abodes of pestilence and misery the sublime excitement of a gladness that, since such anguish existed, she too existed to make some of the anguish less bitter, without remembering that she owed this transcendent moral life to Fra Girolamo. She could not witness the silencing and excommunication of a man whose distinction from the great mass of the clergy lay, not in any heretical belief, not in his superstitions, but in the energy with which he sought to make the Christian life a reality, without feeling herself drawn strongly to his side. \\n\\nFar on in the hot days of June the Excommunication, for some weeks arrived from Rome, was solemnly published in the Duomo. Romola went to witness the scene, that the resistance it inspired might invigorate that sympathy with Savonarola which was one source of her strength. It was in memorable contrast with the scene she had been accustomed to witness there.</th>\n",
              "      <td>0.0</td>\n",
              "      <td>[Q:Who was excommunicated? A:Fra Girolamo P:th...</td>\n",
              "    </tr>\n",
              "    <tr>\n",
              "      <th>CHAPTER II \\n\\nTHE RULERS OF FRANCE \\n\\nGreat activity reigned in the corridors and kitchens of the old château. M. le Chef--the only true rival the immortal Vatel ever had--in white cap and apron, calm and self-possessed as a field-marshal in the hour of victory, and surrounded by an army of scullions and wenches, was directing the operations of dishing-up--the crowning glory of his arduous labours. Pies and patties, haunches of venison, trout and carp from the Rhine were placed on gold and silver dishes and adorned with tasteful ornaments of truly architectural beauty and monumental proportions. These were then handed over to the footmen, who, resplendent in gorgeous liveries of scarlet and azure, hurried along the marble passages carrying the masterpieces of culinary art to the banqueting-hall beyond, whilst the butlers, more sedate and dignified in sober garb of puce or brown, stalked along in stately repose bearing the huge tankards and crystal jugs. \\n\\nAll of the best that the fine old Château d'Aumont could provide was being requisitioned to-night, since M. le Duc and Mlle. Lydie, his daughter, were giving a farewell banquet to Charles Edward Stuart by the grace of God--if not by the will of the people--King of Great Britain and Ireland and all her dependencies beyond the seas. \\n\\nFor him speeches were made, toasts drunk and glasses raised; for him the ducal veneries had been ransacked, the ducal cellars shorn of their most ancient possessions; for him M. le Chef had raged and stormed for five hours, had expended the sweat of his brow and the intricacies of his brain; for him the scullions' backs had smarted, the wenches' cheeks had glowed, all to do honour to the only rightful King of England about to quit the hospitable land of France in order to conquer that island kingdom which his grandfather had lost.</th>\n",
              "      <td>0.0</td>\n",
              "      <td>[Q:Where was the banquet being held? A:the old...</td>\n",
              "    </tr>\n",
              "    <tr>\n",
              "      <th>CHAPTER II. ON A MOUNTAIN PATH \\n\\n\"Armed men, my lords!\" had been Fanfulla's cry. \"We are betrayed!\" \\n\\nThey looked at one another with stern eyes, and with that grimness that takes the place which fear would hold in meaner souls. \\n\\nThen Aquila rose slowly to his feet, and with him rose the others, looking to their weapons. He softly breathed a name--\"Masuccio Torri.\" \\n\\n\"Aye,\" cried Lodi bitterly, \"would that we had heeded your warning! Masuccio it will be, and at his heels his fifty mercenaries.\" \\n\\n\"Not less, I'll swear, by the sound of them,\" said Ferrabraccio. \"And we but six, without our harness.\" \\n\\n\"Seven,\" the Count laconically amended, resuming his hat and loosening his sword in its scabbard. \\n\\n\"Not so, my lord,\" exclaimed Lodi, laying a hand upon the Count's arm. \"You must not stay with us. You are our only hope--the only hope of Babbiano. If we are indeed betrayed--though by what infernal means I know not--and they have knowledge that six traitors met here to-night to conspire against the throne of Gian Maria, at least, I'll swear, it is not known that you were to have met us. His Highness may conjecture, but he cannot know for sure, and if you but escape, all may yet he well--saving with us, who matter not. Go, my lord! Remember your promise to seek at your cousin's hand the gonfalon, and may God and His blessed Saints prosper your Excellency.\" \\n\\nThe old man caught the young man's hand, and bending his head until his face was hidden in his long white hair, he imprinted a kiss of fealty upon it. But Aquila was not so easily to be dismissed.</th>\n",
              "      <td>0.0</td>\n",
              "      <td>[Q:who rose to his feet? A:Aquila P:the the he...</td>\n",
              "    </tr>\n",
              "    <tr>\n",
              "      <th>CHAPTER IV. \\n\\nLady Wallinger and Edith were together in the morning room of Hellingsley, the morrow after the arrival of Oswald. Edith was arranging flowers in a vase, while her aunt was embroidering a Spanish peasant in correct costume. The daughter of Millbank looked as bright and fragrant as the fair creations that surrounded her. Beautiful to watch her as she arranged their forms and composed their groups; to mark her eye glance with gratification at some happy combination of colour, or to listen to her delight as they wafted to her in gratitude their perfume. Oswald and Sir Joseph were surveying the stables; Mr. Millbank, who had been daily expected for the last week from the factories, had not yet arrived. \\n\\n'I must say he gained my heart from the first,' said Lady Wallinger. \\n\\n'I wish the gardener would send us more roses,' said Edith. \\n\\n'He is so very superior to any young man I ever met,' continued Lady Wallinger. \\n\\n'I think we must have this vase entirely of roses; don't you think so, aunt?' inquired her niece. \\n\\n'I am fond of roses,' said Lady Wallinger. 'What beautiful bouquets Mr. Coningsby gave us at Paris, Edith!' \\n\\n'Beautiful!' \\n\\n'I must say, I was very happy when I met Mr. Coningsby again at Cambridge,' said Lady Wallinger. 'It gave me much greater pleasure than seeing any of the colleges.' \\n\\n'How delighted Oswald seems at having Mr. Coningsby for a companion again!' said Edith. \\n\\n'And very naturally,' said Lady Wallinger. 'Oswald ought to deem himself fortunate in having such a friend. I am sure the kindness of Mr. Coningsby when we met him at Cambridge is what I never shall forget. But he always was my favourite from the first time I saw him at Paris. Do you know, Edith, I liked him best of all your admirers.'</th>\n",
              "      <td>0.0</td>\n",
              "      <td>[Q:Was someone in the morning room alone? A:no...</td>\n",
              "    </tr>\n",
              "    <tr>\n",
              "      <th rowspan=\"5\" valign=\"top\">2</th>\n",
              "      <th rowspan=\"5\" valign=\"top\">mctest</th>\n",
              "      <th>A boy named Pedro was walking down the street one day, and he met a pretty girl in a pink dress who handed him a bell. It was made of metal, and looked worn and old. The girl said, this bell gave me my wish for a pink dress, but in order to keep my wish, I have to give the bell to someone else. Ring the bell three times to get your wish. Not two, not four, but three. When your wish arrives, give the bell to someone else. Pedro thanked the girl for the bell, and when she had gone, he rang the bell three times and wished for a puppy. Soon after, he saw a puppy on a street corner. It was black with brown and white spots. He picked the puppy up and hugged it. Then he saw his friend Alice. He gave the bell to Alice, who rang the bell and wished for a pretty bird. Soon a pretty bird landed on her shoulder. Alice thought the bell was a wonderful thing, and chose to keep it, rather than give it away. The next day when she woke up, her bird had flown away.</th>\n",
              "      <td>0.0</td>\n",
              "      <td>[Q:How many times do you have to ring the bell...</td>\n",
              "    </tr>\n",
              "    <tr>\n",
              "      <th>Andrew waited for his granddaddy to show up. They were going fishing. His mom had packed them a lunch. She had made Peanut Butter and Jelly Sandwiches. She also packed a bottle of nice cool water to drink. Andrew had wanted something else for lunch. He wanted chicken or cold cuts or left over meat loaf, but his mom sent Peanut Butter and Jelly sandwiches. The best way to get to the river was along the path. When the path ended, they needed to go through the bushes to the river. On some days they would think about going another way. They could go over the bridge, or through the back of the house or through Uncle Tom's yard. Today they took the path to the river. Andrew found some animal poop along the path. He asked his Grandpa what kind of animal poop he had found. He wanted to know if it was a lion, a tiger or a bear that had made the poop. Grandpa pointed in the bushes. Andrew saw a small black and white animal looking at him with big eyes. Andrew knew that he had was looking at a raccoon. He was sure that the raccoon had made the poop. When Andrew and Grandpa got to the river they put their fishing poles into the water. Andrew caught his first fish right away. He caught a second fish before lunch. He got hungry and had his Peanut Butter and Jelly sandwich and cool water. He saw that Grandpa had fallen asleep. After eating his lunch, Andrew caught three more fish before he woke up his grandpa. When Andrew and Grandpa got back home they gave all the fish they had caught to Andrew's mother, so she could make a good dinner.</th>\n",
              "      <td>0.0</td>\n",
              "      <td>[Q:Why? A:Because they were going fishing. P:a...</td>\n",
              "    </tr>\n",
              "    <tr>\n",
              "      <th>Anna loved the beach and went as often as she could. She liked the birds and the waves. Jason did not like the beach. He did not like how warm the sand was. He didn't like the salt in the water. Jason wanted to stay home. Jason went to the beach with his mother and father and met Anna. She had a red kite that Jason liked very much. Anna was having trouble getting the kite in the air and was sad. Jason went over to help her and together they got the kite into the air and watched it go higher and higher. Anna let Jason fly the kite for a little bit. After that Jason was hungry. Anna showed him that she had brought a green Picnic basket from her house. Inside the picnic basket there were cakes and sandwiches and salad and some fruit. Jason had brought lemonade in a blue bottle and shared it with Anna. It was the most fun Jason had at the beach.</th>\n",
              "      <td>0.0</td>\n",
              "      <td>[Q:what did she like about it? A:birds and the...</td>\n",
              "    </tr>\n",
              "    <tr>\n",
              "      <th>Annie was helping her little brother Max pick flowers from the garden. They wanted to put the flowers in a jar to put on the kitchen table. Mother's Day was the next day and their mother loved fresh flowers. \\n\\nAfter they picked flowers and put them in a jar, Max asked Annie if they could have a snack. Annie took Max into the kitchen and got out an apple to slice up. They sat down at the table looking at the flowers and ate their apple slices. There was a window in the kitchen that let in sunlight. \\n\\n\"Hey!\" Max said, pointing at one of the roses in the jar. \"There's something moving on that rose.\" \\n\\nAnnie looked more closely at the flowers. \"It's a ladybug,\" she said. \"We need to take it back outside.\" \\n\\nSuddenly the ladybug began flying around the kitchen. Max jumped up and ran around trying to catch it. At last he clapped his hands around it. \"Careful!\" said Annie. \\n\\nMax walked outside and let the ladybug go.</th>\n",
              "      <td>0.0</td>\n",
              "      <td>[Q:What holiday was coming up? A:Mother's Day ...</td>\n",
              "    </tr>\n",
              "    <tr>\n",
              "      <th>As Michael put each finger on the white laces of the football like his dad had shown him he thought about his school trip to the zoo tomorrow. He could not wait to get to the zoo and most of all could not wait to see his favorite animal, the lion. Aiming the football at the tire swing that hung in his back yard, he remembered the second thing his dad had taught him about throwing a football which was making sure his shoulder and the football were in a straight line before he threw it. He watched the football sail toward the tire, right as his mom called him in for dinner. His mom had made his favorite food, hotdogs. He sat in the kitchen and watched as ketchup fell on to his plate as he ate his hotdog. His mom told him that in order to get his after dinner treat he would have to eat his corn, carrots, and drink all of his milk too. \\n\\nThat night as his mom tucked him in to bed he starred out the window and wondered if the lions at the zoo were looking up at the moon too. Michael, wondered if his best friends Joe, Nick, and Ryan were as excited as he was about going to the zoo the next day. He closed his eyes and went to sleep. \\n\\nThe next day he hopped from one foot to the other as his class lined up to get on the bus that would take him to the zoo. On the bus he sat with Ryan. The bus driver started the engine and turned the big steering wheel leading them out on to the road. Finally, at the zoo Michael began to imagine how cool it would be to finally get to see the lion cage. First his class went to see the monkeys and then headed over to see the long necked giraffes. As their teacher announced that they would then be going to see the elephants, we wondered if he would ever get to see the lions. Finally after learning about the elephants it was time to see the lions. The lion stood on a huge rock and swung its long tail from side to side. The lion licked his lips with its long pink tongue and Michael wondered if it was thinking about having a class full of kids for its lunch.</th>\n",
              "      <td>0.0</td>\n",
              "      <td>[Q:What sport was Michael playing? A:football ...</td>\n",
              "    </tr>\n",
              "    <tr>\n",
              "      <th rowspan=\"5\" valign=\"top\">3</th>\n",
              "      <th rowspan=\"5\" valign=\"top\">race</th>\n",
              "      <th>\"If I rest, I _ \"----would be an excellent motto for those who are troubled by the slightest bit of idleness.Even the most hard-working person might adopt it with advantage to serve as a reminder that, if one allows his abilities to rest, like the iron in the unused key, they will soon show signs of rust and, eventually, cannot do the work required of them. \\n\\nThose who would attain the heights reached and kept by great men must- keep their ability polished by constant use, so that they may unlock the doors of knowledge, the gate that guard the entrances to the professions, to science, art, literature, agriculture--every department of human endeavor. \\n\\nIndustry keeps the key bright that opens the treasury of achievement.If Hugh Miller, after toiling all day in a quarry, had devoted his evenings to rest and recreation, he would never have become a famous geologist.The celebrated mathematician, Edmund Stone, would never have published a mathematical dictionary, never have found the key to science of mathematics, if he had given his spare moments to idleness, had the little Scotch lad, Ferguson, allowed the busy brain to go to sleep while he tended sheep on the hillside instead of calculating the position of the stars by a string of beads, he would never have become a famous astronomer. \\n\\nLabor defeats all--not inconstant, or ill-directed labor; but faithful, persistent, daily effort toward a well-directed purpose.So industry is the price of noble and enduring success.</th>\n",
              "      <td>0.0</td>\n",
              "      <td>[Q:What defeats all? A:Labor P:a head, Q:What ...</td>\n",
              "    </tr>\n",
              "    <tr>\n",
              "      <th>A couple of weeks ago, my 12-year-old daughter, Ella threatened to take my phone and break it. \"At night you'll always have your phone out and break you'll just type,\" Ella says. \"I'm ready to go to bed, and try to get you to read stories for me and you're just standing there reading your texts and texting other people,\" she adds. I came to realize that I was ignoring her as a father. \\n\\nElla isn't the only kid who feels this way about her parent's relationship with devices. Catherine Steiner-Adair, a psychologist at Harvard, wrote The Big Disconnect: Protecting Childhood and Family Relationships in the Digital Age. For her book, Steiner-Adair interviewed more than 1,000 kids from the ages of 4 to 18. She talked to hundreds of teachers and parents. \\n\\nOne of the many things that knocked my socks off, \" she says, \"was the consistency with which children -- whether they were 4 or 8 or 18 or 24-- talked about feeling exhausted and frustrated or mad trying to get their parents' attention, competing with computer screens or iPhone screens or any kind of technology.\" \\n\\nA couple of years ago, my daughter got a laptop for school. And because she was becoming more independent, we got her a phone. We set up rules for when she could use the device and when she'd need to put it away. We created a charging station, outside her bedroom, where she had to plug in these devices every night. Basically -- except for homework-- she has to put it all away when she comes home. \\n\\nSteiner-Adair says most adults don't set up similar limits in their own lives. \"We've lost the boundaries that protect work and family life,'' she says. \"So it is very hard to manage yourself and be present in the moments your children need you.'' \\n\\nAfter my daughter's little intervention ,I made myself a promise to create my own charging station. To plug my phone in-- somewhere faraway -- when I am done working for the day. I've been trying to leave it there untouched for most of the weekend</th>\n",
              "      <td>0.0</td>\n",
              "      <td>[Q:Who threatened to take a phone? A:Ella. P:a...</td>\n",
              "    </tr>\n",
              "    <tr>\n",
              "      <th>A great loss--Shirley Temple dies at 85 \\n\\nFebruary 12,2014 \\n\\nBYDERRIKJ.LANG ,Associated Press \\n\\nShirley Temple Black, who died on February 10that age 85, wasn't just a child star. She was THE child star--the sweet little girl whose shining smile helped _ some of the darkest days the US has known during the Great Depression. \\n\\nIt's hard today to imagine the super star Shirley was once \"America's Little Darling\". She sang and danced her way to the top of the box office in such films as Bright Eyes, Curly Top and Heidi. By 1940, she had appeared in 43 films. Temple teamed with Bill Robison in four movies, and their dance on the stairs in The Little Colonel is still a legendary film moment. \\n\\nIn the 1930s, her name on a movie introduction assured a packed house. She inspired dolls, dresses, dishes--even a drink (alcohol-free, of course). \\n\\nUS President Franklin D. Roosevelt once famously said that \"as long as our country has Shirley Temple, we will be all right.'' \\n\\nUnlike so many of today's child stars, Temple didn't end up with her name appearing across the headlines for bad behaviors. Instead of getting her photos on front pages or struggling with drugs and alcohol, Temple went on to a second career in diplomacy , including presidential appointments as ambassador to Ghana. \\n\\nShe surprised a lot of people who doubted her with her grace, knowledge and eagerness to serve. In fact, her career in public service (20 years) was longer than her career in movies (19). The role she valued most, however, was as wife, mother, grandmother and great-grandmother. \\n\\nThe world has lost a treasured Hollywood legend. But her movies will allow that little dynamic figure to continue charming audiences for a very long time.</th>\n",
              "      <td>0.0</td>\n",
              "      <td>[Q:Who is this news story about? A:Shirley Tem...</td>\n",
              "    </tr>\n",
              "    <tr>\n",
              "      <th>As we drove along, my spirits went up again, and I turned, with pleasure, to the thought of the new life which I was entering. But though it was not far past the middle of September, the heavy clouds and strong north-easterly wind combined to make the day extremely cold; and the journey seemed a very long one, so that it was nearly one o'clock before we reached the place of our destination. Yet when we entered the gateway, my heart failed me, and I wished it were a mile or two farther off. For the first time in my life I must stand alone: there was no retreating now. I must enter that house, and introduce myself among its strange people. But how was it to be done? True, I was near nineteen; but, thanks to the protecting care of my mother and sister, I well knew that many a girl of fifteen, or under, was gifted with a more womanly address, and greater ease and self-possession, than I was. Yet, anyway. I would do very well, after all; and the children, of course, I should soon be at ease with them. \\n\\n\"Be calm, be calm, whatever happens,\" I said within myself; and truly I was so fully occupied in steadying my nerves and keeping down the rebellious beat of my heart that when I was admitted into the hall and into the presence of Mrs. Bloomfield, I almost forgot to answer her polite greeting; and it afterwards struck me that the little I did say was spoken in the tone of one half-dead or half-asleep. \\n\\nWith due politeness, however, she showed me my bedroom, and left me there to take a little refreshment for a little while and led me into the dining-room. Some beefsteaks and potatoes were set before me; and while I dined upon these, she sat opposite, watching me (as I thought) and trying to keep something like a conversation-- consisting chiefly of commonplace remarks. In fact, my attention was almost wholly absorbed in my dinner: not from appetite, but from the toughness of the beefsteaks, and the numbness of my hands. \\n\\n\"I have had so little time to attend to their education myself, but I think they are clever children, and very willing to learn, especially the little boy; he is, I think, the flower of the flock-- a generous, noble-spirited boy, one to be led, but not driven, and remarkable for always speaking the truth.\" \"His sister Mary Ann will require watching,\" continued she, \"but she is a very good girl on the whole, though I wish her to be kept out of the nursery as much as possible, as she is now almost six years old, and might acquire bad habits from the nurses. I have ordered her bed to be placed in your room, and if you will be so kind as to look after her washing and dressing, and take charge of her clothes, she needs to have nothing further to do with the nursery maid.\" \\n\\nI replied I was quite willing to do so; and at that moment the children entered the room. Tom Bloomfield was a well-grown boy of seven. Mary was a tall girl, for her age of six, somewhat dark like her mother. The second sister was Fanny, a very pretty little girl, looking little younger than Mary. The remaining one was Harriet, a little broad, fat, merry, playful thing of scarcely two, whom I had more desire for than all the rest -- but with her I had nothing to do.</th>\n",
              "      <td>0.0</td>\n",
              "      <td>[Q:What time of year was it? A:not far past th...</td>\n",
              "    </tr>\n",
              "    <tr>\n",
              "      <th>Bill Gates was born on October 28th, 1955. He grew up in Seattle, Washington. Bill Gates was named William Henry after his father and grandfather. He was a very clever boy. His favourite subject at school were science and maths. When he was 13 years old, Bill started to play with computers. At that time, computers were very large machines. Once he was interested in a very old computer. He and some of his friends spent lots of time doing unusual things with it. In the end, they worked out a software programme with the old machine. Bill sold it for 4, 200 dollars when he was only 17. In 1973, Bill went to Harvard University. At Harvard, he developed the BASIC language for the first microcomputer . In his third year, he left Harvard to work for a company called Microsoft. Bill began this company in 1975 with his friend Paul Allen. They thought that the computer would be a very important tool in every office and in every home, so they began developing software for personal computers. They improved the software to make it easier for people to use computer.</th>\n",
              "      <td>0.0</td>\n",
              "      <td>[Q:When was he born? A:October 28th, 1955 P:19...</td>\n",
              "    </tr>\n",
              "    <tr>\n",
              "      <th rowspan=\"5\" valign=\"top\">4</th>\n",
              "      <th rowspan=\"5\" valign=\"top\">wikipedia</th>\n",
              "      <th>A One Day International (ODI) is a form of limited overs cricket, played between two teams with international status, in which each team faces a fixed number of overs, usually 50. The Cricket World Cup is played in this format. One Day International matches are also called Limited Overs Internationals (LOI), although this generic term may also refer to Twenty20 International matches. They are major matches and considered the highest standard of List A, limited overs competition. \\n\\nThe international one-day game is a late twentieth-century development. The first ODI was played on 5 January 1971 between Australia and England at the Melbourne Cricket Ground. When the first three days of the third Test were washed out officials decided to abandon the match and, instead, play a one-off one day game consisting of 40 eight-ball overs per side. Australia won the game by 5 wickets. ODIs were played in white kits with a red ball. \\n\\nIn the late 1970s, Kerry Packer established the rival World Series Cricket competition, and it introduced many of the features of One Day International cricket that are now commonplace, including coloured uniforms, matches played at night under floodlights with a white ball and dark sight screens, and, for television broadcasts, multiple camera angles, effects microphones to capture sounds from the players on the pitch, and on-screen graphics. The first of the matches with coloured uniforms was the WSC Australians in wattle gold versus WSC West Indians in coral pink, played at VFL Park in Melbourne on 17 January 1979. This led not only to Kerry Packer's Channel 9 getting the TV rights to cricket in Australia but also led to players worldwide being paid to play, and becoming international professionals, no longer needing jobs outside cricket. Matches played with coloured kits and a white ball became more commonplace over time, and the use of white flannels and a red ball in ODIs was finally abandoned in 2001.</th>\n",
              "      <td>0.0</td>\n",
              "      <td>[Q:How long is an ODI? A:One Day P:a year, Q:W...</td>\n",
              "    </tr>\n",
              "    <tr>\n",
              "      <th>A psychological identity relates to self-image (one's mental model of oneself), self-esteem, and individuality. Consequently, Weinreich gives the definition \"A person's identity is defined as the totality of one's self-construal, in which how one construes oneself in the present expresses the continuity between how one construes oneself as one was in the past and how one construes oneself as one aspires to be in the future\"; this allows for definitions of aspects of identity, such as: \"One's ethnic identity is defined as that part of the totality of one's self-construal made up of those dimensions that express the continuity between one's construal of past ancestry and one's future aspirations in relation to ethnicity\" (Weinreich, 1986a). \\n\\nThe description or representation of individual and group identity is a central task for psychologists, sociologists and anthropologists and those of other disciplines where \"identity\" needs to be mapped and defined. How should one describe the identity of another, in ways which encompass both their idiosyncratic qualities and their group memberships or identifications, both of which can shift according to circumstance? Following on from the work of Kelly, Erikson, Tajfel and others Weinreich's Identity Structure Analysis (ISA), is \"a structural representation of the individual's existential experience, in which the relationships between self and other agents are organised in relatively stable structures over time … with the emphasis on the socio-cultural milieu in which self relates to other agents and institutions\" (Weinreich and Saunderson, (eds) 2003, p1). Using constructs drawn from the salient discourses of the individual, the group and cultural norms, the practical operationalisation of ISA provides a methodology that maps how these are used by the individual, applied across time and milieus by the \"situated self\" to appraise self and other agents and institutions (for example, resulting in the individual's evaluation of self and significant others and institutions).[citation needed]</th>\n",
              "      <td>0.0</td>\n",
              "      <td>[Q:What is the ISA? A:Identity Structure Analy...</td>\n",
              "    </tr>\n",
              "    <tr>\n",
              "      <th>A social class (or, simply, class), as in class society, is a set of subjectively defined concepts in the social sciences and political theory centered on models of social stratification in which people are grouped into a set of hierarchical social categories, the most common being the upper, middle, and lower classes. \\n\\nClass is a subject of analysis for sociologists, political scientists, anthropologists, and social historians. However, there is not a consensus on a definition of \"class\", and the term has a wide range of sometimes conflicting meanings. In common parlance, the term \"social class\" is usually synonymous with \"socio-economic class\", defined as \"people having the same social, economic, cultural, political or educational status\", e.g., \"the working class\"; \"an emerging professional class\". However, academics distinguish social class and socioeconomic status, with the former referring to one’s relatively stable sociocultural background and the latter referring to one’s current social and economic situation and, consequently, being more changeable over time. \\n\\nThe precise measurements of what determines social class in society has varied over time. Karl Marx thought \"class\" was defined by one's relationship to the means of production (their relations of production). His simple understanding of classes in modern capitalist society, are the proletariat, those who work but do not own the means of production; and the bourgeoisie, those who invest and live off of the surplus generated by the former. This contrasts with the view of the sociologist Max Weber, who argued \"class\" is determined by economic position, in contrast to \"social status\" or \"\"Stand\"\" which is determined by social prestige rather than simply just relations of production.</th>\n",
              "      <td>0.0</td>\n",
              "      <td>[Q:What is one group that analyzes classes? A:...</td>\n",
              "    </tr>\n",
              "    <tr>\n",
              "      <th>A thorough understanding of adolescence in society depends on information from various perspectives, including psychology, biology, history, sociology, education, and anthropology. Within all of these perspectives, adolescence is viewed as a transitional period between childhood and adulthood, whose cultural purpose is the preparation of children for adult roles. It is a period of multiple transitions involving education, training, employment and unemployment, as well as transitions from one living circumstance to another. \\n\\nPuberty occurs through a long process and begins with a surge in hormone production, which in turn causes a number of physical changes. It is the stage of life characterized by the appearance and development of secondary sex characteristics (for example, a deeper voice and larger adam's apple in boys, and development of breasts and more curved and prominent hips in girls) and a strong shift in hormonal balance towards an adult state. This is triggered by the pituitary gland, which secretes a surge of hormonal agents into the blood stream, initiating a chain reaction to occur. The male and female gonads are subsequently activated, which puts them into a state of rapid growth and development; the triggered gonads now commence the mass production of the necessary chemicals. The testes primarily release testosterone, and the ovaries predominantly dispense estrogen. The production of these hormones increases gradually until sexual maturation is met. Some boys may develop gynecomastia due to an imbalance of sex hormones, tissue responsiveness or obesity.</th>\n",
              "      <td>0.0</td>\n",
              "      <td>[Q:What non-biological purpose does it have? A...</td>\n",
              "    </tr>\n",
              "    <tr>\n",
              "      <th>A440 or A4 (also known as the Stuttgart pitch), which has a frequency of 440 Hz, is the musical note of A above middle C and serves as a general tuning standard for musical pitch. \\n\\nThe International Organization for Standardization classify it as ISO 16. Prior to the standardization on 440 Hz, other frequencies were standardised upon. Although not universally accepted, it serves as the audio frequency reference for the calibration of acoustic equipment and the tuning of pianos, violins, and other musical instruments. \\n\\nPrior to the standardization on 440 Hz, many countries and organizations followed the French standard since the 1860s of 435 Hz, which had also been the Austrian government's 1885 recommendation. Johann Heinrich Scheibler recommended A440 as a standard in 1834 after inventing the \"tonometer\" to measure pitch, and it was approved by the the same year. \\n\\nThe American music industry reached an informal standard of 440 Hz in 1926, and some began using it in instrument manufacturing. In 1936 the American Standards Association recommended that the A above middle C be tuned to 440 Hz. This standard was taken up by the International Organization for Standardization in 1955 (reaffirmed by them in 1975) as ISO 16. Although not universally accepted, since then it has served as the audio frequency reference for the calibration of acoustic equipment and the tuning of pianos, violins, and other musical instruments.</th>\n",
              "      <td>0.0</td>\n",
              "      <td>[Q:What entity standardized A4 on 440 Hertz? A...</td>\n",
              "    </tr>\n",
              "  </tbody>\n",
              "</table>\n",
              "</div>\n",
              "      <button class=\"colab-df-convert\" onclick=\"convertToInteractive('df-c595ce83-b62c-44db-943f-0d127b0fad78')\"\n",
              "              title=\"Convert this dataframe to an interactive table.\"\n",
              "              style=\"display:none;\">\n",
              "        \n",
              "  <svg xmlns=\"http://www.w3.org/2000/svg\" height=\"24px\"viewBox=\"0 0 24 24\"\n",
              "       width=\"24px\">\n",
              "    <path d=\"M0 0h24v24H0V0z\" fill=\"none\"/>\n",
              "    <path d=\"M18.56 5.44l.94 2.06.94-2.06 2.06-.94-2.06-.94-.94-2.06-.94 2.06-2.06.94zm-11 1L8.5 8.5l.94-2.06 2.06-.94-2.06-.94L8.5 2.5l-.94 2.06-2.06.94zm10 10l.94 2.06.94-2.06 2.06-.94-2.06-.94-.94-2.06-.94 2.06-2.06.94z\"/><path d=\"M17.41 7.96l-1.37-1.37c-.4-.4-.92-.59-1.43-.59-.52 0-1.04.2-1.43.59L10.3 9.45l-7.72 7.72c-.78.78-.78 2.05 0 2.83L4 21.41c.39.39.9.59 1.41.59.51 0 1.02-.2 1.41-.59l7.78-7.78 2.81-2.81c.8-.78.8-2.07 0-2.86zM5.41 20L4 18.59l7.72-7.72 1.47 1.35L5.41 20z\"/>\n",
              "  </svg>\n",
              "      </button>\n",
              "      \n",
              "  <style>\n",
              "    .colab-df-container {\n",
              "      display:flex;\n",
              "      flex-wrap:wrap;\n",
              "      gap: 12px;\n",
              "    }\n",
              "\n",
              "    .colab-df-convert {\n",
              "      background-color: #E8F0FE;\n",
              "      border: none;\n",
              "      border-radius: 50%;\n",
              "      cursor: pointer;\n",
              "      display: none;\n",
              "      fill: #1967D2;\n",
              "      height: 32px;\n",
              "      padding: 0 0 0 0;\n",
              "      width: 32px;\n",
              "    }\n",
              "\n",
              "    .colab-df-convert:hover {\n",
              "      background-color: #E2EBFA;\n",
              "      box-shadow: 0px 1px 2px rgba(60, 64, 67, 0.3), 0px 1px 3px 1px rgba(60, 64, 67, 0.15);\n",
              "      fill: #174EA6;\n",
              "    }\n",
              "\n",
              "    [theme=dark] .colab-df-convert {\n",
              "      background-color: #3B4455;\n",
              "      fill: #D2E3FC;\n",
              "    }\n",
              "\n",
              "    [theme=dark] .colab-df-convert:hover {\n",
              "      background-color: #434B5C;\n",
              "      box-shadow: 0px 1px 3px 1px rgba(0, 0, 0, 0.15);\n",
              "      filter: drop-shadow(0px 1px 2px rgba(0, 0, 0, 0.3));\n",
              "      fill: #FFFFFF;\n",
              "    }\n",
              "  </style>\n",
              "\n",
              "      <script>\n",
              "        const buttonEl =\n",
              "          document.querySelector('#df-c595ce83-b62c-44db-943f-0d127b0fad78 button.colab-df-convert');\n",
              "        buttonEl.style.display =\n",
              "          google.colab.kernel.accessAllowed ? 'block' : 'none';\n",
              "\n",
              "        async function convertToInteractive(key) {\n",
              "          const element = document.querySelector('#df-c595ce83-b62c-44db-943f-0d127b0fad78');\n",
              "          const dataTable =\n",
              "            await google.colab.kernel.invokeFunction('convertToInteractive',\n",
              "                                                     [key], {});\n",
              "          if (!dataTable) return;\n",
              "\n",
              "          const docLinkHtml = 'Like what you see? Visit the ' +\n",
              "            '<a target=\"_blank\" href=https://colab.research.google.com/notebooks/data_table.ipynb>data table notebook</a>'\n",
              "            + ' to learn more about interactive tables.';\n",
              "          element.innerHTML = '';\n",
              "          dataTable['output_type'] = 'display_data';\n",
              "          await google.colab.output.renderOutput(dataTable, element);\n",
              "          const docLink = document.createElement('div');\n",
              "          docLink.innerHTML = docLinkHtml;\n",
              "          element.appendChild(docLink);\n",
              "        }\n",
              "      </script>\n",
              "    </div>\n",
              "  </div>\n",
              "  "
            ]
          },
          "metadata": {}
        }
      ],
      "id": "eW2Ia5YZsAPm"
    },
    {
      "cell_type": "code",
      "source": [
        "df_worst_nohist_42.reset_index(drop=True)['dialogue'][0]"
      ],
      "metadata": {
        "colab": {
          "base_uri": "https://localhost:8080/"
        },
        "outputId": "c249896e-cd58-4307-e02b-eb25b41ef2b2",
        "id": "Yek6UW_bsAPn"
      },
      "execution_count": 86,
      "outputs": [
        {
          "output_type": "execute_result",
          "data": {
            "text/plain": [
              "['Q:HOW OLD IS THE PERSPECTIVE? A:16 P:more than the the city',\n",
              " 'Q:WHERE IS HE FROM? A:Pennsylvania P:the city',\n",
              " 'Q:WHAT CHARGES IS HE FACING. A:multiple counts of murder in the first, second and third degrees, as well as robbery and firearms-related offenses P:a the the the the the the the the the the the the the the the the the',\n",
              " 'Q:WHAT IS THE 16 YEAR OLDS NAME? A:Aazis Richardson P:the the the the the the the the the the the the the the the the the the',\n",
              " 'Q:WHO DID HE SHOOT? A:Vincent Darbenzio P:the the the the the the the the the the the the the the the the the the',\n",
              " 'Q:WHAT DID HE DO FOR A LIVING A:cab driver P:a car',\n",
              " 'Q:HOW OLD WAS HE? A:47 P:more than the city',\n",
              " \"Q:WHERE DID HE SHOOT HIM>' A:back of his head P:the city\",\n",
              " 'Q:AND THE LOCATION? A:in the cab P:the city',\n",
              " 'Q:FOR WHAT REASON? A:He ignored his route suggestions. P:a the the the the the the the the the the the the the the the the the',\n",
              " 'Q:WHAT DID HE BELIEVE WAS THE INTENTION? A:To attempt to increase the fare. P:a the the the the the the the the the the the the the the the the the',\n",
              " 'Q:WHAT COUNTY IS HOLDING THE CASE? A:Lackawanna County P:the New York',\n",
              " 'Q:DOES THE BOY SHOW REMORSE? A:No P:yes',\n",
              " 'Q:WHAT MAKES YOU SAY THAT? A:He said \"my homies died, everybody gotta die.\" P:a the the the the the the the the the the the the the the the the the',\n",
              " 'Q:WHO IS TALERICO? A:Lackawanna County Assistant District Attorney P:the United']"
            ]
          },
          "metadata": {},
          "execution_count": 86
        }
      ],
      "id": "Yek6UW_bsAPn"
    },
    {
      "cell_type": "markdown",
      "id": "wUj3SnAMSK3C",
      "metadata": {
        "id": "wUj3SnAMSK3C"
      },
      "source": [
        "#### Distilroberta-base seed 2022"
      ]
    },
    {
      "cell_type": "code",
      "execution_count": null,
      "id": "ztwU1jrmSK3D",
      "metadata": {
        "id": "ztwU1jrmSK3D"
      },
      "outputs": [],
      "source": [
        "#code"
      ]
    },
    {
      "cell_type": "markdown",
      "id": "PH7u03wVSK3D",
      "metadata": {
        "id": "PH7u03wVSK3D"
      },
      "source": [
        "#### Distilroberta-base seed 1337"
      ]
    },
    {
      "cell_type": "code",
      "execution_count": null,
      "id": "nOREhBR6SK3D",
      "metadata": {
        "id": "nOREhBR6SK3D"
      },
      "outputs": [],
      "source": [
        "# code"
      ]
    },
    {
      "cell_type": "markdown",
      "source": [
        "## Run it to update the pickle with the data (after having loaded it at the beginning of this section"
      ],
      "metadata": {
        "id": "VdscGMWyqVAO"
      },
      "id": "VdscGMWyqVAO"
    },
    {
      "cell_type": "code",
      "execution_count": null,
      "metadata": {
        "id": "LtRk0-6qSK28"
      },
      "outputs": [],
      "source": [
        "# Update the final \n",
        "df_final_evaluation.to_pickle(os.path.join(drive_weights_path, 'df_final_evaluation.pkl'))"
      ],
      "id": "LtRk0-6qSK28"
    },
    {
      "cell_type": "markdown",
      "id": "L1fgRpTD6XpZ",
      "metadata": {
        "id": "L1fgRpTD6XpZ"
      },
      "source": [
        "## Choose the model you want to test furtherly (PROBABLY I WILL REMOVE THIS SECTION)"
      ]
    },
    {
      "cell_type": "markdown",
      "id": "JJw67SzI7JIP",
      "metadata": {
        "id": "JJw67SzI7JIP"
      },
      "source": [
        "We had the idea to make you choose which model you want to test furtherly checking manually some questions or retrieving the top / worst 5 questions, dialogues and so on. You can choose between all the models available in the Drive shared folder, if you didn't run the beginning of the notebook you can pass nothing to the following function and it will load automatically the model that you chose, and the data needed for the test (for example the tokenized data for the test)."
      ]
    },
    {
      "cell_type": "code",
      "execution_count": null,
      "id": "Ygs1PUUC8esG",
      "metadata": {
        "cellView": "form",
        "id": "Ygs1PUUC8esG"
      },
      "outputs": [],
      "source": [
        "import gc\n",
        "\n",
        "from keras.backend import clear_session\n",
        "from numba import cuda \n",
        "from IPython.display import display\n",
        "\n",
        "#@title Get available models\n",
        "def retrieve_available_models(path=None):\n",
        "    if path is None:\n",
        "        bert_path = os.path.join(drive_weights_path, bertiny_name.split('/')[-1])\n",
        "        roberta_path = os.path.join(drive_weights_path, roberta_name)\n",
        "        paths = [bert_path, roberta_path]\n",
        "    else:\n",
        "        paths = [path]\n",
        "\n",
        "    models = []\n",
        "    for p in paths:\n",
        "        if os.path.exists(p):\n",
        "            for mod in os.listdir(p):\n",
        "                # Return the name of the model and the path where it is\n",
        "                name = p.split('/')[-1]\n",
        "                models.append((os.path.join(name, mod), os.path.join(p, mod)))\n",
        "        else:\n",
        "            print(f\"ERROR: the path {p} doesn't exist or is not available.\")\n",
        "    return models\n",
        "\n",
        "def free_ram():\n",
        "    '''\n",
        "        Free some gpu memory and ram. \n",
        "    '''\n",
        "    if 'model' in locals():\n",
        "        del model\n",
        "    gc.collect()\n",
        "    clear_session()\n",
        "\n",
        "\n",
        "def prepare_evaluation(btn): \n",
        "    '''\n",
        "        It imports the selected model, delete the previous one loaded in the memory\n",
        "        and return it.\n",
        "    '''\n",
        "    # Load the desired model\n",
        "    path = model_sel.value\n",
        "    tok_name = bertiny_name if 'bert-tiny' in path else roberta_name\n",
        "\n",
        "    free_ram()\n",
        "\n",
        "    print('\\nImporting the selected model and the relative tokenizer ...')\n",
        "    tokenizer = AutoTokenizer.from_pretrained(tok_name)\n",
        "    model = TFEncoderDecoderModel.from_pretrained(path)\n",
        "\n",
        "    if 'pred_answers' not in locals():\n",
        "        print(\"\\nWARNING: you need the predicted_answers variable in order to proceed with the\"\n",
        "              \" evaluation, make sure to compute them with 'compute_f1_score' function.\")\n",
        "    elif 'dataset_test' not in locals():\n",
        "        print(\"\\nWARNING: dataset_test variable not found in the environment.\")\n",
        "\n",
        "    btn.imported_model = model\n",
        "    btn.imported_tokenizer = tokenizer\n",
        "    print('\\nThe model and the tokenizer have been saved successfully!')"
      ]
    },
    {
      "cell_type": "code",
      "execution_count": null,
      "id": "s1QFLumG6gLc",
      "metadata": {
        "cellView": "form",
        "colab": {
          "base_uri": "https://localhost:8080/",
          "height": 93,
          "referenced_widgets": [
            "d91dfac455e54298b922114a526125db",
            "c72b9a3db72c4c5cb63d43bf93e225a2",
            "40a5b747e88f4ff89f5f1e14abc06719",
            "37e19b9815d547ffadacbd6c4a907c05",
            "137581266252408f9a39a78b1a465e3e",
            "6dc645efb7a1422daf3b0150891a20ec",
            "12692c4c528b4390a83745efb80268c1",
            "52e5cda418a14ecabb6e1c838391bbc7"
          ]
        },
        "id": "s1QFLumG6gLc",
        "outputId": "bf294fea-2546-4c4f-c557-88f01cd33e7f"
      },
      "outputs": [
        {
          "data": {
            "application/vnd.jupyter.widget-view+json": {
              "model_id": "d91dfac455e54298b922114a526125db",
              "version_major": 2,
              "version_minor": 0
            },
            "text/plain": [
              "VBox(children=(Dropdown(description='<font size=3>Choose the model to use for the evaluation:</font>', layout=…"
            ]
          },
          "metadata": {},
          "output_type": "display_data"
        }
      ],
      "source": [
        "import ipywidgets as widgets\n",
        "from ipywidgets import interact, Layout, Button, VBox\n",
        "\n",
        "#@title Select the model \n",
        "available_models = retrieve_available_models()\n",
        "\n",
        "model_sel = widgets.Dropdown(\n",
        "    options=available_models,\n",
        "    description='<font size=3>Choose the model to use for the evaluation:</font>',\n",
        ")\n",
        "model_sel.layout = Layout(width='40%', height = '40px')\n",
        "model_sel.style = {'description_width': 'initial'}\n",
        "confirm_btn = Button(description='Confirm model', style={'font_weight': '600'})\n",
        "box = VBox([model_sel, confirm_btn])\n",
        "display(box)   \n",
        "\n",
        "confirm_btn.on_click(prepare_evaluation)"
      ]
    },
    {
      "cell_type": "code",
      "execution_count": null,
      "id": "TtO5F9UJOc_D",
      "metadata": {
        "id": "TtO5F9UJOc_D"
      },
      "outputs": [],
      "source": [
        "model = confirm_btn.imported_model\n",
        "tokenizer = confirm_btn.imported_tokenizer"
      ]
    },
    {
      "cell_type": "markdown",
      "id": "JPEnv8snZfEb",
      "metadata": {
        "id": "JPEnv8snZfEb"
      },
      "source": [
        "If you change the model with respect to the last run, the predicted answers are of a different model, so you should compute the f1 score and predict the answers again to have the result of the current model. Same for x_test and the other tokenized structures, because bert-tiny and roberta tokenize in a different way."
      ]
    },
    {
      "cell_type": "code",
      "execution_count": null,
      "id": "aHWO-AvOZ2bl",
      "metadata": {
        "colab": {
          "base_uri": "https://localhost:8080/"
        },
        "id": "aHWO-AvOZ2bl",
        "outputId": "b6f6c40f-5338-4f03-a02a-de03089ac24b"
      },
      "outputs": [
        {
          "name": "stdout",
          "output_type": "stream",
          "text": [
            "START: Creating the history column for the dataset...\n",
            "END: The column for the history has been added to the dataset.\n"
          ]
        },
        {
          "name": "stderr",
          "output_type": "stream",
          "text": [
            "100%|██████████| 16/16 [00:21<00:00,  1.33s/it]\n"
          ]
        }
      ],
      "source": [
        "x_test, _, _ = tokenize_samples(\n",
        "    dataset_test, tokenizer, with_history=True, batch_size=1024\n",
        ")\n",
        "curr_f1_score, pred_answers = compute_f1_score(model, x_test, dataset_test['answers'],\n",
        "                                               f1_metric, tokenizer, batch_size=500,\n",
        "                                               return_pred_answers=True)"
      ]
    },
    {
      "cell_type": "markdown",
      "id": "9w6fsjOGtG_y",
      "metadata": {
        "id": "9w6fsjOGtG_y"
      },
      "source": [
        "### Check model answers"
      ]
    },
    {
      "cell_type": "markdown",
      "id": "aRFgtoRutQmF",
      "metadata": {
        "id": "aRFgtoRutQmF"
      },
      "source": [
        "We implemented one function to see the answers that the model gives, on one question or on multiple ones."
      ]
    },
    {
      "cell_type": "code",
      "execution_count": null,
      "id": "cGlRpvb_tLsv",
      "metadata": {
        "id": "cGlRpvb_tLsv"
      },
      "outputs": [],
      "source": [
        "def test_model(model: TFEncoderDecoderModel, dataset: datasets.arrow_dataset.Dataset,\n",
        "               tokenizer, max_length:int=20, idx_sample: Union[int, List[int]]=88, \n",
        "               with_history=False) -> None:\n",
        "    '''\n",
        "        This function takes as input a dataset, it runs inference on the given\n",
        "        model and then it prints the question, the real answer and the predicted\n",
        "        one.\n",
        "        Parameters:\n",
        "            - model: transformers.models\n",
        "                The model to run inference on.\n",
        "            - dataset: datasets.arrow_dataset.Dataset\n",
        "                The dataset from which the function takes the samples.\n",
        "            - tokenizer: \n",
        "                The tokenizer of the model.\n",
        "            - max_length: int\n",
        "                It's the maximum length allowed during the generation.\n",
        "            - idx_sample: int | list[int]\n",
        "                If an integer is passed, then the function computes the answer\n",
        "                for a single sample, otherwise for each sample specified in the\n",
        "                list (through the index).\n",
        "            - with_history: bool\n",
        "                if to tokenize with the history or not.\n",
        "\n",
        "        Return:\n",
        "            The function simply prints the results without returning anything.\n",
        "    '''\n",
        "    if isinstance(idx_sample, int):\n",
        "        idx_sample = [idx_sample]\n",
        "\n",
        "    # Check if indices are without dataset bounds    \n",
        "    max_ind = max(idx_sample)\n",
        "    if max_ind >= len(dataset):\n",
        "        print(f\"Error: index {max_ind} is out of bounds (dataset of length {len(dataset)}.\")\n",
        "        return None\n",
        "\n",
        "    for idx in idx_sample:\n",
        "        inp_test, _, _ = tokenize_samples(dataset.select([idx]), tokenizer, with_history=with_history)\n",
        "\n",
        "        greedy_output = model.generate(inp_test['input_ids'],\n",
        "                                       attention_mask=inp_test['attention_mask'],\n",
        "                                       max_length=max_length)# decoder_start_token_id=model.config.decoder.bos_token_id\n",
        "\n",
        "        print(f\"- The question {idx+1} is:\\n\\t{dataset[idx]['questions']}\")\n",
        "        print(f\"- The actual answer is:\\n\\t{dataset[idx]['answers']}\")\n",
        "        print(f\"- The predicted answer is:\\n\\t\"\n",
        "              f\"{tokenizer.decode(greedy_output.numpy()[0], skip_special_tokens=True)}\\n\")"
      ]
    },
    {
      "cell_type": "code",
      "execution_count": null,
      "id": "SAPTA4X1tf_7",
      "metadata": {
        "id": "SAPTA4X1tf_7"
      },
      "outputs": [],
      "source": [
        "test_model(model, dataset_test, tokenizer, max_length=20, idx_sample=[88, 0, 1188])"
      ]
    },
    {
      "cell_type": "markdown",
      "id": "i29yX8I7trlP",
      "metadata": {
        "id": "i29yX8I7trlP"
      },
      "source": [
        "### Fine-grain f1 score evaluation"
      ]
    },
    {
      "cell_type": "markdown",
      "id": "AntOxXv8C44o",
      "metadata": {
        "id": "AntOxXv8C44o"
      },
      "source": [
        "#### Compute top-5 better and worst questions\n",
        "In the following function I compute the 5 best and 5 worst answers for the model.\n"
      ]
    },
    {
      "cell_type": "code",
      "execution_count": null,
      "id": "ogU00_ZAzI0F",
      "metadata": {
        "id": "ogU00_ZAzI0F"
      },
      "outputs": [],
      "source": [
        "def compute_f1_single_questions(predicted_answers: List[str], answers: List[str],\n",
        "                                metric) -> List[int]:\n",
        "    '''\n",
        "        It computes the f1 score for each single question and returns the scores.\n",
        "        Parameters:\n",
        "            - predicted_answers: list\n",
        "                The list of predicted answers (strings), that you can get from the \n",
        "                'compute_f1_score' function.\n",
        "            - answers: list\n",
        "                The list of actual answers.\n",
        "            - metric:\n",
        "                In this case a f1 squad metric is needed because we add the batches\n",
        "                with a predefined schema.\n",
        "\n",
        "        Returns:\n",
        "            - list\n",
        "                The list of f1 scores for each sample.\n",
        "    '''\n",
        "    scores = []\n",
        "\n",
        "    # Compute the f1 score for each sample\n",
        "    for pred, real in zip(predicted_answers, answers):\n",
        "        pr={'prediction_text':pred, 'id':str(0)}\n",
        "        re={'answers': {'text':[real],'answer_start':[0],},'id':str(0)}\n",
        "\n",
        "        scores.append(metric.compute(predictions=[pr], references=[re])['f1'])\n",
        "\n",
        "    return scores"
      ]
    },
    {
      "cell_type": "code",
      "execution_count": null,
      "id": "eQ-tTXejEgBd",
      "metadata": {
        "id": "eQ-tTXejEgBd"
      },
      "outputs": [],
      "source": [
        "def compute_top_worst_k(scores, questions, answers, predictions, k=5):\n",
        "    '''\n",
        "        It computes the top and worst k questions (considering f1 score).\n",
        "    '''\n",
        "    idx_sort = np.argsort(scores)\n",
        "    # We revert the list because the best score is the last one (highest)\n",
        "    top_k = idx_sort[-k:][::-1]\n",
        "    worst_k = idx_sort[:k]\n",
        "\n",
        "    data_top = [(scores[i], questions[i], answers[i], predictions[i]) for i in top_k]\n",
        "    data_worst = [(scores[i], questions[i], answers[i], predictions[i]) for i in worst_k]\n",
        "\n",
        "    ranking_top = pd.DataFrame(data_top, columns=[\"F1 SCORE\",\"Question\",\"Answer\",\"Predicted\"])\n",
        "    ranking_worst = pd.DataFrame(data_worst, columns=[\"F1 SCORE\",\"Question\",\"Answer\",\"Predicted\"])\n",
        "    print(f\"The top five f1 scores are:\")\n",
        "    display(ranking_top)\n",
        "    print(f\"\\nThe worst five f1 scores are:\")\n",
        "    display(ranking_worst)"
      ]
    },
    {
      "cell_type": "code",
      "execution_count": null,
      "id": "fL7znhif_Xro",
      "metadata": {
        "colab": {
          "base_uri": "https://localhost:8080/",
          "height": 447
        },
        "id": "fL7znhif_Xro",
        "outputId": "4b96d564-0755-434d-e090-87d2b869b008"
      },
      "outputs": [
        {
          "name": "stdout",
          "output_type": "stream",
          "text": [
            "The top five f1 scores are:\n"
          ]
        },
        {
          "data": {
            "text/html": [
              "\n",
              "  <div id=\"df-3d0c7cc5-cfce-4ff7-938e-faf6d6c2e21b\">\n",
              "    <div class=\"colab-df-container\">\n",
              "      <div>\n",
              "<style scoped>\n",
              "    .dataframe tbody tr th:only-of-type {\n",
              "        vertical-align: middle;\n",
              "    }\n",
              "\n",
              "    .dataframe tbody tr th {\n",
              "        vertical-align: top;\n",
              "    }\n",
              "\n",
              "    .dataframe thead th {\n",
              "        text-align: right;\n",
              "    }\n",
              "</style>\n",
              "<table border=\"1\" class=\"dataframe\">\n",
              "  <thead>\n",
              "    <tr style=\"text-align: right;\">\n",
              "      <th></th>\n",
              "      <th>F1 SCORE</th>\n",
              "      <th>Question</th>\n",
              "      <th>Answer</th>\n",
              "      <th>Predicted</th>\n",
              "    </tr>\n",
              "  </thead>\n",
              "  <tbody>\n",
              "    <tr>\n",
              "      <th>0</th>\n",
              "      <td>100.0</td>\n",
              "      <td>Did he regret bringing Kaczynksi with him?</td>\n",
              "      <td>Yes</td>\n",
              "      <td>yes</td>\n",
              "    </tr>\n",
              "    <tr>\n",
              "      <th>1</th>\n",
              "      <td>100.0</td>\n",
              "      <td>Does she bite?</td>\n",
              "      <td>Yes</td>\n",
              "      <td>yes</td>\n",
              "    </tr>\n",
              "    <tr>\n",
              "      <th>2</th>\n",
              "      <td>100.0</td>\n",
              "      <td>Did he bring anything?</td>\n",
              "      <td>yes</td>\n",
              "      <td>yes</td>\n",
              "    </tr>\n",
              "    <tr>\n",
              "      <th>3</th>\n",
              "      <td>100.0</td>\n",
              "      <td>Did they find anything?</td>\n",
              "      <td>yes</td>\n",
              "      <td>yes</td>\n",
              "    </tr>\n",
              "    <tr>\n",
              "      <th>4</th>\n",
              "      <td>100.0</td>\n",
              "      <td>For how long?</td>\n",
              "      <td>two years</td>\n",
              "      <td>two years</td>\n",
              "    </tr>\n",
              "  </tbody>\n",
              "</table>\n",
              "</div>\n",
              "      <button class=\"colab-df-convert\" onclick=\"convertToInteractive('df-3d0c7cc5-cfce-4ff7-938e-faf6d6c2e21b')\"\n",
              "              title=\"Convert this dataframe to an interactive table.\"\n",
              "              style=\"display:none;\">\n",
              "        \n",
              "  <svg xmlns=\"http://www.w3.org/2000/svg\" height=\"24px\"viewBox=\"0 0 24 24\"\n",
              "       width=\"24px\">\n",
              "    <path d=\"M0 0h24v24H0V0z\" fill=\"none\"/>\n",
              "    <path d=\"M18.56 5.44l.94 2.06.94-2.06 2.06-.94-2.06-.94-.94-2.06-.94 2.06-2.06.94zm-11 1L8.5 8.5l.94-2.06 2.06-.94-2.06-.94L8.5 2.5l-.94 2.06-2.06.94zm10 10l.94 2.06.94-2.06 2.06-.94-2.06-.94-.94-2.06-.94 2.06-2.06.94z\"/><path d=\"M17.41 7.96l-1.37-1.37c-.4-.4-.92-.59-1.43-.59-.52 0-1.04.2-1.43.59L10.3 9.45l-7.72 7.72c-.78.78-.78 2.05 0 2.83L4 21.41c.39.39.9.59 1.41.59.51 0 1.02-.2 1.41-.59l7.78-7.78 2.81-2.81c.8-.78.8-2.07 0-2.86zM5.41 20L4 18.59l7.72-7.72 1.47 1.35L5.41 20z\"/>\n",
              "  </svg>\n",
              "      </button>\n",
              "      \n",
              "  <style>\n",
              "    .colab-df-container {\n",
              "      display:flex;\n",
              "      flex-wrap:wrap;\n",
              "      gap: 12px;\n",
              "    }\n",
              "\n",
              "    .colab-df-convert {\n",
              "      background-color: #E8F0FE;\n",
              "      border: none;\n",
              "      border-radius: 50%;\n",
              "      cursor: pointer;\n",
              "      display: none;\n",
              "      fill: #1967D2;\n",
              "      height: 32px;\n",
              "      padding: 0 0 0 0;\n",
              "      width: 32px;\n",
              "    }\n",
              "\n",
              "    .colab-df-convert:hover {\n",
              "      background-color: #E2EBFA;\n",
              "      box-shadow: 0px 1px 2px rgba(60, 64, 67, 0.3), 0px 1px 3px 1px rgba(60, 64, 67, 0.15);\n",
              "      fill: #174EA6;\n",
              "    }\n",
              "\n",
              "    [theme=dark] .colab-df-convert {\n",
              "      background-color: #3B4455;\n",
              "      fill: #D2E3FC;\n",
              "    }\n",
              "\n",
              "    [theme=dark] .colab-df-convert:hover {\n",
              "      background-color: #434B5C;\n",
              "      box-shadow: 0px 1px 3px 1px rgba(0, 0, 0, 0.15);\n",
              "      filter: drop-shadow(0px 1px 2px rgba(0, 0, 0, 0.3));\n",
              "      fill: #FFFFFF;\n",
              "    }\n",
              "  </style>\n",
              "\n",
              "      <script>\n",
              "        const buttonEl =\n",
              "          document.querySelector('#df-3d0c7cc5-cfce-4ff7-938e-faf6d6c2e21b button.colab-df-convert');\n",
              "        buttonEl.style.display =\n",
              "          google.colab.kernel.accessAllowed ? 'block' : 'none';\n",
              "\n",
              "        async function convertToInteractive(key) {\n",
              "          const element = document.querySelector('#df-3d0c7cc5-cfce-4ff7-938e-faf6d6c2e21b');\n",
              "          const dataTable =\n",
              "            await google.colab.kernel.invokeFunction('convertToInteractive',\n",
              "                                                     [key], {});\n",
              "          if (!dataTable) return;\n",
              "\n",
              "          const docLinkHtml = 'Like what you see? Visit the ' +\n",
              "            '<a target=\"_blank\" href=https://colab.research.google.com/notebooks/data_table.ipynb>data table notebook</a>'\n",
              "            + ' to learn more about interactive tables.';\n",
              "          element.innerHTML = '';\n",
              "          dataTable['output_type'] = 'display_data';\n",
              "          await google.colab.output.renderOutput(dataTable, element);\n",
              "          const docLink = document.createElement('div');\n",
              "          docLink.innerHTML = docLinkHtml;\n",
              "          element.appendChild(docLink);\n",
              "        }\n",
              "      </script>\n",
              "    </div>\n",
              "  </div>\n",
              "  "
            ],
            "text/plain": [
              "   F1 SCORE                                    Question     Answer  Predicted\n",
              "0     100.0  Did he regret bringing Kaczynksi with him?        Yes        yes\n",
              "1     100.0                              Does she bite?        Yes        yes\n",
              "2     100.0                      Did he bring anything?        yes        yes\n",
              "3     100.0                     Did they find anything?        yes        yes\n",
              "4     100.0                               For how long?  two years  two years"
            ]
          },
          "metadata": {},
          "output_type": "display_data"
        },
        {
          "name": "stdout",
          "output_type": "stream",
          "text": [
            "\n",
            "The worst five f1 scores are:\n"
          ]
        },
        {
          "data": {
            "text/html": [
              "\n",
              "  <div id=\"df-2368ffe4-6d9c-440a-9b54-a094e7028028\">\n",
              "    <div class=\"colab-df-container\">\n",
              "      <div>\n",
              "<style scoped>\n",
              "    .dataframe tbody tr th:only-of-type {\n",
              "        vertical-align: middle;\n",
              "    }\n",
              "\n",
              "    .dataframe tbody tr th {\n",
              "        vertical-align: top;\n",
              "    }\n",
              "\n",
              "    .dataframe thead th {\n",
              "        text-align: right;\n",
              "    }\n",
              "</style>\n",
              "<table border=\"1\" class=\"dataframe\">\n",
              "  <thead>\n",
              "    <tr style=\"text-align: right;\">\n",
              "      <th></th>\n",
              "      <th>F1 SCORE</th>\n",
              "      <th>Question</th>\n",
              "      <th>Answer</th>\n",
              "      <th>Predicted</th>\n",
              "    </tr>\n",
              "  </thead>\n",
              "  <tbody>\n",
              "    <tr>\n",
              "      <th>0</th>\n",
              "      <td>0.0</td>\n",
              "      <td>What kind of defense will the lawyers use?</td>\n",
              "      <td>a self-defense case</td>\n",
              "      <td>a terrorist attack</td>\n",
              "    </tr>\n",
              "    <tr>\n",
              "      <th>1</th>\n",
              "      <td>0.0</td>\n",
              "      <td>Where will they visit next time?</td>\n",
              "      <td>the beach</td>\n",
              "      <td>the park</td>\n",
              "    </tr>\n",
              "    <tr>\n",
              "      <th>2</th>\n",
              "      <td>0.0</td>\n",
              "      <td>Who else was there?</td>\n",
              "      <td>the Fidos</td>\n",
              "      <td>a dog</td>\n",
              "    </tr>\n",
              "    <tr>\n",
              "      <th>3</th>\n",
              "      <td>0.0</td>\n",
              "      <td>Was the day nice?</td>\n",
              "      <td>yes</td>\n",
              "      <td>no</td>\n",
              "    </tr>\n",
              "    <tr>\n",
              "      <th>4</th>\n",
              "      <td>0.0</td>\n",
              "      <td>Do they throw a ball around?</td>\n",
              "      <td>no</td>\n",
              "      <td>yes</td>\n",
              "    </tr>\n",
              "  </tbody>\n",
              "</table>\n",
              "</div>\n",
              "      <button class=\"colab-df-convert\" onclick=\"convertToInteractive('df-2368ffe4-6d9c-440a-9b54-a094e7028028')\"\n",
              "              title=\"Convert this dataframe to an interactive table.\"\n",
              "              style=\"display:none;\">\n",
              "        \n",
              "  <svg xmlns=\"http://www.w3.org/2000/svg\" height=\"24px\"viewBox=\"0 0 24 24\"\n",
              "       width=\"24px\">\n",
              "    <path d=\"M0 0h24v24H0V0z\" fill=\"none\"/>\n",
              "    <path d=\"M18.56 5.44l.94 2.06.94-2.06 2.06-.94-2.06-.94-.94-2.06-.94 2.06-2.06.94zm-11 1L8.5 8.5l.94-2.06 2.06-.94-2.06-.94L8.5 2.5l-.94 2.06-2.06.94zm10 10l.94 2.06.94-2.06 2.06-.94-2.06-.94-.94-2.06-.94 2.06-2.06.94z\"/><path d=\"M17.41 7.96l-1.37-1.37c-.4-.4-.92-.59-1.43-.59-.52 0-1.04.2-1.43.59L10.3 9.45l-7.72 7.72c-.78.78-.78 2.05 0 2.83L4 21.41c.39.39.9.59 1.41.59.51 0 1.02-.2 1.41-.59l7.78-7.78 2.81-2.81c.8-.78.8-2.07 0-2.86zM5.41 20L4 18.59l7.72-7.72 1.47 1.35L5.41 20z\"/>\n",
              "  </svg>\n",
              "      </button>\n",
              "      \n",
              "  <style>\n",
              "    .colab-df-container {\n",
              "      display:flex;\n",
              "      flex-wrap:wrap;\n",
              "      gap: 12px;\n",
              "    }\n",
              "\n",
              "    .colab-df-convert {\n",
              "      background-color: #E8F0FE;\n",
              "      border: none;\n",
              "      border-radius: 50%;\n",
              "      cursor: pointer;\n",
              "      display: none;\n",
              "      fill: #1967D2;\n",
              "      height: 32px;\n",
              "      padding: 0 0 0 0;\n",
              "      width: 32px;\n",
              "    }\n",
              "\n",
              "    .colab-df-convert:hover {\n",
              "      background-color: #E2EBFA;\n",
              "      box-shadow: 0px 1px 2px rgba(60, 64, 67, 0.3), 0px 1px 3px 1px rgba(60, 64, 67, 0.15);\n",
              "      fill: #174EA6;\n",
              "    }\n",
              "\n",
              "    [theme=dark] .colab-df-convert {\n",
              "      background-color: #3B4455;\n",
              "      fill: #D2E3FC;\n",
              "    }\n",
              "\n",
              "    [theme=dark] .colab-df-convert:hover {\n",
              "      background-color: #434B5C;\n",
              "      box-shadow: 0px 1px 3px 1px rgba(0, 0, 0, 0.15);\n",
              "      filter: drop-shadow(0px 1px 2px rgba(0, 0, 0, 0.3));\n",
              "      fill: #FFFFFF;\n",
              "    }\n",
              "  </style>\n",
              "\n",
              "      <script>\n",
              "        const buttonEl =\n",
              "          document.querySelector('#df-2368ffe4-6d9c-440a-9b54-a094e7028028 button.colab-df-convert');\n",
              "        buttonEl.style.display =\n",
              "          google.colab.kernel.accessAllowed ? 'block' : 'none';\n",
              "\n",
              "        async function convertToInteractive(key) {\n",
              "          const element = document.querySelector('#df-2368ffe4-6d9c-440a-9b54-a094e7028028');\n",
              "          const dataTable =\n",
              "            await google.colab.kernel.invokeFunction('convertToInteractive',\n",
              "                                                     [key], {});\n",
              "          if (!dataTable) return;\n",
              "\n",
              "          const docLinkHtml = 'Like what you see? Visit the ' +\n",
              "            '<a target=\"_blank\" href=https://colab.research.google.com/notebooks/data_table.ipynb>data table notebook</a>'\n",
              "            + ' to learn more about interactive tables.';\n",
              "          element.innerHTML = '';\n",
              "          dataTable['output_type'] = 'display_data';\n",
              "          await google.colab.output.renderOutput(dataTable, element);\n",
              "          const docLink = document.createElement('div');\n",
              "          docLink.innerHTML = docLinkHtml;\n",
              "          element.appendChild(docLink);\n",
              "        }\n",
              "      </script>\n",
              "    </div>\n",
              "  </div>\n",
              "  "
            ],
            "text/plain": [
              "   F1 SCORE                                    Question               Answer  \\\n",
              "0       0.0  What kind of defense will the lawyers use?  a self-defense case   \n",
              "1       0.0            Where will they visit next time?            the beach   \n",
              "2       0.0                         Who else was there?            the Fidos   \n",
              "3       0.0                           Was the day nice?                  yes   \n",
              "4       0.0                Do they throw a ball around?                   no   \n",
              "\n",
              "            Predicted  \n",
              "0  a terrorist attack  \n",
              "1            the park  \n",
              "2               a dog  \n",
              "3                  no  \n",
              "4                 yes  "
            ]
          },
          "metadata": {},
          "output_type": "display_data"
        }
      ],
      "source": [
        "f1_scores_quest = compute_f1_single_questions(pred_answers, dataset_test['answers'], f1_metric)\n",
        "\n",
        "compute_top_worst_k(f1_scores_quest, dataset_test['questions'], dataset_test['answers'], pred_answers, 5)"
      ]
    },
    {
      "cell_type": "markdown",
      "id": "f1814004",
      "metadata": {
        "id": "f1814004"
      },
      "source": [
        "# Assignment Evaluation\n",
        "\n",
        "The following assignment points will be awarded for each task as follows:\n",
        "\n",
        "* Task 1, Pre-processing $\\rightarrow$ 0.5 points.\n",
        "* Task 2, Dataset Splitting $\\rightarrow$ 0.5 points.\n",
        "* Task 3 and 4, Models Definition $\\rightarrow$ 1.0 points.\n",
        "* Task 5 and 6, Models Training and Evaluation $\\rightarrow$ 2.0 points.\n",
        "* Task 7, Analysis $\\rightarrow$ 1.0 points.\n",
        "* Report $\\rightarrow$ 1.0 points.\n",
        "\n",
        "**Total** = 6 points <br>\n",
        "\n",
        "We may award an additional 0.5 points for outstanding submissions. \n",
        " \n",
        "**Speed Bonus** = 0.5 extra points <br>"
      ]
    },
    {
      "cell_type": "markdown",
      "id": "20a1b2b9",
      "metadata": {
        "id": "20a1b2b9"
      },
      "source": [
        "## Report\n",
        "\n",
        "We apply the rules described in Assignment 1 regarding the report.\n",
        "* Write a clear and concise report following the given overleaf template (**max 2 pages**).\n",
        "* Report validation and test results in a table.$^1$\n",
        "* **Avoid reporting** code snippets or copy-paste terminal outputs $\\rightarrow$ **Provide a clean schema** of what you want to show"
      ]
    },
    {
      "cell_type": "markdown",
      "id": "0967c209",
      "metadata": {
        "id": "0967c209"
      },
      "source": [
        "## Comments and Organization\n",
        "\n",
        "Remember to properly comment your code (it is not necessary to comment each single line) and don't forget to describe your work!\n",
        "\n",
        "Structure your code for readability and maintenance. If you work with Colab, use sections. \n",
        "\n",
        "This allows you to build clean and modular code, as well as easy to read and to debug (notebooks can be quite tricky time to time)."
      ]
    },
    {
      "cell_type": "markdown",
      "id": "23929660",
      "metadata": {
        "id": "23929660"
      },
      "source": [
        "## FAQ (READ THIS!)\n",
        "\n",
        "---\n",
        "\n",
        "**Question**: Does Task 3 also include data tokenization and conversion step?\n",
        "\n",
        "**Answer:** Yes! These steps are usually straightforward since ```transformers``` also offers a specific tokenizer for each model.\n",
        "\n",
        "**Example**: \n",
        "\n",
        "```\n",
        "tokenizer = AutoTokenizer.from_pretrained(\"bert-base-cased\")\n",
        "encoded_text = tokenizer(text)\n",
        "%% Alternatively\n",
        "inputs = tokenizer.tokenize(text, add_special_tokens=True, max_length=min(max_length, 512))\n",
        "input_ids, attention_mask = inputs['input_ids'], inputs['attention_mask']\n",
        "```\n",
        "\n",
        "**Suggestion**: Hugginface's documentation is full of tutorials and user-friendly APIs.\n",
        "\n",
        "---\n",
        "---\n",
        "\n",
        "**Question**: I'm hitting **out of memory error** when training my models, do you have any suggestions?\n",
        "\n",
        "**Answer**: Here are some common workarounds:\n",
        "\n",
        "1. Try decreasing the mini-batch size\n",
        "2. Try applying a different padding strategy (if you are applying padding): e.g. use quantiles instead of maximum sequence length\n",
        "\n",
        "---\n",
        "---"
      ]
    },
    {
      "cell_type": "markdown",
      "id": "9c56a612",
      "metadata": {
        "id": "9c56a612"
      },
      "source": [
        "## Contact\n",
        "\n",
        "For any doubt, question, issue or help, you can always contact us at the following email addresses:\n",
        "\n",
        "Teaching Assistants:\n",
        "\n",
        "* Andrea Galassi -> a.galassi@unibo.it\n",
        "* Federico Ruggeri -> federico.ruggeri6@unibo.it\n",
        "\n",
        "Professor:\n",
        "\n",
        "* Paolo Torroni -> p.torroni@unibo.it"
      ]
    },
    {
      "cell_type": "markdown",
      "id": "54bac4b9",
      "metadata": {
        "id": "54bac4b9"
      },
      "source": [
        "## The End!\n",
        "\n",
        "Questions?"
      ]
    }
  ],
  "metadata": {
    "celltoolbar": "Slideshow",
    "colab": {
      "collapsed_sections": [
        "dL4rB4Dv4q5D",
        "11ada8c8",
        "66cfee64",
        "7b532042",
        "f6643e14",
        "bddb1b09",
        "icicV7K0sEzm",
        "C4RB6BoVsmgO",
        "b8EXn3NrYo6D",
        "f60g6Nu2z8QE",
        "Q7FiFQD0Yv-n",
        "zP9VsaqkfIhm",
        "ir9nt1qwbkvb",
        "e2WHzAP0boZV",
        "FNj_lHv4tiPv",
        "tKmW9Kk3u8xV",
        "I3sK03-Ubs-L",
        "hLSaExRdTZ4E",
        "gvrSc_EvT1n2",
        "-aYGDoUWbxxd",
        "azptglePT9Fu",
        "wX22I17uUKTq",
        "qob7laawl5bN",
        "tS8vj3vkivit",
        "nOQK9Za4GRCT",
        "wHFR9RgCGUPx",
        "Ju27ZRiJbI_C",
        "AoPyK-J3UYrM",
        "M-UdWiyaUiuW",
        "ffJy4f8YbYer",
        "TgEw9pLeUyGP",
        "kkbr3LNVU6H8",
        "rLRdSlF3SK21",
        "jkjbneuSSK22",
        "dVpgDe0_SK22",
        "hIBMpBIlSK25",
        "aCz9jUFwSK28",
        "xmiZ_-hFSK29",
        "5IY34QNKSK2-",
        "wb1TP78NSK2-",
        "11YOnyldSK3A",
        "wUj3SnAMSK3C",
        "PH7u03wVSK3D",
        "L1fgRpTD6XpZ",
        "9w6fsjOGtG_y",
        "AntOxXv8C44o",
        "f1814004"
      ],
      "provenance": []
    },
    "gpuClass": "standard",
    "kernelspec": {
      "display_name": "Python 3.9.13 ('tf_env')",
      "language": "python",
      "name": "python3"
    },
    "language_info": {
      "codemirror_mode": {
        "name": "ipython",
        "version": 3
      },
      "file_extension": ".py",
      "mimetype": "text/x-python",
      "name": "python",
      "nbconvert_exporter": "python",
      "pygments_lexer": "ipython3",
      "version": "3.9.13"
    },
    "vscode": {
      "interpreter": {
        "hash": "3ce8273a8c38ff7795926bf915cbd2931d7313de696d3392f6c42417e8c00d4d"
      }
    },
    "widgets": {
      "application/vnd.jupyter.widget-state+json": {
        "12692c4c528b4390a83745efb80268c1": {
          "model_module": "@jupyter-widgets/base",
          "model_module_version": "1.2.0",
          "model_name": "LayoutModel",
          "state": {
            "_model_module": "@jupyter-widgets/base",
            "_model_module_version": "1.2.0",
            "_model_name": "LayoutModel",
            "_view_count": null,
            "_view_module": "@jupyter-widgets/base",
            "_view_module_version": "1.2.0",
            "_view_name": "LayoutView",
            "align_content": null,
            "align_items": null,
            "align_self": null,
            "border": null,
            "bottom": null,
            "display": null,
            "flex": null,
            "flex_flow": null,
            "grid_area": null,
            "grid_auto_columns": null,
            "grid_auto_flow": null,
            "grid_auto_rows": null,
            "grid_column": null,
            "grid_gap": null,
            "grid_row": null,
            "grid_template_areas": null,
            "grid_template_columns": null,
            "grid_template_rows": null,
            "height": null,
            "justify_content": null,
            "justify_items": null,
            "left": null,
            "margin": null,
            "max_height": null,
            "max_width": null,
            "min_height": null,
            "min_width": null,
            "object_fit": null,
            "object_position": null,
            "order": null,
            "overflow": null,
            "overflow_x": null,
            "overflow_y": null,
            "padding": null,
            "right": null,
            "top": null,
            "visibility": null,
            "width": null
          }
        },
        "137581266252408f9a39a78b1a465e3e": {
          "model_module": "@jupyter-widgets/base",
          "model_module_version": "1.2.0",
          "model_name": "LayoutModel",
          "state": {
            "_model_module": "@jupyter-widgets/base",
            "_model_module_version": "1.2.0",
            "_model_name": "LayoutModel",
            "_view_count": null,
            "_view_module": "@jupyter-widgets/base",
            "_view_module_version": "1.2.0",
            "_view_name": "LayoutView",
            "align_content": null,
            "align_items": null,
            "align_self": null,
            "border": null,
            "bottom": null,
            "display": null,
            "flex": null,
            "flex_flow": null,
            "grid_area": null,
            "grid_auto_columns": null,
            "grid_auto_flow": null,
            "grid_auto_rows": null,
            "grid_column": null,
            "grid_gap": null,
            "grid_row": null,
            "grid_template_areas": null,
            "grid_template_columns": null,
            "grid_template_rows": null,
            "height": "40px",
            "justify_content": null,
            "justify_items": null,
            "left": null,
            "margin": null,
            "max_height": null,
            "max_width": null,
            "min_height": null,
            "min_width": null,
            "object_fit": null,
            "object_position": null,
            "order": null,
            "overflow": null,
            "overflow_x": null,
            "overflow_y": null,
            "padding": null,
            "right": null,
            "top": null,
            "visibility": null,
            "width": "40%"
          }
        },
        "37e19b9815d547ffadacbd6c4a907c05": {
          "model_module": "@jupyter-widgets/base",
          "model_module_version": "1.2.0",
          "model_name": "LayoutModel",
          "state": {
            "_model_module": "@jupyter-widgets/base",
            "_model_module_version": "1.2.0",
            "_model_name": "LayoutModel",
            "_view_count": null,
            "_view_module": "@jupyter-widgets/base",
            "_view_module_version": "1.2.0",
            "_view_name": "LayoutView",
            "align_content": null,
            "align_items": null,
            "align_self": null,
            "border": null,
            "bottom": null,
            "display": null,
            "flex": null,
            "flex_flow": null,
            "grid_area": null,
            "grid_auto_columns": null,
            "grid_auto_flow": null,
            "grid_auto_rows": null,
            "grid_column": null,
            "grid_gap": null,
            "grid_row": null,
            "grid_template_areas": null,
            "grid_template_columns": null,
            "grid_template_rows": null,
            "height": null,
            "justify_content": null,
            "justify_items": null,
            "left": null,
            "margin": null,
            "max_height": null,
            "max_width": null,
            "min_height": null,
            "min_width": null,
            "object_fit": null,
            "object_position": null,
            "order": null,
            "overflow": null,
            "overflow_x": null,
            "overflow_y": null,
            "padding": null,
            "right": null,
            "top": null,
            "visibility": null,
            "width": null
          }
        },
        "40a5b747e88f4ff89f5f1e14abc06719": {
          "model_module": "@jupyter-widgets/controls",
          "model_module_version": "1.5.0",
          "model_name": "ButtonModel",
          "state": {
            "_dom_classes": [],
            "_model_module": "@jupyter-widgets/controls",
            "_model_module_version": "1.5.0",
            "_model_name": "ButtonModel",
            "_view_count": null,
            "_view_module": "@jupyter-widgets/controls",
            "_view_module_version": "1.5.0",
            "_view_name": "ButtonView",
            "button_style": "",
            "description": "Confirm model",
            "disabled": false,
            "icon": "",
            "layout": "IPY_MODEL_12692c4c528b4390a83745efb80268c1",
            "style": "IPY_MODEL_52e5cda418a14ecabb6e1c838391bbc7",
            "tooltip": ""
          }
        },
        "52e5cda418a14ecabb6e1c838391bbc7": {
          "model_module": "@jupyter-widgets/controls",
          "model_module_version": "1.5.0",
          "model_name": "ButtonStyleModel",
          "state": {
            "_model_module": "@jupyter-widgets/controls",
            "_model_module_version": "1.5.0",
            "_model_name": "ButtonStyleModel",
            "_view_count": null,
            "_view_module": "@jupyter-widgets/base",
            "_view_module_version": "1.2.0",
            "_view_name": "StyleView",
            "button_color": null,
            "font_weight": "600"
          }
        },
        "6dc645efb7a1422daf3b0150891a20ec": {
          "model_module": "@jupyter-widgets/controls",
          "model_module_version": "1.5.0",
          "model_name": "DescriptionStyleModel",
          "state": {
            "_model_module": "@jupyter-widgets/controls",
            "_model_module_version": "1.5.0",
            "_model_name": "DescriptionStyleModel",
            "_view_count": null,
            "_view_module": "@jupyter-widgets/base",
            "_view_module_version": "1.2.0",
            "_view_name": "StyleView",
            "description_width": "initial"
          }
        },
        "c72b9a3db72c4c5cb63d43bf93e225a2": {
          "model_module": "@jupyter-widgets/controls",
          "model_module_version": "1.5.0",
          "model_name": "DropdownModel",
          "state": {
            "_dom_classes": [],
            "_model_module": "@jupyter-widgets/controls",
            "_model_module_version": "1.5.0",
            "_model_name": "DropdownModel",
            "_options_labels": [
              "bert-tiny/full_history",
              "bert-tiny/full_no_history",
              "distilroberta-base/42_no_history"
            ],
            "_view_count": null,
            "_view_module": "@jupyter-widgets/controls",
            "_view_module_version": "1.5.0",
            "_view_name": "DropdownView",
            "description": "<font size=3>Choose the model to use for the evaluation:</font>",
            "description_tooltip": null,
            "disabled": false,
            "index": 0,
            "layout": "IPY_MODEL_137581266252408f9a39a78b1a465e3e",
            "style": "IPY_MODEL_6dc645efb7a1422daf3b0150891a20ec"
          }
        },
        "d91dfac455e54298b922114a526125db": {
          "model_module": "@jupyter-widgets/controls",
          "model_module_version": "1.5.0",
          "model_name": "VBoxModel",
          "state": {
            "_dom_classes": [],
            "_model_module": "@jupyter-widgets/controls",
            "_model_module_version": "1.5.0",
            "_model_name": "VBoxModel",
            "_view_count": null,
            "_view_module": "@jupyter-widgets/controls",
            "_view_module_version": "1.5.0",
            "_view_name": "VBoxView",
            "box_style": "",
            "children": [
              "IPY_MODEL_c72b9a3db72c4c5cb63d43bf93e225a2",
              "IPY_MODEL_40a5b747e88f4ff89f5f1e14abc06719"
            ],
            "layout": "IPY_MODEL_37e19b9815d547ffadacbd6c4a907c05"
          }
        }
      }
    }
  },
  "nbformat": 4,
  "nbformat_minor": 5
}