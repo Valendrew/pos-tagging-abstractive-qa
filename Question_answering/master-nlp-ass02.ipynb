{
  "cells": [
    {
      "cell_type": "markdown",
      "id": "d1d23b6c",
      "metadata": {
        "id": "d1d23b6c"
      },
      "source": [
        "# Assignment 2\n",
        "\n",
        "**Credits**: Andrea Galassi, Federico Ruggeri, Paolo Torroni\n",
        "\n",
        "**Keywords**: Transformers, Question Answering, CoQA"
      ]
    },
    {
      "cell_type": "markdown",
      "id": "dL4rB4Dv4q5D",
      "metadata": {
        "id": "dL4rB4Dv4q5D"
      },
      "source": [
        "## Task and dataset explanation"
      ]
    },
    {
      "cell_type": "markdown",
      "id": "11ada8c8",
      "metadata": {
        "id": "11ada8c8"
      },
      "source": [
        "### Overview"
      ]
    },
    {
      "cell_type": "markdown",
      "id": "47c07553",
      "metadata": {
        "id": "47c07553"
      },
      "source": [
        "### Problem\n",
        "\n",
        "Question Answering (QA) on [CoQA](https://stanfordnlp.github.io/coqa/) dataset: a conversational QA dataset."
      ]
    },
    {
      "cell_type": "markdown",
      "id": "b4907f8d",
      "metadata": {
        "id": "b4907f8d"
      },
      "source": [
        "### Task\n",
        "\n",
        "Given a question $Q$, a text passage $P$, the task is to generate the answer $A$.<br>\n",
        "$\\rightarrow A$ can be: (i) a free-form text or (ii) unanswerable;\n",
        "\n",
        "**Note**: an question $Q$ can refer to previous dialogue turns. <br>\n",
        "$\\rightarrow$ dialogue history $H$ may be a valuable input to provide the correct answer $A$."
      ]
    },
    {
      "cell_type": "markdown",
      "id": "9b3760b5",
      "metadata": {
        "id": "9b3760b5"
      },
      "source": [
        "### Models\n",
        "\n",
        "We are going to experiment with transformer-based models to define the following models:\n",
        "\n",
        "1.  $A = f_\\theta(Q, P)$\n",
        "\n",
        "2. $A = f_\\theta(Q, P, H)$\n",
        "\n",
        "where $f_\\theta$ is the transformer-based model we have to define with $\\theta$ parameters."
      ]
    },
    {
      "cell_type": "markdown",
      "id": "66cfee64",
      "metadata": {
        "id": "66cfee64"
      },
      "source": [
        "### The CoQA dataset"
      ]
    },
    {
      "cell_type": "markdown",
      "id": "996fa650",
      "metadata": {
        "id": "996fa650"
      },
      "source": [
        "<center>\n",
        "    <img src=\"https://drive.google.com/uc?export=view&id=16vrgyfoV42Z2AQX0QY7LHTfrgektEKKh\" width=\"750\"/>\n",
        "</center>"
      ]
    },
    {
      "cell_type": "markdown",
      "id": "f6e3e7d0",
      "metadata": {
        "id": "f6e3e7d0"
      },
      "source": [
        "For detailed information about the dataset, feel free to check the original [paper](https://arxiv.org/pdf/1808.07042.pdf).\n",
        "\n"
      ]
    },
    {
      "cell_type": "markdown",
      "id": "bfb6c37e",
      "metadata": {
        "id": "bfb6c37e"
      },
      "source": [
        "### Rationales\n",
        "\n",
        "Each QA pair is paired with a rationale $R$: it is a text span extracted from the given text passage $P$. <br>\n",
        "$\\rightarrow$ $R$ is not a requested output, but it can be used as an additional information at training time!"
      ]
    },
    {
      "cell_type": "markdown",
      "id": "daa786e2",
      "metadata": {
        "id": "daa786e2"
      },
      "source": [
        "### Dataset Statistics\n",
        "\n",
        "* **127k** QA pairs.\n",
        "* **8k** conversations.\n",
        "* **7** diverse domains: Children's Stories, Literature, Mid/High School Exams, News, Wikipedia, Reddit, Science.\n",
        "* Average conversation length: **15 turns** (i.e., QA pairs).\n",
        "* Almost **half** of CoQA questions refer back to **conversational history**.\n",
        "* Only **train** and **validation** sets are available."
      ]
    },
    {
      "cell_type": "markdown",
      "id": "d26d68b7",
      "metadata": {
        "id": "d26d68b7"
      },
      "source": [
        "### Dataset snippet\n",
        "\n",
        "The dataset is stored in JSON format. Each dialogue is represented as follows:\n",
        "\n",
        "```\n",
        "{\n",
        "    \"source\": \"mctest\",\n",
        "    \"id\": \"3dr23u6we5exclen4th8uq9rb42tel\",\n",
        "    \"filename\": \"mc160.test.41\",\n",
        "    \"story\": \"Once upon a time, in a barn near a farm house, there lived a little white kitten named Cotton. \n",
        "    Cotton lived high up in a nice warm place above the barn where all of the farmer's horses slept. [...]\" % <-- $P$\n",
        "    \"questions\": [\n",
        "        {\n",
        "            \"input_text\": \"What color was Cotton?\",   % <-- $Q_1$\n",
        "            \"turn_id\": 1\n",
        "        },\n",
        "        {\n",
        "            \"input_text\": \"Where did she live?\",\n",
        "            \"turn_id\": 2\n",
        "        },\n",
        "        [...]\n",
        "    ],\n",
        "    \"answers\": [\n",
        "        {\n",
        "            \"span_start\": 59,   % <-- $R_1$ start index\n",
        "            \"spand_end\": 93,    % <-- $R_1$ end index\n",
        "            \"span_text\": \"a little white kitten named Cotton\",   % <-- $R_1$\n",
        "            \"input_text\" \"white\",   % <-- $A_1$      \n",
        "            \"turn_id\": 1\n",
        "        },\n",
        "        [...]\n",
        "    ]\n",
        "}\n",
        "```"
      ]
    },
    {
      "cell_type": "markdown",
      "id": "72c7558c",
      "metadata": {
        "id": "72c7558c"
      },
      "source": [
        "### Simplifications\n",
        "\n",
        "Each dialogue also contains an additional field ```additional_answers```. For simplicity, we **ignore** this field and only consider one groundtruth answer $A$ and text rationale $R$.\n",
        "\n",
        "CoQA only contains 1.3% of unanswerable questions. For simplicity, we **ignore** those QA pairs."
      ]
    },
    {
      "cell_type": "markdown",
      "id": "7b532042",
      "metadata": {
        "id": "7b532042"
      },
      "source": [
        "## List of tasks"
      ]
    },
    {
      "cell_type": "markdown",
      "id": "e01cdad7",
      "metadata": {
        "id": "e01cdad7"
      },
      "source": [
        "### [Task 1] Remove unaswerable QA pairs - DONE \n",
        "\n",
        "Write your own script to remove unaswerable QA pairs from both train and validation sets. The unanswarable questions have -1 both in 'span_start' and 'span_end' and *unknown* in 'span_text'.      \n",
        "***WARNING***: I found out that the sample in position 8246 has 'unknown' as answer therefore we must use the 'span_start' attribute to check for answerability."
      ]
    },
    {
      "cell_type": "markdown",
      "id": "f57334e0",
      "metadata": {
        "id": "f57334e0"
      },
      "source": [
        "### [Task 2] Train, Validation and Test splits - DONE\n",
        "\n",
        "CoQA only provides a train and validation set since the test set is hidden for evaluation purposes.\n",
        "\n",
        "We'll consider the provided validation set as a test set. <br>\n",
        "$\\rightarrow$ Write your own script to:\n",
        "* Split the train data in train and validation splits (80% train and 20% val)\n",
        "* Perform splits such that a dialogue appears in one split only! (i.e., split at dialogue level)\n",
        "* Perform splitting using the following seed for reproducibility: 42\n",
        "\n",
        "#### Reproducibility Memo\n",
        "\n",
        "Check back tutorial 2 on how to fix a specific random seed for reproducibility!"
      ]
    },
    {
      "cell_type": "markdown",
      "id": "230a21de",
      "metadata": {
        "id": "230a21de"
      },
      "source": [
        "### [Task 3] Model definition\n",
        "\n",
        "Write your own script to define the following transformer-based models from [huggingface](https://HuggingFace.co/).\n",
        "\n",
        "* [M1] DistilRoBERTa (distilberta-base)\n",
        "* [M2] BERTTiny (bert-tiny)\n",
        "\n",
        "**Note**: Remember to install the ```transformers``` python package!\n",
        "\n",
        "**Note**: We consider small transformer models for computational reasons!"
      ]
    },
    {
      "cell_type": "markdown",
      "id": "f1e83f28",
      "metadata": {
        "id": "f1e83f28"
      },
      "source": [
        "### [Task 4] Question generation with text passage $P$ and question $Q$\n",
        "\n",
        "We want to define $f_\\theta(P, Q)$. \n",
        "\n",
        "Write your own script to implement $f_\\theta$ for each model: M1 and M2.\n",
        "\n",
        "#### Formulation\n",
        "\n",
        "Consider a dialogue on text passage $P$. \n",
        "\n",
        "For each question $Q_i$ at dialogue turn $i$, your model should take $P$ and $Q_i$ and generate $A_i$."
      ]
    },
    {
      "cell_type": "markdown",
      "id": "7311ba86",
      "metadata": {
        "id": "7311ba86"
      },
      "source": [
        "### [Task 5] Question generation with text passage $P$, question $Q$ and dialogue history $H$\n",
        "\n",
        "We want to define $f_\\theta(P, Q, H)$. Write your own script to implement $f_\\theta$ for each model: M1 and M2.\n",
        "\n",
        "#### Formulation\n",
        "\n",
        "Consider a dialogue on text passage $P$. \n",
        "\n",
        "For each question $Q_i$ at dialogue turn $i$, your model should take $P$, $Q_i$, and $H = \\{ Q_0, A_0, \\dots, Q_{i-1}, A_{i-1} \\}$ to generate $A_i$."
      ]
    },
    {
      "cell_type": "markdown",
      "id": "b5ac768c",
      "metadata": {
        "id": "b5ac768c"
      },
      "source": [
        "### [Task 6] Train and evaluate $f_\\theta(P, Q)$ and $f_\\theta(P, Q, H)$\n",
        "\n",
        "Write your own script to train and evaluate your $f_\\theta(P, Q)$ and $f_\\theta(P, Q, H)$ models.\n",
        "\n",
        "### Instructions\n",
        "\n",
        "* Perform multiple train/evaluation seed runs: [42, 2022, 1337].$^1$\n",
        "* Evaluate your models with the following metrics: SQUAD F1-score.$^2$\n",
        "* Fine-tune each transformer-based models for **3 epochs**.\n",
        "* Report evaluation SQUAD F1-score computed on the validation and test sets.\n",
        "\n",
        "$^1$ Remember what we said about code reproducibility in Tutorial 2!\n",
        "\n",
        "$^2$ You can use ```allennlp``` python package for a quick implementation of SQUAD F1-score: ```from allennlp_models.rc.tools import squad```. "
      ]
    },
    {
      "cell_type": "markdown",
      "id": "92c7e98f",
      "metadata": {
        "id": "92c7e98f"
      },
      "source": [
        "### [Task 7] Error Analysis\n",
        "\n",
        "Perform a simple and short error analysis as follows:\n",
        "* Group dialogues by ```source``` and report the worst 5 model errors for each source (w.r.t. SQUAD F1-score).\n",
        "* Inspect observed results and try to provide some comments (e.g., do the models make errors when faced with a particular question type?)$^1$\n",
        "\n",
        "$^1$ Check the [paper](https://arxiv.org/pdf/1808.07042.pdf) for some valuable information about question/answer types (e.g., Table 6, Table 8) "
      ]
    },
    {
      "cell_type": "markdown",
      "id": "f6643e14",
      "metadata": {
        "id": "f6643e14"
      },
      "source": [
        "## Dataset Download\n"
      ]
    },
    {
      "cell_type": "code",
      "execution_count": 1,
      "id": "6cZJRT4tU1ms",
      "metadata": {
        "id": "6cZJRT4tU1ms"
      },
      "outputs": [],
      "source": [
        "import os\n",
        "import os.path\n",
        "import json\n",
        "import typing\n",
        "import urllib.request\n",
        "\n",
        "import tensorflow.keras.callbacks\n",
        "import tensorflow.keras.layers\n",
        "import tensorflow.keras.losses\n",
        "import tensorflow.keras.optimizers\n",
        "import tensorflow.keras.regularizers\n",
        "import numpy as np\n",
        "import pandas as pd\n",
        "import tensorflow as tf\n",
        "import tqdm"
      ]
    },
    {
      "cell_type": "code",
      "execution_count": 2,
      "id": "358bac70",
      "metadata": {
        "id": "358bac70"
      },
      "outputs": [],
      "source": [
        "import os\n",
        "import urllib.request\n",
        "from tqdm import tqdm\n",
        "\n",
        "class DownloadProgressBar(tqdm):\n",
        "    def update_to(self, b=1, bsize=1, tsize=None):\n",
        "        if tsize is not None:\n",
        "            self.total = tsize\n",
        "        self.update(b * bsize - self.n)\n",
        "        \n",
        "def download_url(url, output_path):\n",
        "    with DownloadProgressBar(unit='B', unit_scale=True,\n",
        "                             miniters=1, desc=url.split('/')[-1]) as t:\n",
        "        urllib.request.urlretrieve(url, filename=output_path, reporthook=t.update_to)\n",
        "\n",
        "def download_data(data_path, url_path, suffix):    \n",
        "    if not os.path.exists(data_path):\n",
        "        os.makedirs(data_path)\n",
        "        \n",
        "    data_path = os.path.join(data_path, f'{suffix}.json')\n",
        "\n",
        "    if not os.path.exists(data_path):\n",
        "        print(f\"Downloading CoQA {suffix} data split... (it may take a while)\")\n",
        "        download_url(url=url_path, output_path=data_path)\n",
        "        print(\"Download completed!\")"
      ]
    },
    {
      "cell_type": "code",
      "execution_count": 3,
      "id": "5f6ab3ff",
      "metadata": {
        "colab": {
          "base_uri": "https://localhost:8080/"
        },
        "id": "5f6ab3ff",
        "outputId": "8781a332-e727-4734-c249-13a4e527f563"
      },
      "outputs": [
        {
          "name": "stdout",
          "output_type": "stream",
          "text": [
            "Downloading CoQA train data split... (it may take a while)\n"
          ]
        },
        {
          "name": "stderr",
          "output_type": "stream",
          "text": [
            "coqa-train-v1.0.json: 49.0MB [00:08, 5.74MB/s]                            \n"
          ]
        },
        {
          "name": "stdout",
          "output_type": "stream",
          "text": [
            "Download completed!\n",
            "Downloading CoQA test data split... (it may take a while)\n"
          ]
        },
        {
          "name": "stderr",
          "output_type": "stream",
          "text": [
            "coqa-dev-v1.0.json: 9.09MB [00:03, 2.85MB/s]                            "
          ]
        },
        {
          "name": "stdout",
          "output_type": "stream",
          "text": [
            "Download completed!\n"
          ]
        },
        {
          "name": "stderr",
          "output_type": "stream",
          "text": [
            "\n"
          ]
        }
      ],
      "source": [
        "# Train data\n",
        "train_url = \"https://nlp.stanford.edu/data/coqa/coqa-train-v1.0.json\"\n",
        "download_data(data_path='coqa', url_path=train_url, suffix='train')\n",
        "\n",
        "# Test data\n",
        "test_url = \"https://nlp.stanford.edu/data/coqa/coqa-dev-v1.0.json\"\n",
        "download_data(data_path='coqa', url_path=test_url, suffix='test')  # <-- Why test? See next slides for an answer!"
      ]
    },
    {
      "cell_type": "markdown",
      "id": "bddb1b09",
      "metadata": {
        "id": "bddb1b09"
      },
      "source": [
        "## Create the dataframe and inspect the data"
      ]
    },
    {
      "cell_type": "code",
      "execution_count": 180,
      "id": "89e33d91",
      "metadata": {
        "id": "89e33d91"
      },
      "outputs": [],
      "source": [
        "train_path = './coqa/train.json'\n",
        "test_path = './coqa/test.json'\n",
        "\n",
        "with open(train_path, 'r') as f:\n",
        "    train_json = json.load(f)\n",
        "\n",
        "with open(test_path, 'r') as f:\n",
        "    test_json = json.load(f)\n"
      ]
    },
    {
      "cell_type": "code",
      "execution_count": 181,
      "id": "9a10f052",
      "metadata": {
        "colab": {
          "base_uri": "https://localhost:8080/",
          "height": 545
        },
        "id": "9a10f052",
        "outputId": "60daf016-28ed-418a-c5e1-f9bd103ea15a"
      },
      "outputs": [
        {
          "data": {
            "text/html": [
              "\n",
              "  <div id=\"df-5b6a0f5e-c1d3-43cf-afab-c1b5df46e4f2\">\n",
              "    <div class=\"colab-df-container\">\n",
              "      <div>\n",
              "<style scoped>\n",
              "    .dataframe tbody tr th:only-of-type {\n",
              "        vertical-align: middle;\n",
              "    }\n",
              "\n",
              "    .dataframe tbody tr th {\n",
              "        vertical-align: top;\n",
              "    }\n",
              "\n",
              "    .dataframe thead th {\n",
              "        text-align: right;\n",
              "    }\n",
              "</style>\n",
              "<table border=\"1\" class=\"dataframe\">\n",
              "  <thead>\n",
              "    <tr style=\"text-align: right;\">\n",
              "      <th></th>\n",
              "      <th>source</th>\n",
              "      <th>id</th>\n",
              "      <th>filename</th>\n",
              "      <th>story</th>\n",
              "      <th>questions</th>\n",
              "      <th>answers</th>\n",
              "      <th>name</th>\n",
              "    </tr>\n",
              "  </thead>\n",
              "  <tbody>\n",
              "    <tr>\n",
              "      <th>0</th>\n",
              "      <td>wikipedia</td>\n",
              "      <td>3zotghdk5ibi9cex97fepx7jetpso7</td>\n",
              "      <td>Vatican_Library.txt</td>\n",
              "      <td>The Vatican Apostolic Library (), more commonl...</td>\n",
              "      <td>[{'input_text': 'When was the Vat formally ope...</td>\n",
              "      <td>[{'span_start': 151, 'span_end': 179, 'span_te...</td>\n",
              "      <td>Vatican_Library.txt</td>\n",
              "    </tr>\n",
              "    <tr>\n",
              "      <th>1</th>\n",
              "      <td>cnn</td>\n",
              "      <td>3wj1oxy92agboo5nlq4r7bndc3t8a8</td>\n",
              "      <td>cnn_fe05c61a7e48461f7883cdec387567029614f07b.s...</td>\n",
              "      <td>New York (CNN) -- More than 80 Michael Jackson...</td>\n",
              "      <td>[{'input_text': 'Where was the Auction held?',...</td>\n",
              "      <td>[{'span_start': 243, 'span_end': 284, 'span_te...</td>\n",
              "      <td>cnn_fe05c61a7e48461f7883cdec387567029614f07b.s...</td>\n",
              "    </tr>\n",
              "    <tr>\n",
              "      <th>2</th>\n",
              "      <td>gutenberg</td>\n",
              "      <td>3bdcf01ogxu7zdn9vlrbf2rqzwplyf</td>\n",
              "      <td>data/gutenberg/txt/Zane Grey___Riders of the P...</td>\n",
              "      <td>CHAPTER VII. THE DAUGHTER OF WITHERSTEEN \\n\\n\"...</td>\n",
              "      <td>[{'input_text': 'What did Venters call Lassite...</td>\n",
              "      <td>[{'span_start': 841, 'span_end': 880, 'span_te...</td>\n",
              "      <td>data/gutenberg/txt/Zane Grey___Riders of the P...</td>\n",
              "    </tr>\n",
              "    <tr>\n",
              "      <th>3</th>\n",
              "      <td>cnn</td>\n",
              "      <td>3ewijtffvo7wwchw6rtyaf7mfwte0p</td>\n",
              "      <td>cnn_0c518067e0df811501e46b2e1cd1ce511f1645b7.s...</td>\n",
              "      <td>(CNN) -- The longest-running holiday special s...</td>\n",
              "      <td>[{'input_text': 'Who is Rudolph's father?', 't...</td>\n",
              "      <td>[{'span_start': 500, 'span_end': 557, 'span_te...</td>\n",
              "      <td>cnn_0c518067e0df811501e46b2e1cd1ce511f1645b7.s...</td>\n",
              "    </tr>\n",
              "    <tr>\n",
              "      <th>4</th>\n",
              "      <td>gutenberg</td>\n",
              "      <td>3urfvvm165iantk80llvkwwbjs7uzh</td>\n",
              "      <td>data/gutenberg/txt/Rafael Sabatini___Love-at-A...</td>\n",
              "      <td>CHAPTER XXIV. THE INTERRUPTED MASS \\n\\nThe mor...</td>\n",
              "      <td>[{'input_text': 'Who arrived at the church?', ...</td>\n",
              "      <td>[{'span_start': 254, 'span_end': 297, 'span_te...</td>\n",
              "      <td>data/gutenberg/txt/Rafael Sabatini___Love-at-A...</td>\n",
              "    </tr>\n",
              "  </tbody>\n",
              "</table>\n",
              "</div>\n",
              "      <button class=\"colab-df-convert\" onclick=\"convertToInteractive('df-5b6a0f5e-c1d3-43cf-afab-c1b5df46e4f2')\"\n",
              "              title=\"Convert this dataframe to an interactive table.\"\n",
              "              style=\"display:none;\">\n",
              "        \n",
              "  <svg xmlns=\"http://www.w3.org/2000/svg\" height=\"24px\"viewBox=\"0 0 24 24\"\n",
              "       width=\"24px\">\n",
              "    <path d=\"M0 0h24v24H0V0z\" fill=\"none\"/>\n",
              "    <path d=\"M18.56 5.44l.94 2.06.94-2.06 2.06-.94-2.06-.94-.94-2.06-.94 2.06-2.06.94zm-11 1L8.5 8.5l.94-2.06 2.06-.94-2.06-.94L8.5 2.5l-.94 2.06-2.06.94zm10 10l.94 2.06.94-2.06 2.06-.94-2.06-.94-.94-2.06-.94 2.06-2.06.94z\"/><path d=\"M17.41 7.96l-1.37-1.37c-.4-.4-.92-.59-1.43-.59-.52 0-1.04.2-1.43.59L10.3 9.45l-7.72 7.72c-.78.78-.78 2.05 0 2.83L4 21.41c.39.39.9.59 1.41.59.51 0 1.02-.2 1.41-.59l7.78-7.78 2.81-2.81c.8-.78.8-2.07 0-2.86zM5.41 20L4 18.59l7.72-7.72 1.47 1.35L5.41 20z\"/>\n",
              "  </svg>\n",
              "      </button>\n",
              "      \n",
              "  <style>\n",
              "    .colab-df-container {\n",
              "      display:flex;\n",
              "      flex-wrap:wrap;\n",
              "      gap: 12px;\n",
              "    }\n",
              "\n",
              "    .colab-df-convert {\n",
              "      background-color: #E8F0FE;\n",
              "      border: none;\n",
              "      border-radius: 50%;\n",
              "      cursor: pointer;\n",
              "      display: none;\n",
              "      fill: #1967D2;\n",
              "      height: 32px;\n",
              "      padding: 0 0 0 0;\n",
              "      width: 32px;\n",
              "    }\n",
              "\n",
              "    .colab-df-convert:hover {\n",
              "      background-color: #E2EBFA;\n",
              "      box-shadow: 0px 1px 2px rgba(60, 64, 67, 0.3), 0px 1px 3px 1px rgba(60, 64, 67, 0.15);\n",
              "      fill: #174EA6;\n",
              "    }\n",
              "\n",
              "    [theme=dark] .colab-df-convert {\n",
              "      background-color: #3B4455;\n",
              "      fill: #D2E3FC;\n",
              "    }\n",
              "\n",
              "    [theme=dark] .colab-df-convert:hover {\n",
              "      background-color: #434B5C;\n",
              "      box-shadow: 0px 1px 3px 1px rgba(0, 0, 0, 0.15);\n",
              "      filter: drop-shadow(0px 1px 2px rgba(0, 0, 0, 0.3));\n",
              "      fill: #FFFFFF;\n",
              "    }\n",
              "  </style>\n",
              "\n",
              "      <script>\n",
              "        const buttonEl =\n",
              "          document.querySelector('#df-5b6a0f5e-c1d3-43cf-afab-c1b5df46e4f2 button.colab-df-convert');\n",
              "        buttonEl.style.display =\n",
              "          google.colab.kernel.accessAllowed ? 'block' : 'none';\n",
              "\n",
              "        async function convertToInteractive(key) {\n",
              "          const element = document.querySelector('#df-5b6a0f5e-c1d3-43cf-afab-c1b5df46e4f2');\n",
              "          const dataTable =\n",
              "            await google.colab.kernel.invokeFunction('convertToInteractive',\n",
              "                                                     [key], {});\n",
              "          if (!dataTable) return;\n",
              "\n",
              "          const docLinkHtml = 'Like what you see? Visit the ' +\n",
              "            '<a target=\"_blank\" href=https://colab.research.google.com/notebooks/data_table.ipynb>data table notebook</a>'\n",
              "            + ' to learn more about interactive tables.';\n",
              "          element.innerHTML = '';\n",
              "          dataTable['output_type'] = 'display_data';\n",
              "          await google.colab.output.renderOutput(dataTable, element);\n",
              "          const docLink = document.createElement('div');\n",
              "          docLink.innerHTML = docLinkHtml;\n",
              "          element.appendChild(docLink);\n",
              "        }\n",
              "      </script>\n",
              "    </div>\n",
              "  </div>\n",
              "  "
            ],
            "text/plain": [
              "      source                              id  \\\n",
              "0  wikipedia  3zotghdk5ibi9cex97fepx7jetpso7   \n",
              "1        cnn  3wj1oxy92agboo5nlq4r7bndc3t8a8   \n",
              "2  gutenberg  3bdcf01ogxu7zdn9vlrbf2rqzwplyf   \n",
              "3        cnn  3ewijtffvo7wwchw6rtyaf7mfwte0p   \n",
              "4  gutenberg  3urfvvm165iantk80llvkwwbjs7uzh   \n",
              "\n",
              "                                            filename  \\\n",
              "0                                Vatican_Library.txt   \n",
              "1  cnn_fe05c61a7e48461f7883cdec387567029614f07b.s...   \n",
              "2  data/gutenberg/txt/Zane Grey___Riders of the P...   \n",
              "3  cnn_0c518067e0df811501e46b2e1cd1ce511f1645b7.s...   \n",
              "4  data/gutenberg/txt/Rafael Sabatini___Love-at-A...   \n",
              "\n",
              "                                               story  \\\n",
              "0  The Vatican Apostolic Library (), more commonl...   \n",
              "1  New York (CNN) -- More than 80 Michael Jackson...   \n",
              "2  CHAPTER VII. THE DAUGHTER OF WITHERSTEEN \\n\\n\"...   \n",
              "3  (CNN) -- The longest-running holiday special s...   \n",
              "4  CHAPTER XXIV. THE INTERRUPTED MASS \\n\\nThe mor...   \n",
              "\n",
              "                                           questions  \\\n",
              "0  [{'input_text': 'When was the Vat formally ope...   \n",
              "1  [{'input_text': 'Where was the Auction held?',...   \n",
              "2  [{'input_text': 'What did Venters call Lassite...   \n",
              "3  [{'input_text': 'Who is Rudolph's father?', 't...   \n",
              "4  [{'input_text': 'Who arrived at the church?', ...   \n",
              "\n",
              "                                             answers  \\\n",
              "0  [{'span_start': 151, 'span_end': 179, 'span_te...   \n",
              "1  [{'span_start': 243, 'span_end': 284, 'span_te...   \n",
              "2  [{'span_start': 841, 'span_end': 880, 'span_te...   \n",
              "3  [{'span_start': 500, 'span_end': 557, 'span_te...   \n",
              "4  [{'span_start': 254, 'span_end': 297, 'span_te...   \n",
              "\n",
              "                                                name  \n",
              "0                                Vatican_Library.txt  \n",
              "1  cnn_fe05c61a7e48461f7883cdec387567029614f07b.s...  \n",
              "2  data/gutenberg/txt/Zane Grey___Riders of the P...  \n",
              "3  cnn_0c518067e0df811501e46b2e1cd1ce511f1645b7.s...  \n",
              "4  data/gutenberg/txt/Rafael Sabatini___Love-at-A...  "
            ]
          },
          "execution_count": 181,
          "metadata": {},
          "output_type": "execute_result"
        }
      ],
      "source": [
        "df_train = pd.json_normalize(train_json['data'])\n",
        "df_test = pd.json_normalize(test_json['data'])\n",
        "df_train.head()"
      ]
    },
    {
      "cell_type": "markdown",
      "id": "730969bf",
      "metadata": {
        "id": "730969bf"
      },
      "source": [
        "In the dataset above we have some features that are not useful for our task therefore we decided to remove them."
      ]
    },
    {
      "cell_type": "code",
      "execution_count": 182,
      "id": "af8558f0",
      "metadata": {
        "id": "af8558f0"
      },
      "outputs": [],
      "source": [
        "features_to_remove = ['source', 'id', 'filename', 'name']\n",
        "features_to_remove_test = features_to_remove + [f'additional_answers.{i}' for i in range(3)]\n",
        "\n",
        "df_train.drop(features_to_remove, axis=1, inplace=True)\n",
        "df_test.drop(features_to_remove_test, axis=1, inplace=True)"
      ]
    },
    {
      "cell_type": "code",
      "execution_count": 183,
      "id": "6bce7aec",
      "metadata": {
        "colab": {
          "base_uri": "https://localhost:8080/",
          "height": 206
        },
        "id": "6bce7aec",
        "outputId": "7a5e59ed-8ba8-4b5c-b339-0447eaf1496f"
      },
      "outputs": [
        {
          "data": {
            "text/html": [
              "\n",
              "  <div id=\"df-ac8fccdc-9ae8-4f64-83f0-ec6fad05c0f6\">\n",
              "    <div class=\"colab-df-container\">\n",
              "      <div>\n",
              "<style scoped>\n",
              "    .dataframe tbody tr th:only-of-type {\n",
              "        vertical-align: middle;\n",
              "    }\n",
              "\n",
              "    .dataframe tbody tr th {\n",
              "        vertical-align: top;\n",
              "    }\n",
              "\n",
              "    .dataframe thead th {\n",
              "        text-align: right;\n",
              "    }\n",
              "</style>\n",
              "<table border=\"1\" class=\"dataframe\">\n",
              "  <thead>\n",
              "    <tr style=\"text-align: right;\">\n",
              "      <th></th>\n",
              "      <th>story</th>\n",
              "      <th>questions</th>\n",
              "      <th>answers</th>\n",
              "    </tr>\n",
              "  </thead>\n",
              "  <tbody>\n",
              "    <tr>\n",
              "      <th>0</th>\n",
              "      <td>The Vatican Apostolic Library (), more commonl...</td>\n",
              "      <td>[{'input_text': 'When was the Vat formally ope...</td>\n",
              "      <td>[{'span_start': 151, 'span_end': 179, 'span_te...</td>\n",
              "    </tr>\n",
              "    <tr>\n",
              "      <th>1</th>\n",
              "      <td>New York (CNN) -- More than 80 Michael Jackson...</td>\n",
              "      <td>[{'input_text': 'Where was the Auction held?',...</td>\n",
              "      <td>[{'span_start': 243, 'span_end': 284, 'span_te...</td>\n",
              "    </tr>\n",
              "    <tr>\n",
              "      <th>2</th>\n",
              "      <td>CHAPTER VII. THE DAUGHTER OF WITHERSTEEN \\n\\n\"...</td>\n",
              "      <td>[{'input_text': 'What did Venters call Lassite...</td>\n",
              "      <td>[{'span_start': 841, 'span_end': 880, 'span_te...</td>\n",
              "    </tr>\n",
              "    <tr>\n",
              "      <th>3</th>\n",
              "      <td>(CNN) -- The longest-running holiday special s...</td>\n",
              "      <td>[{'input_text': 'Who is Rudolph's father?', 't...</td>\n",
              "      <td>[{'span_start': 500, 'span_end': 557, 'span_te...</td>\n",
              "    </tr>\n",
              "    <tr>\n",
              "      <th>4</th>\n",
              "      <td>CHAPTER XXIV. THE INTERRUPTED MASS \\n\\nThe mor...</td>\n",
              "      <td>[{'input_text': 'Who arrived at the church?', ...</td>\n",
              "      <td>[{'span_start': 254, 'span_end': 297, 'span_te...</td>\n",
              "    </tr>\n",
              "  </tbody>\n",
              "</table>\n",
              "</div>\n",
              "      <button class=\"colab-df-convert\" onclick=\"convertToInteractive('df-ac8fccdc-9ae8-4f64-83f0-ec6fad05c0f6')\"\n",
              "              title=\"Convert this dataframe to an interactive table.\"\n",
              "              style=\"display:none;\">\n",
              "        \n",
              "  <svg xmlns=\"http://www.w3.org/2000/svg\" height=\"24px\"viewBox=\"0 0 24 24\"\n",
              "       width=\"24px\">\n",
              "    <path d=\"M0 0h24v24H0V0z\" fill=\"none\"/>\n",
              "    <path d=\"M18.56 5.44l.94 2.06.94-2.06 2.06-.94-2.06-.94-.94-2.06-.94 2.06-2.06.94zm-11 1L8.5 8.5l.94-2.06 2.06-.94-2.06-.94L8.5 2.5l-.94 2.06-2.06.94zm10 10l.94 2.06.94-2.06 2.06-.94-2.06-.94-.94-2.06-.94 2.06-2.06.94z\"/><path d=\"M17.41 7.96l-1.37-1.37c-.4-.4-.92-.59-1.43-.59-.52 0-1.04.2-1.43.59L10.3 9.45l-7.72 7.72c-.78.78-.78 2.05 0 2.83L4 21.41c.39.39.9.59 1.41.59.51 0 1.02-.2 1.41-.59l7.78-7.78 2.81-2.81c.8-.78.8-2.07 0-2.86zM5.41 20L4 18.59l7.72-7.72 1.47 1.35L5.41 20z\"/>\n",
              "  </svg>\n",
              "      </button>\n",
              "      \n",
              "  <style>\n",
              "    .colab-df-container {\n",
              "      display:flex;\n",
              "      flex-wrap:wrap;\n",
              "      gap: 12px;\n",
              "    }\n",
              "\n",
              "    .colab-df-convert {\n",
              "      background-color: #E8F0FE;\n",
              "      border: none;\n",
              "      border-radius: 50%;\n",
              "      cursor: pointer;\n",
              "      display: none;\n",
              "      fill: #1967D2;\n",
              "      height: 32px;\n",
              "      padding: 0 0 0 0;\n",
              "      width: 32px;\n",
              "    }\n",
              "\n",
              "    .colab-df-convert:hover {\n",
              "      background-color: #E2EBFA;\n",
              "      box-shadow: 0px 1px 2px rgba(60, 64, 67, 0.3), 0px 1px 3px 1px rgba(60, 64, 67, 0.15);\n",
              "      fill: #174EA6;\n",
              "    }\n",
              "\n",
              "    [theme=dark] .colab-df-convert {\n",
              "      background-color: #3B4455;\n",
              "      fill: #D2E3FC;\n",
              "    }\n",
              "\n",
              "    [theme=dark] .colab-df-convert:hover {\n",
              "      background-color: #434B5C;\n",
              "      box-shadow: 0px 1px 3px 1px rgba(0, 0, 0, 0.15);\n",
              "      filter: drop-shadow(0px 1px 2px rgba(0, 0, 0, 0.3));\n",
              "      fill: #FFFFFF;\n",
              "    }\n",
              "  </style>\n",
              "\n",
              "      <script>\n",
              "        const buttonEl =\n",
              "          document.querySelector('#df-ac8fccdc-9ae8-4f64-83f0-ec6fad05c0f6 button.colab-df-convert');\n",
              "        buttonEl.style.display =\n",
              "          google.colab.kernel.accessAllowed ? 'block' : 'none';\n",
              "\n",
              "        async function convertToInteractive(key) {\n",
              "          const element = document.querySelector('#df-ac8fccdc-9ae8-4f64-83f0-ec6fad05c0f6');\n",
              "          const dataTable =\n",
              "            await google.colab.kernel.invokeFunction('convertToInteractive',\n",
              "                                                     [key], {});\n",
              "          if (!dataTable) return;\n",
              "\n",
              "          const docLinkHtml = 'Like what you see? Visit the ' +\n",
              "            '<a target=\"_blank\" href=https://colab.research.google.com/notebooks/data_table.ipynb>data table notebook</a>'\n",
              "            + ' to learn more about interactive tables.';\n",
              "          element.innerHTML = '';\n",
              "          dataTable['output_type'] = 'display_data';\n",
              "          await google.colab.output.renderOutput(dataTable, element);\n",
              "          const docLink = document.createElement('div');\n",
              "          docLink.innerHTML = docLinkHtml;\n",
              "          element.appendChild(docLink);\n",
              "        }\n",
              "      </script>\n",
              "    </div>\n",
              "  </div>\n",
              "  "
            ],
            "text/plain": [
              "                                               story  \\\n",
              "0  The Vatican Apostolic Library (), more commonl...   \n",
              "1  New York (CNN) -- More than 80 Michael Jackson...   \n",
              "2  CHAPTER VII. THE DAUGHTER OF WITHERSTEEN \\n\\n\"...   \n",
              "3  (CNN) -- The longest-running holiday special s...   \n",
              "4  CHAPTER XXIV. THE INTERRUPTED MASS \\n\\nThe mor...   \n",
              "\n",
              "                                           questions  \\\n",
              "0  [{'input_text': 'When was the Vat formally ope...   \n",
              "1  [{'input_text': 'Where was the Auction held?',...   \n",
              "2  [{'input_text': 'What did Venters call Lassite...   \n",
              "3  [{'input_text': 'Who is Rudolph's father?', 't...   \n",
              "4  [{'input_text': 'Who arrived at the church?', ...   \n",
              "\n",
              "                                             answers  \n",
              "0  [{'span_start': 151, 'span_end': 179, 'span_te...  \n",
              "1  [{'span_start': 243, 'span_end': 284, 'span_te...  \n",
              "2  [{'span_start': 841, 'span_end': 880, 'span_te...  \n",
              "3  [{'span_start': 500, 'span_end': 557, 'span_te...  \n",
              "4  [{'span_start': 254, 'span_end': 297, 'span_te...  "
            ]
          },
          "execution_count": 183,
          "metadata": {},
          "output_type": "execute_result"
        }
      ],
      "source": [
        "df_train.head()"
      ]
    },
    {
      "cell_type": "markdown",
      "id": "9cd3b662",
      "metadata": {
        "id": "9cd3b662"
      },
      "source": [
        "At this point we can split the dataset in training and validation as stated in the assignment."
      ]
    },
    {
      "cell_type": "code",
      "execution_count": 184,
      "id": "d7cc3252",
      "metadata": {
        "id": "d7cc3252"
      },
      "outputs": [],
      "source": [
        "rand_seed = 42\n",
        "\n",
        "def split_train_validation(df: pd.DataFrame, val_size: float=0.2, \n",
        "    random_state: int=2) -> typing.Tuple[pd.DataFrame, pd.DataFrame]:\n",
        "    '''\n",
        "        It takes as input a dataframe and it splits it in 2 dataframes considering the \n",
        "        'val_size' parameter. \n",
        "    '''\n",
        "\n",
        "    validation = df.sample(frac=val_size, random_state=random_state) \n",
        "    training = df.drop(validation.index).sample(frac=1, random_state=random_state)\n",
        "\n",
        "    return training.reset_index(drop=True), validation.reset_index(drop=True)"
      ]
    },
    {
      "cell_type": "code",
      "execution_count": 185,
      "id": "a63f6ff1",
      "metadata": {
        "colab": {
          "base_uri": "https://localhost:8080/"
        },
        "id": "a63f6ff1",
        "outputId": "5a5849f1-03c4-4af2-8463-f947d57ee29d"
      },
      "outputs": [
        {
          "name": "stdout",
          "output_type": "stream",
          "text": [
            "The dimensions of the datasets are:\n",
            "Training dataset -> (5759, 3) - Validation dataset -> (1440, 3)\n"
          ]
        }
      ],
      "source": [
        "df_train, df_val = split_train_validation(df_train, 0.2, rand_seed)\n",
        "print(f\"The dimensions of the datasets are:\\n\"\n",
        "     f\"Training dataset -> {df_train.shape} - Validation dataset -> {df_val.shape}\")"
      ]
    },
    {
      "cell_type": "markdown",
      "id": "5JQ1RIKV7Iqg",
      "metadata": {
        "id": "5JQ1RIKV7Iqg"
      },
      "source": [
        "In order to make the code as ordered as possible we implemented a unique function for the preprocessing that we need to apply on the training and validation dataframe. In the following functions we expand the dictionaries that contain the questions and the answers and then we remove the unanswerable questions. "
      ]
    },
    {
      "cell_type": "code",
      "execution_count": 186,
      "id": "be70ee1a",
      "metadata": {
        "id": "be70ee1a"
      },
      "outputs": [],
      "source": [
        "def expand_lists(df: pd.DataFrame, to_drop: typing.List[str]=[]) -> pd.DataFrame:\n",
        "    '''\n",
        "        Given a Pandas dataframe it returns a new dataframe with the expansion of\n",
        "        the questions and the answers and removing the desired columns.\n",
        "    '''\n",
        "    questions = [{'story':df.story[i], **quest} for i, lis in enumerate(df.questions) for quest in lis]\n",
        "    answers = [ans for lis in df.answers for ans in lis]\n",
        "\n",
        "    X = pd.DataFrame.from_dict(questions, orient=\"columns\").drop(to_drop, axis=1)\n",
        "    y = pd.DataFrame.from_dict(answers, orient=\"columns\").drop(to_drop, axis=1)\n",
        "\n",
        "    X.rename(columns={'input_text':'questions'}, inplace=True)\n",
        "    y.rename(columns={'input_text':'answers'}, inplace=True)\n",
        "    \n",
        "    return pd.concat([X, y], axis=1)\n",
        "\n",
        "\n",
        "def remove_unanswerable(df: pd.DataFrame, verbose:bool=True) -> pd.DataFrame:\n",
        "    '''\n",
        "        It removes the unanswerable questions from the passed DataFrame\n",
        "        removing the elements with 'span_start' < 0\n",
        "    '''\n",
        "\n",
        "    target = 'span_start'\n",
        "    if target not in df.columns:\n",
        "        print(\n",
        "            \"WARNING: the DataFrame doesn't have the 'span_start' column, the\"\n",
        "            \" function will return the DataFrame without changes.\"\n",
        "            )\n",
        "        return df\n",
        "        \n",
        "    uns_rows = df[target] > 0\n",
        "    if verbose:\n",
        "        print(\n",
        "            f\"{len(df) - len(df[uns_rows])} unanswerable questions has been removed\"\n",
        "             \" from the DataFrame.\"\n",
        "            )\n",
        "    return df[uns_rows].reset_index(drop=True)"
      ]
    },
    {
      "cell_type": "code",
      "execution_count": 187,
      "id": "VEPGym-Q-d6K",
      "metadata": {
        "id": "VEPGym-Q-d6K"
      },
      "outputs": [],
      "source": [
        "def data_preprocessing(df: pd.DataFrame, to_drop: typing.List[str]=[]) -> pd.DataFrame:\n",
        "    '''\n",
        "        This function creates a DataFrame with a column for the 'story', one\n",
        "        for the 'questions' and another for the 'answers' and it removes the\n",
        "        unanswerable questions.\n",
        "        Parameters:\n",
        "            - df : pd.DataFrame\n",
        "                The structure on which performing the operations.\n",
        "            - to_drop: list[str]\n",
        "                The names of the columns to drop.\n",
        "                \n",
        "        Returns:\n",
        "            pandas.Dataframe\n",
        "                The modified dataframe.\n",
        "    '''\n",
        "    new_df = expand_lists(df, to_drop)\n",
        "    new_df = remove_unanswerable(new_df)\n",
        "\n",
        "    span_feat = ['span_start', 'span_end', 'span_text']\n",
        "    new_df.drop(span_feat, axis=1, inplace=True)\n",
        "\n",
        "    return new_df"
      ]
    },
    {
      "cell_type": "code",
      "execution_count": 188,
      "id": "6e6f82ee",
      "metadata": {
        "colab": {
          "base_uri": "https://localhost:8080/"
        },
        "id": "6e6f82ee",
        "outputId": "0aef5542-f9d6-49d7-ec41-0c2bf5fa7cf5"
      },
      "outputs": [
        {
          "name": "stdout",
          "output_type": "stream",
          "text": [
            "3490 unanswerable questions has been removed from the DataFrame.\n",
            "900 unanswerable questions has been removed from the DataFrame.\n",
            "288 unanswerable questions has been removed from the DataFrame.\n",
            "\n",
            "The training set has 83408 samples, the validation set has 20849 samplesand the test set has 7695 samples.\n"
          ]
        }
      ],
      "source": [
        "df_train = data_preprocessing(df_train, to_drop=['turn_id', 'bad_turn'])\n",
        "df_val = data_preprocessing(df_val, to_drop=['turn_id', 'bad_turn'])\n",
        "df_test = data_preprocessing(df_test, to_drop=['turn_id'])\n",
        "\n",
        "print(f\"\\nThe training set has {len(df_train)} samples, the validation set has {len(df_val)} samples\"\n",
        "      f\"and the test set has {len(df_test)} samples.\")"
      ]
    },
    {
      "cell_type": "markdown",
      "id": "aWpccDgqEVbs",
      "metadata": {
        "id": "aWpccDgqEVbs"
      },
      "source": [
        "At this moment the DataFrame looks like this:"
      ]
    },
    {
      "cell_type": "code",
      "execution_count": 189,
      "id": "ahNnLLGVEU6p",
      "metadata": {
        "colab": {
          "base_uri": "https://localhost:8080/",
          "height": 206
        },
        "id": "ahNnLLGVEU6p",
        "outputId": "f078a142-5a7b-44b8-eeab-da2b3bcaf073"
      },
      "outputs": [
        {
          "data": {
            "text/html": [
              "\n",
              "  <div id=\"df-33ab692d-6961-4e0c-86ae-af903679397e\">\n",
              "    <div class=\"colab-df-container\">\n",
              "      <div>\n",
              "<style scoped>\n",
              "    .dataframe tbody tr th:only-of-type {\n",
              "        vertical-align: middle;\n",
              "    }\n",
              "\n",
              "    .dataframe tbody tr th {\n",
              "        vertical-align: top;\n",
              "    }\n",
              "\n",
              "    .dataframe thead th {\n",
              "        text-align: right;\n",
              "    }\n",
              "</style>\n",
              "<table border=\"1\" class=\"dataframe\">\n",
              "  <thead>\n",
              "    <tr style=\"text-align: right;\">\n",
              "      <th></th>\n",
              "      <th>story</th>\n",
              "      <th>questions</th>\n",
              "      <th>answers</th>\n",
              "    </tr>\n",
              "  </thead>\n",
              "  <tbody>\n",
              "    <tr>\n",
              "      <th>0</th>\n",
              "      <td>CHAPTER 52 \\n\\nNicholas despairs of rescuing M...</td>\n",
              "      <td>Who is losing their nerve?</td>\n",
              "      <td>Nicholas is</td>\n",
              "    </tr>\n",
              "    <tr>\n",
              "      <th>1</th>\n",
              "      <td>CHAPTER 52 \\n\\nNicholas despairs of rescuing M...</td>\n",
              "      <td>Who is he worried about?</td>\n",
              "      <td>Madeline</td>\n",
              "    </tr>\n",
              "    <tr>\n",
              "      <th>2</th>\n",
              "      <td>CHAPTER 52 \\n\\nNicholas despairs of rescuing M...</td>\n",
              "      <td>What is her last name?</td>\n",
              "      <td>Bray</td>\n",
              "    </tr>\n",
              "    <tr>\n",
              "      <th>3</th>\n",
              "      <td>CHAPTER 52 \\n\\nNicholas despairs of rescuing M...</td>\n",
              "      <td>Does he get it back?</td>\n",
              "      <td>Yes</td>\n",
              "    </tr>\n",
              "    <tr>\n",
              "      <th>4</th>\n",
              "      <td>CHAPTER 52 \\n\\nNicholas despairs of rescuing M...</td>\n",
              "      <td>Who is an obstacle for him?</td>\n",
              "      <td>Newman</td>\n",
              "    </tr>\n",
              "  </tbody>\n",
              "</table>\n",
              "</div>\n",
              "      <button class=\"colab-df-convert\" onclick=\"convertToInteractive('df-33ab692d-6961-4e0c-86ae-af903679397e')\"\n",
              "              title=\"Convert this dataframe to an interactive table.\"\n",
              "              style=\"display:none;\">\n",
              "        \n",
              "  <svg xmlns=\"http://www.w3.org/2000/svg\" height=\"24px\"viewBox=\"0 0 24 24\"\n",
              "       width=\"24px\">\n",
              "    <path d=\"M0 0h24v24H0V0z\" fill=\"none\"/>\n",
              "    <path d=\"M18.56 5.44l.94 2.06.94-2.06 2.06-.94-2.06-.94-.94-2.06-.94 2.06-2.06.94zm-11 1L8.5 8.5l.94-2.06 2.06-.94-2.06-.94L8.5 2.5l-.94 2.06-2.06.94zm10 10l.94 2.06.94-2.06 2.06-.94-2.06-.94-.94-2.06-.94 2.06-2.06.94z\"/><path d=\"M17.41 7.96l-1.37-1.37c-.4-.4-.92-.59-1.43-.59-.52 0-1.04.2-1.43.59L10.3 9.45l-7.72 7.72c-.78.78-.78 2.05 0 2.83L4 21.41c.39.39.9.59 1.41.59.51 0 1.02-.2 1.41-.59l7.78-7.78 2.81-2.81c.8-.78.8-2.07 0-2.86zM5.41 20L4 18.59l7.72-7.72 1.47 1.35L5.41 20z\"/>\n",
              "  </svg>\n",
              "      </button>\n",
              "      \n",
              "  <style>\n",
              "    .colab-df-container {\n",
              "      display:flex;\n",
              "      flex-wrap:wrap;\n",
              "      gap: 12px;\n",
              "    }\n",
              "\n",
              "    .colab-df-convert {\n",
              "      background-color: #E8F0FE;\n",
              "      border: none;\n",
              "      border-radius: 50%;\n",
              "      cursor: pointer;\n",
              "      display: none;\n",
              "      fill: #1967D2;\n",
              "      height: 32px;\n",
              "      padding: 0 0 0 0;\n",
              "      width: 32px;\n",
              "    }\n",
              "\n",
              "    .colab-df-convert:hover {\n",
              "      background-color: #E2EBFA;\n",
              "      box-shadow: 0px 1px 2px rgba(60, 64, 67, 0.3), 0px 1px 3px 1px rgba(60, 64, 67, 0.15);\n",
              "      fill: #174EA6;\n",
              "    }\n",
              "\n",
              "    [theme=dark] .colab-df-convert {\n",
              "      background-color: #3B4455;\n",
              "      fill: #D2E3FC;\n",
              "    }\n",
              "\n",
              "    [theme=dark] .colab-df-convert:hover {\n",
              "      background-color: #434B5C;\n",
              "      box-shadow: 0px 1px 3px 1px rgba(0, 0, 0, 0.15);\n",
              "      filter: drop-shadow(0px 1px 2px rgba(0, 0, 0, 0.3));\n",
              "      fill: #FFFFFF;\n",
              "    }\n",
              "  </style>\n",
              "\n",
              "      <script>\n",
              "        const buttonEl =\n",
              "          document.querySelector('#df-33ab692d-6961-4e0c-86ae-af903679397e button.colab-df-convert');\n",
              "        buttonEl.style.display =\n",
              "          google.colab.kernel.accessAllowed ? 'block' : 'none';\n",
              "\n",
              "        async function convertToInteractive(key) {\n",
              "          const element = document.querySelector('#df-33ab692d-6961-4e0c-86ae-af903679397e');\n",
              "          const dataTable =\n",
              "            await google.colab.kernel.invokeFunction('convertToInteractive',\n",
              "                                                     [key], {});\n",
              "          if (!dataTable) return;\n",
              "\n",
              "          const docLinkHtml = 'Like what you see? Visit the ' +\n",
              "            '<a target=\"_blank\" href=https://colab.research.google.com/notebooks/data_table.ipynb>data table notebook</a>'\n",
              "            + ' to learn more about interactive tables.';\n",
              "          element.innerHTML = '';\n",
              "          dataTable['output_type'] = 'display_data';\n",
              "          await google.colab.output.renderOutput(dataTable, element);\n",
              "          const docLink = document.createElement('div');\n",
              "          docLink.innerHTML = docLinkHtml;\n",
              "          element.appendChild(docLink);\n",
              "        }\n",
              "      </script>\n",
              "    </div>\n",
              "  </div>\n",
              "  "
            ],
            "text/plain": [
              "                                               story  \\\n",
              "0  CHAPTER 52 \\n\\nNicholas despairs of rescuing M...   \n",
              "1  CHAPTER 52 \\n\\nNicholas despairs of rescuing M...   \n",
              "2  CHAPTER 52 \\n\\nNicholas despairs of rescuing M...   \n",
              "3  CHAPTER 52 \\n\\nNicholas despairs of rescuing M...   \n",
              "4  CHAPTER 52 \\n\\nNicholas despairs of rescuing M...   \n",
              "\n",
              "                     questions      answers  \n",
              "0   Who is losing their nerve?  Nicholas is  \n",
              "1     Who is he worried about?     Madeline  \n",
              "2       What is her last name?         Bray  \n",
              "3         Does he get it back?          Yes  \n",
              "4  Who is an obstacle for him?       Newman  "
            ]
          },
          "execution_count": 189,
          "metadata": {},
          "output_type": "execute_result"
        }
      ],
      "source": [
        "df_train.head()"
      ]
    },
    {
      "cell_type": "markdown",
      "id": "yDRKGGZhhDYh",
      "metadata": {
        "id": "yDRKGGZhhDYh"
      },
      "source": [
        "## Tokenize the dataset"
      ]
    },
    {
      "cell_type": "markdown",
      "id": "RIIrgApsE0LM",
      "metadata": {
        "id": "RIIrgApsE0LM"
      },
      "source": [
        "In order to train the encoder-decoder architecture we have to tokenize the samples such that we can give numbers as input to the network.\n",
        "\n",
        "In our case we will use the tokenizer of the relative pre-trained model."
      ]
    },
    {
      "cell_type": "code",
      "execution_count": 31,
      "id": "86ih3U7eVgy2",
      "metadata": {
        "id": "86ih3U7eVgy2"
      },
      "outputs": [],
      "source": [
        "!pip install transformers -q\n",
        "!pip install datasets -q\n",
        "import datasets"
      ]
    },
    {
      "cell_type": "code",
      "execution_count": 190,
      "id": "U1pTuqZ1FwWX",
      "metadata": {
        "id": "U1pTuqZ1FwWX"
      },
      "outputs": [],
      "source": [
        "from typing import Optional, Union, List\n",
        "\n",
        "def tokenize_samples(dataset: datasets.arrow_dataset.Dataset, tokenizer, \n",
        "                     max_length: int=512, mode: Optional[str]='np'):\n",
        "    '''\n",
        "        This function returns a dictionary with the outputs of the tokenizer.\n",
        "        As input we refer to the concatenation of the quesions with the relative\n",
        "        contexts and we need both tokenization and attention mask. For the\n",
        "        answers we only need the tokenization.\n",
        "        Parameters:\n",
        "            - dataset: datasets.arrow_dataset.Dataset\n",
        "                The dataset from which the function takes the data.\n",
        "            - max_length: int\n",
        "                The maximum length for a sequence, in our case is 512.\n",
        "            - mode: bool\n",
        "                Wheter the tokenizer could return the outputs as lists of python\n",
        "                integers, 'tf' tensors, 'np' arrays or 'pt' for pytorch tensors.\n",
        "\n",
        "        Return:\n",
        "            - tuple\n",
        "                A tuple with the tokenized questions+contexts, their relative\n",
        "                attention masks and the tokenized answers.\n",
        "    '''\n",
        "    X_tok = tokenizer(\n",
        "        dataset['questions'],\n",
        "        dataset[\"story\"],\n",
        "        max_length=max_length,\n",
        "        truncation=\"only_second\",\n",
        "        padding=\"max_length\",\n",
        "        return_tensors=mode\n",
        "    )\n",
        "    y_tok = tokenizer(\n",
        "        dataset['answers'],\n",
        "        max_length=max_length,\n",
        "        padding=\"max_length\",\n",
        "        return_tensors=mode\n",
        "    )\n",
        "    \n",
        "    return X_tok, np.array(y_tok['input_ids'])"
      ]
    },
    {
      "cell_type": "markdown",
      "id": "YojvEGJjrBC6",
      "metadata": {
        "id": "YojvEGJjrBC6"
      },
      "source": [
        "## Keras implementation"
      ]
    },
    {
      "cell_type": "code",
      "execution_count": 41,
      "id": "VQZokhEiPn-m",
      "metadata": {
        "id": "VQZokhEiPn-m"
      },
      "outputs": [],
      "source": [
        "from datasets.arrow_dataset import Dataset\n",
        "from transformers import TFEncoderDecoderModel, AutoTokenizer\n",
        "\n",
        "from keras.optimizers import Adam"
      ]
    },
    {
      "cell_type": "markdown",
      "id": "vAFQvfoNVMV2",
      "metadata": {
        "id": "vAFQvfoNVMV2"
      },
      "source": [
        "I import bert-tiny and I set it as encoder and as decoder, then I adjust 2 token configurations to make the model works."
      ]
    },
    {
      "cell_type": "code",
      "execution_count": null,
      "id": "Bx4Dyl7sxCGl",
      "metadata": {
        "id": "Bx4Dyl7sxCGl"
      },
      "outputs": [],
      "source": [
        "model_name = \"prajjwal1/bert-tiny\"#\"distilroberta-base\"\n",
        "\n",
        "tokenizer = AutoTokenizer.from_pretrained(model_name)\n",
        "\n",
        "model = TFEncoderDecoderModel.from_encoder_decoder_pretrained(\n",
        "    model_name, model_name, encoder_from_pt=True, decoder_from_pt=True\n",
        ")\n",
        "\n",
        "model.config.decoder_start_token_id = tokenizer.cls_token_id\n",
        "model.config.pad_token_id = tokenizer.pad_token_id\n",
        "\n",
        "#model.encoder.trainable = False\n",
        "#model.decoder.layers[0].trainable = False"
      ]
    },
    {
      "cell_type": "markdown",
      "id": "9XhiP9dBVnyp",
      "metadata": {
        "id": "9XhiP9dBVnyp"
      },
      "source": [
        "Transform the DataFrame in datasets such that we can fine-tune the encoder-decoder model."
      ]
    },
    {
      "cell_type": "code",
      "execution_count": 191,
      "id": "xKIlTRPHrCnX",
      "metadata": {
        "id": "xKIlTRPHrCnX"
      },
      "outputs": [],
      "source": [
        "dataset_train = Dataset.from_pandas(df_train)\n",
        "dataset_val = Dataset.from_pandas(df_val)\n",
        "dataset_test = Dataset.from_pandas(df_test)"
      ]
    },
    {
      "cell_type": "code",
      "execution_count": null,
      "id": "6fJhsbxH04DJ",
      "metadata": {
        "id": "6fJhsbxH04DJ"
      },
      "outputs": [],
      "source": [
        "train_samples = 50000\n",
        "val_samples = 5000\n",
        "\n",
        "x_train, y_train = tokenize_samples(dataset_train[:train_samples], tokenizer)\n",
        "x_val, y_val = tokenize_samples(dataset_val[:val_samples], tokenizer)\n",
        "x_test, y_test = tokenize_samples(dataset_test, tokenizer)"
      ]
    },
    {
      "cell_type": "code",
      "execution_count": 130,
      "id": "SCUPIUoHvhq5",
      "metadata": {
        "colab": {
          "base_uri": "https://localhost:8080/"
        },
        "id": "SCUPIUoHvhq5",
        "outputId": "4cf7d370-ff47-4149-9650-9f219b8101d4"
      },
      "outputs": [
        {
          "name": "stderr",
          "output_type": "stream",
          "text": [
            "No loss specified in compile() - the model's internal loss computation will be used as the loss. Don't panic - this is a common way to train TensorFlow models in Transformers! To disable this behaviour please pass a loss argument, or explicitly pass `loss=None` if you do not want your model to compute a loss.\n"
          ]
        }
      ],
      "source": [
        "batch_size = 32\n",
        "epochs = 3\n",
        "lr=3e-5\n",
        "\n",
        "optim = Adam(lr)\n",
        "\n",
        "model.compile(optimizer=optim)"
      ]
    },
    {
      "cell_type": "code",
      "execution_count": 145,
      "id": "vFd0L05IvXZf",
      "metadata": {
        "colab": {
          "base_uri": "https://localhost:8080/"
        },
        "id": "vFd0L05IvXZf",
        "outputId": "f1232240-3379-41da-8bb2-ec67f3a79ab4"
      },
      "outputs": [
        {
          "name": "stdout",
          "output_type": "stream",
          "text": [
            "Epoch 1/3\n"
          ]
        },
        {
          "name": "stderr",
          "output_type": "stream",
          "text": [
            "/usr/local/lib/python3.7/dist-packages/tensorflow/python/autograph/impl/api.py:371: FutureWarning: Version v4.17.0 introduces a better way to train encoder-decoder models by computing the loss inside the encoder-decoder framework rather than in the decoder itself. You may observe training discrepancies if fine-tuning a model trained with versions anterior to 4.17.0. The decoder_input_ids are now created based on the labels, no need to pass them yourself anymore.\n",
            "  return py_builtins.overload_of(f)(*args)\n",
            "WARNING:tensorflow:Gradients do not exist for variables ['tf_encoder_decoder_model/encoder/bert/pooler/dense/kernel:0', 'tf_encoder_decoder_model/encoder/bert/pooler/dense/bias:0'] when minimizing the loss. If you're using `model.compile()`, did you forget to provide a `loss`argument?\n",
            "WARNING:tensorflow:Gradients do not exist for variables ['tf_encoder_decoder_model/encoder/bert/pooler/dense/kernel:0', 'tf_encoder_decoder_model/encoder/bert/pooler/dense/bias:0'] when minimizing the loss. If you're using `model.compile()`, did you forget to provide a `loss`argument?\n"
          ]
        },
        {
          "name": "stdout",
          "output_type": "stream",
          "text": [
            "1563/1563 [==============================] - 725s 458ms/step - loss: 0.2644 - val_loss: 0.0492\n",
            "Epoch 2/3\n",
            "1563/1563 [==============================] - 707s 452ms/step - loss: 0.0476 - val_loss: 0.0454\n",
            "Epoch 3/3\n",
            "1563/1563 [==============================] - 715s 458ms/step - loss: 0.0443 - val_loss: 0.0440\n"
          ]
        }
      ],
      "source": [
        "history = model.fit(x_train.data, y_train, epochs=epochs, batch_size=batch_size,\n",
        "                    validation_data=(x_val.data, y_val))"
      ]
    },
    {
      "cell_type": "code",
      "execution_count": 146,
      "id": "s9RkOY87T9_n",
      "metadata": {
        "colab": {
          "base_uri": "https://localhost:8080/",
          "height": 295
        },
        "id": "s9RkOY87T9_n",
        "outputId": "b2fd1152-ab40-458b-a1fe-d99412f56df3"
      },
      "outputs": [
        {
          "data": {
            "image/png": "[encoded data removed]",
            "text/plain": [
              "<Figure size 432x288 with 1 Axes>"
            ]
          },
          "metadata": {
            "needs_background": "light"
          },
          "output_type": "display_data"
        }
      ],
      "source": [
        "from matplotlib import pyplot as plt\n",
        "\n",
        "def plot_loss(history):\n",
        "    plt.plot(history.history['loss'])\n",
        "    plt.plot(history.history['val_loss'])\n",
        "    plt.title('model loss')\n",
        "    plt.ylabel('loss')\n",
        "    plt.xlabel('epoch')\n",
        "    plt.ylim(0, 0.2)\n",
        "    plt.legend(['train', 'val'], loc='upper left')\n",
        "    plt.show()\n",
        "\n",
        "plot_loss(history)"
      ]
    },
    {
      "cell_type": "markdown",
      "id": "F0n3q0oAWhBE",
      "metadata": {
        "id": "F0n3q0oAWhBE"
      },
      "source": [
        "### Test model"
      ]
    },
    {
      "cell_type": "code",
      "execution_count": 148,
      "id": "qosaLflzfMyQ",
      "metadata": {
        "id": "qosaLflzfMyQ"
      },
      "outputs": [],
      "source": [
        "!pip install evaluate -q\n",
        "import evaluate\n",
        "import transformers.models"
      ]
    },
    {
      "cell_type": "code",
      "execution_count": 248,
      "id": "AxSPkpPuUeOo",
      "metadata": {
        "id": "AxSPkpPuUeOo"
      },
      "outputs": [],
      "source": [
        "def test_model(model: transformers.models, dataset: datasets.arrow_dataset.Dataset, \n",
        "               max_length:int=20, idx_sample: Union[int, List[int]]=88) -> None:\n",
        "    '''\n",
        "        This function takes as input a dataset, it runs inference on the given\n",
        "        model and then it prints the question, the real answer and the predicted\n",
        "        one.\n",
        "        Parameters:\n",
        "            - model: transformers.models\n",
        "                The model to run inference on.\n",
        "            - dataset: datasets.arrow_dataset.Dataset\n",
        "                The dataset from which the function takes the samples.\n",
        "            - max_length: int\n",
        "                It's the maximum length allowed during the generation.\n",
        "            - idx_sample: int | list[int]\n",
        "                If an integer is passed, then the function computes the answer\n",
        "                for a single sample, otherwise for each sample specified in the\n",
        "                list (through the index).\n",
        "\n",
        "        Return:\n",
        "            The function simply prints the results without returning anything.\n",
        "    '''\n",
        "    if isinstance(idx_sample, int):\n",
        "        idx_sample = [idx_sample]\n",
        "\n",
        "    # Check if indices are without dataset bounds    \n",
        "    max_ind = max(idx_sample)\n",
        "    if max_ind >= len(dataset):\n",
        "        print(f\"Error: index {max_ind} is out of bounds (dataset of length {len(dataset)}.\")\n",
        "        return None\n",
        "\n",
        "    for idx in idx_sample:\n",
        "        inp_test, _ = tokenize_samples(dataset[idx], tokenizer)\n",
        "\n",
        "        greedy_output = model.generate(inp_test['input_ids'],\n",
        "                                       attention_mask=inp_test['attention_mask'],\n",
        "                                       max_length=max_length)# decoder_start_token_id=model.config.decoder.bos_token_id\n",
        "\n",
        "        print(f\"- The question {idx+1} is:\\n\\t{dataset[idx]['questions']}\")\n",
        "        print(f\"- The actual answer is:\\n\\t{dataset[idx]['answers']}\")\n",
        "        print(f\"- The predicted answer is (shitty):\\n\\t\"\n",
        "              f\"{tokenizer.decode(greedy_output.numpy()[0], skip_special_tokens=True)}\")\n",
        "\n",
        "\n",
        "def compute_f1_score(model: transformers.models, X: dict, y: np.ndarray, metric: evaluate.Metric, \n",
        "                     num_samples: int=None, max_length: int=20) -> np.array:\n",
        "    '''\n",
        "        This function takes as input a dataset, it runs inference on the given\n",
        "        model and then it returns the F1 score metric.\n",
        "        Parameters:\n",
        "            - model: transformers.models\n",
        "                The model to run inference on.\n",
        "            - X: dict\n",
        "                The structure that contains the input_ids and attention_mask, it\n",
        "                is obtained doing 'variable.data' on an object of type\n",
        "                transformers.tokenization_utils_base.BatchEncoding.\n",
        "            - y: np.array\n",
        "                The array of the tokenized answers\n",
        "            - metric: evaluate.Metric\n",
        "                It's the metric object to consider for the computation.\n",
        "            - num_samples: int \n",
        "                The function takes from the samples the first 'num_samples'\n",
        "                samples.\n",
        "            - max_length: int\n",
        "                It's the maximum length used during the generation\n",
        "\n",
        "        Return:\n",
        "            The f1 score.\n",
        "    '''\n",
        "    # Take all the samples\n",
        "    if num_samples == None:\n",
        "        num_samples = len(y)\n",
        "\n",
        "    ids, att_mask = X['input_ids'][:num_samples], X['attention_mask'][:num_samples]\n",
        "    labels = y[:num_samples, :max_length]\n",
        "    greedy_output = model.generate(ids, attention_mask=att_mask, max_length=max_length).numpy()\n",
        "    \n",
        "    for i in range(num_samples):\n",
        "        # For f1 score on strings\n",
        "        #pred_string = tokenizer.decode(greedy_output[i], skip_special_tokens=True)\n",
        "        #ref_string = tokenizer.decode(labels[i], skip_special_tokens=True)\n",
        "\n",
        "        pred = greedy_output[i, :max_length]\n",
        "\n",
        "        metric.add_batch(predictions=pred, references=labels[i])\n",
        "\n",
        "    f1_score = metric.compute(average=None)\n",
        "    return f1_score"
      ]
    },
    {
      "cell_type": "code",
      "execution_count": 215,
      "id": "VZ5R5Hwza23p",
      "metadata": {
        "colab": {
          "base_uri": "https://localhost:8080/"
        },
        "id": "VZ5R5Hwza23p",
        "outputId": "a328b0b3-997c-47ce-e7ca-5a12cb9c1423"
      },
      "outputs": [
        {
          "name": "stdout",
          "output_type": "stream",
          "text": [
            "- The question 89 is:\n",
            "\tWas there a storm headed that way?\n",
            "- The actual answer is:\n",
            "\tYes\n",
            "- The predicted answer is (shitty):\n",
            "\tyes\n"
          ]
        }
      ],
      "source": [
        "test_model(model, dataset_test, max_length=20, idx_sample=88)"
      ]
    },
    {
      "cell_type": "markdown",
      "id": "-GZeLV4nWbtD",
      "metadata": {
        "id": "-GZeLV4nWbtD"
      },
      "source": [
        "### Check F1 score"
      ]
    },
    {
      "cell_type": "code",
      "execution_count": 253,
      "id": "hlILO44SU2Sz",
      "metadata": {
        "colab": {
          "base_uri": "https://localhost:8080/"
        },
        "id": "hlILO44SU2Sz",
        "outputId": "f0f22ead-0f31-46c2-e077-87105ddb1e21"
      },
      "outputs": [
        {
          "name": "stdout",
          "output_type": "stream",
          "text": [
            "The f1 score is 0.009151945214164002\n"
          ]
        }
      ],
      "source": [
        "f1_metric = evaluate.load(\"f1\")\n",
        "\n",
        "f1_score = compute_f1_score(model, x_test.data, y_test, f1_metric, 100)\n",
        "\n",
        "print(f\"The f1 score is {np.mean(f1_score['f1'])}\")"
      ]
    },
    {
      "cell_type": "markdown",
      "id": "f1814004",
      "metadata": {
        "id": "f1814004"
      },
      "source": [
        "# Assignment Evaluation\n",
        "\n",
        "The following assignment points will be awarded for each task as follows:\n",
        "\n",
        "* Task 1, Pre-processing $\\rightarrow$ 0.5 points.\n",
        "* Task 2, Dataset Splitting $\\rightarrow$ 0.5 points.\n",
        "* Task 3 and 4, Models Definition $\\rightarrow$ 1.0 points.\n",
        "* Task 5 and 6, Models Training and Evaluation $\\rightarrow$ 2.0 points.\n",
        "* Task 7, Analysis $\\rightarrow$ 1.0 points.\n",
        "* Report $\\rightarrow$ 1.0 points.\n",
        "\n",
        "**Total** = 6 points <br>\n",
        "\n",
        "We may award an additional 0.5 points for outstanding submissions. \n",
        " \n",
        "**Speed Bonus** = 0.5 extra points <br>"
      ]
    },
    {
      "cell_type": "markdown",
      "id": "20a1b2b9",
      "metadata": {
        "id": "20a1b2b9"
      },
      "source": [
        "# Report\n",
        "\n",
        "We apply the rules described in Assignment 1 regarding the report.\n",
        "* Write a clear and concise report following the given overleaf template (**max 2 pages**).\n",
        "* Report validation and test results in a table.$^1$\n",
        "* **Avoid reporting** code snippets or copy-paste terminal outputs $\\rightarrow$ **Provide a clean schema** of what you want to show"
      ]
    },
    {
      "cell_type": "markdown",
      "id": "0967c209",
      "metadata": {
        "id": "0967c209"
      },
      "source": [
        "# Comments and Organization\n",
        "\n",
        "Remember to properly comment your code (it is not necessary to comment each single line) and don't forget to describe your work!\n",
        "\n",
        "Structure your code for readability and maintenance. If you work with Colab, use sections. \n",
        "\n",
        "This allows you to build clean and modular code, as well as easy to read and to debug (notebooks can be quite tricky time to time)."
      ]
    },
    {
      "cell_type": "markdown",
      "id": "23929660",
      "metadata": {
        "id": "23929660"
      },
      "source": [
        "# FAQ (READ THIS!)\n",
        "\n",
        "---\n",
        "\n",
        "**Question**: Does Task 3 also include data tokenization and conversion step?\n",
        "\n",
        "**Answer:** Yes! These steps are usually straightforward since ```transformers``` also offers a specific tokenizer for each model.\n",
        "\n",
        "**Example**: \n",
        "\n",
        "```\n",
        "tokenizer = AutoTokenizer.from_pretrained(\"bert-base-cased\")\n",
        "encoded_text = tokenizer(text)\n",
        "%% Alternatively\n",
        "inputs = tokenizer.tokenize(text, add_special_tokens=True, max_length=min(max_length, 512))\n",
        "input_ids, attention_mask = inputs['input_ids'], inputs['attention_mask']\n",
        "```\n",
        "\n",
        "**Suggestion**: Hugginface's documentation is full of tutorials and user-friendly APIs.\n",
        "\n",
        "---\n",
        "---\n",
        "\n",
        "**Question**: I'm hitting **out of memory error** when training my models, do you have any suggestions?\n",
        "\n",
        "**Answer**: Here are some common workarounds:\n",
        "\n",
        "1. Try decreasing the mini-batch size\n",
        "2. Try applying a different padding strategy (if you are applying padding): e.g. use quantiles instead of maximum sequence length\n",
        "\n",
        "---\n",
        "---"
      ]
    },
    {
      "cell_type": "markdown",
      "id": "9c56a612",
      "metadata": {
        "id": "9c56a612"
      },
      "source": [
        "# Contact\n",
        "\n",
        "For any doubt, question, issue or help, you can always contact us at the following email addresses:\n",
        "\n",
        "Teaching Assistants:\n",
        "\n",
        "* Andrea Galassi -> a.galassi@unibo.it\n",
        "* Federico Ruggeri -> federico.ruggeri6@unibo.it\n",
        "\n",
        "Professor:\n",
        "\n",
        "* Paolo Torroni -> p.torroni@unibo.it"
      ]
    },
    {
      "cell_type": "markdown",
      "id": "54bac4b9",
      "metadata": {
        "id": "54bac4b9"
      },
      "source": [
        "# The End!\n",
        "\n",
        "Questions?"
      ]
    }
  ],
  "metadata": {
    "accelerator": "GPU",
    "celltoolbar": "Slideshow",
    "colab": {
      "collapsed_sections": [
        "dL4rB4Dv4q5D",
        "11ada8c8",
        "66cfee64",
        "7b532042",
        "f6643e14",
        "bddb1b09",
        "K8g1LQahdYdD"
      ],
      "provenance": []
    },
    "gpuClass": "standard",
    "kernelspec": {
      "display_name": "Python 3.9.13 ('tf_env')",
      "language": "python",
      "name": "python3"
    },
    "language_info": {
      "codemirror_mode": {
        "name": "ipython",
        "version": 3
      },
      "file_extension": ".py",
      "mimetype": "text/x-python",
      "name": "python",
      "nbconvert_exporter": "python",
      "pygments_lexer": "ipython3",
      "version": "3.9.13"
    },
    "vscode": {
      "interpreter": {
        "hash": "3ce8273a8c38ff7795926bf915cbd2931d7313de696d3392f6c42417e8c00d4d"
      }
    }
  },
  "nbformat": 4,
  "nbformat_minor": 5
}
