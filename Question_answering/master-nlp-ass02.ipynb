{
  "cells": [
    {
      "cell_type": "markdown",
      "id": "d1d23b6c",
      "metadata": {
        "id": "d1d23b6c"
      },
      "source": [
        "# Assignment 2\n",
        "\n",
        "**Credits**: Andrea Galassi, Federico Ruggeri, Paolo Torroni\n",
        "\n",
        "**Keywords**: Transformers, Question Answering, CoQA"
      ]
    },
    {
      "cell_type": "markdown",
      "id": "dL4rB4Dv4q5D",
      "metadata": {
        "id": "dL4rB4Dv4q5D"
      },
      "source": [
        "## Task and dataset explanation"
      ]
    },
    {
      "cell_type": "markdown",
      "id": "11ada8c8",
      "metadata": {
        "id": "11ada8c8"
      },
      "source": [
        "### Overview"
      ]
    },
    {
      "cell_type": "markdown",
      "id": "47c07553",
      "metadata": {
        "id": "47c07553"
      },
      "source": [
        "### Problem\n",
        "\n",
        "Question Answering (QA) on [CoQA](https://stanfordnlp.github.io/coqa/) dataset: a conversational QA dataset."
      ]
    },
    {
      "cell_type": "markdown",
      "id": "b4907f8d",
      "metadata": {
        "id": "b4907f8d"
      },
      "source": [
        "### Task\n",
        "\n",
        "Given a question $Q$, a text passage $P$, the task is to generate the answer $A$.<br>\n",
        "$\\rightarrow A$ can be: (i) a free-form text or (ii) unanswerable;\n",
        "\n",
        "**Note**: an question $Q$ can refer to previous dialogue turns. <br>\n",
        "$\\rightarrow$ dialogue history $H$ may be a valuable input to provide the correct answer $A$."
      ]
    },
    {
      "cell_type": "markdown",
      "id": "9b3760b5",
      "metadata": {
        "id": "9b3760b5"
      },
      "source": [
        "### Models\n",
        "\n",
        "We are going to experiment with transformer-based models to define the following models:\n",
        "\n",
        "1.  $A = f_\\theta(Q, P)$\n",
        "\n",
        "2. $A = f_\\theta(Q, P, H)$\n",
        "\n",
        "where $f_\\theta$ is the transformer-based model we have to define with $\\theta$ parameters."
      ]
    },
    {
      "cell_type": "markdown",
      "id": "66cfee64",
      "metadata": {
        "id": "66cfee64"
      },
      "source": [
        "### The CoQA dataset"
      ]
    },
    {
      "cell_type": "markdown",
      "id": "996fa650",
      "metadata": {
        "id": "996fa650"
      },
      "source": [
        "<center>\n",
        "    <img src=\"https://drive.google.com/uc?export=view&id=16vrgyfoV42Z2AQX0QY7LHTfrgektEKKh\" width=\"750\"/>\n",
        "</center>"
      ]
    },
    {
      "cell_type": "markdown",
      "id": "f6e3e7d0",
      "metadata": {
        "id": "f6e3e7d0"
      },
      "source": [
        "For detailed information about the dataset, feel free to check the original [paper](https://arxiv.org/pdf/1808.07042.pdf).\n",
        "\n"
      ]
    },
    {
      "cell_type": "markdown",
      "id": "bfb6c37e",
      "metadata": {
        "id": "bfb6c37e"
      },
      "source": [
        "### Rationales\n",
        "\n",
        "Each QA pair is paired with a rationale $R$: it is a text span extracted from the given text passage $P$. <br>\n",
        "$\\rightarrow$ $R$ is not a requested output, but it can be used as an additional information at training time!"
      ]
    },
    {
      "cell_type": "markdown",
      "id": "daa786e2",
      "metadata": {
        "id": "daa786e2"
      },
      "source": [
        "### Dataset Statistics\n",
        "\n",
        "* **127k** QA pairs.\n",
        "* **8k** conversations.\n",
        "* **7** diverse domains: Children's Stories, Literature, Mid/High School Exams, News, Wikipedia, Reddit, Science.\n",
        "* Average conversation length: **15 turns** (i.e., QA pairs).\n",
        "* Almost **half** of CoQA questions refer back to **conversational history**.\n",
        "* Only **train** and **validation** sets are available."
      ]
    },
    {
      "cell_type": "markdown",
      "id": "d26d68b7",
      "metadata": {
        "id": "d26d68b7"
      },
      "source": [
        "### Dataset snippet\n",
        "\n",
        "The dataset is stored in JSON format. Each dialogue is represented as follows:\n",
        "\n",
        "```\n",
        "{\n",
        "    \"source\": \"mctest\",\n",
        "    \"id\": \"3dr23u6we5exclen4th8uq9rb42tel\",\n",
        "    \"filename\": \"mc160.test.41\",\n",
        "    \"story\": \"Once upon a time, in a barn near a farm house, there lived a little white kitten named Cotton. \n",
        "    Cotton lived high up in a nice warm place above the barn where all of the farmer's horses slept. [...]\" % <-- $P$\n",
        "    \"questions\": [\n",
        "        {\n",
        "            \"input_text\": \"What color was Cotton?\",   % <-- $Q_1$\n",
        "            \"turn_id\": 1\n",
        "        },\n",
        "        {\n",
        "            \"input_text\": \"Where did she live?\",\n",
        "            \"turn_id\": 2\n",
        "        },\n",
        "        [...]\n",
        "    ],\n",
        "    \"answers\": [\n",
        "        {\n",
        "            \"span_start\": 59,   % <-- $R_1$ start index\n",
        "            \"spand_end\": 93,    % <-- $R_1$ end index\n",
        "            \"span_text\": \"a little white kitten named Cotton\",   % <-- $R_1$\n",
        "            \"input_text\" \"white\",   % <-- $A_1$      \n",
        "            \"turn_id\": 1\n",
        "        },\n",
        "        [...]\n",
        "    ]\n",
        "}\n",
        "```"
      ]
    },
    {
      "cell_type": "markdown",
      "id": "72c7558c",
      "metadata": {
        "id": "72c7558c"
      },
      "source": [
        "### Simplifications\n",
        "\n",
        "Each dialogue also contains an additional field ```additional_answers```. For simplicity, we **ignore** this field and only consider one groundtruth answer $A$ and text rationale $R$.\n",
        "\n",
        "CoQA only contains 1.3% of unanswerable questions. For simplicity, we **ignore** those QA pairs."
      ]
    },
    {
      "cell_type": "markdown",
      "id": "7b532042",
      "metadata": {
        "id": "7b532042"
      },
      "source": [
        "## List of tasks"
      ]
    },
    {
      "cell_type": "markdown",
      "id": "e01cdad7",
      "metadata": {
        "id": "e01cdad7"
      },
      "source": [
        "### [Task 1] Remove unaswerable QA pairs \n",
        "\n",
        "Write your own script to remove unaswerable QA pairs from both train and validation sets. "
      ]
    },
    {
      "cell_type": "markdown",
      "id": "f57334e0",
      "metadata": {
        "id": "f57334e0"
      },
      "source": [
        "### [Task 2] Train, Validation and Test splits\n",
        "\n",
        "CoQA only provides a train and validation set since the test set is hidden for evaluation purposes.\n",
        "\n",
        "We'll consider the provided validation set as a test set. <br>\n",
        "$\\rightarrow$ Write your own script to:\n",
        "* Split the train data in train and validation splits (80% train and 20% val)\n",
        "* Perform splits such that a dialogue appears in one split only! (i.e., split at dialogue level)\n",
        "* Perform splitting using the following seed for reproducibility: 42\n",
        "\n",
        "#### Reproducibility Memo\n",
        "\n",
        "Check back tutorial 2 on how to fix a specific random seed for reproducibility!"
      ]
    },
    {
      "cell_type": "markdown",
      "id": "230a21de",
      "metadata": {
        "id": "230a21de"
      },
      "source": [
        "### [Task 3] Model definition\n",
        "\n",
        "Write your own script to define the following transformer-based models from [huggingface](https://HuggingFace.co/).\n",
        "\n",
        "* [M1] DistilRoBERTa (distilberta-base)\n",
        "* [M2] BERTTiny (bert-tiny)\n",
        "\n",
        "**Note**: Remember to install the ```transformers``` python package!\n",
        "\n",
        "**Note**: We consider small transformer models for computational reasons!"
      ]
    },
    {
      "cell_type": "markdown",
      "id": "f1e83f28",
      "metadata": {
        "id": "f1e83f28"
      },
      "source": [
        "### [Task 4] Question generation with text passage $P$ and question $Q$\n",
        "\n",
        "We want to define $f_\\theta(P, Q)$. \n",
        "\n",
        "Write your own script to implement $f_\\theta$ for each model: M1 and M2.\n",
        "\n",
        "#### Formulation\n",
        "\n",
        "Consider a dialogue on text passage $P$. \n",
        "\n",
        "For each question $Q_i$ at dialogue turn $i$, your model should take $P$ and $Q_i$ and generate $A_i$."
      ]
    },
    {
      "cell_type": "markdown",
      "id": "7311ba86",
      "metadata": {
        "id": "7311ba86"
      },
      "source": [
        "### [Task 5] Question generation with text passage $P$, question $Q$ and dialogue history $H$\n",
        "\n",
        "We want to define $f_\\theta(P, Q, H)$. Write your own script to implement $f_\\theta$ for each model: M1 and M2.\n",
        "\n",
        "#### Formulation\n",
        "\n",
        "Consider a dialogue on text passage $P$. \n",
        "\n",
        "For each question $Q_i$ at dialogue turn $i$, your model should take $P$, $Q_i$, and $H = \\{ Q_0, A_0, \\dots, Q_{i-1}, A_{i-1} \\}$ to generate $A_i$."
      ]
    },
    {
      "cell_type": "markdown",
      "id": "b5ac768c",
      "metadata": {
        "id": "b5ac768c"
      },
      "source": [
        "### [Task 6] Train and evaluate $f_\\theta(P, Q)$ and $f_\\theta(P, Q, H)$\n",
        "\n",
        "Write your own script to train and evaluate your $f_\\theta(P, Q)$ and $f_\\theta(P, Q, H)$ models.\n",
        "\n",
        "### Instructions\n",
        "\n",
        "* Perform multiple train/evaluation seed runs: [42, 2022, 1337].$^1$\n",
        "* Evaluate your models with the following metrics: SQUAD F1-score.$^2$\n",
        "* Fine-tune each transformer-based models for **3 epochs**.\n",
        "* Report evaluation SQUAD F1-score computed on the validation and test sets.\n",
        "\n",
        "$^1$ Remember what we said about code reproducibility in Tutorial 2!\n",
        "\n",
        "$^2$ You can use ```allennlp``` python package for a quick implementation of SQUAD F1-score: ```from allennlp_models.rc.tools import squad```. "
      ]
    },
    {
      "cell_type": "markdown",
      "id": "92c7e98f",
      "metadata": {
        "id": "92c7e98f"
      },
      "source": [
        "### [Task 7] Error Analysis\n",
        "\n",
        "Perform a simple and short error analysis as follows:\n",
        "* Group dialogues by ```source``` and report the worst 5 model errors for each source (w.r.t. SQUAD F1-score).\n",
        "* Inspect observed results and try to provide some comments (e.g., do the models make errors when faced with a particular question type?)$^1$\n",
        "\n",
        "$^1$ Check the [paper](https://arxiv.org/pdf/1808.07042.pdf) for some valuable information about question/answer types (e.g., Table 6, Table 8) "
      ]
    },
    {
      "cell_type": "markdown",
      "id": "f6643e14",
      "metadata": {
        "id": "f6643e14"
      },
      "source": [
        "## Dataset Download\n"
      ]
    },
    {
      "cell_type": "code",
      "execution_count": 1,
      "id": "6cZJRT4tU1ms",
      "metadata": {
        "id": "6cZJRT4tU1ms"
      },
      "outputs": [],
      "source": [
        "import os\n",
        "import os.path\n",
        "import json\n",
        "import typing\n",
        "import urllib.request\n",
        "import random\n",
        "\n",
        "import keras.callbacks\n",
        "import keras.layers\n",
        "import keras.losses\n",
        "import keras.optimizers\n",
        "import keras.regularizers\n",
        "import numpy as np\n",
        "import pandas as pd\n",
        "import tensorflow as tf\n",
        "from tqdm import tqdm"
      ]
    },
    {
      "cell_type": "code",
      "execution_count": 2,
      "id": "358bac70",
      "metadata": {
        "id": "358bac70"
      },
      "outputs": [],
      "source": [
        "class DownloadProgressBar(tqdm):\n",
        "    def update_to(self, b=1, bsize=1, tsize=None):\n",
        "        if tsize is not None:\n",
        "            self.total = tsize\n",
        "        self.update(b * bsize - self.n)\n",
        "        \n",
        "def download_url(url, output_path):\n",
        "    with DownloadProgressBar(unit='B', unit_scale=True,\n",
        "                             miniters=1, desc=url.split('/')[-1]) as t:\n",
        "        urllib.request.urlretrieve(url, filename=output_path, reporthook=t.update_to)\n",
        "\n",
        "def download_data(data_path, url_path, suffix):    \n",
        "    if not os.path.exists(data_path):\n",
        "        os.makedirs(data_path)\n",
        "        \n",
        "    data_path = os.path.join(data_path, f'{suffix}.json')\n",
        "\n",
        "    if not os.path.exists(data_path):\n",
        "        print(f\"Downloading CoQA {suffix} data split... (it may take a while)\")\n",
        "        download_url(url=url_path, output_path=data_path)\n",
        "        print(\"Download completed!\")"
      ]
    },
    {
      "cell_type": "code",
      "execution_count": 3,
      "id": "5f6ab3ff",
      "metadata": {
        "id": "5f6ab3ff",
        "colab": {
          "base_uri": "https://localhost:8080/"
        },
        "outputId": "d570c03a-bbb7-4b4d-e3ce-6c5b34005e85"
      },
      "outputs": [
        {
          "output_type": "stream",
          "name": "stdout",
          "text": [
            "Downloading CoQA train data split... (it may take a while)\n"
          ]
        },
        {
          "output_type": "stream",
          "name": "stderr",
          "text": [
            "coqa-train-v1.0.json: 49.0MB [00:04, 9.84MB/s]                            \n"
          ]
        },
        {
          "output_type": "stream",
          "name": "stdout",
          "text": [
            "Download completed!\n",
            "Downloading CoQA test data split... (it may take a while)\n"
          ]
        },
        {
          "output_type": "stream",
          "name": "stderr",
          "text": [
            "coqa-dev-v1.0.json: 9.09MB [00:00, 23.6MB/s]                            "
          ]
        },
        {
          "output_type": "stream",
          "name": "stdout",
          "text": [
            "Download completed!\n"
          ]
        },
        {
          "output_type": "stream",
          "name": "stderr",
          "text": [
            "\n"
          ]
        }
      ],
      "source": [
        "# Train data\n",
        "train_url = \"https://nlp.stanford.edu/data/coqa/coqa-train-v1.0.json\"\n",
        "download_data(data_path='coqa', url_path=train_url, suffix='train')\n",
        "\n",
        "# Test data\n",
        "test_url = \"https://nlp.stanford.edu/data/coqa/coqa-dev-v1.0.json\"\n",
        "download_data(data_path='coqa', url_path=test_url, suffix='test')  # <-- Why test? See next slides for an answer!"
      ]
    },
    {
      "cell_type": "markdown",
      "id": "bddb1b09",
      "metadata": {
        "id": "bddb1b09"
      },
      "source": [
        "## Create the dataframe, inspect the data and do some preprocessing [TASK 1, TASK 2]"
      ]
    },
    {
      "cell_type": "code",
      "execution_count": 4,
      "id": "89e33d91",
      "metadata": {
        "id": "89e33d91"
      },
      "outputs": [],
      "source": [
        "train_path = './coqa/train.json'\n",
        "test_path = './coqa/test.json'\n",
        "\n",
        "with open(train_path, 'r') as f:\n",
        "    train_json = json.load(f)\n",
        "\n",
        "with open(test_path, 'r') as f:\n",
        "    test_json = json.load(f)\n"
      ]
    },
    {
      "cell_type": "markdown",
      "source": [
        "Given that the dataset is provided as a json file we decided to unpack it with a first rough operation creating a column of a DataFrame for each key of the dictionary."
      ],
      "metadata": {
        "id": "JARrWA8lmPO_"
      },
      "id": "JARrWA8lmPO_"
    },
    {
      "cell_type": "code",
      "execution_count": 5,
      "id": "9a10f052",
      "metadata": {
        "colab": {
          "base_uri": "https://localhost:8080/",
          "height": 545
        },
        "id": "9a10f052",
        "outputId": "7ff26066-5162-4938-f0f9-89be840dbde0"
      },
      "outputs": [
        {
          "output_type": "execute_result",
          "data": {
            "text/plain": [
              "      source                              id  \\\n",
              "0  wikipedia  3zotghdk5ibi9cex97fepx7jetpso7   \n",
              "1        cnn  3wj1oxy92agboo5nlq4r7bndc3t8a8   \n",
              "2  gutenberg  3bdcf01ogxu7zdn9vlrbf2rqzwplyf   \n",
              "3        cnn  3ewijtffvo7wwchw6rtyaf7mfwte0p   \n",
              "4  gutenberg  3urfvvm165iantk80llvkwwbjs7uzh   \n",
              "\n",
              "                                            filename  \\\n",
              "0                                Vatican_Library.txt   \n",
              "1  cnn_fe05c61a7e48461f7883cdec387567029614f07b.s...   \n",
              "2  data/gutenberg/txt/Zane Grey___Riders of the P...   \n",
              "3  cnn_0c518067e0df811501e46b2e1cd1ce511f1645b7.s...   \n",
              "4  data/gutenberg/txt/Rafael Sabatini___Love-at-A...   \n",
              "\n",
              "                                               story  \\\n",
              "0  The Vatican Apostolic Library (), more commonl...   \n",
              "1  New York (CNN) -- More than 80 Michael Jackson...   \n",
              "2  CHAPTER VII. THE DAUGHTER OF WITHERSTEEN \\n\\n\"...   \n",
              "3  (CNN) -- The longest-running holiday special s...   \n",
              "4  CHAPTER XXIV. THE INTERRUPTED MASS \\n\\nThe mor...   \n",
              "\n",
              "                                           questions  \\\n",
              "0  [{'input_text': 'When was the Vat formally ope...   \n",
              "1  [{'input_text': 'Where was the Auction held?',...   \n",
              "2  [{'input_text': 'What did Venters call Lassite...   \n",
              "3  [{'input_text': 'Who is Rudolph's father?', 't...   \n",
              "4  [{'input_text': 'Who arrived at the church?', ...   \n",
              "\n",
              "                                             answers  \\\n",
              "0  [{'span_start': 151, 'span_end': 179, 'span_te...   \n",
              "1  [{'span_start': 243, 'span_end': 284, 'span_te...   \n",
              "2  [{'span_start': 841, 'span_end': 880, 'span_te...   \n",
              "3  [{'span_start': 500, 'span_end': 557, 'span_te...   \n",
              "4  [{'span_start': 254, 'span_end': 297, 'span_te...   \n",
              "\n",
              "                                                name  \n",
              "0                                Vatican_Library.txt  \n",
              "1  cnn_fe05c61a7e48461f7883cdec387567029614f07b.s...  \n",
              "2  data/gutenberg/txt/Zane Grey___Riders of the P...  \n",
              "3  cnn_0c518067e0df811501e46b2e1cd1ce511f1645b7.s...  \n",
              "4  data/gutenberg/txt/Rafael Sabatini___Love-at-A...  "
            ],
            "text/html": [
              "\n",
              "  <div id=\"df-b223acf8-a17f-4cce-8260-55d71b36a3fd\">\n",
              "    <div class=\"colab-df-container\">\n",
              "      <div>\n",
              "<style scoped>\n",
              "    .dataframe tbody tr th:only-of-type {\n",
              "        vertical-align: middle;\n",
              "    }\n",
              "\n",
              "    .dataframe tbody tr th {\n",
              "        vertical-align: top;\n",
              "    }\n",
              "\n",
              "    .dataframe thead th {\n",
              "        text-align: right;\n",
              "    }\n",
              "</style>\n",
              "<table border=\"1\" class=\"dataframe\">\n",
              "  <thead>\n",
              "    <tr style=\"text-align: right;\">\n",
              "      <th></th>\n",
              "      <th>source</th>\n",
              "      <th>id</th>\n",
              "      <th>filename</th>\n",
              "      <th>story</th>\n",
              "      <th>questions</th>\n",
              "      <th>answers</th>\n",
              "      <th>name</th>\n",
              "    </tr>\n",
              "  </thead>\n",
              "  <tbody>\n",
              "    <tr>\n",
              "      <th>0</th>\n",
              "      <td>wikipedia</td>\n",
              "      <td>3zotghdk5ibi9cex97fepx7jetpso7</td>\n",
              "      <td>Vatican_Library.txt</td>\n",
              "      <td>The Vatican Apostolic Library (), more commonl...</td>\n",
              "      <td>[{'input_text': 'When was the Vat formally ope...</td>\n",
              "      <td>[{'span_start': 151, 'span_end': 179, 'span_te...</td>\n",
              "      <td>Vatican_Library.txt</td>\n",
              "    </tr>\n",
              "    <tr>\n",
              "      <th>1</th>\n",
              "      <td>cnn</td>\n",
              "      <td>3wj1oxy92agboo5nlq4r7bndc3t8a8</td>\n",
              "      <td>cnn_fe05c61a7e48461f7883cdec387567029614f07b.s...</td>\n",
              "      <td>New York (CNN) -- More than 80 Michael Jackson...</td>\n",
              "      <td>[{'input_text': 'Where was the Auction held?',...</td>\n",
              "      <td>[{'span_start': 243, 'span_end': 284, 'span_te...</td>\n",
              "      <td>cnn_fe05c61a7e48461f7883cdec387567029614f07b.s...</td>\n",
              "    </tr>\n",
              "    <tr>\n",
              "      <th>2</th>\n",
              "      <td>gutenberg</td>\n",
              "      <td>3bdcf01ogxu7zdn9vlrbf2rqzwplyf</td>\n",
              "      <td>data/gutenberg/txt/Zane Grey___Riders of the P...</td>\n",
              "      <td>CHAPTER VII. THE DAUGHTER OF WITHERSTEEN \\n\\n\"...</td>\n",
              "      <td>[{'input_text': 'What did Venters call Lassite...</td>\n",
              "      <td>[{'span_start': 841, 'span_end': 880, 'span_te...</td>\n",
              "      <td>data/gutenberg/txt/Zane Grey___Riders of the P...</td>\n",
              "    </tr>\n",
              "    <tr>\n",
              "      <th>3</th>\n",
              "      <td>cnn</td>\n",
              "      <td>3ewijtffvo7wwchw6rtyaf7mfwte0p</td>\n",
              "      <td>cnn_0c518067e0df811501e46b2e1cd1ce511f1645b7.s...</td>\n",
              "      <td>(CNN) -- The longest-running holiday special s...</td>\n",
              "      <td>[{'input_text': 'Who is Rudolph's father?', 't...</td>\n",
              "      <td>[{'span_start': 500, 'span_end': 557, 'span_te...</td>\n",
              "      <td>cnn_0c518067e0df811501e46b2e1cd1ce511f1645b7.s...</td>\n",
              "    </tr>\n",
              "    <tr>\n",
              "      <th>4</th>\n",
              "      <td>gutenberg</td>\n",
              "      <td>3urfvvm165iantk80llvkwwbjs7uzh</td>\n",
              "      <td>data/gutenberg/txt/Rafael Sabatini___Love-at-A...</td>\n",
              "      <td>CHAPTER XXIV. THE INTERRUPTED MASS \\n\\nThe mor...</td>\n",
              "      <td>[{'input_text': 'Who arrived at the church?', ...</td>\n",
              "      <td>[{'span_start': 254, 'span_end': 297, 'span_te...</td>\n",
              "      <td>data/gutenberg/txt/Rafael Sabatini___Love-at-A...</td>\n",
              "    </tr>\n",
              "  </tbody>\n",
              "</table>\n",
              "</div>\n",
              "      <button class=\"colab-df-convert\" onclick=\"convertToInteractive('df-b223acf8-a17f-4cce-8260-55d71b36a3fd')\"\n",
              "              title=\"Convert this dataframe to an interactive table.\"\n",
              "              style=\"display:none;\">\n",
              "        \n",
              "  <svg xmlns=\"http://www.w3.org/2000/svg\" height=\"24px\"viewBox=\"0 0 24 24\"\n",
              "       width=\"24px\">\n",
              "    <path d=\"M0 0h24v24H0V0z\" fill=\"none\"/>\n",
              "    <path d=\"M18.56 5.44l.94 2.06.94-2.06 2.06-.94-2.06-.94-.94-2.06-.94 2.06-2.06.94zm-11 1L8.5 8.5l.94-2.06 2.06-.94-2.06-.94L8.5 2.5l-.94 2.06-2.06.94zm10 10l.94 2.06.94-2.06 2.06-.94-2.06-.94-.94-2.06-.94 2.06-2.06.94z\"/><path d=\"M17.41 7.96l-1.37-1.37c-.4-.4-.92-.59-1.43-.59-.52 0-1.04.2-1.43.59L10.3 9.45l-7.72 7.72c-.78.78-.78 2.05 0 2.83L4 21.41c.39.39.9.59 1.41.59.51 0 1.02-.2 1.41-.59l7.78-7.78 2.81-2.81c.8-.78.8-2.07 0-2.86zM5.41 20L4 18.59l7.72-7.72 1.47 1.35L5.41 20z\"/>\n",
              "  </svg>\n",
              "      </button>\n",
              "      \n",
              "  <style>\n",
              "    .colab-df-container {\n",
              "      display:flex;\n",
              "      flex-wrap:wrap;\n",
              "      gap: 12px;\n",
              "    }\n",
              "\n",
              "    .colab-df-convert {\n",
              "      background-color: #E8F0FE;\n",
              "      border: none;\n",
              "      border-radius: 50%;\n",
              "      cursor: pointer;\n",
              "      display: none;\n",
              "      fill: #1967D2;\n",
              "      height: 32px;\n",
              "      padding: 0 0 0 0;\n",
              "      width: 32px;\n",
              "    }\n",
              "\n",
              "    .colab-df-convert:hover {\n",
              "      background-color: #E2EBFA;\n",
              "      box-shadow: 0px 1px 2px rgba(60, 64, 67, 0.3), 0px 1px 3px 1px rgba(60, 64, 67, 0.15);\n",
              "      fill: #174EA6;\n",
              "    }\n",
              "\n",
              "    [theme=dark] .colab-df-convert {\n",
              "      background-color: #3B4455;\n",
              "      fill: #D2E3FC;\n",
              "    }\n",
              "\n",
              "    [theme=dark] .colab-df-convert:hover {\n",
              "      background-color: #434B5C;\n",
              "      box-shadow: 0px 1px 3px 1px rgba(0, 0, 0, 0.15);\n",
              "      filter: drop-shadow(0px 1px 2px rgba(0, 0, 0, 0.3));\n",
              "      fill: #FFFFFF;\n",
              "    }\n",
              "  </style>\n",
              "\n",
              "      <script>\n",
              "        const buttonEl =\n",
              "          document.querySelector('#df-b223acf8-a17f-4cce-8260-55d71b36a3fd button.colab-df-convert');\n",
              "        buttonEl.style.display =\n",
              "          google.colab.kernel.accessAllowed ? 'block' : 'none';\n",
              "\n",
              "        async function convertToInteractive(key) {\n",
              "          const element = document.querySelector('#df-b223acf8-a17f-4cce-8260-55d71b36a3fd');\n",
              "          const dataTable =\n",
              "            await google.colab.kernel.invokeFunction('convertToInteractive',\n",
              "                                                     [key], {});\n",
              "          if (!dataTable) return;\n",
              "\n",
              "          const docLinkHtml = 'Like what you see? Visit the ' +\n",
              "            '<a target=\"_blank\" href=https://colab.research.google.com/notebooks/data_table.ipynb>data table notebook</a>'\n",
              "            + ' to learn more about interactive tables.';\n",
              "          element.innerHTML = '';\n",
              "          dataTable['output_type'] = 'display_data';\n",
              "          await google.colab.output.renderOutput(dataTable, element);\n",
              "          const docLink = document.createElement('div');\n",
              "          docLink.innerHTML = docLinkHtml;\n",
              "          element.appendChild(docLink);\n",
              "        }\n",
              "      </script>\n",
              "    </div>\n",
              "  </div>\n",
              "  "
            ]
          },
          "metadata": {},
          "execution_count": 5
        }
      ],
      "source": [
        "df_train = pd.json_normalize(train_json['data'])\n",
        "df_test = pd.json_normalize(test_json['data'])\n",
        "df_train.head()"
      ]
    },
    {
      "cell_type": "markdown",
      "id": "730969bf",
      "metadata": {
        "id": "730969bf"
      },
      "source": [
        "In the dataset above we have some features that are not useful for our task therefore we decided to remove them and we remained with the story for each dialogue, the questions and the relative answers."
      ]
    },
    {
      "cell_type": "code",
      "execution_count": 6,
      "id": "af8558f0",
      "metadata": {
        "id": "af8558f0"
      },
      "outputs": [],
      "source": [
        "features_to_remove = ['source', 'id', 'filename', 'name']\n",
        "features_to_remove_test = features_to_remove + [f'additional_answers.{i}' for i in range(3)]\n",
        "\n",
        "df_train.drop(features_to_remove, axis=1, inplace=True)\n",
        "df_test.drop(features_to_remove_test, axis=1, inplace=True)"
      ]
    },
    {
      "cell_type": "code",
      "execution_count": 7,
      "id": "6bce7aec",
      "metadata": {
        "colab": {
          "base_uri": "https://localhost:8080/",
          "height": 206
        },
        "id": "6bce7aec",
        "outputId": "38dc4abe-744d-4a15-cd45-4546e2d7cd95"
      },
      "outputs": [
        {
          "output_type": "execute_result",
          "data": {
            "text/plain": [
              "                                               story  \\\n",
              "0  The Vatican Apostolic Library (), more commonl...   \n",
              "1  New York (CNN) -- More than 80 Michael Jackson...   \n",
              "2  CHAPTER VII. THE DAUGHTER OF WITHERSTEEN \\n\\n\"...   \n",
              "3  (CNN) -- The longest-running holiday special s...   \n",
              "4  CHAPTER XXIV. THE INTERRUPTED MASS \\n\\nThe mor...   \n",
              "\n",
              "                                           questions  \\\n",
              "0  [{'input_text': 'When was the Vat formally ope...   \n",
              "1  [{'input_text': 'Where was the Auction held?',...   \n",
              "2  [{'input_text': 'What did Venters call Lassite...   \n",
              "3  [{'input_text': 'Who is Rudolph's father?', 't...   \n",
              "4  [{'input_text': 'Who arrived at the church?', ...   \n",
              "\n",
              "                                             answers  \n",
              "0  [{'span_start': 151, 'span_end': 179, 'span_te...  \n",
              "1  [{'span_start': 243, 'span_end': 284, 'span_te...  \n",
              "2  [{'span_start': 841, 'span_end': 880, 'span_te...  \n",
              "3  [{'span_start': 500, 'span_end': 557, 'span_te...  \n",
              "4  [{'span_start': 254, 'span_end': 297, 'span_te...  "
            ],
            "text/html": [
              "\n",
              "  <div id=\"df-775cd0f2-bc77-48a1-a73f-399b2c4c7bf8\">\n",
              "    <div class=\"colab-df-container\">\n",
              "      <div>\n",
              "<style scoped>\n",
              "    .dataframe tbody tr th:only-of-type {\n",
              "        vertical-align: middle;\n",
              "    }\n",
              "\n",
              "    .dataframe tbody tr th {\n",
              "        vertical-align: top;\n",
              "    }\n",
              "\n",
              "    .dataframe thead th {\n",
              "        text-align: right;\n",
              "    }\n",
              "</style>\n",
              "<table border=\"1\" class=\"dataframe\">\n",
              "  <thead>\n",
              "    <tr style=\"text-align: right;\">\n",
              "      <th></th>\n",
              "      <th>story</th>\n",
              "      <th>questions</th>\n",
              "      <th>answers</th>\n",
              "    </tr>\n",
              "  </thead>\n",
              "  <tbody>\n",
              "    <tr>\n",
              "      <th>0</th>\n",
              "      <td>The Vatican Apostolic Library (), more commonl...</td>\n",
              "      <td>[{'input_text': 'When was the Vat formally ope...</td>\n",
              "      <td>[{'span_start': 151, 'span_end': 179, 'span_te...</td>\n",
              "    </tr>\n",
              "    <tr>\n",
              "      <th>1</th>\n",
              "      <td>New York (CNN) -- More than 80 Michael Jackson...</td>\n",
              "      <td>[{'input_text': 'Where was the Auction held?',...</td>\n",
              "      <td>[{'span_start': 243, 'span_end': 284, 'span_te...</td>\n",
              "    </tr>\n",
              "    <tr>\n",
              "      <th>2</th>\n",
              "      <td>CHAPTER VII. THE DAUGHTER OF WITHERSTEEN \\n\\n\"...</td>\n",
              "      <td>[{'input_text': 'What did Venters call Lassite...</td>\n",
              "      <td>[{'span_start': 841, 'span_end': 880, 'span_te...</td>\n",
              "    </tr>\n",
              "    <tr>\n",
              "      <th>3</th>\n",
              "      <td>(CNN) -- The longest-running holiday special s...</td>\n",
              "      <td>[{'input_text': 'Who is Rudolph's father?', 't...</td>\n",
              "      <td>[{'span_start': 500, 'span_end': 557, 'span_te...</td>\n",
              "    </tr>\n",
              "    <tr>\n",
              "      <th>4</th>\n",
              "      <td>CHAPTER XXIV. THE INTERRUPTED MASS \\n\\nThe mor...</td>\n",
              "      <td>[{'input_text': 'Who arrived at the church?', ...</td>\n",
              "      <td>[{'span_start': 254, 'span_end': 297, 'span_te...</td>\n",
              "    </tr>\n",
              "  </tbody>\n",
              "</table>\n",
              "</div>\n",
              "      <button class=\"colab-df-convert\" onclick=\"convertToInteractive('df-775cd0f2-bc77-48a1-a73f-399b2c4c7bf8')\"\n",
              "              title=\"Convert this dataframe to an interactive table.\"\n",
              "              style=\"display:none;\">\n",
              "        \n",
              "  <svg xmlns=\"http://www.w3.org/2000/svg\" height=\"24px\"viewBox=\"0 0 24 24\"\n",
              "       width=\"24px\">\n",
              "    <path d=\"M0 0h24v24H0V0z\" fill=\"none\"/>\n",
              "    <path d=\"M18.56 5.44l.94 2.06.94-2.06 2.06-.94-2.06-.94-.94-2.06-.94 2.06-2.06.94zm-11 1L8.5 8.5l.94-2.06 2.06-.94-2.06-.94L8.5 2.5l-.94 2.06-2.06.94zm10 10l.94 2.06.94-2.06 2.06-.94-2.06-.94-.94-2.06-.94 2.06-2.06.94z\"/><path d=\"M17.41 7.96l-1.37-1.37c-.4-.4-.92-.59-1.43-.59-.52 0-1.04.2-1.43.59L10.3 9.45l-7.72 7.72c-.78.78-.78 2.05 0 2.83L4 21.41c.39.39.9.59 1.41.59.51 0 1.02-.2 1.41-.59l7.78-7.78 2.81-2.81c.8-.78.8-2.07 0-2.86zM5.41 20L4 18.59l7.72-7.72 1.47 1.35L5.41 20z\"/>\n",
              "  </svg>\n",
              "      </button>\n",
              "      \n",
              "  <style>\n",
              "    .colab-df-container {\n",
              "      display:flex;\n",
              "      flex-wrap:wrap;\n",
              "      gap: 12px;\n",
              "    }\n",
              "\n",
              "    .colab-df-convert {\n",
              "      background-color: #E8F0FE;\n",
              "      border: none;\n",
              "      border-radius: 50%;\n",
              "      cursor: pointer;\n",
              "      display: none;\n",
              "      fill: #1967D2;\n",
              "      height: 32px;\n",
              "      padding: 0 0 0 0;\n",
              "      width: 32px;\n",
              "    }\n",
              "\n",
              "    .colab-df-convert:hover {\n",
              "      background-color: #E2EBFA;\n",
              "      box-shadow: 0px 1px 2px rgba(60, 64, 67, 0.3), 0px 1px 3px 1px rgba(60, 64, 67, 0.15);\n",
              "      fill: #174EA6;\n",
              "    }\n",
              "\n",
              "    [theme=dark] .colab-df-convert {\n",
              "      background-color: #3B4455;\n",
              "      fill: #D2E3FC;\n",
              "    }\n",
              "\n",
              "    [theme=dark] .colab-df-convert:hover {\n",
              "      background-color: #434B5C;\n",
              "      box-shadow: 0px 1px 3px 1px rgba(0, 0, 0, 0.15);\n",
              "      filter: drop-shadow(0px 1px 2px rgba(0, 0, 0, 0.3));\n",
              "      fill: #FFFFFF;\n",
              "    }\n",
              "  </style>\n",
              "\n",
              "      <script>\n",
              "        const buttonEl =\n",
              "          document.querySelector('#df-775cd0f2-bc77-48a1-a73f-399b2c4c7bf8 button.colab-df-convert');\n",
              "        buttonEl.style.display =\n",
              "          google.colab.kernel.accessAllowed ? 'block' : 'none';\n",
              "\n",
              "        async function convertToInteractive(key) {\n",
              "          const element = document.querySelector('#df-775cd0f2-bc77-48a1-a73f-399b2c4c7bf8');\n",
              "          const dataTable =\n",
              "            await google.colab.kernel.invokeFunction('convertToInteractive',\n",
              "                                                     [key], {});\n",
              "          if (!dataTable) return;\n",
              "\n",
              "          const docLinkHtml = 'Like what you see? Visit the ' +\n",
              "            '<a target=\"_blank\" href=https://colab.research.google.com/notebooks/data_table.ipynb>data table notebook</a>'\n",
              "            + ' to learn more about interactive tables.';\n",
              "          element.innerHTML = '';\n",
              "          dataTable['output_type'] = 'display_data';\n",
              "          await google.colab.output.renderOutput(dataTable, element);\n",
              "          const docLink = document.createElement('div');\n",
              "          docLink.innerHTML = docLinkHtml;\n",
              "          element.appendChild(docLink);\n",
              "        }\n",
              "      </script>\n",
              "    </div>\n",
              "  </div>\n",
              "  "
            ]
          },
          "metadata": {},
          "execution_count": 7
        }
      ],
      "source": [
        "df_train.head()"
      ]
    },
    {
      "cell_type": "markdown",
      "id": "9cd3b662",
      "metadata": {
        "id": "9cd3b662"
      },
      "source": [
        "At this point we can split the dataset in training and validation as stated in the assignment, we do that operation here because the questions are still grouped in dialogues therefore we put all the questions from one dialogue either in validation or in the training set, as specified in ***Task 2***."
      ]
    },
    {
      "cell_type": "code",
      "source": [
        "seeds = [42, 2022, 1337]\n",
        "\n",
        "def set_reproducibility(seed):\n",
        "    random.seed(seed)\n",
        "    np.random.seed(seed)\n",
        "    tf.random.set_seed(seed)\n",
        "    os.environ['TF_DETERMINISTIC_OPS'] = '1'"
      ],
      "metadata": {
        "id": "IGstSaVRpVLh"
      },
      "id": "IGstSaVRpVLh",
      "execution_count": 8,
      "outputs": []
    },
    {
      "cell_type": "code",
      "source": [
        "def split_train_validation(df: pd.DataFrame, val_size: float=0.2) -> typing.Tuple[pd.DataFrame, pd.DataFrame]:\n",
        "    '''\n",
        "        It takes as input a dataframe and it splits it in 2 dataframes considering the \n",
        "        'val_size' parameter. \n",
        "    '''\n",
        "\n",
        "    validation = df.sample(frac=val_size) \n",
        "    training = df.drop(validation.index)\n",
        "\n",
        "    assert training is not None, \"The dataframe is None\"\n",
        "    # It shuffles the training set dialogues\n",
        "    training = training.sample(frac=1)\n",
        "\n",
        "    return training.reset_index(drop=True), validation.reset_index(drop=True)"
      ],
      "metadata": {
        "id": "AK-cFhGWwTvv"
      },
      "id": "AK-cFhGWwTvv",
      "execution_count": 9,
      "outputs": []
    },
    {
      "cell_type": "markdown",
      "source": [
        "Before splitting the training data in training and validation set we set the seed 42 for the reproducibility as requested."
      ],
      "metadata": {
        "id": "6u_lmheKo0vK"
      },
      "id": "6u_lmheKo0vK"
    },
    {
      "cell_type": "code",
      "execution_count": 10,
      "id": "a63f6ff1",
      "metadata": {
        "colab": {
          "base_uri": "https://localhost:8080/"
        },
        "id": "a63f6ff1",
        "outputId": "e62ed84a-73cc-4a4e-c647-1eaef4a1b71b"
      },
      "outputs": [
        {
          "output_type": "stream",
          "name": "stdout",
          "text": [
            "The dimensions of the datasets are:\n",
            "Training dataset -> (5759, 3) - Validation dataset -> (1440, 3)\n"
          ]
        }
      ],
      "source": [
        "set_reproducibility(seeds[0])\n",
        "df_train, df_val = split_train_validation(df_train, 0.2)\n",
        "print(f\"The dimensions of the datasets are:\\n\"\n",
        "     f\"Training dataset -> {df_train.shape} - Validation dataset -> {df_val.shape}\")"
      ]
    },
    {
      "cell_type": "markdown",
      "source": [
        "We still have to unpack the array of questions and answers in order to create a row for each single element and we need to remove the unanswerable questions from the data.\n",
        "- The first function is a helper that allows us to create different rows of a DataFrame from a list of questions. \n",
        "- The second one is used to remove the unanswerable questions from the data, a question is ***unanswerable*** if the 'span_start' feature is -1."
      ],
      "metadata": {
        "id": "JD_WpQG4pOGS"
      },
      "id": "JD_WpQG4pOGS"
    },
    {
      "cell_type": "code",
      "execution_count": 11,
      "id": "be70ee1a",
      "metadata": {
        "id": "be70ee1a"
      },
      "outputs": [],
      "source": [
        "def expand_lists(df: pd.DataFrame, to_drop: typing.List[str]=[]) -> pd.DataFrame:\n",
        "    '''\n",
        "        Given a Pandas dataframe it returns a new dataframe with the expansion of\n",
        "        the questions and the answers and removing the desired columns.\n",
        "    '''\n",
        "    # Create a dictionary with the story and the other features for each question\n",
        "    questions = [{'story':df.story[i], **quest} for i, lis in enumerate(df.questions) for quest in lis]\n",
        "    answers = [ans for lis in df.answers for ans in lis]\n",
        "\n",
        "    # Create a DataFrame from the previous dictionaries and remove useless features\n",
        "    X = pd.DataFrame.from_dict(questions, orient=\"columns\").drop(to_drop, axis=1)\n",
        "    y = pd.DataFrame.from_dict(answers, orient=\"columns\").drop(to_drop, axis=1)\n",
        "\n",
        "    assert X is not None and y is not None, \"The dataframe is None\"\n",
        "    \n",
        "    X.rename(columns={'input_text':'questions'}, inplace=True)\n",
        "    y.rename(columns={'input_text':'answers'}, inplace=True)\n",
        "    \n",
        "    return pd.concat([X, y], axis=1)\n",
        "\n",
        "\n",
        "def remove_unanswerable(df: pd.DataFrame, verbose:bool=True) -> pd.DataFrame:\n",
        "    '''\n",
        "        It removes the unanswerable questions from the passed DataFrame\n",
        "        removing the elements with 'span_start' < 0\n",
        "    '''\n",
        "\n",
        "    target = 'span_start'\n",
        "    if target not in df.columns:\n",
        "        print(\n",
        "            \"WARNING: the DataFrame doesn't have the 'span_start' column, the\"\n",
        "            \" function will return the DataFrame without changes.\"\n",
        "            )\n",
        "        return df\n",
        "        \n",
        "    uns_rows = df[target] > 0\n",
        "    if verbose:\n",
        "        print(\n",
        "            f\"{len(df) - len(df[uns_rows])} unanswerable questions has been removed\"\n",
        "             \" from the DataFrame.\"\n",
        "            )\n",
        "    return df[uns_rows].reset_index(drop=True)"
      ]
    },
    {
      "cell_type": "markdown",
      "source": [
        "In order to make the code as ordered as possible we implemented a unique function for the preprocessing that we need to apply on the different DataFrames. It simply calls the 2 previous functions on the passed DataFrame, it removes the features about the spans and it returns the new DataFrame."
      ],
      "metadata": {
        "id": "u1ufKLEVpgE8"
      },
      "id": "u1ufKLEVpgE8"
    },
    {
      "cell_type": "code",
      "execution_count": 12,
      "id": "VEPGym-Q-d6K",
      "metadata": {
        "id": "VEPGym-Q-d6K"
      },
      "outputs": [],
      "source": [
        "def data_preprocessing(df: pd.DataFrame, to_drop: typing.List[str]=[]) -> pd.DataFrame:\n",
        "    '''\n",
        "        This function creates a DataFrame with a column for the 'story', one\n",
        "        for the 'questions' and another for the 'answers' and it removes the\n",
        "        unanswerable questions.\n",
        "        Parameters:\n",
        "            - df : pd.DataFrame\n",
        "                The structure on which performing the operations.\n",
        "            - to_drop: list[str]\n",
        "                The names of the columns to drop.\n",
        "                \n",
        "        Returns:\n",
        "            pandas.Dataframe\n",
        "                The modified dataframe.\n",
        "    '''\n",
        "    new_df = expand_lists(df, to_drop)\n",
        "    new_df = remove_unanswerable(new_df)\n",
        "\n",
        "    span_feat = ['span_start', 'span_end', 'span_text']\n",
        "    new_df.drop(span_feat, axis=1, inplace=True)\n",
        "\n",
        "    return new_df"
      ]
    },
    {
      "cell_type": "code",
      "execution_count": 13,
      "id": "6e6f82ee",
      "metadata": {
        "colab": {
          "base_uri": "https://localhost:8080/"
        },
        "id": "6e6f82ee",
        "outputId": "f063ac50-d3ca-46c1-c4be-9c83dfd13829"
      },
      "outputs": [
        {
          "output_type": "stream",
          "name": "stdout",
          "text": [
            "3490 unanswerable questions has been removed from the DataFrame.\n",
            "900 unanswerable questions has been removed from the DataFrame.\n",
            "288 unanswerable questions has been removed from the DataFrame.\n",
            "\n",
            "The training set has 83408 samples, the validation set has 20849 samplesand the test set has 7695 samples.\n"
          ]
        }
      ],
      "source": [
        "df_train = data_preprocessing(df_train, to_drop=['turn_id', 'bad_turn'])\n",
        "df_val = data_preprocessing(df_val, to_drop=['turn_id', 'bad_turn'])\n",
        "df_test = data_preprocessing(df_test, to_drop=['turn_id'])\n",
        "\n",
        "print(f\"\\nThe training set has {len(df_train)} samples, the validation set has {len(df_val)} samples\"\n",
        "      f\"and the test set has {len(df_test)} samples.\")"
      ]
    },
    {
      "cell_type": "markdown",
      "id": "aWpccDgqEVbs",
      "metadata": {
        "id": "aWpccDgqEVbs"
      },
      "source": [
        "At this moment the DataFrame looks like this:"
      ]
    },
    {
      "cell_type": "code",
      "execution_count": 14,
      "id": "ahNnLLGVEU6p",
      "metadata": {
        "colab": {
          "base_uri": "https://localhost:8080/",
          "height": 206
        },
        "id": "ahNnLLGVEU6p",
        "outputId": "ba812984-3a43-4c16-b0d6-2684a3722662"
      },
      "outputs": [
        {
          "output_type": "execute_result",
          "data": {
            "text/plain": [
              "                                               story  \\\n",
              "0  CHAPTER III. \\n\\nTHE NIGHT-WATCHERS. \\n\\nWhat ...   \n",
              "1  CHAPTER III. \\n\\nTHE NIGHT-WATCHERS. \\n\\nWhat ...   \n",
              "2  CHAPTER III. \\n\\nTHE NIGHT-WATCHERS. \\n\\nWhat ...   \n",
              "3  CHAPTER III. \\n\\nTHE NIGHT-WATCHERS. \\n\\nWhat ...   \n",
              "4  CHAPTER III. \\n\\nTHE NIGHT-WATCHERS. \\n\\nWhat ...   \n",
              "\n",
              "                              questions  \\\n",
              "0  What color is the top of the church?   \n",
              "1                          Is it short?   \n",
              "2                   Who behaves better?   \n",
              "3                                  Why?   \n",
              "4                   Who killed himself?   \n",
              "\n",
              "                                             answers  \n",
              "0                                              green  \n",
              "1                                                 No  \n",
              "2                          the back of the Tenements  \n",
              "3  Every back window in the Tenements has a glint...  \n",
              "4                                            Beattie  "
            ],
            "text/html": [
              "\n",
              "  <div id=\"df-97bf7382-4ae9-46e9-a701-8de401c2d8b4\">\n",
              "    <div class=\"colab-df-container\">\n",
              "      <div>\n",
              "<style scoped>\n",
              "    .dataframe tbody tr th:only-of-type {\n",
              "        vertical-align: middle;\n",
              "    }\n",
              "\n",
              "    .dataframe tbody tr th {\n",
              "        vertical-align: top;\n",
              "    }\n",
              "\n",
              "    .dataframe thead th {\n",
              "        text-align: right;\n",
              "    }\n",
              "</style>\n",
              "<table border=\"1\" class=\"dataframe\">\n",
              "  <thead>\n",
              "    <tr style=\"text-align: right;\">\n",
              "      <th></th>\n",
              "      <th>story</th>\n",
              "      <th>questions</th>\n",
              "      <th>answers</th>\n",
              "    </tr>\n",
              "  </thead>\n",
              "  <tbody>\n",
              "    <tr>\n",
              "      <th>0</th>\n",
              "      <td>CHAPTER III. \\n\\nTHE NIGHT-WATCHERS. \\n\\nWhat ...</td>\n",
              "      <td>What color is the top of the church?</td>\n",
              "      <td>green</td>\n",
              "    </tr>\n",
              "    <tr>\n",
              "      <th>1</th>\n",
              "      <td>CHAPTER III. \\n\\nTHE NIGHT-WATCHERS. \\n\\nWhat ...</td>\n",
              "      <td>Is it short?</td>\n",
              "      <td>No</td>\n",
              "    </tr>\n",
              "    <tr>\n",
              "      <th>2</th>\n",
              "      <td>CHAPTER III. \\n\\nTHE NIGHT-WATCHERS. \\n\\nWhat ...</td>\n",
              "      <td>Who behaves better?</td>\n",
              "      <td>the back of the Tenements</td>\n",
              "    </tr>\n",
              "    <tr>\n",
              "      <th>3</th>\n",
              "      <td>CHAPTER III. \\n\\nTHE NIGHT-WATCHERS. \\n\\nWhat ...</td>\n",
              "      <td>Why?</td>\n",
              "      <td>Every back window in the Tenements has a glint...</td>\n",
              "    </tr>\n",
              "    <tr>\n",
              "      <th>4</th>\n",
              "      <td>CHAPTER III. \\n\\nTHE NIGHT-WATCHERS. \\n\\nWhat ...</td>\n",
              "      <td>Who killed himself?</td>\n",
              "      <td>Beattie</td>\n",
              "    </tr>\n",
              "  </tbody>\n",
              "</table>\n",
              "</div>\n",
              "      <button class=\"colab-df-convert\" onclick=\"convertToInteractive('df-97bf7382-4ae9-46e9-a701-8de401c2d8b4')\"\n",
              "              title=\"Convert this dataframe to an interactive table.\"\n",
              "              style=\"display:none;\">\n",
              "        \n",
              "  <svg xmlns=\"http://www.w3.org/2000/svg\" height=\"24px\"viewBox=\"0 0 24 24\"\n",
              "       width=\"24px\">\n",
              "    <path d=\"M0 0h24v24H0V0z\" fill=\"none\"/>\n",
              "    <path d=\"M18.56 5.44l.94 2.06.94-2.06 2.06-.94-2.06-.94-.94-2.06-.94 2.06-2.06.94zm-11 1L8.5 8.5l.94-2.06 2.06-.94-2.06-.94L8.5 2.5l-.94 2.06-2.06.94zm10 10l.94 2.06.94-2.06 2.06-.94-2.06-.94-.94-2.06-.94 2.06-2.06.94z\"/><path d=\"M17.41 7.96l-1.37-1.37c-.4-.4-.92-.59-1.43-.59-.52 0-1.04.2-1.43.59L10.3 9.45l-7.72 7.72c-.78.78-.78 2.05 0 2.83L4 21.41c.39.39.9.59 1.41.59.51 0 1.02-.2 1.41-.59l7.78-7.78 2.81-2.81c.8-.78.8-2.07 0-2.86zM5.41 20L4 18.59l7.72-7.72 1.47 1.35L5.41 20z\"/>\n",
              "  </svg>\n",
              "      </button>\n",
              "      \n",
              "  <style>\n",
              "    .colab-df-container {\n",
              "      display:flex;\n",
              "      flex-wrap:wrap;\n",
              "      gap: 12px;\n",
              "    }\n",
              "\n",
              "    .colab-df-convert {\n",
              "      background-color: #E8F0FE;\n",
              "      border: none;\n",
              "      border-radius: 50%;\n",
              "      cursor: pointer;\n",
              "      display: none;\n",
              "      fill: #1967D2;\n",
              "      height: 32px;\n",
              "      padding: 0 0 0 0;\n",
              "      width: 32px;\n",
              "    }\n",
              "\n",
              "    .colab-df-convert:hover {\n",
              "      background-color: #E2EBFA;\n",
              "      box-shadow: 0px 1px 2px rgba(60, 64, 67, 0.3), 0px 1px 3px 1px rgba(60, 64, 67, 0.15);\n",
              "      fill: #174EA6;\n",
              "    }\n",
              "\n",
              "    [theme=dark] .colab-df-convert {\n",
              "      background-color: #3B4455;\n",
              "      fill: #D2E3FC;\n",
              "    }\n",
              "\n",
              "    [theme=dark] .colab-df-convert:hover {\n",
              "      background-color: #434B5C;\n",
              "      box-shadow: 0px 1px 3px 1px rgba(0, 0, 0, 0.15);\n",
              "      filter: drop-shadow(0px 1px 2px rgba(0, 0, 0, 0.3));\n",
              "      fill: #FFFFFF;\n",
              "    }\n",
              "  </style>\n",
              "\n",
              "      <script>\n",
              "        const buttonEl =\n",
              "          document.querySelector('#df-97bf7382-4ae9-46e9-a701-8de401c2d8b4 button.colab-df-convert');\n",
              "        buttonEl.style.display =\n",
              "          google.colab.kernel.accessAllowed ? 'block' : 'none';\n",
              "\n",
              "        async function convertToInteractive(key) {\n",
              "          const element = document.querySelector('#df-97bf7382-4ae9-46e9-a701-8de401c2d8b4');\n",
              "          const dataTable =\n",
              "            await google.colab.kernel.invokeFunction('convertToInteractive',\n",
              "                                                     [key], {});\n",
              "          if (!dataTable) return;\n",
              "\n",
              "          const docLinkHtml = 'Like what you see? Visit the ' +\n",
              "            '<a target=\"_blank\" href=https://colab.research.google.com/notebooks/data_table.ipynb>data table notebook</a>'\n",
              "            + ' to learn more about interactive tables.';\n",
              "          element.innerHTML = '';\n",
              "          dataTable['output_type'] = 'display_data';\n",
              "          await google.colab.output.renderOutput(dataTable, element);\n",
              "          const docLink = document.createElement('div');\n",
              "          docLink.innerHTML = docLinkHtml;\n",
              "          element.appendChild(docLink);\n",
              "        }\n",
              "      </script>\n",
              "    </div>\n",
              "  </div>\n",
              "  "
            ]
          },
          "metadata": {},
          "execution_count": 14
        }
      ],
      "source": [
        "df_train.head()"
      ]
    },
    {
      "cell_type": "markdown",
      "id": "yDRKGGZhhDYh",
      "metadata": {
        "id": "yDRKGGZhhDYh"
      },
      "source": [
        "## Model implementation and data tokenization [TASK 3, TASK 4, TASK 5]"
      ]
    },
    {
      "cell_type": "markdown",
      "id": "RIIrgApsE0LM",
      "metadata": {
        "id": "RIIrgApsE0LM"
      },
      "source": [
        "In order to train the encoder-decoder architecture we have to tokenize the samples such that we can give numbers as input to the network.\n",
        "\n",
        "In our case we will use the tokenizer of the relative pre-trained model."
      ]
    },
    {
      "cell_type": "code",
      "execution_count": null,
      "id": "86ih3U7eVgy2",
      "metadata": {
        "id": "86ih3U7eVgy2"
      },
      "outputs": [],
      "source": [
        "!pip install transformers -q\n",
        "!pip install datasets -q\n",
        "import datasets"
      ]
    },
    {
      "cell_type": "markdown",
      "source": [
        "### Load the pre-trained model and tokenizer"
      ],
      "metadata": {
        "id": "icicV7K0sEzm"
      },
      "id": "icicV7K0sEzm"
    },
    {
      "cell_type": "code",
      "source": [
        "from typing import Optional, Union, List, Tuple, Dict\n",
        "\n",
        "from datasets.arrow_dataset import Dataset\n",
        "from transformers import TFEncoderDecoderModel, AutoTokenizer\n",
        "\n",
        "from keras.optimizers import Adam"
      ],
      "metadata": {
        "id": "p-v8bD-1sP7i"
      },
      "id": "p-v8bD-1sP7i",
      "execution_count": 16,
      "outputs": []
    },
    {
      "cell_type": "code",
      "source": [
        "#from google.colab import drive\n",
        "#drive.mount('/content/drive')\n",
        "\n",
        "drive_weights_path = \"/content/drive/MyDrive/weights_NLP_assignments/\"\n",
        "drive_tokenized_path = \"/content/drive/MyDrive/weights_NLP_assignments/tok_data/\"\n",
        "\n",
        "bertiny_name = \"prajjwal1/bert-tiny\"\n",
        "roberta_name = \"distilroberta-base\""
      ],
      "metadata": {
        "id": "5OH0olNXsTF2"
      },
      "id": "5OH0olNXsTF2",
      "execution_count": null,
      "outputs": []
    },
    {
      "cell_type": "markdown",
      "source": [
        "We implemented a function to import the tokenizer and the model from a pre-saved model or directly from Huggingface if no path is passed."
      ],
      "metadata": {
        "id": "mrMByUePtCjm"
      },
      "id": "mrMByUePtCjm"
    },
    {
      "cell_type": "code",
      "source": [
        "def check_pretrained_path(path: str) -> bool:\n",
        "    '''\n",
        "        It checks if the config.json file exists in the current path.\n",
        "    '''\n",
        "    config_file = os.path.join(path, 'config.json')\n",
        "    return os.path.exists(config_file)\n",
        "\n",
        "\n",
        "def import_model_tokenizer(name: str=\"distilroberta-base\", load_weights: Optional[str]=None)->tuple:\n",
        "    '''\n",
        "        It imports the tokenizer and the model specified from the 'name' parameter.\n",
        "        If a path in 'load_weigths' is specified then it imports the model from\n",
        "        a pre-saved file.\n",
        "        Parameters:\n",
        "            - name: str\n",
        "                The name of the model we want to import, it must exist in the\n",
        "                Huggingface database.\n",
        "            - load_weights: str | None\n",
        "                The path to a directory that contains the config file and the \n",
        "                .h5 file for loading a pre-saved model.\n",
        "        \n",
        "        Returns:\n",
        "            - tuple\n",
        "                It returns the desired tokenizer and the imported model.\n",
        "    '''\n",
        "    tokenizer = AutoTokenizer.from_pretrained(name)\n",
        "    enc_from_pt = False\n",
        "\n",
        "    # If a path has been passed\n",
        "    if load_weights != None:\n",
        "        mod_name = name.split('/')[-1]\n",
        "        full_path = os.path.join(drive_weights_path, mod_name, load_weights)\n",
        "        if check_pretrained_path(full_path):\n",
        "            model = TFEncoderDecoderModel.from_pretrained(full_path)\n",
        "        else:\n",
        "            print(\"ERROR: Check if a config.json file exists in the given path.\")\n",
        "            return None, None\n",
        "    else:\n",
        "        if name != \"distilroberta-base\":\n",
        "            enc_from_pt = True\n",
        "\n",
        "        model = TFEncoderDecoderModel.from_encoder_decoder_pretrained(\n",
        "            name, name, encoder_from_pt=enc_from_pt, decoder_from_pt=enc_from_pt\n",
        "        )\n",
        "        model.config.decoder_start_token_id = tokenizer.cls_token_id\n",
        "        model.config.pad_token_id = tokenizer.pad_token_id\n",
        "        model.config_eos_token_id = tokenizer.sep_token_id\n",
        "        model.config.vocab_size = model.config.encoder.vocab_size\n",
        "\n",
        "\n",
        "\n",
        "    return tokenizer, model"
      ],
      "metadata": {
        "id": "usyK7nEHsZBK"
      },
      "id": "usyK7nEHsZBK",
      "execution_count": null,
      "outputs": []
    },
    {
      "cell_type": "code",
      "source": [
        "tokenizer, model = import_model_tokenizer(bertiny_name)#, load_weights='full_no_history')"
      ],
      "metadata": {
        "id": "FCQ8VSepsk3v"
      },
      "id": "FCQ8VSepsk3v",
      "execution_count": null,
      "outputs": []
    },
    {
      "cell_type": "markdown",
      "source": [
        "### Tokenization function and history creation"
      ],
      "metadata": {
        "id": "C4RB6BoVsmgO"
      },
      "id": "C4RB6BoVsmgO"
    },
    {
      "cell_type": "markdown",
      "source": [
        "The following function is needed to create the history for each sample, the history is composed by the 'story' of the question and all the questions and answers from the previous rows.\n",
        "The function has 3 main steps:\n",
        "- we group by 'story' in order to consider the samples belonging to the same dialogue; we create a new column 'history' in the DataFrame where we put for each line the concatenation of answer and question of the successive row. This because the first element of the history for each question is the previous one, so we need to shift by 1 such that we avoid to put the current question and answer in the history as well.\n",
        "- Now, after having grouped by 'story' again, we apply the function *cumulative sum*, it sums the previous rows of the same group to the current one.\n",
        "- As last step we sum the 'story' to the computed history and we return the DataFrame with the new column."
      ],
      "metadata": {
        "id": "4LQqckhmB9Nt"
      },
      "id": "4LQqckhmB9Nt"
    },
    {
      "cell_type": "code",
      "source": [
        "def create_history(df: pd.DataFrame, group: str='story') -> pd.DataFrame:\n",
        "    '''\n",
        "        This function returns the dataframe with a new column 'history' which\n",
        "        contains the sum of the story and all the questions and answers within\n",
        "        the same context, not considering the current sample.\n",
        "        Parameters:\n",
        "            - df: pd.DataFrame\n",
        "                The dataframe from which the function takes the data.\n",
        "            - group: str\n",
        "                The column to consider for the groupby operation.\n",
        "        \n",
        "        Returns:\n",
        "            - pd.DataFrame\n",
        "                The DataFrame with the new column added. \n",
        "    '''\n",
        "    new_df = df.copy()\n",
        "    sum_columns = lambda x: x.questions + ' ' + x.answers + ' '\n",
        "    # If the story has a white space at the end, we don't need to add it\n",
        "    def sum_ctx_history(row):\n",
        "        space = \" \"\n",
        "        if row.story[-1].isspace():\n",
        "            space = \"\"\n",
        "        return row.story + space + row.history\n",
        "\n",
        "    print(\"START: Creating the history column for the dataset...\")\n",
        "    # Returns a new column that contains for each sample the sum of the\n",
        "    # question and the context\n",
        "    new_df['history'] = new_df.groupby(group, axis=0, sort=False) \\\n",
        "                            .shift(fill_value='') \\\n",
        "                            .apply(sum_columns, axis=1)\n",
        "\n",
        "    # Sum the history up to the previous question for each sample\n",
        "    new_df['history'] = new_df.groupby(group, axis=0, sort=False)['history'] \\\n",
        "                            .apply(lambda x: x.cumsum()).str.strip()\n",
        "\n",
        "    new_df['history'] = new_df.apply(sum_ctx_history, axis=1)\n",
        "\n",
        "    print(\"END: The column for the history has been added to the dataset.\")\n",
        "    return new_df"
      ],
      "metadata": {
        "id": "fFPB_4uXCBIo"
      },
      "id": "fFPB_4uXCBIo",
      "execution_count": 16,
      "outputs": []
    },
    {
      "cell_type": "markdown",
      "source": [
        "The following functions are used to compute the tokenized answers and the tokenization of each question + the relative context (story / history). The function has a parameter that checks if the history needs to be created, if this is the case the previous function 'create_history' is called and the successive operations are performed with the new dataset.\n",
        "\n",
        "We decided to create batch of samples from the passed dataset in order to avoid the consumption of the RAM, even if we also give the possibiity to save the tokenized data in a .json file in a Drive directory, to make the loading of the data faster.   "
      ],
      "metadata": {
        "id": "XAX8TSBqCCXi"
      },
      "id": "XAX8TSBqCCXi"
    },
    {
      "cell_type": "code",
      "source": [
        "def apply_reduce(data, func):\n",
        "    '''\n",
        "        Apply the function on a list of elements concatenating the samples with \n",
        "        the previous results (as the reduce).\n",
        "    '''\n",
        "    res = data.pop(0)\n",
        "    for el in data:\n",
        "        res = func((res, el))\n",
        "    return res"
      ],
      "metadata": {
        "id": "P9L8DQnw8QnH"
      },
      "id": "P9L8DQnw8QnH",
      "execution_count": 17,
      "outputs": []
    },
    {
      "cell_type": "code",
      "execution_count": 18,
      "id": "U1pTuqZ1FwWX",
      "metadata": {
        "id": "U1pTuqZ1FwWX"
      },
      "outputs": [],
      "source": [
        "def tokenize_samples(dataset: datasets.arrow_dataset.Dataset, tokenizer, max_embed_quest: int=512,\n",
        "                     max_embed_answ: int=30, mode: Optional[str]='np', with_history: bool=False, \n",
        "                     batch_size: int=1024)->tuple:\n",
        "    '''\n",
        "        This function returns a dictionary with the outputs of the tokenizer.\n",
        "        As input we refer to the concatenation of the quesions with the relative\n",
        "        contexts and we need both tokenization and attention mask. For the\n",
        "        answers we only need the tokenization.\n",
        "        Parameters:\n",
        "            - dataset: datasets.arrow_dataset.Dataset\n",
        "                The dataset from which the function takes the data.\n",
        "            - max_embed_quest: int\n",
        "                The maximum length for the sequence context + questions, in our \n",
        "                case is 512.\n",
        "            - max_embed_answ: int\n",
        "                The maximum length for the tokenized answers.\n",
        "            - mode: bool\n",
        "                Wheter the tokenizer could return the outputs as lists of python\n",
        "                integers, 'tf' tensors, 'np' arrays or 'pt' for pytorch tensors.\n",
        "            - with_history: bool\n",
        "                If True then we concatenate the question with the history instead \n",
        "                of the simple context.\n",
        "            - batch_size: int\n",
        "                The batch size to use in for computing the tokenization.\n",
        "        Returns:\n",
        "            - tuple\n",
        "                A tuple with the tokenized questions+contexts, their relative\n",
        "                attention masks and the tokenized answers.\n",
        "                If 'with_history' is True it also returns the new dataset\n",
        "                with the history, the passed dataset otherwise.\n",
        "    '''\n",
        "    if with_history:\n",
        "        pandas_dataset = dataset.to_pandas()\n",
        "        assert isinstance(pandas_dataset, pd.DataFrame)\n",
        "\n",
        "        new_dataset = Dataset.from_pandas(create_history(pandas_dataset))\n",
        "        context = new_dataset[\"history\"]\n",
        "    else:\n",
        "        new_dataset = dataset\n",
        "        context = dataset['story']\n",
        "\n",
        "    ids = []\n",
        "    masks = []\n",
        "    ys = []\n",
        "\n",
        "    num_steps = len(new_dataset) // batch_size\n",
        "    last_batch_size = len(new_dataset) - (batch_size*num_steps)\n",
        "\n",
        "    for i in range(num_steps+1):\n",
        "        start = batch_size * i\n",
        "        # If we are in the last batch and it's > 0\n",
        "        if i >= num_steps:\n",
        "            if last_batch_size > 0:\n",
        "                batch_size = last_batch_size\n",
        "            else:\n",
        "                break\n",
        "\n",
        "        # Take a batch of samples\n",
        "        batch_quest = new_dataset['questions'][start:start+batch_size]\n",
        "        batch_ctx = context[start:start+batch_size]\n",
        "        batch_answ = new_dataset['answers'][start:start+batch_size]\n",
        "        \n",
        "        # Tokenize the batch\n",
        "        x_tok_batch = tokenizer(\n",
        "            batch_quest,\n",
        "            batch_ctx,\n",
        "            max_length=max_embed_quest,\n",
        "            truncation=\"only_second\",\n",
        "            padding=\"max_length\",\n",
        "            return_tensors=mode,\n",
        "            return_token_type_ids=False\n",
        "        )\n",
        "        y_tok_batch = tokenizer(\n",
        "            batch_answ,\n",
        "            max_length=max_embed_answ,\n",
        "            truncation=True,\n",
        "            padding=\"max_length\",\n",
        "            return_tensors=mode,\n",
        "            return_token_type_ids=False\n",
        "        )\n",
        "        # Create 3 lists for the results\n",
        "        ids.append(x_tok_batch['input_ids'])\n",
        "        masks.append(x_tok_batch['attention_mask'])\n",
        "        ys.append(y_tok_batch['input_ids'])\n",
        "    \n",
        "    # Merge the results of the different batches concatenating them\n",
        "    X_tok = {'input_ids': apply_reduce(ids, np.concatenate), \n",
        "             'attention_mask': apply_reduce(masks, np.concatenate)}\n",
        "    y_tok = apply_reduce(ys, np.concatenate)\n",
        "    \n",
        "    return X_tok, y_tok, new_dataset"
      ]
    },
    {
      "cell_type": "markdown",
      "source": [
        "### EXPERIMENTAL TOKENIZATION AND BATCH\n",
        "\n",
        "I implemented an alternative version of the function in which I use the map built-in function to tokenize in batch the datasets. It's less efficient but the code is more readable"
      ],
      "metadata": {
        "id": "pGrX37BsSQaM"
      },
      "id": "pGrX37BsSQaM"
    },
    {
      "cell_type": "code",
      "source": [
        "def apply_tok(sample, tokenizer, ctx='story', max_embed=512, max_embed_answ=30):\n",
        "    '''\n",
        "        The function that will be applied to all the rows of the dataset.\n",
        "    '''\n",
        "    x_tok_batch = tokenizer(\n",
        "        sample['questions'],\n",
        "        sample[ctx],\n",
        "        max_length=max_embed,\n",
        "        truncation=\"only_second\",\n",
        "        padding=\"max_length\",\n",
        "        return_tensors='np',\n",
        "        return_token_type_ids=False\n",
        "    )\n",
        "    y_tok_batch = tokenizer(\n",
        "        sample['answers'],\n",
        "        max_length=max_embed_answ,\n",
        "        truncation=True,\n",
        "        padding=\"max_length\",\n",
        "        return_tensors='np',\n",
        "        return_token_type_ids=False\n",
        "    )\n",
        "    return {'input_ids':x_tok_batch['input_ids'],'attention_mask':x_tok_batch['attention_mask'],\n",
        "            'tok_answers':y_tok_batch['input_ids']}\n",
        "\n",
        "\n",
        "def experimental_tok(dataset: datasets.arrow_dataset.Dataset, tokenizer, max_embed_quest: int=512,\n",
        "            max_embed_answ: int=30, mode: Optional[str]='np', with_history: bool=False, \n",
        "            batch_size: int=1024):\n",
        "    '''\n",
        "        An alternative tokenization function.\n",
        "    '''\n",
        "    \n",
        "    if with_history:\n",
        "        pandas_dataset = dataset.to_pandas()\n",
        "        assert isinstance(pandas_dataset, pd.DataFrame)\n",
        "\n",
        "        new_dataset = Dataset.from_pandas(create_history(pandas_dataset))\n",
        "        context = \"history\"\n",
        "    else:\n",
        "        new_dataset = dataset\n",
        "        context = 'story'\n",
        "\n",
        "    tok_ds = new_dataset.map(apply_tok, batched=True, batch_size=batch_size, \n",
        "                        fn_kwargs={'tokenizer': tokenizer, 'ctx': context, \n",
        "                                   'max_embed':max_embed_quest, \n",
        "                                   'max_embed_answ': max_embed_answ}\n",
        "                             )\n",
        "    x_tok = {'input_ids': np.array(tok_ds['input_ids']), \n",
        "             'attention_mask': np.array(tok_ds['attention_mask'])}\n",
        "    y_tok = np.array(tok_ds['tok_answers'])\n",
        "\n",
        "    return x_tok, y_tok, new_dataset\n",
        "    "
      ],
      "metadata": {
        "id": "TaX6j6H2SZN_"
      },
      "id": "TaX6j6H2SZN_",
      "execution_count": null,
      "outputs": []
    },
    {
      "cell_type": "markdown",
      "source": [
        "### Tokenize data"
      ],
      "metadata": {
        "id": "b8EXn3NrYo6D"
      },
      "id": "b8EXn3NrYo6D"
    },
    {
      "cell_type": "markdown",
      "source": [
        "Actually before tokenization occurs we create the Dataset objects (Huggingface) from the DataFrames. Then the tokenization function returns as result a dictionary of numpy array ('input_ids' and 'attention_mask') that is used as input for the model and a numpy array for the tokenized answers."
      ],
      "metadata": {
        "id": "BaahRWYRyeML"
      },
      "id": "BaahRWYRyeML"
    },
    {
      "cell_type": "code",
      "source": [
        "dataset_train = Dataset.from_pandas(df_train)\n",
        "dataset_val = Dataset.from_pandas(df_val)\n",
        "dataset_test = Dataset.from_pandas(df_test)"
      ],
      "metadata": {
        "id": "CSDEDS1XzjXQ"
      },
      "id": "CSDEDS1XzjXQ",
      "execution_count": null,
      "outputs": []
    },
    {
      "cell_type": "markdown",
      "source": [
        "#### Load pre-saved tokenized data"
      ],
      "metadata": {
        "id": "f60g6Nu2z8QE"
      },
      "id": "f60g6Nu2z8QE"
    },
    {
      "cell_type": "markdown",
      "source": [
        "If you prefer to load the tokenized data from .json files. \n",
        "\n",
        "The .json files, one for training, validation and test, contain:\n",
        "- 'input_ids': the tokenization of the concatenation of the answer and the context (+ the history if selected);\n",
        "- 'attention_mask': the attention masks for the input_ids;\n",
        "- 'labels': the target arrays that represent the tokenized answers.\n"
      ],
      "metadata": {
        "id": "Vso3dvQv2aBE"
      },
      "id": "Vso3dvQv2aBE"
    },
    {
      "cell_type": "code",
      "source": [
        "def load_tokenized_dict(file_path: str) -> Union[Tuple[Dict, np.ndarray], Tuple[None, None]]:\n",
        "    '''\n",
        "        It load the .json file from the given path, it convert the lists to numpy\n",
        "        arrays and at the end it returns a dictionary with 'input_ids' and \n",
        "        'attention_mask' and the array of the tokenized answers.\n",
        "        Parameters:\n",
        "            - file_path: str\n",
        "                The path of the .json file from which we read the data.\n",
        "            \n",
        "        Returns:\n",
        "            - Tuple[Dict[np.ndarray, np.ndarray], np.ndarray] | Tuple[None, None]\n",
        "                A tuple, the dictionary with the 'input_ids' and the 'attention_mask'\n",
        "                numpy arrays if the path exists, None otherwise.\n",
        "    '''\n",
        "    if os.path.exists(file_path):\n",
        "        with open(file_path, 'r') as fin:\n",
        "            data = json.load(fin)\n",
        "        # It takes the labels and delete them from the dict\n",
        "        y_labels = data['labels']\n",
        "        del data['labels']\n",
        "\n",
        "        data['input_ids'] = np.array(data['input_ids'])\n",
        "        data['attention_mask'] = np.array(data['attention_mask'])\n",
        "\n",
        "        return data, np.array(y_labels) \n",
        "    else:\n",
        "        print(f\"ERROR: a file doesn't exist in the specified path: {file_path}.\")\n",
        "        return None, None"
      ],
      "metadata": {
        "id": "z2St3eHn0FT1"
      },
      "id": "z2St3eHn0FT1",
      "execution_count": null,
      "outputs": []
    },
    {
      "cell_type": "code",
      "source": [
        "#  Import the tokenized data from the json files\n",
        "load_dir = 'history'\n",
        "is_hist = '_hist' if load_dir=='history' else ''\n",
        "\n",
        "x_train, y_train = load_tokenized_dict(os.path.join(\n",
        "                    drive_tokenized_path, load_dir, f'train_tok{is_hist}.json'))\n",
        "\n",
        "x_val, y_val = load_tokenized_dict(os.path.join(\n",
        "                    drive_tokenized_path, load_dir, f'val_tok{is_hist}.json'))\n",
        "\n",
        "x_test, y_test = load_tokenized_dict(os.path.join(\n",
        "                    drive_tokenized_path, load_dir, f'test_tok{is_hist}.json'))"
      ],
      "metadata": {
        "id": "yjSYd91n0Hou"
      },
      "id": "yjSYd91n0Hou",
      "execution_count": null,
      "outputs": []
    },
    {
      "cell_type": "markdown",
      "source": [
        "#### Compute tokenization "
      ],
      "metadata": {
        "id": "Q7FiFQD0Yv-n"
      },
      "id": "Q7FiFQD0Yv-n"
    },
    {
      "cell_type": "code",
      "execution_count": null,
      "id": "6fJhsbxH04DJ",
      "metadata": {
        "id": "6fJhsbxH04DJ"
      },
      "outputs": [],
      "source": [
        "# Compute the tokenized data, if you specify a different dimension, only on a subset\n",
        "# of the dataset.\n",
        "train_samples = len(dataset_train)\n",
        "val_samples = len(dataset_val)\n",
        "history = True\n",
        "\n",
        "x_train, y_train, hist_train_dataset = tokenize_samples(\n",
        "    dataset_train.select(range(train_samples)),\n",
        "    tokenizer, with_history=history, batch_size=16384\n",
        "    )\n",
        "\n",
        "x_val, y_val, hist_val_dataset = tokenize_samples(\n",
        "    dataset_val.select(range(val_samples)),\n",
        "    tokenizer, with_history=history, batch_size=4096\n",
        "    )\n",
        "\n",
        "x_test, y_test, hist_test_dataset = tokenize_samples(\n",
        "    dataset_test, tokenizer, with_history=history, batch_size=1024\n",
        "    )"
      ]
    },
    {
      "cell_type": "markdown",
      "source": [
        "##### Save tokenized data in .json"
      ],
      "metadata": {
        "id": "5KDoYgi13amI"
      },
      "id": "5KDoYgi13amI"
    },
    {
      "cell_type": "code",
      "source": [
        "def save_tokenized_dict(x_data: dict, y_data: np.ndarray, file_path: str='./tokenized.json'):\n",
        "    '''\n",
        "        It saves the given data, a dictionary with 'input_ids' and \n",
        "        'attention_mask', as a .json file in the given_path. The values in the\n",
        "        x_data needs to be numpy arrays otherwise an error is raised due to the\n",
        "        'tolist()' function. \n",
        "        Parameters:\n",
        "            - x_data: dict\n",
        "                The dictionary that contains 'input_ids' and 'attention_mask'.\n",
        "            - y_data: np.ndarray\n",
        "                The array of tokenized answers.\n",
        "            - file_path: str\n",
        "                The path where the file will be saved.\n",
        "    '''\n",
        "    x_data['input_ids'] = x_data['input_ids'].tolist()\n",
        "    x_data['attention_mask'] = x_data['attention_mask'].tolist()\n",
        "    # Add the labels to compress all in a unique json\n",
        "    x_data['labels'] = y_data.tolist()\n",
        "\n",
        "    with open(file_path, 'w+') as fout:\n",
        "        json.dump(x_data, fout)"
      ],
      "metadata": {
        "id": "7QxfGi7HnwkD"
      },
      "id": "7QxfGi7HnwkD",
      "execution_count": null,
      "outputs": []
    },
    {
      "cell_type": "code",
      "source": [
        "save_to = 'history'\n",
        "is_history_save = '_hist' if save_to=='history' else ''\n",
        "\n",
        "save_tokenized_dict(\n",
        "    x_train.data, y_train, \n",
        "    os.path.join(drive_tokenized_path, save_to, f'train_tok{is_history_save}.json')\n",
        "    )\n",
        "\n",
        "save_tokenized_dict(\n",
        "    x_val.data, y_val,\n",
        "    os.path.join(drive_tokenized_path, save_to, f'val_tok{is_history_save}.json')\n",
        "    )\n",
        "\n",
        "save_tokenized_dict(\n",
        "    x_test.data, y_test, \n",
        "    os.path.join(drive_tokenized_path, save_to, f'test_tok{is_history_save}.json')\n",
        "    )"
      ],
      "metadata": {
        "id": "cL1B2CsTnyKF"
      },
      "id": "cL1B2CsTnyKF",
      "execution_count": null,
      "outputs": []
    },
    {
      "cell_type": "markdown",
      "source": [
        "### Train and evaluate the model [TASK 6]"
      ],
      "metadata": {
        "id": "zP9VsaqkfIhm"
      },
      "id": "zP9VsaqkfIhm"
    },
    {
      "cell_type": "code",
      "source": [
        "def train_model(model: TFEncoderDecoderModel, X_train: dict, y_train: np.ndarray, epochs: int=3,\n",
        "                batch_size: int=32, optimizer: keras.optimizers.Optimizer=Adam(1e-5),\n",
        "                X_val: Optional[dict]=None, y_val: Optional[dict]=None) -> keras.callbacks.History:\n",
        "    '''\n",
        "        It trains the given model for the specified number of epochs, the given\n",
        "        optimizer and the given batch. It returns the history\n",
        "        Parameters:\n",
        "            - model: TFEncoderDecoderModel\n",
        "                The encoder decoder model to train on the data.\n",
        "            - X_train: dict\n",
        "                The dictionary that contains 'input_ids' and 'attention_mask'\n",
        "                arrays.\n",
        "            - y_train: np.ndarray\n",
        "                The array of the tokenized answers.\n",
        "            - epochs: int\n",
        "                The number of epochs to train the model for.\n",
        "            - batch_size: int\n",
        "                The batch size to use during the training.\n",
        "            - optimizer: keras.optimizers.Optimizer\n",
        "                The optimizer to consider for the training.\n",
        "            - X_val: dict | None\n",
        "                The X data for the validation dataset.\n",
        "            - y_val: dict | None\n",
        "                The y data for the validation dataset.\n",
        "        \n",
        "        Returns:\n",
        "            - keras.callbacks.History\n",
        "                The history of the training.\n",
        "    '''\n",
        "    validation_data = None if (X_val is None or y_val is None) else (X_val, y_val) \n",
        "\n",
        "    model.compile(optimizer=optim)\n",
        "\n",
        "    history = model.fit(X_train, y_train, epochs=epochs, batch_size=batch_size,\n",
        "                        validation_data=validation_data)\n",
        "    return history"
      ],
      "metadata": {
        "id": "71xy7mv_fRKb"
      },
      "id": "71xy7mv_fRKb",
      "execution_count": null,
      "outputs": []
    },
    {
      "cell_type": "markdown",
      "source": [
        "We only need to fine-tune the model on our data so we keep a low learning rate."
      ],
      "metadata": {
        "id": "dgtYeRav5DdT"
      },
      "id": "dgtYeRav5DdT"
    },
    {
      "cell_type": "code",
      "source": [
        "batch_size = 32\n",
        "epochs = 3\n",
        "lr=3e-5\n",
        "\n",
        "optim = Adam(lr)\n",
        "\n",
        "# Set the desired seed for reproducibility\n",
        "set_reproducibility(seeds[0])\n",
        "history = train_model(model, x_train, y_train, epochs, batch_size, optim, \n",
        "                      x_val, y_val)"
      ],
      "metadata": {
        "colab": {
          "base_uri": "https://localhost:8080/"
        },
        "id": "xTKA9ZKPKd22",
        "outputId": "65051afa-5f75-441f-999f-ff572f1de09a"
      },
      "id": "xTKA9ZKPKd22",
      "execution_count": null,
      "outputs": [
        {
          "output_type": "stream",
          "name": "stderr",
          "text": [
            "No loss specified in compile() - the model's internal loss computation will be used as the loss. Don't panic - this is a common way to train TensorFlow models in Transformers! To disable this behaviour please pass a loss argument, or explicitly pass `loss=None` if you do not want your model to compute a loss.\n"
          ]
        },
        {
          "output_type": "stream",
          "name": "stdout",
          "text": [
            "Epoch 1/3\n"
          ]
        },
        {
          "output_type": "stream",
          "name": "stderr",
          "text": [
            "/usr/local/lib/python3.8/dist-packages/tensorflow/python/autograph/impl/api.py:371: FutureWarning: Version v4.17.0 introduces a better way to train encoder-decoder models by computing the loss inside the encoder-decoder framework rather than in the decoder itself. You may observe training discrepancies if fine-tuning a model trained with versions anterior to 4.17.0. The decoder_input_ids are now created based on the labels, no need to pass them yourself anymore.\n",
            "  return py_builtins.overload_of(f)(*args)\n",
            "WARNING:tensorflow:Gradients do not exist for variables ['tf_encoder_decoder_model/encoder/bert/pooler/dense/kernel:0', 'tf_encoder_decoder_model/encoder/bert/pooler/dense/bias:0'] when minimizing the loss. If you're using `model.compile()`, did you forget to provide a `loss`argument?\n",
            "WARNING:tensorflow:Gradients do not exist for variables ['tf_encoder_decoder_model/encoder/bert/pooler/dense/kernel:0', 'tf_encoder_decoder_model/encoder/bert/pooler/dense/bias:0'] when minimizing the loss. If you're using `model.compile()`, did you forget to provide a `loss`argument?\n"
          ]
        },
        {
          "output_type": "stream",
          "name": "stdout",
          "text": [
            "2607/2607 [==============================] - 506s 189ms/step - loss: 0.9669 - val_loss: 0.7058\n",
            "Epoch 2/3\n",
            "2607/2607 [==============================] - 491s 188ms/step - loss: 0.6928 - val_loss: 0.6466\n",
            "Epoch 3/3\n",
            "2607/2607 [==============================] - 491s 188ms/step - loss: 0.6382 - val_loss: 0.6255\n"
          ]
        }
      ]
    },
    {
      "cell_type": "code",
      "source": [
        "#model.save_pretrained(os.path.join(drive_weights_path, 'bert-tiny', 'full_no_history'))"
      ],
      "metadata": {
        "id": "2Qaj_AVOwhzo"
      },
      "id": "2Qaj_AVOwhzo",
      "execution_count": null,
      "outputs": []
    },
    {
      "cell_type": "code",
      "execution_count": null,
      "id": "s9RkOY87T9_n",
      "metadata": {
        "colab": {
          "base_uri": "https://localhost:8080/",
          "height": 295
        },
        "id": "s9RkOY87T9_n",
        "outputId": "e8f3f053-8604-4e85-b6bd-da76d3f9bee7"
      },
      "outputs": [
        {
          "output_type": "display_data",
          "data": {
            "text/plain": [
              "<Figure size 432x288 with 1 Axes>"
            ],
            "image/png": "[encoded data removed]"
          },
          "metadata": {
            "needs_background": "light"
          }
        }
      ],
      "source": [
        "from matplotlib import pyplot as plt\n",
        "\n",
        "def plot_loss(history, min_y, max_y):\n",
        "    plt.plot(history.history['loss'])\n",
        "    plt.plot(history.history['val_loss'])\n",
        "    plt.title('model loss')\n",
        "    plt.ylabel('loss')\n",
        "    plt.xlabel('epoch')\n",
        "    plt.ylim(min_y, max_y)\n",
        "    plt.legend(['train', 'val'], loc='upper left')\n",
        "    plt.show()\n",
        "\n",
        "plot_loss(history, 0.5, 0.9)"
      ]
    },
    {
      "cell_type": "markdown",
      "id": "F0n3q0oAWhBE",
      "metadata": {
        "id": "F0n3q0oAWhBE"
      },
      "source": [
        "### Test model"
      ]
    },
    {
      "cell_type": "code",
      "execution_count": null,
      "id": "qosaLflzfMyQ",
      "metadata": {
        "id": "qosaLflzfMyQ",
        "colab": {
          "base_uri": "https://localhost:8080/"
        },
        "outputId": "f5ce3468-bf38-418b-daaa-141247b45ac8"
      },
      "outputs": [
        {
          "output_type": "stream",
          "name": "stdout",
          "text": [
            "\u001b[?25l\r\u001b[K     |████▌                           | 10 kB 33.9 MB/s eta 0:00:01\r\u001b[K     |█████████                       | 20 kB 12.0 MB/s eta 0:00:01\r\u001b[K     |█████████████▌                  | 30 kB 16.6 MB/s eta 0:00:01\r\u001b[K     |██████████████████              | 40 kB 7.6 MB/s eta 0:00:01\r\u001b[K     |██████████████████████▌         | 51 kB 7.5 MB/s eta 0:00:01\r\u001b[K     |███████████████████████████     | 61 kB 8.9 MB/s eta 0:00:01\r\u001b[K     |███████████████████████████████▌| 71 kB 10.1 MB/s eta 0:00:01\r\u001b[K     |████████████████████████████████| 72 kB 1.4 MB/s \n",
            "\u001b[?25h"
          ]
        }
      ],
      "source": [
        "!pip install evaluate -q\n",
        "import evaluate"
      ]
    },
    {
      "cell_type": "markdown",
      "source": [
        "We implemented one function to see the answers that the model gives and another one for measuring the f1 score (SQUAD). "
      ],
      "metadata": {
        "id": "Jjg-8DnZ5Taw"
      },
      "id": "Jjg-8DnZ5Taw"
    },
    {
      "cell_type": "code",
      "execution_count": null,
      "id": "AxSPkpPuUeOo",
      "metadata": {
        "id": "AxSPkpPuUeOo"
      },
      "outputs": [],
      "source": [
        "def test_model(model: TFEncoderDecoderModel, dataset: datasets.arrow_dataset.Dataset, \n",
        "               max_length:int=20, idx_sample: Union[int, List[int]]=88, with_history=False) -> None:\n",
        "    '''\n",
        "        This function takes as input a dataset, it runs inference on the given\n",
        "        model and then it prints the question, the real answer and the predicted\n",
        "        one.\n",
        "        Parameters:\n",
        "            - model: transformers.models\n",
        "                The model to run inference on.\n",
        "            - dataset: datasets.arrow_dataset.Dataset\n",
        "                The dataset from which the function takes the samples.\n",
        "            - max_length: int\n",
        "                It's the maximum length allowed during the generation.\n",
        "            - idx_sample: int | list[int]\n",
        "                If an integer is passed, then the function computes the answer\n",
        "                for a single sample, otherwise for each sample specified in the\n",
        "                list (through the index).\n",
        "            - with_history: bool\n",
        "                if to tokenize with the history or not.\n",
        "\n",
        "        Return:\n",
        "            The function simply prints the results without returning anything.\n",
        "    '''\n",
        "    if isinstance(idx_sample, int):\n",
        "        idx_sample = [idx_sample]\n",
        "\n",
        "    # Check if indices are without dataset bounds    \n",
        "    max_ind = max(idx_sample)\n",
        "    if max_ind >= len(dataset):\n",
        "        print(f\"Error: index {max_ind} is out of bounds (dataset of length {len(dataset)}.\")\n",
        "        return None\n",
        "\n",
        "    for idx in idx_sample:\n",
        "        inp_test, _, _ = tokenize_samples(dataset.select([idx]), tokenizer, with_history=with_history)\n",
        "\n",
        "        greedy_output = model.generate(inp_test['input_ids'],\n",
        "                                       attention_mask=inp_test['attention_mask'],\n",
        "                                       max_length=max_length)# decoder_start_token_id=model.config.decoder.bos_token_id\n",
        "\n",
        "        print(f\"- The question {idx+1} is:\\n\\t{dataset[idx]['questions']}\")\n",
        "        print(f\"- The actual answer is:\\n\\t{dataset[idx]['answers']}\")\n",
        "        print(f\"- The predicted answer is:\\n\\t\"\n",
        "              f\"{tokenizer.decode(greedy_output.numpy()[0], skip_special_tokens=True)}\\n\")"
      ]
    },
    {
      "cell_type": "code",
      "execution_count": null,
      "id": "VZ5R5Hwza23p",
      "metadata": {
        "colab": {
          "base_uri": "https://localhost:8080/"
        },
        "id": "VZ5R5Hwza23p",
        "outputId": "4bdc1fd0-2759-4ce3-aa8d-49240ef89c72"
      },
      "outputs": [
        {
          "output_type": "stream",
          "name": "stdout",
          "text": [
            "- The question 89 is:\n",
            "\tWas there a storm headed that way?\n",
            "- The actual answer is:\n",
            "\tYes\n",
            "- The predicted answer is:\n",
            "\tno\n",
            "\n",
            "- The question 1 is:\n",
            "\tWhat color was Cotton?\n",
            "- The actual answer is:\n",
            "\twhite\n",
            "- The predicted answer is:\n",
            "\ta dog\n",
            "\n",
            "- The question 1189 is:\n",
            "\tIs Lily old?\n",
            "- The actual answer is:\n",
            "\tno\n",
            "- The predicted answer is:\n",
            "\tyes\n",
            "\n"
          ]
        }
      ],
      "source": [
        "test_model(model, dataset_test, max_length=50, idx_sample=[88, 0, 1188])"
      ]
    },
    {
      "cell_type": "markdown",
      "id": "-GZeLV4nWbtD",
      "metadata": {
        "id": "-GZeLV4nWbtD"
      },
      "source": [
        "### Evaluate F1 score"
      ]
    },
    {
      "cell_type": "markdown",
      "source": [
        "\n",
        "In order to compute the squad f1 score we decided to use the [squad metric](https://huggingface.co/spaces/evaluate-metric/squad) from Huggingface. \n",
        "\n",
        "To avoid problem with RAM allocation (model.generate gave OOM error if we tried to run on the full test set), we generate batch of results and then we merge them together before computing the f1 score. "
      ],
      "metadata": {
        "id": "vlBMZ2sq60co"
      },
      "id": "vlBMZ2sq60co"
    },
    {
      "cell_type": "code",
      "source": [
        "\n",
        "def compute_f1_score(model: TFEncoderDecoderModel, X: dict, answers: List[str],\n",
        "                     metric: evaluate.EvaluationModule, num_samples: Optional[int]=None,\n",
        "                     max_length: int=20, batch_size: int=500) -> float:\n",
        "    '''\n",
        "        This function takes as input a dataset, it runs inference on the given\n",
        "        model and then it returns the F1 score metric.\n",
        "        Parameters:\n",
        "            - model: transformers.models\n",
        "                The model to run inference on.\n",
        "            - X: dict\n",
        "                The structure that contains the input_ids and attention_mask, it\n",
        "                is obtained doing 'variable.data' on an object of type\n",
        "                transformers.tokenization_utils_base.BatchEncoding.\n",
        "            - answers: list\n",
        "                The array of strings of answers.\n",
        "            - metric: evaluate.Metric\n",
        "                It's the metric object to consider for the computation.\n",
        "            - num_samples: int \n",
        "                The function takes from the samples the first 'num_samples'\n",
        "                samples.\n",
        "            - max_length: int\n",
        "                It's the maximum length used during the generation\n",
        "            - batch_size: int\n",
        "                It's the batch size used to pass this number of answers to the \n",
        "                model (to avoid RAM allocation error).\n",
        "\n",
        "        Returns:\n",
        "            - float\n",
        "                The f1 score.\n",
        "    '''\n",
        "    # Take all the samples\n",
        "    if num_samples == None:\n",
        "        num_samples = len(answers)\n",
        "    \n",
        "    assert num_samples > batch_size, \"ERROR: the batch size is greater than the number of samples.\"\n",
        "    \n",
        "    ids, att_mask = X['input_ids'][:num_samples], X['attention_mask'][:num_samples]\n",
        "\n",
        "    num_step = num_samples//batch_size\n",
        "    # The last batch may be smaller than the batch_size \n",
        "    last_batch_size = num_samples - (num_step*batch_size)\n",
        "\n",
        "    for i in range(num_step+1):\n",
        "        start = batch_size*(i)\n",
        "\n",
        "        # Check if it has to run the last batch with a different size\n",
        "        if i >= num_step:\n",
        "            if last_batch_size > 0:\n",
        "                batch_size = last_batch_size\n",
        "            else:\n",
        "                break\n",
        "\n",
        "        out = model.generate(ids[start:start+batch_size], \n",
        "                             attention_mask=att_mask[start:start+batch_size],\n",
        "                             max_length=max_length).numpy()\n",
        "\n",
        "        refs = []\n",
        "        preds = []\n",
        "        for j in range(start, start+batch_size):\n",
        "            # The model output is always of 'batch_size' elements so I need to\n",
        "            # access the j - start element\n",
        "            pred_string = tokenizer.decode(out[j-start], skip_special_tokens=True)\n",
        "\n",
        "            preds.append({'prediction_text':pred_string, 'id':str(j)})\n",
        "            refs.append({'answers': {'text':[answers[j]],'answer_start':[0],},'id':str(j)})\n",
        "\n",
        "        metric.add_batch(predictions=preds, references=refs)\n",
        "\n",
        "    f1_score = metric.compute()\n",
        "    assert f1_score is not None\n",
        "    \n",
        "    return f1_score['f1']"
      ],
      "metadata": {
        "id": "PzhezMkW6v_Y"
      },
      "id": "PzhezMkW6v_Y",
      "execution_count": null,
      "outputs": []
    },
    {
      "cell_type": "code",
      "execution_count": null,
      "id": "hlILO44SU2Sz",
      "metadata": {
        "id": "hlILO44SU2Sz",
        "colab": {
          "base_uri": "https://localhost:8080/"
        },
        "outputId": "d7fa38d6-273d-4273-9a72-2c77336fe105"
      },
      "outputs": [
        {
          "output_type": "stream",
          "name": "stdout",
          "text": [
            "The f1 score is 13.405680520723562\n"
          ]
        }
      ],
      "source": [
        "f1_metric = evaluate.load(\"squad\")\n",
        "\n",
        "f1_score = compute_f1_score(model, x_test, dataset_test['answers'], f1_metric,\n",
        "                            num_samples=None, max_length=20, batch_size=1000)\n",
        "\n",
        "print(f\"The f1 score is {f1_score}\")"
      ]
    },
    {
      "cell_type": "markdown",
      "source": [
        "## TODO: \n",
        "- evaluation with 5 worst errors and different comparisons\n",
        "- in order to make the previous point we need to use the starting test set because we need the 'source' feature to group the dialogues."
      ],
      "metadata": {
        "id": "MLsGAcA77hB1"
      },
      "id": "MLsGAcA77hB1"
    },
    {
      "cell_type": "markdown",
      "id": "f1814004",
      "metadata": {
        "id": "f1814004"
      },
      "source": [
        "# Assignment Evaluation\n",
        "\n",
        "The following assignment points will be awarded for each task as follows:\n",
        "\n",
        "* Task 1, Pre-processing $\\rightarrow$ 0.5 points.\n",
        "* Task 2, Dataset Splitting $\\rightarrow$ 0.5 points.\n",
        "* Task 3 and 4, Models Definition $\\rightarrow$ 1.0 points.\n",
        "* Task 5 and 6, Models Training and Evaluation $\\rightarrow$ 2.0 points.\n",
        "* Task 7, Analysis $\\rightarrow$ 1.0 points.\n",
        "* Report $\\rightarrow$ 1.0 points.\n",
        "\n",
        "**Total** = 6 points <br>\n",
        "\n",
        "We may award an additional 0.5 points for outstanding submissions. \n",
        " \n",
        "**Speed Bonus** = 0.5 extra points <br>"
      ]
    },
    {
      "cell_type": "markdown",
      "id": "20a1b2b9",
      "metadata": {
        "id": "20a1b2b9"
      },
      "source": [
        "## Report\n",
        "\n",
        "We apply the rules described in Assignment 1 regarding the report.\n",
        "* Write a clear and concise report following the given overleaf template (**max 2 pages**).\n",
        "* Report validation and test results in a table.$^1$\n",
        "* **Avoid reporting** code snippets or copy-paste terminal outputs $\\rightarrow$ **Provide a clean schema** of what you want to show"
      ]
    },
    {
      "cell_type": "markdown",
      "id": "0967c209",
      "metadata": {
        "id": "0967c209"
      },
      "source": [
        "## Comments and Organization\n",
        "\n",
        "Remember to properly comment your code (it is not necessary to comment each single line) and don't forget to describe your work!\n",
        "\n",
        "Structure your code for readability and maintenance. If you work with Colab, use sections. \n",
        "\n",
        "This allows you to build clean and modular code, as well as easy to read and to debug (notebooks can be quite tricky time to time)."
      ]
    },
    {
      "cell_type": "markdown",
      "id": "23929660",
      "metadata": {
        "id": "23929660"
      },
      "source": [
        "## FAQ (READ THIS!)\n",
        "\n",
        "---\n",
        "\n",
        "**Question**: Does Task 3 also include data tokenization and conversion step?\n",
        "\n",
        "**Answer:** Yes! These steps are usually straightforward since ```transformers``` also offers a specific tokenizer for each model.\n",
        "\n",
        "**Example**: \n",
        "\n",
        "```\n",
        "tokenizer = AutoTokenizer.from_pretrained(\"bert-base-cased\")\n",
        "encoded_text = tokenizer(text)\n",
        "%% Alternatively\n",
        "inputs = tokenizer.tokenize(text, add_special_tokens=True, max_length=min(max_length, 512))\n",
        "input_ids, attention_mask = inputs['input_ids'], inputs['attention_mask']\n",
        "```\n",
        "\n",
        "**Suggestion**: Hugginface's documentation is full of tutorials and user-friendly APIs.\n",
        "\n",
        "---\n",
        "---\n",
        "\n",
        "**Question**: I'm hitting **out of memory error** when training my models, do you have any suggestions?\n",
        "\n",
        "**Answer**: Here are some common workarounds:\n",
        "\n",
        "1. Try decreasing the mini-batch size\n",
        "2. Try applying a different padding strategy (if you are applying padding): e.g. use quantiles instead of maximum sequence length\n",
        "\n",
        "---\n",
        "---"
      ]
    },
    {
      "cell_type": "markdown",
      "id": "9c56a612",
      "metadata": {
        "id": "9c56a612"
      },
      "source": [
        "## Contact\n",
        "\n",
        "For any doubt, question, issue or help, you can always contact us at the following email addresses:\n",
        "\n",
        "Teaching Assistants:\n",
        "\n",
        "* Andrea Galassi -> a.galassi@unibo.it\n",
        "* Federico Ruggeri -> federico.ruggeri6@unibo.it\n",
        "\n",
        "Professor:\n",
        "\n",
        "* Paolo Torroni -> p.torroni@unibo.it"
      ]
    },
    {
      "cell_type": "markdown",
      "id": "54bac4b9",
      "metadata": {
        "id": "54bac4b9"
      },
      "source": [
        "## The End!\n",
        "\n",
        "Questions?"
      ]
    }
  ],
  "metadata": {
    "celltoolbar": "Slideshow",
    "colab": {
      "collapsed_sections": [
        "dL4rB4Dv4q5D",
        "11ada8c8",
        "66cfee64",
        "7b532042",
        "f6643e14",
        "bddb1b09",
        "icicV7K0sEzm",
        "C4RB6BoVsmgO",
        "pGrX37BsSQaM",
        "b8EXn3NrYo6D",
        "f60g6Nu2z8QE",
        "5KDoYgi13amI",
        "zP9VsaqkfIhm",
        "F0n3q0oAWhBE",
        "-GZeLV4nWbtD",
        "f1814004"
      ],
      "provenance": []
    },
    "gpuClass": "standard",
    "kernelspec": {
      "display_name": "Python 3.9.13 ('tf_env')",
      "language": "python",
      "name": "python3"
    },
    "language_info": {
      "codemirror_mode": {
        "name": "ipython",
        "version": 3
      },
      "file_extension": ".py",
      "mimetype": "text/x-python",
      "name": "python",
      "nbconvert_exporter": "python",
      "pygments_lexer": "ipython3",
      "version": "3.9.13"
    },
    "vscode": {
      "interpreter": {
        "hash": "3ce8273a8c38ff7795926bf915cbd2931d7313de696d3392f6c42417e8c00d4d"
      }
    }
  },
  "nbformat": 4,
  "nbformat_minor": 5
}